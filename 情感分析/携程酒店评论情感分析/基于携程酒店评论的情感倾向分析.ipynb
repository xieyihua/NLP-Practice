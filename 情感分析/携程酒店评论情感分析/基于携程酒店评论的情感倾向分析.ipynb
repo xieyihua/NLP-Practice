{
 "cells": [
  {
   "cell_type": "markdown",
   "metadata": {
    "id": "8B3ACB81A0F944DFAF88865EB891848C",
    "jupyter": {},
    "mdEditEnable": false,
    "slideshow": {
     "slide_type": "slide"
    },
    "tags": []
   },
   "source": [
    "# 情感倾向分析\n",
    "\n",
    "* 概述：本文基于7K条携程酒店评价数据为文本数据，将其导入到pytorch的模型架构然后进行训练出一个**可用于实际场所预测情感的模型**。"
   ]
  },
  {
   "cell_type": "markdown",
   "metadata": {
    "id": "0A5965B6B5F74023825F37E0C10309CF",
    "jupyter": {},
    "mdEditEnable": false,
    "slideshow": {
     "slide_type": "slide"
    },
    "tags": []
   },
   "source": [
    "## 导入所需模块"
   ]
  },
  {
   "cell_type": "code",
   "execution_count": 1,
   "metadata": {
    "collapsed": false,
    "id": "5492AD491A8548158F3646E6601E7981",
    "jupyter": {
     "outputs_hidden": false
    },
    "notebookId": "5fb641c5cced180030286a9c",
    "slideshow": {
     "slide_type": "slide"
    },
    "tags": []
   },
   "outputs": [
    {
     "name": "stderr",
     "output_type": "stream",
     "text": [
      "D:\\ana\\envs\\pytorch1.5\\lib\\site-packages\\tqdm\\auto.py:22: TqdmWarning: IProgress not found. Please update jupyter and ipywidgets. See https://ipywidgets.readthedocs.io/en/stable/user_install.html\n",
      "  from .autonotebook import tqdm as notebook_tqdm\n"
     ]
    }
   ],
   "source": [
    "# 导入所需模块\n",
    "import torch \n",
    "import matplotlib.pyplot as plt\n",
    "import pandas as pd\n",
    "from sklearn.model_selection import train_test_split\n",
    "import jieba \n",
    "import re\n",
    "import os"
   ]
  },
  {
   "cell_type": "markdown",
   "metadata": {
    "id": "DAFC47262E5E424487D63AE50DECDD89",
    "jupyter": {},
    "mdEditEnable": false,
    "notebookId": "5fb641c5cced180030286a9c",
    "slideshow": {
     "slide_type": "slide"
    },
    "tags": []
   },
   "source": [
    "## 数据读取与预处理"
   ]
  },
  {
   "cell_type": "code",
   "execution_count": 2,
   "metadata": {
    "collapsed": false,
    "id": "6FEC4CA964554266A6E8944C7959C7AD",
    "jupyter": {
     "outputs_hidden": false
    },
    "notebookId": "5fb641c5cced180030286a9c",
    "slideshow": {
     "slide_type": "slide"
    },
    "tags": []
   },
   "outputs": [],
   "source": [
    "# 正常显示中文标签\n",
    "plt.rcParams[\"font.sans-serif\"] = [\"SimHei\"]\n",
    "# 正常显示负号\n",
    "plt.rcParams[\"axes.unicode_minus\"] = False"
   ]
  },
  {
   "cell_type": "markdown",
   "metadata": {
    "id": "539268468ADC4BB89074765A9A5F04A8",
    "jupyter": {},
    "mdEditEnable": false,
    "notebookId": "5fb641c5cced180030286a9c",
    "slideshow": {
     "slide_type": "slide"
    },
    "tags": []
   },
   "source": [
    "* 本文的数据来源于和鲸社区(https://www.kesci.com/)中携程网上七千条酒店评论数据(下文简称\"酒店评论数据集\")，该酒店评论数据集共有 7000 多条酒店评论数据，分为5000 多条正向评论和2000 多条负向评论。每一项酒店评价都被标记着\"正面评价\"或\"负面评价\"。酒店评论数据集的前5项数据如下所示："
   ]
  },
  {
   "cell_type": "code",
   "execution_count": 3,
   "metadata": {
    "collapsed": false,
    "id": "E0D69A27BBF449FA8EE8D88DCF16888D",
    "jupyter": {
     "outputs_hidden": false
    },
    "notebookId": "5fb641c5cced180030286a9c",
    "slideshow": {
     "slide_type": "slide"
    },
    "tags": []
   },
   "outputs": [
    {
     "data": {
      "text/html": [
       "<div>\n",
       "<style scoped>\n",
       "    .dataframe tbody tr th:only-of-type {\n",
       "        vertical-align: middle;\n",
       "    }\n",
       "\n",
       "    .dataframe tbody tr th {\n",
       "        vertical-align: top;\n",
       "    }\n",
       "\n",
       "    .dataframe thead th {\n",
       "        text-align: right;\n",
       "    }\n",
       "</style>\n",
       "<table border=\"1\" class=\"dataframe\">\n",
       "  <thead>\n",
       "    <tr style=\"text-align: right;\">\n",
       "      <th></th>\n",
       "      <th>label</th>\n",
       "      <th>review</th>\n",
       "    </tr>\n",
       "  </thead>\n",
       "  <tbody>\n",
       "    <tr>\n",
       "      <th>0</th>\n",
       "      <td>1</td>\n",
       "      <td>距离川沙公路较近,但是公交指示不对,如果是\"蔡陆线\"的话,会非常麻烦.建议用别的路线.房间较...</td>\n",
       "    </tr>\n",
       "    <tr>\n",
       "      <th>1</th>\n",
       "      <td>1</td>\n",
       "      <td>商务大床房，房间很大，床有2M宽，整体感觉经济实惠不错!</td>\n",
       "    </tr>\n",
       "    <tr>\n",
       "      <th>2</th>\n",
       "      <td>1</td>\n",
       "      <td>早餐太差，无论去多少人，那边也不加食品的。酒店应该重视一下这个问题了。房间本身很好。</td>\n",
       "    </tr>\n",
       "    <tr>\n",
       "      <th>3</th>\n",
       "      <td>1</td>\n",
       "      <td>宾馆在小街道上，不大好找，但还好北京热心同胞很多~宾馆设施跟介绍的差不多，房间很小，确实挺小...</td>\n",
       "    </tr>\n",
       "    <tr>\n",
       "      <th>4</th>\n",
       "      <td>1</td>\n",
       "      <td>CBD中心,周围没什么店铺,说5星有点勉强.不知道为什么卫生间没有电吹风</td>\n",
       "    </tr>\n",
       "  </tbody>\n",
       "</table>\n",
       "</div>"
      ],
      "text/plain": [
       "   label                                             review\n",
       "0      1  距离川沙公路较近,但是公交指示不对,如果是\"蔡陆线\"的话,会非常麻烦.建议用别的路线.房间较...\n",
       "1      1                       商务大床房，房间很大，床有2M宽，整体感觉经济实惠不错!\n",
       "2      1         早餐太差，无论去多少人，那边也不加食品的。酒店应该重视一下这个问题了。房间本身很好。\n",
       "3      1  宾馆在小街道上，不大好找，但还好北京热心同胞很多~宾馆设施跟介绍的差不多，房间很小，确实挺小...\n",
       "4      1               CBD中心,周围没什么店铺,说5星有点勉强.不知道为什么卫生间没有电吹风"
      ]
     },
     "execution_count": 3,
     "metadata": {},
     "output_type": "execute_result"
    }
   ],
   "source": [
    "# 读取数据\n",
    "data = pd.read_csv(\"ChnSentiCorp_htl_all.csv\")\n",
    "# 查看数据的前5项\n",
    "data.head()"
   ]
  },
  {
   "cell_type": "code",
   "execution_count": 4,
   "metadata": {
    "collapsed": false,
    "id": "5D4A3D44003B4AAC88E175779C492A29",
    "jupyter": {
     "outputs_hidden": false
    },
    "notebookId": "5fb641c5cced180030286a9c",
    "slideshow": {
     "slide_type": "slide"
    },
    "tags": []
   },
   "outputs": [
    {
     "data": {
      "text/plain": [
       "(7766, 2)"
      ]
     },
     "execution_count": 4,
     "metadata": {},
     "output_type": "execute_result"
    }
   ],
   "source": [
    "# 数据的形状\n",
    "data.shape"
   ]
  },
  {
   "cell_type": "code",
   "execution_count": 5,
   "metadata": {
    "collapsed": false,
    "id": "303BD38E5B80417DA0BE506A096D3B9F",
    "jupyter": {
     "outputs_hidden": false
    },
    "notebookId": "5fb641c5cced180030286a9c",
    "slideshow": {
     "slide_type": "slide"
    },
    "tags": []
   },
   "outputs": [
    {
     "data": {
      "text/plain": [
       "0"
      ]
     },
     "execution_count": 5,
     "metadata": {},
     "output_type": "execute_result"
    }
   ],
   "source": [
    "# 查看重复数据\n",
    "data.duplicated().sum()"
   ]
  },
  {
   "cell_type": "markdown",
   "metadata": {
    "id": "BD9D80B27E274EB58EF5FB749E00EB0F",
    "jupyter": {},
    "mdEditEnable": false,
    "notebookId": "5fb641c5cced180030286a9c",
    "slideshow": {
     "slide_type": "slide"
    },
    "tags": []
   },
   "source": [
    "数据共7766条。无重复数据(意味着接下来不需要对处理重复数据)"
   ]
  },
  {
   "cell_type": "markdown",
   "metadata": {
    "id": "0F87EF395FFB42A989B9068B71B28FDA",
    "jupyter": {},
    "mdEditEnable": false,
    "notebookId": "5fb641c5cced180030286a9c",
    "slideshow": {
     "slide_type": "slide"
    },
    "tags": []
   },
   "source": [
    "##  分词处理\n",
    "*  首先，将评论内容转换为字符串，分词，正则匹配是基于字符串进行操作的"
   ]
  },
  {
   "cell_type": "code",
   "execution_count": 6,
   "metadata": {
    "collapsed": false,
    "id": "8F0F330853794A739F448996132FC33B",
    "jupyter": {
     "outputs_hidden": false
    },
    "notebookId": "5fb641c5cced180030286a9c",
    "slideshow": {
     "slide_type": "slide"
    },
    "tags": []
   },
   "outputs": [],
   "source": [
    "data[\"review\"] = data[\"review\"].astype('str')"
   ]
  },
  {
   "cell_type": "code",
   "execution_count": 7,
   "metadata": {
    "collapsed": false,
    "id": "40781E1F16364B008463DEB2284DF0B6",
    "jupyter": {
     "outputs_hidden": false
    },
    "notebookId": "5fb641c5cced180030286a9c",
    "slideshow": {
     "slide_type": "slide"
    },
    "tags": []
   },
   "outputs": [
    {
     "data": {
      "text/plain": [
       "0           距离川沙公路较近但是公交指示不对如果是蔡陆线的话会非常麻烦建议用别的路线房间较为简单\n",
       "1                              商务大床房房间很大床有M宽整体感觉经济实惠不错\n",
       "2                早餐太差无论去多少人那边也不加食品的酒店应该重视一下这个问题了房间本身很好\n",
       "3    宾馆在小街道上不大好找但还好北京热心同胞很多宾馆设施跟介绍的差不多房间很小确实挺小但加上低价...\n",
       "4                     CBD中心周围没什么店铺说星有点勉强不知道为什么卫生间没有电吹风\n",
       "Name: review, dtype: object"
      ]
     },
     "execution_count": 7,
     "metadata": {},
     "output_type": "execute_result"
    }
   ],
   "source": [
    "# 去除标点符号和数字\n",
    "# 要去除标点符号和数字，常用的办法就是使用正则表达式来处理，或者自行编写遍历替换函数\n",
    "\n",
    "# 模式串\n",
    "patten = r\"[!\\\"#$%&'()*+,-./:;<=>?@[\\\\\\]^_`{|}~—！，。？·￥、《》···【】：\" \"''\\s0-9]+\"  \n",
    "re_obj = re.compile(patten)\n",
    "\n",
    "# 替换函数--去除标点符号和数字\n",
    "def clear(text):\n",
    "    return re_obj.sub('', text)\n",
    "\n",
    "# 将正则表达式替换函数应用于每一行\n",
    "data[\"review\"] = data[\"review\"].apply(clear)\n",
    "# 查看前5行替换结果\n",
    "\n",
    "data[\"review\"][:5]"
   ]
  },
  {
   "cell_type": "markdown",
   "metadata": {
    "id": "6498D05C69CB4AA891B3717B182EC935",
    "jupyter": {},
    "mdEditEnable": false,
    "notebookId": "5fb641c5cced180030286a9c",
    "slideshow": {
     "slide_type": "slide"
    },
    "tags": []
   },
   "source": [
    "* 采用精简处理，启用HMM(隐式马尔科夫网络)处理"
   ]
  },
  {
   "cell_type": "code",
   "execution_count": 8,
   "metadata": {
    "collapsed": false,
    "id": "8F7279EB286F4DA8BE7D9AC577E7117A",
    "jupyter": {
     "outputs_hidden": false
    },
    "notebookId": "5fb641c5cced180030286a9c",
    "slideshow": {
     "slide_type": "slide"
    },
    "tags": []
   },
   "outputs": [
    {
     "name": "stderr",
     "output_type": "stream",
     "text": [
      "Building prefix dict from the default dictionary ...\n",
      "Loading model from cache C:\\Users\\m1824\\AppData\\Local\\Temp\\jieba.cache\n",
      "Loading model cost 1.096 seconds.\n",
      "Prefix dict has been built successfully.\n"
     ]
    },
    {
     "data": {
      "text/plain": [
       "0    [距离, 川沙, 公路, 较近, 但是, 公交, 指示, 不, 对, 如果, 是, 蔡陆线,...\n",
       "1    [商务, 大床, 房, 房间, 很大, 床有, M, 宽, 整体, 感觉, 经济, 实惠, 不错]\n",
       "2    [早餐, 太, 差, 无论, 去, 多少, 人, 那边, 也, 不加, 食品, 的, 酒店,...\n",
       "3    [宾馆, 在, 小, 街道, 上, 不大好, 找, 但, 还好, 北京, 热心, 同胞, 很...\n",
       "4    [CBD, 中心, 周围, 没什么, 店铺, 说星, 有点, 勉强, 不, 知道, 为什么,...\n",
       "Name: review, dtype: object"
      ]
     },
     "execution_count": 8,
     "metadata": {},
     "output_type": "execute_result"
    }
   ],
   "source": [
    "def cut_words(words):\n",
    "    return jieba.lcut(words) # 使用lcut分词\n",
    "\n",
    "#apply函数对series的每一行数据进行处理\n",
    "data[\"review\"] = data[\"review\"].apply(cut_words)\n",
    "data[\"review\"][:5]"
   ]
  },
  {
   "cell_type": "markdown",
   "metadata": {
    "id": "43CC6A3713F14BF8B659C0FC16746325",
    "jupyter": {},
    "mdEditEnable": false,
    "notebookId": "5fb641c5cced180030286a9c",
    "slideshow": {
     "slide_type": "slide"
    },
    "tags": []
   },
   "source": [
    "## 停用词处理\n",
    "* 选择中文停词表，来处理停用词，又由于本文讨论的背景为携程的酒店预订业务，故应当考虑将酒店、宾馆、携程这类作为业务背景常出现的词汇加入停用词处理范围，以发现更加具备业务本身价值的特征"
   ]
  },
  {
   "cell_type": "code",
   "execution_count": 9,
   "metadata": {
    "collapsed": false,
    "id": "D9E45EAC688744DBBC7EAFBD231EAFC7",
    "jupyter": {
     "outputs_hidden": false
    },
    "notebookId": "5fb641c5cced180030286a9c",
    "slideshow": {
     "slide_type": "slide"
    },
    "tags": []
   },
   "outputs": [
    {
     "data": {
      "text/plain": [
       "0    [距离, 川沙, 公路, 较近, 公交, 指示, 蔡陆线, 非常, 麻烦, 建议, 路线, ...\n",
       "1                      [商务, 大床, 房间, 床有, M, 整体, 经济, 实惠]\n",
       "2                             [早餐, 不加, 食品, 酒店, 重视, 房间]\n",
       "3    [宾馆, 街道, 不大好, 还好, 北京, 热心, 同胞, 宾馆, 设施, 介绍, 差不多,...\n",
       "4                      [CBD, 中心, 店铺, 说星, 勉强, 卫生间, 电吹风]\n",
       "Name: review, dtype: object"
      ]
     },
     "execution_count": 9,
     "metadata": {},
     "output_type": "execute_result"
    }
   ],
   "source": [
    "# 使用 中文停用词表 \n",
    "stop_words = \"停用词汇总.txt\"\n",
    "stop_list = [\n",
    "    i.strip() for i in open(stop_words, encoding='utf-8').readlines()\n",
    "]  #读取停用词列表\n",
    "\n",
    "\n",
    "def remove_stop(words):  #移除停用词函数\n",
    "    texts = []\n",
    "\n",
    "    for word in words:  # 遍历词列表里的每一个词\n",
    "        if word not in stop_list:  # 若不在停用词列表中就将结果追加至texts列表中\n",
    "            texts.append(word)\n",
    "\n",
    "    return texts\n",
    "\n",
    "\n",
    "data['review'] = data['review'].apply(remove_stop)\n",
    "# 查看前5行\n",
    "data[\"review\"][:5]"
   ]
  },
  {
   "cell_type": "markdown",
   "metadata": {
    "id": "0AC7B29536304B30A84A029FD0AFE333",
    "jupyter": {},
    "mdEditEnable": false,
    "notebookId": "5fb641c5cced180030286a9c",
    "slideshow": {
     "slide_type": "slide"
    },
    "tags": []
   },
   "source": [
    "## 数据转换\n",
    "* 上面处理结果得到的列表，不便于后续建模处理，可以将其转换为字符串"
   ]
  },
  {
   "cell_type": "code",
   "execution_count": 10,
   "metadata": {
    "collapsed": false,
    "id": "0442EB00857A40779C85A0869EBA2BDB",
    "jupyter": {
     "outputs_hidden": false
    },
    "notebookId": "5fb641c5cced180030286a9c",
    "slideshow": {
     "slide_type": "slide"
    },
    "tags": []
   },
   "outputs": [
    {
     "data": {
      "text/plain": [
       "'距离 川沙 公路 较近 公交 指示 蔡陆线 非常 麻烦 建议 路线 房间 较为简单'"
      ]
     },
     "execution_count": 10,
     "metadata": {},
     "output_type": "execute_result"
    }
   ],
   "source": [
    "# 将列表元素转换为字符串\n",
    "def list_str(content):\n",
    "    return ' '.join(content)  #将列表元素转换为字符串\n",
    "\n",
    "\n",
    "data['review'] = data['review'].apply(list_str)\n",
    "# 将列表元素转换为字符串\n",
    "data['review'][0]"
   ]
  },
  {
   "cell_type": "markdown",
   "metadata": {
    "id": "D1DFF8668E124EB798607621309EE645",
    "jupyter": {},
    "mdEditEnable": false,
    "notebookId": "5fb641c5cced180030286a9c",
    "slideshow": {
     "slide_type": "slide"
    },
    "tags": []
   },
   "source": [
    "## 样本均衡"
   ]
  },
  {
   "cell_type": "code",
   "execution_count": 11,
   "metadata": {
    "collapsed": false,
    "id": "EE272456CBEA497898D314B48356F019",
    "jupyter": {
     "outputs_hidden": false
    },
    "notebookId": "5fb641c5cced180030286a9c",
    "slideshow": {
     "slide_type": "slide"
    },
    "tags": []
   },
   "outputs": [
    {
     "data": {
      "text/plain": [
       "1    5322\n",
       "0    2444\n",
       "Name: label, dtype: int64"
      ]
     },
     "execution_count": 11,
     "metadata": {},
     "output_type": "execute_result"
    }
   ],
   "source": [
    "# 正负样本的个数\n",
    "data[\"label\"].value_counts()"
   ]
  },
  {
   "cell_type": "markdown",
   "metadata": {
    "id": "9E16825561A14F02AD2210E59FAE8AD8",
    "jupyter": {},
    "mdEditEnable": false,
    "notebookId": "5fb641c5cced180030286a9c",
    "slideshow": {
     "slide_type": "slide"
    },
    "tags": []
   },
   "source": [
    "* 使用python中的matplotlib.pyplot模块绘制出该数据集正负样本的柱状图，如下图所示："
   ]
  },
  {
   "cell_type": "code",
   "execution_count": 12,
   "metadata": {
    "collapsed": false,
    "id": "500167F6968244C7B36E134DC9D580AB",
    "jupyter": {
     "outputs_hidden": false
    },
    "notebookId": "5fb641c5cced180030286a9c",
    "slideshow": {
     "slide_type": "slide"
    },
    "tags": []
   },
   "outputs": [
    {
     "data": {
      "image/png": "[encoded data removed]",
      "text/plain": [
       "<Figure size 640x480 with 1 Axes>"
      ]
     },
     "metadata": {},
     "output_type": "display_data"
    }
   ],
   "source": [
    "data[\"label\"].value_counts().plot(kind = 'bar')\n",
    "plt.text(0, 6000, str(data[\"label\"].value_counts()[1]),\n",
    "        ha = 'center', va = 'top')\n",
    "plt.text(1, 3000, str(data[\"label\"].value_counts()[0]),\n",
    "        ha = 'center', va = 'top')\n",
    "plt.ylim(0, 6500)\n",
    "plt.title('正负样本的个数')\n",
    "plt.show()"
   ]
  },
  {
   "cell_type": "markdown",
   "metadata": {
    "id": "6701F8B2FAC84C5587C031420D070F25",
    "jupyter": {},
    "mdEditEnable": false,
    "notebookId": "5fb641c5cced180030286a9c",
    "slideshow": {
     "slide_type": "slide"
    },
    "tags": []
   },
   "source": [
    "* 从柱状图可以看出，该数据集共7766条数据，其中正样本(label = 1)共有5322条，负样本(label = 0)共有2444条，没有重复数据\n",
    "\n",
    "*  显然样本存在严重的不均衡问题，这里考虑两种样本均衡的策略\n",
    "（1）欠采样，正负样本各2000条，一共4000条 \n",
    "（2）过采样，正负样本各3000条，一共6000条\n",
    "\n",
    "为减少计算量和对比两种均衡策略的效果，这里采用先把整体数据进行处理，再做样本均衡采样"
   ]
  },
  {
   "cell_type": "code",
   "execution_count": 13,
   "metadata": {
    "collapsed": false,
    "id": "12CAEF9391CE45B788B54F7523C6C1DB",
    "jupyter": {
     "outputs_hidden": false
    },
    "notebookId": "5fb641c5cced180030286a9c",
    "slideshow": {
     "slide_type": "slide"
    },
    "tags": []
   },
   "outputs": [],
   "source": [
    "def get_balanced_words(size,\n",
    "                       positive_comment=data[data['label'] == 1],\n",
    "                       negtive_comment=data[data['label'] == 0]):\n",
    "    word_size = size // 2\n",
    "    #获取正负评论数\n",
    "    num_pos = positive_comment.shape[0]\n",
    "    num_neg = negtive_comment.shape[0]\n",
    "    #     当 正(负)品论数中<采样数量/2 时，进行上采样，否则都是下采样；\n",
    "    #     其中pandas的sample方法里的repalce参数代表是否进行上采样，默认不进行\n",
    "    balanced_words = pd.concat([\n",
    "        positive_comment.sample(word_size,\n",
    "                                replace=num_pos < word_size,\n",
    "                                random_state=0),\n",
    "        negtive_comment.sample(word_size,\n",
    "                               replace=num_neg < word_size,\n",
    "                               random_state=0)\n",
    "    ])\n",
    "    #     打印样本个数\n",
    "    print('样本总数：', balanced_words.shape[0])\n",
    "    print('正样本数：', balanced_words[data['label'] == 1].shape[0])\n",
    "    print('负样本数：', balanced_words[data['label'] == 0].shape[0])\n",
    "    print('')\n",
    "    return balanced_words"
   ]
  },
  {
   "cell_type": "code",
   "execution_count": 14,
   "metadata": {
    "collapsed": false,
    "id": "CBB633C5E5804B41BAE036B1588D6C7A",
    "jupyter": {
     "outputs_hidden": false
    },
    "notebookId": "5fb641c5cced180030286a9c",
    "slideshow": {
     "slide_type": "slide"
    },
    "tags": []
   },
   "outputs": [
    {
     "name": "stdout",
     "output_type": "stream",
     "text": [
      "样本总数： 4000\n",
      "正样本数： 2000\n",
      "负样本数： 2000\n",
      "\n"
     ]
    },
    {
     "name": "stderr",
     "output_type": "stream",
     "text": [
      "D:\\ana\\envs\\pytorch1.5\\lib\\site-packages\\ipykernel_launcher.py:20: UserWarning: Boolean Series key will be reindexed to match DataFrame index.\n",
      "D:\\ana\\envs\\pytorch1.5\\lib\\site-packages\\ipykernel_launcher.py:21: UserWarning: Boolean Series key will be reindexed to match DataFrame index.\n"
     ]
    },
    {
     "name": "stdout",
     "output_type": "stream",
     "text": [
      "样本总数： 6000\n",
      "正样本数： 3000\n",
      "负样本数： 3000\n",
      "\n"
     ]
    },
    {
     "name": "stderr",
     "output_type": "stream",
     "text": [
      "D:\\ana\\envs\\pytorch1.5\\lib\\site-packages\\ipykernel_launcher.py:20: UserWarning: Boolean Series key will be reindexed to match DataFrame index.\n",
      "D:\\ana\\envs\\pytorch1.5\\lib\\site-packages\\ipykernel_launcher.py:21: UserWarning: Boolean Series key will be reindexed to match DataFrame index.\n"
     ]
    }
   ],
   "source": [
    "# 欠采样\n",
    "data_4000 = get_balanced_words(4000)\n",
    "\n",
    "# 过采样\n",
    "data_6000 = get_balanced_words(6000)"
   ]
  },
  {
   "cell_type": "code",
   "execution_count": 15,
   "metadata": {
    "collapsed": false,
    "id": "15DE06E754C748268A744BB09A68DDB3",
    "jupyter": {
     "outputs_hidden": false
    },
    "notebookId": "5fb641c5cced180030286a9c",
    "slideshow": {
     "slide_type": "slide"
    },
    "tags": []
   },
   "outputs": [
    {
     "data": {
      "text/html": [
       "<div>\n",
       "<style scoped>\n",
       "    .dataframe tbody tr th:only-of-type {\n",
       "        vertical-align: middle;\n",
       "    }\n",
       "\n",
       "    .dataframe tbody tr th {\n",
       "        vertical-align: top;\n",
       "    }\n",
       "\n",
       "    .dataframe thead th {\n",
       "        text-align: right;\n",
       "    }\n",
       "</style>\n",
       "<table border=\"1\" class=\"dataframe\">\n",
       "  <thead>\n",
       "    <tr style=\"text-align: right;\">\n",
       "      <th></th>\n",
       "      <th>label</th>\n",
       "      <th>review</th>\n",
       "    </tr>\n",
       "  </thead>\n",
       "  <tbody>\n",
       "    <tr>\n",
       "      <th>3913</th>\n",
       "      <td>1</td>\n",
       "      <td>朋友 比莫泰 不好 没住 宾馆 反馈 年月日 感谢您 朋友 对本 酒店 认可 期待 光临</td>\n",
       "    </tr>\n",
       "    <tr>\n",
       "      <th>5739</th>\n",
       "      <td>0</td>\n",
       "      <td>最差 房间 高原 缺氧 房间 极易 加剧 高原 简陋 窗上 床垫 露出 木头 床架 洗手间 ...</td>\n",
       "    </tr>\n",
       "    <tr>\n",
       "      <th>6472</th>\n",
       "      <td>0</td>\n",
       "      <td>酒店 装修 气味 离开 酒店 记得 一串 西藏 天珠 遗漏 房间 小时 打电话 酒店 总台 ...</td>\n",
       "    </tr>\n",
       "    <tr>\n",
       "      <th>7179</th>\n",
       "      <td>0</td>\n",
       "      <td>房间 太旧 太吵 洗手间 热水 建议 携程 取消 合作 补充 点评 年月日 服务 态度恶劣 ...</td>\n",
       "    </tr>\n",
       "    <tr>\n",
       "      <th>555</th>\n",
       "      <td>1</td>\n",
       "      <td>环境 交通 便利 服务 下次 还会</td>\n",
       "    </tr>\n",
       "  </tbody>\n",
       "</table>\n",
       "</div>"
      ],
      "text/plain": [
       "      label                                             review\n",
       "3913      1       朋友 比莫泰 不好 没住 宾馆 反馈 年月日 感谢您 朋友 对本 酒店 认可 期待 光临\n",
       "5739      0  最差 房间 高原 缺氧 房间 极易 加剧 高原 简陋 窗上 床垫 露出 木头 床架 洗手间 ...\n",
       "6472      0  酒店 装修 气味 离开 酒店 记得 一串 西藏 天珠 遗漏 房间 小时 打电话 酒店 总台 ...\n",
       "7179      0  房间 太旧 太吵 洗手间 热水 建议 携程 取消 合作 补充 点评 年月日 服务 态度恶劣 ...\n",
       "555       1                                  环境 交通 便利 服务 下次 还会"
      ]
     },
     "execution_count": 15,
     "metadata": {},
     "output_type": "execute_result"
    }
   ],
   "source": [
    "# 随机查看5行\n",
    "data_4000.sample(5)"
   ]
  },
  {
   "cell_type": "code",
   "execution_count": 16,
   "metadata": {
    "collapsed": false,
    "id": "99FF94127DF64CC8827CF332378A8420",
    "jupyter": {
     "outputs_hidden": false
    },
    "notebookId": "5fb641c5cced180030286a9c",
    "slideshow": {
     "slide_type": "slide"
    },
    "tags": []
   },
   "outputs": [
    {
     "data": {
      "text/html": [
       "<div>\n",
       "<style scoped>\n",
       "    .dataframe tbody tr th:only-of-type {\n",
       "        vertical-align: middle;\n",
       "    }\n",
       "\n",
       "    .dataframe tbody tr th {\n",
       "        vertical-align: top;\n",
       "    }\n",
       "\n",
       "    .dataframe thead th {\n",
       "        text-align: right;\n",
       "    }\n",
       "</style>\n",
       "<table border=\"1\" class=\"dataframe\">\n",
       "  <thead>\n",
       "    <tr style=\"text-align: right;\">\n",
       "      <th></th>\n",
       "      <th>label</th>\n",
       "      <th>review</th>\n",
       "    </tr>\n",
       "  </thead>\n",
       "  <tbody>\n",
       "    <tr>\n",
       "      <th>7431</th>\n",
       "      <td>0</td>\n",
       "      <td>春节 入住 酒店 很差 四星级 服务 到位 我共住 五天 三天 服务员 房间 被子 一次性 ...</td>\n",
       "    </tr>\n",
       "    <tr>\n",
       "      <th>7757</th>\n",
       "      <td>0</td>\n",
       "      <td>房间 洗手间 房间 隔音 餐饮 服务 不好</td>\n",
       "    </tr>\n",
       "    <tr>\n",
       "      <th>245</th>\n",
       "      <td>1</td>\n",
       "      <td>酒店 位置 距离 火车站 非常 总提 酒店 性价比 房间 出公差</td>\n",
       "    </tr>\n",
       "    <tr>\n",
       "      <th>6269</th>\n",
       "      <td>0</td>\n",
       "      <td>宾馆 周边环境 隔墙 大型 公交 停车场 宾馆 长租 客人 房间 门上 信箱 怪怪的 房间 ...</td>\n",
       "    </tr>\n",
       "    <tr>\n",
       "      <th>7444</th>\n",
       "      <td>0</td>\n",
       "      <td>酒店 房间 设施 二星级 差不多 淋浴间 地上 黑点 东东 一次性 拖鞋 包装 一点点 还好...</td>\n",
       "    </tr>\n",
       "  </tbody>\n",
       "</table>\n",
       "</div>"
      ],
      "text/plain": [
       "      label                                             review\n",
       "7431      0  春节 入住 酒店 很差 四星级 服务 到位 我共住 五天 三天 服务员 房间 被子 一次性 ...\n",
       "7757      0                              房间 洗手间 房间 隔音 餐饮 服务 不好\n",
       "245       1                   酒店 位置 距离 火车站 非常 总提 酒店 性价比 房间 出公差\n",
       "6269      0  宾馆 周边环境 隔墙 大型 公交 停车场 宾馆 长租 客人 房间 门上 信箱 怪怪的 房间 ...\n",
       "7444      0  酒店 房间 设施 二星级 差不多 淋浴间 地上 黑点 东东 一次性 拖鞋 包装 一点点 还好..."
      ]
     },
     "execution_count": 16,
     "metadata": {},
     "output_type": "execute_result"
    }
   ],
   "source": [
    "data_6000.sample(5)"
   ]
  },
  {
   "cell_type": "markdown",
   "metadata": {
    "id": "0C8F7BAE29394A5D87892F34DC38465A",
    "jupyter": {},
    "mdEditEnable": false,
    "notebookId": "5fb641c5cced180030286a9c",
    "slideshow": {
     "slide_type": "slide"
    },
    "tags": []
   },
   "source": [
    "## 数据切分--首先对欠样本进行建模\n",
    "* 为了能够使用数据集进行深度学习，该数据集必须要有训练集，才能够训练模型之后进行预测或者识别文本中的情感、情绪、态度等。所以分别对数据集data_4000 进行数据切分，将其切分为训练集和测试集，并且用75\\%做训练集，25\\%做测试集\n"
   ]
  },
  {
   "cell_type": "code",
   "execution_count": 17,
   "metadata": {
    "collapsed": false,
    "id": "F305979064584FC5920F3D2261684ED9",
    "jupyter": {
     "outputs_hidden": false
    },
    "notebookId": "5fb641c5cced180030286a9c",
    "slideshow": {
     "slide_type": "slide"
    },
    "tags": []
   },
   "outputs": [],
   "source": [
    "x_train_text, x_test_text, y_train, y_test = train_test_split(data_4000['review'],\n",
    "                                                    data_4000['label'],\n",
    "                                                    test_size = 0.25,\n",
    "                                                    random_state=30,\n",
    "                                                    shuffle=True)"
   ]
  },
  {
   "cell_type": "code",
   "execution_count": 18,
   "metadata": {
    "collapsed": false,
    "id": "B23601699818442C8A7E1960D60B7B36",
    "jupyter": {
     "outputs_hidden": false
    },
    "notebookId": "5fb641c5cced180030286a9c",
    "slideshow": {
     "slide_type": "slide"
    },
    "tags": []
   },
   "outputs": [
    {
     "data": {
      "text/plain": [
       "(3000,)"
      ]
     },
     "execution_count": 18,
     "metadata": {},
     "output_type": "execute_result"
    }
   ],
   "source": [
    "# 查看形状\n",
    "x_train_text.shape"
   ]
  },
  {
   "cell_type": "code",
   "execution_count": 19,
   "metadata": {
    "collapsed": false,
    "id": "201BE01584804E4CA3EE43A2424CF99A",
    "jupyter": {
     "outputs_hidden": false
    },
    "notebookId": "5fb641c5cced180030286a9c",
    "slideshow": {
     "slide_type": "slide"
    },
    "tags": []
   },
   "outputs": [
    {
     "data": {
      "text/plain": [
       "(1000,)"
      ]
     },
     "execution_count": 19,
     "metadata": {},
     "output_type": "execute_result"
    }
   ],
   "source": [
    "# 查看形状\n",
    "x_test_text.shape"
   ]
  },
  {
   "cell_type": "markdown",
   "metadata": {
    "id": "960765BEEB414D6184F1DD34E22A6994",
    "jupyter": {},
    "mdEditEnable": false,
    "notebookId": "5fb641c5cced180030286a9c",
    "slideshow": {
     "slide_type": "slide"
    },
    "tags": []
   },
   "source": [
    "## 建立token字典\n",
    "\n",
    "因为深度学习模型只能接受数字，所以我们必须将\"酒店评论文字\"转换为\"数字列表\"。当要将一种语言翻译为另一种语言时，必须要有字典。相同的道理，要将文字转换为数字，也必须有字典。Keras提供了Tokenizer模块，就是类似字典的功能。建立token的方式为：\n",
    "(1) 建立token时必须指定字典的字数，例如2000个字的字典。\n",
    "(2) 读取训练数据4000或者6000项\"酒店评论文字\"，依照每一个中文词组在所有影评中出现的次数进行排序，前2000名的中文词组会列入字典中。\n",
    "(3) 按照出现次数排序建立的自带你，所以可以说这是\"酒店评论文字\"的常用字典。\n",
    "(4) 我们可以用这个字典进行转换，将中文转换为数字。"
   ]
  },
  {
   "cell_type": "code",
   "execution_count": 20,
   "metadata": {
    "collapsed": false,
    "id": "FABF3943C3644E0C8055EC0BE4432C0B",
    "jupyter": {
     "outputs_hidden": false
    },
    "notebookId": "5fb641c5cced180030286a9c",
    "slideshow": {
     "slide_type": "slide"
    },
    "tags": []
   },
   "outputs": [],
   "source": [
    "# 导入所需模块\n",
    "import torch.nn.functional as F\n",
    "import torchtext\n",
    "from  torchtext import datasets,vocab"
   ]
  },
  {
   "cell_type": "code",
   "execution_count": 23,
   "metadata": {
    "collapsed": false,
    "id": "FABF3943C3644E0C8055EC0BE4432C0B",
    "jupyter": {
     "outputs_hidden": false
    },
    "notebookId": "5fb641c5cced180030286a9c",
    "slideshow": {
     "slide_type": "slide"
    },
    "tags": []
   },
   "outputs": [],
   "source": [
    "from torchtext.data import Field, NestedField, LabelField, TabularDataset, BucketIterator"
   ]
  },
  {
   "cell_type": "code",
   "execution_count": 24,
   "metadata": {
    "collapsed": false,
    "id": "FABF3943C3644E0C8055EC0BE4432C0B",
    "jupyter": {
     "outputs_hidden": false
    },
    "notebookId": "5fb641c5cced180030286a9c",
    "slideshow": {
     "slide_type": "slide"
    },
    "tags": []
   },
   "outputs": [],
   "source": [
    "def tokenizer(text):\n",
    "    return jieba.cut(text)\n",
    "\n",
    "word_field = Field(tokenize=tokenizer, lower=True, include_lengths=True, fix_length=32, tokenizer_language='en_core_web_sm')\n",
    "label_field = Field(sequential=False, use_vocab=False)"
   ]
  },
  {
   "cell_type": "code",
   "execution_count": 20,
   "metadata": {
    "collapsed": false,
    "id": "FABF3943C3644E0C8055EC0BE4432C0B",
    "jupyter": {
     "outputs_hidden": false
    },
    "notebookId": "5fb641c5cced180030286a9c",
    "slideshow": {
     "slide_type": "slide"
    },
    "tags": []
   },
   "outputs": [],
   "source": [
    "fields = {\n",
    "    'text': ('text_word', word_field),\n",
    "    'label': ('label', label_field)\n",
    "}\n",
    "train, val = TabularDataset.splits(path='./data/THUCNews', train='train_demo.jsonl', validation='val_demo.jsonl', format='json', skip_header=True, fields=fields)\n",
    "# train, val = TabularDataset.splits(path='./data/THUCNews', train='train_demo.tsv', validation='val_demo.tsv', format='tsv', skip_header=True, fields=fields)\n",
    "\n",
    "print(train[5])\n",
    "print(train[5].__dict__.keys())\n",
    "print(train[5].text_word, train[5].label)\n",
    "print()\n"
   ]
  },
  {
   "cell_type": "code",
   "execution_count": 20,
   "metadata": {
    "collapsed": false,
    "id": "FABF3943C3644E0C8055EC0BE4432C0B",
    "jupyter": {
     "outputs_hidden": false
    },
    "notebookId": "5fb641c5cced180030286a9c",
    "slideshow": {
     "slide_type": "slide"
    },
    "tags": []
   },
   "outputs": [],
   "source": []
  },
  {
   "cell_type": "code",
   "execution_count": 55,
   "metadata": {
    "collapsed": false,
    "id": "EB303C2153A14C8E837724A9FB229BE8",
    "jupyter": {
     "outputs_hidden": false
    },
    "notebookId": "5fb641c5cced180030286a9c",
    "slideshow": {
     "slide_type": "slide"
    },
    "tags": []
   },
   "outputs": [
    {
     "name": "stdout",
     "output_type": "stream",
     "text": [
      "time: 163 ms\n"
     ]
    }
   ],
   "source": [
    "# 建立token\n",
    "token = Tokenizer(num_words = 2000)\n",
    "token.fit_on_texts(x_train_text)"
   ]
  },
  {
   "cell_type": "code",
   "execution_count": 56,
   "metadata": {
    "collapsed": false,
    "id": "B4FD9D31A8554B04974AC4EC92AC1C1E",
    "jupyter": {
     "outputs_hidden": false
    },
    "notebookId": "5fb641c5cced180030286a9c",
    "slideshow": {
     "slide_type": "slide"
    },
    "tags": []
   },
   "outputs": [
    {
     "name": "stdout",
     "output_type": "stream",
     "text": [
      "3000\n",
      "time: 468 µs\n"
     ]
    }
   ],
   "source": [
    "# 查看token读取了多少文章\n",
    "print(token.document_count)"
   ]
  },
  {
   "cell_type": "code",
   "execution_count": 60,
   "metadata": {
    "collapsed": false,
    "id": "C1B04C38809C42E68D384C5CEBC2111E",
    "jupyter": {
     "outputs_hidden": false
    },
    "notebookId": "5fb641c5cced180030286a9c",
    "slideshow": {
     "slide_type": "slide"
    },
    "tags": []
   },
   "outputs": [
    {
     "name": "stdout",
     "output_type": "stream",
     "text": [
      "{'房间': 1, '很': 2, '不': 3, '都': 4, '还': 5, '服务': 6, '住': 7, '不错': 8, '好': 9, '入住': 10, '说': 11, '去': 12, '前台': 13, '感觉': 14, '早餐': 15, '一个': 16, '服务员': 17, '人': 18, '设施': 19, '价格': 20, '）': 21, '客人': 22, '（': 23, '晚上': 24, '上': 25, '没': 26, '；': 27, '才': 28, '差': 29, '环境': 30, '后': 31, '时': 32, '小': 33, '里': 34, '会': 35, '房': 36, '年月日': 37, '元': 38, '太': 39, '再': 40, '干净': 41, '大': 42, '下次': 43, '不好': 44, '点': 45, '点评': 46, '居然': 47, '装修': 48, '这家': 49, '免费': 50, '卫生间': 51, '地方': 52, '实在': 53, '态度': 54, '吃': 55, '大堂': 56, '位置': 57, '很多': 58, '发现': 59, '餐厅': 60, '选择': 61, '建议': 62, '空调': 63, '看': 64, '一点': 65, '退房': 66, '竟然': 67, '最': 68, '想': 69, '交通': 70, '特别': 71, '补充': 72, '隔音': 73, '性价比': 74, '电话': 75, '预定': 76, '大床': 77, '第二天': 78, '标准': 79, '订': 80, '总体': 81, '时间': 82, '希望': 83, '朋友': 84, '推荐': 85, '提供': 86, '月': 87, '日': 88, '打电话': 89, '人员': 90, '算': 91, '走': 92, '找': 93, '舒服': 94, '…': 95, '楼': 96, '味道': 97, '问': 98, '反馈': 99, '满意': 100, '分钟': 101, '客房': 102, '高': 103, '真的': 104, '更': 105, '换': 106, '豪华': 107, '只能': 108, '再次': 109, '做': 110, '上网': 111, '服务态度': 112, '四星': 113, '旧': 114, '小时': 115, '挺': 116, '床': 117, '这次': 118, '硬件': 119, '陈旧': 120, '饭店': 121, '很大': 122, '东西': 123, '小姐': 124, '早上': 125, '便宜': 126, '电梯': 127, '只': 128, '地理位置': 129, '一家': 130, '热情': 131, '下': 132, '却': 133, '吵': 134, '商务': 135, '送': 136, '还要': 137, '门口': 138, '结帐': 139, '开': 140, '房价': 141, '．': 142, '毛巾': 143, '唯一': 144, '告知': 145, '提出': 146, '不到': 147, '感谢您': 148, '星': 149, '新': 150, '来说': 151, '行李': 152, '预订': 153, '中': 154, '宽带': 155, '两个': 156, '声音': 157, '窗户': 158, '地毯': 159, '很差': 160, '经理': 161, '号': 162, '告诉': 163, '间': 164, '收费': 165, '评价': 166, '上海': 167, '值得': 168, '失望': 169, '情况': 170, '招待所': 171, '星级': 172, '喜欢': 173, '电视': 174, '安静': 175, '洗澡': 176, '四星级': 177, '贵': 178, '楼层': 179, '内': 180, '少': 181, '电脑': 182, '钱': 183, '浴室': 184, '一间': 185, '走廊': 186, '帮': 187, '近': 188, '还好': 189, '第一次': 190, '品种': 191, '吃饭': 192, '进去': 193, '请': 194, '旁边': 195, '安排': 196, '客户': 197, '外面': 198, '标间': 199, '总台': 200, '几个': 201, '好像': 202, '整体': 203, '打扫': 204, '房间内': 205, '确实': 206, '机场': 207, '本来': 208, '定': 209, '很小': 210, '热水': 211, '太小': 212, '速度': 213, '服务生': 214, '三星': 215, '水': 216, '简直': 217, '已': 218, '打车': 219, '改进': 220, '投诉': 221, '员工': 222, '信用卡': 223, '带': 224, '工作': 225, '洗手间': 226, '出': 227, '门': 228, '还会': 229, '出租车': 230, '大酒店': 231, '管理': 232, '出差': 233, '水果': 234, '最差': 235, '坏': 236, '解决': 237, '隔壁': 238, '套房': 239, '睡': 240, '本人': 241, '倒': 242, '一张': 243, '天': 244, '前': 245, '升级': 246, '事情': 247, '火车站': 248, '肯定': 249, '卫生': 250, '算是': 251, '一股': 252, '远': 253, '没什么': 254, '打开': 255, '回来': 256, '接待': 257, '不知': 258, '效果': 259, '五星级': 260, '期间': 261, '晚': 262, '每次': 263, '光临': 264, '办法': 265, '下午': 266, '被子': 267, '条件': 268, '买': 269, '半夜': 270, '五星': 271, '店': 272, '老': 273, '质量': 274, '舒适': 275, '标准间': 276, '原因': 277, '同事': 278, '差不多': 279, '意见': 280, '缺点': 281, '印象': 282, '当地': 283, '马路': 284, '淋浴': 285, '回': 286, '门童': 287, '特色': 288, '中午': 289, '接受': 290, '找到': 291, '脏': 292, '取消': 293, '很近': 294, '香港': 295, '主动': 296, '离开': 297, '有个': 298, '如家': 299, '太差': 300, '办理': 301, '适合': 302, '冷': 303, '床单': 304, '浴缸': 305, '行政': 306, '很快': 307, '当天': 308, '期待': 309, '行': 310, '设备': 311, '洗': 312, '半天': 313, '对面': 314, '家': 315, '估计': 316, '消费': 317, '无': 318, '工作人员': 319, '司机': 320, '车': 321, '价钱': 322, '不太': 323, '只好': 324, '网上': 325, '影响': 326, '菜': 327, '北京': 328, '一楼': 329, '房费': 330, '马上': 331, '市中心': 332, '距离': 333, '一晚': 334, '这是': 335, '刚': 336, '霉味': 337, '大概': 338, '更好': 339, '休息': 340, '马桶': 341, '水平': 342, '楼下': 343, '不太好': 344, '年': 345, '睡觉': 346, '低': 347, '―': 348, '确认': 349, '开门': 350, '酒店设施': 351, '登记': 352, '噪音': 353, '携程网': 354, '才能': 355, 'checkin': 356, '旅游': 357, '机会': 358, '出门': 359, '介绍': 360, '好吃': 361, '城市': 362, '授权': 363, '到位': 364, '询问': 365, '换房': 366, '宽敞': 367, '游泳池': 368, '我订': 369, '两天': 370, '提高': 371, '难道': 372, '站': 373, '优点': 374, '发生': 375, '－': 376, '放': 377, '到达': 378, '不住': 379, '不行': 380, '家具': 381, '保安': 382, '飞机': 383, '意识': 384, '不算': 385, '二楼': 386, '极差': 387, '快': 388, '呵呵': 389, '有人': 390, '解释': 391, '进': 392, '地点': 393, '房卡': 394, '热': 395, '回答': 396, '提前': 397, '蚊子': 398, '玻璃': 399, '郁闷': 400, '购物': 401, '空间': 402, '不用': 403, '温泉': 404, '结账': 405, '收': 406, '刷卡': 407, '停车': 408, '提醒': 409, '凌晨': 410, '真': 411, '整洁': 412, '一位': 413, '中心': 414, '合作': 415, '住宿': 416, '档次': 417, '稍微': 418, '锦江': 419, '停车场': 420, '温馨': 421, '两次': 422, '步行': 423, '象': 424, '刷': 425, '周边': 426, '内部': 427, '通知': 428, '度假': 429, '面积': 430, '简单': 431, '些': 432, '千万': 433, '自助': 434, '不值': 435, '够': 436, '拖鞋': 437, '培训': 438, '先': 439, '那天': 440, '简陋': 441, '异味': 442, '齐全': 443, '听到': 444, '感到': 445, '便利': 446, '支持': 447, '押金': 448, '三星级': 449, '～': 450, '房型': 451, '服务质量': 452, '很少': 453, '窗外': 454, '公园': 455, '网站': 456, '样子': 457, '自助餐': 458, '出行': 459, '帮忙': 460, '跑': 461, '早': 462, '写': 463, '市区': 464, '一条': 465, '网络': 466, '交涉': 467, '国际': 468, '反正': 469, '实惠': 470, '不少': 471, '不想': 472, '次': 473, '弄': 474, '设计': 475, '公司': 476, '挂': 477, '温度': 478, '道': 479, '可惜': 480, '听': 481, '糟糕': 482, '米': 483, '周围环境': 484, '一份': 485, '坐': 486, '享受': 487, '事': 488, '的确': 489, '感受': 490, '层': 491, '搞': 492, '路': 493, '蛮': 494, '衣服': 495, '餐饮': 496, '卡': 497, '见': 498, '住店': 499, '暖气': 500, '用餐': 501, '经济': 502, '早饭': 503, '地段': 504, '至少': 505, '您好': 506, '奇怪': 507, '偏': 508, '冰箱': 509, '水准': 510, '房门': 511, '一句': 512, '几次': 513, '阳台': 514, '完': 515, '好多': 516, '未': 517, '那种': 518, '极其': 519, '高级': 520, '很脏': 521, '手续': 522, '愉快': 523, '分': 524, '心情': 525, '按摩': 526, '没法': 527, '不了': 528, '不爽': 529, '银行': 530, '慢': 531, '订单': 532, '放在': 533, '不高': 534, '没想到': 535, '之星': 536, '麻烦': 537, '更换': 538, '不便': 539, '沟通': 540, '令人': 541, '道歉': 542, '优惠': 543, '电视机': 544, '尊敬': 545, '第二次': 546, '终于': 547, '不远': 548, '厕所': 549, '半小时': 550, '遗憾': 551, '真诚': 552, '礼貌': 553, '素质': 554, '风景': 555, '位于': 556, '努力': 557, '大厅': 558, '周到': 559, '三个': 560, '块': 561, '相关': 562, '周边环境': 563, '气味': 564, '价位': 565, '退': 566, '第一天': 567, '旅馆': 568, '地铁站': 569, '中餐厅': 570, '差点': 571, '也许': 572, '符合': 573, '骚扰电话': 574, '外': 575, '回到': 576, '理由': 577, '宾客': 578, 'checkout': 579, '谢谢': 580, '字': 581, '硬': 582, '就算': 583, '早晨': 584, '同意': 585, '评论': 586, '玩': 587, '大厦': 588, '老板': 589, '海景': 590, 'ctrip': 591, '晕': 592, '晚餐': 593, '之间': 594, '发票': 595, '单人间': 596, '破': 597, '台': 598, '据说': 599, '专业': 600, '点多': 601, '海景房': 602, '优势': 603, '超市': 604, '别人': 605, '比较满意': 606, '新装修': 607, '块钱': 608, '到处': 609, '不敢恭维': 610, '怀疑': 611, '用品': 612, '开车': 613, '网速': 614, '白天': 615, '施工': 616, '答复': 617, '走路': 618, '空气': 619, '地铁': 620, '改善': 621, '还行': 622, '感谢': 623, '相比': 624, '加': 625, '一看': 626, '软件': 627, '差距': 628, '设置': 629, '顾客': 630, '费用': 631, '小孩': 632, '黑': 633, '处': 634, '基本上': 635, '明明': 636, '办': 637, '会员': 638, '宝贵意见': 639, '等到': 640, '景观': 641, '孩子': 642, '预': 643, '碰到': 644, '显得': 645, '供应': 646, '说话': 647, '毕竟': 648, '均': 649, '经历': 650, '网线': 651, '桌子': 652, '太旧': 653, '超级': 654, '信息': 655, '正好': 656, '住客': 657, '尚可': 658, '家庭': 659, '提': 660, '风格': 661, '办事': 662, '清洁': 663, '中国': 664, '太贵': 665, '气愤': 666, '不怎么样': 667, '满': 668, '再也': 669, '订房': 670, '别墅': 671, '可怜': 672, '长': 673, '就要': 674, '中央空调': 675, '几天': 676, '饮料': 677, '想象': 678, '半个': 679, '总': 680, '酒吧': 681, '服务台': 682, '合适': 683, '恶心': 684, '景点': 685, '上次': 686, '注册': 687, '导航': 688, '一半': 689, '偏僻': 690, '室内': 691, '明白': 692, '细节': 693, '广场': 694, '掉': 695, '地上': 696, '部': 697, '水龙头': 698, '讲': 699, '丰盛': 700, '达': 701, '地板': 702, '床上': 703, '景色': 704, '网友': 705, '索引': 706, '物品': 707, '靠近': 708, '带来': 709, '浴巾': 710, '度': 711, '开窗': 712, '回复': 713, '答应': 714, '楼上': 715, '０': 716, '第一': 717, '好好': 718, '套间': 719, '路上': 720, '楼道': 721, '外观': 722, '声': 723, '收到': 724, '连锁': 725, '下楼': 726, '号称': 727, '值班': 728, '代理': 729, '照片': 730, '对不起': 731, '包括': 732, '我要': 733, '需': 734, '大门': 735, '重庆': 736, '强烈建议': 737, '淋浴房': 738, '矿泉水': 739, '付': 740, '仔细': 741, '泳池': 742, '一种': 743, '留下': 744, '差劲': 745, '听说': 746, '受不了': 747, 'ktv': 748, '小心': 749, '海边': 750, '诚聘': 751, '英才': 752, '入睡': 753, '房子': 754, '垃圾': 755, '现金': 756, '无烟': 757, '成都': 758, '厨房': 759, '收拾': 760, '偏高': 761, '送餐': 762, '洗澡水': 763, '副理': 764, '区': 765, '澡': 766, '有没有': 767, '接机': 768, '赠送': 769, '花': 770, '特价': 771, '广告业务': 772, '使': 773, '太高': 774, '国内': 775, '全是': 776, '配套': 777, '选': 778, '协议': 779, '停电': 780, '随便': 781, '深圳': 782, '亲切': 783, '后悔': 784, '含': 785, '生意': 786, '事先': 787, '公寓': 788, '气派': 789, '一会': 790, '勉强': 791, '头': 792, '居住': 793, '１': 794, '出入': 795, '二': 796, '灯光': 797, '给予': 798, '试试': 799, '稍': 800, '客服': 801, '没见': 802, '价': 803, '久': 804, '通风': 805, '聊天': 806, '火车': 807, '针对': 808, '潮湿': 809, '见到': 810, '经济型': 811, '沙发': 812, '一点点': 813, '部门': 814, '烂': 815, '中餐': 816, '一次性': 817, '是从': 818, '美中不足': 819, '不符': 820, '比起': 821, '较差': 822, '游泳': 823, '２': 824, '人性化': 825, '忘': 826, '饭菜': 827, '热闹': 828, '单间': 829, '晚点': 830, '微笑': 831, '理解': 832, '漂亮': 833, '更是': 834, '口味': 835, '牛奶': 836, '烟味': 837, '花园': 838, '难吃': 839, '边上': 840, '关': 841, '查': 842, '要命': 843, '一层': 844, '改造': 845, 'ok': 846, '拒绝': 847, '建筑': 848, '黑店': 849, '结束': 850, '临时': 851, '关系': 852, '发霉': 853, '送来': 854, '是因为': 855, '一流': 856, '挂牌': 857, '担保': 858, '巴士': 859, '活动': 860, '天气': 861, '包': 862, '沙滩': 863, '种类': 864, '拉': 865, '万豪': 866, '从来': 867, '加上': 868, '区别': 869, '赶紧': 870, '很难': 871, '服务水平': 872, '加床': 873, '停': 874, '三': 875, '再住': 876, '我定': 877, '仍': 878, '维修': 879, '墙上': 880, 'copyrightctripcomallrightsreserved': 881, '恐怖': 882, '话': 883, '布置': 884, '离店': 885, '一夜': 886, '负责': 887, '较大': 888, '再也不会': 889, '吵醒': 890, '食物': 891, '标房': 892, '无奈': 893, '接到': 894, '感动': 895, '想到': 896, '一进': 897, '小吃': 898, '竞争力': 899, '床垫': 900, '理论': 901, '钥匙': 902, '主楼': 903, '单位': 904, '优质': 905, 'b': 906, '卧室': 907, '出租': 908, '千万别': 909, '进来': 910, '咖啡': 911, '洗浴': 912, '名字': 913, '品牌': 914, '看着': 915, '像是': 916, '半': 917, '墙壁': 918, '越来越': 919, '海鲜': 920, '街': 921, '领导': 922, '山上': 923, '当晚': 924, '杭州': 925, '重': 926, '打算': 927, '喝': 928, '自动': 929, '游客': 930, '查房': 931, '表扬': 932, '感冒': 933, '老化': 934, '漏水': 935, '开业': 936, '穿': 937, '一早': 938, '员': 939, '号楼': 940, '等待': 941, '乱': 942, 'a': 943, '下水': 944, '家人': 945, '两张': 946, '恶劣': 947, '香格里拉': 948, '系统': 949, '不像': 950, '灯': 951, '江景': 952, '咬': 953, '可怕': 954, '超过': 955, '解决问题': 956, '骗': 957, '接': 958, '枕头': 959, '老旧': 960, '有待': 961, '手机': 962, '一般般': 963, '配置': 964, '国外': 965, '繁华': 966, '三楼': 967, '快捷酒店': 968, '太低': 969, '不怎么': 970, '西湖': 971, '调整': 972, '第三天': 973, '习惯': 974, '礼宾': 975, '协调': 976, '天津': 977, '事件': 978, '此次': 979, '成': 980, '超值': 981, '算了': 982, '龙头': 983, '临街': 984, '假日': 985, '不再': 986, '刚刚': 987, '三天': 988, '搬': 989, '诚信': 990, '嘈杂': 991, '价格比': 992, '最终': 993, '修理': 994, '商务酒店': 995, '检查': 996, '回去': 997, '洗漱': 998, '看起来': 999, '丢': 1000, '凑合': 1001, '爬': 1002, '坐在': 1003, '依然': 1004, '周末': 1005, '逛街': 1006, '立刻': 1007, '莫泰': 1008, '顺利': 1009, '海': 1010, '颜色': 1011, '看不到': 1012, '茶': 1013, '冷淡': 1014, '其他人': 1015, '换成': 1016, '极': 1017, '两间': 1018, '笑容': 1019, '做出': 1020, '平时': 1021, '女士': 1022, '窗': 1023, '不让': 1024, '布局': 1025, '本身': 1026, '第二': 1027, '奉劝': 1028, '上午': 1029, '尊重': 1030, '西餐厅': 1031, '非': 1032, '付费': 1033, '味': 1034, '积分': 1035, '协程': 1036, '工地': 1037, '老婆': 1038, '出水': 1039, '室外': 1040, '实际上': 1041, '缺乏': 1042, '产品': 1043, '签单': 1044, '早点': 1045, '太大': 1046, '太多': 1047, '体现': 1048, '头发': 1049, '商场': 1050, '错': 1051, '忘记': 1052, '不满': 1053, '汽车站': 1054, '洲际': 1055, '面': 1056, '半岛': 1057, '餐馆': 1058, '准': 1059, '面对': 1060, '会议': 1061, '闹': 1062, '果盘': 1063, '原本': 1064, '昏暗': 1065, '浪费': 1066, '保留': 1067, '提到': 1068, '延迟': 1069, '这间': 1070, '睡不着': 1071, '难受': 1072, '耐心': 1073, '泡': 1074, '吵闹': 1075, '破旧': 1076, '十分钟': 1077, '美': 1078, '床头': 1079, '赔偿': 1080, '友好': 1081, '相差': 1082, '人住': 1083, '吹风机': 1084, '值得一提的是': 1085, '男': 1086, '不去': 1087, '首选': 1088, '离谱': 1089, '签字': 1090, '房内': 1091, '类似': 1092, '气': 1093, '一家人': 1094, '体验': 1095, '路程': 1096, '去过': 1097, '张': 1098, '外出': 1099, '阁下': 1100, '正': 1101, '出口': 1102, '厦门': 1103, '月份': 1104, '旅客': 1105, '生气': 1106, '遥控器': 1107, '大声': 1108, '五一': 1109, '步行街': 1110, '宝贵': 1111, '缘故': 1112, '地面': 1113, '送到': 1114, '调': 1115, '单独': 1116, '地下': 1117, '睡着': 1118, '大小': 1119, '不贵': 1120, '窗帘': 1121, '看过': 1122, '接送': 1123, '小得': 1124, '就餐': 1125, '＂': 1126, '开心': 1127, '特意': 1128, '品质': 1129, '闹中取静': 1130, '青岛': 1131, '山庄': 1132, '喜来登': 1133, '不得了': 1134, '保证': 1135, '年代': 1136, '客厅': 1137, '一只': 1138, '致电': 1139, '深表歉意': 1140, '欢迎您': 1141, '便': 1142, '身份证': 1143, '情愿': 1144, '班车': 1145, '适中': 1146, '不理': 1147, '导致': 1148, '怪味': 1149, '表示歉意': 1150, '理想': 1151, '牌子': 1152, '还给': 1153, '到底': 1154, '鸡蛋': 1155, '领班': 1156, '庐山': 1157, '臭': 1158, '人来': 1159, '开着': 1160, '抱歉': 1161, '折腾': 1162, '注明': 1163, '牙刷': 1164, '沈阳': 1165, '早就': 1166, '汽车': 1167, '饮用水': 1168, '开发区': 1169, '两晚': 1170, '转': 1171, '泰山': 1172, '粥': 1173, '重视': 1174, '紧张': 1175, '几分钟': 1176, '用户': 1177, '敲门': 1178, '团队': 1179, '方': 1180, '来看': 1181, '城': 1182, '骚扰': 1183, '歉意': 1184, '假日酒店': 1185, '六点': 1186, '亚龙湾': 1187, '客观': 1188, '此事': 1189, 'n': 1190, '清理': 1191, '真不知道': 1192, '大巴': 1193, '冷水': 1194, '得知': 1195, '没人': 1196, '世界': 1197, '景区': 1198, '早餐券': 1199, '去年': 1200, '单': 1201, '同行': 1202, '快捷': 1203, '进门': 1204, '健身房': 1205, '难': 1206, '欺骗': 1207, '好点': 1208, '湖': 1209, '湖景': 1210, '老公': 1211, '支付': 1212, '办手续': 1213, '拖': 1214, '新鲜': 1215, '墙纸': 1216, '太远': 1217, '完善': 1218, '无所谓': 1219, '细致': 1220, '一共': 1221, '高层': 1222, '惊喜': 1223, '精致': 1224, '透明': 1225, '不好意思': 1226, '门面': 1227, '衷心': 1228, '强': 1229, '的士': 1230, '承诺': 1231, '我会': 1232, '不合理': 1233, '过于': 1234, '尽量': 1235, '听见': 1236, '惬意': 1237, '逛': 1238, '口': 1239, '八点': 1240, '摆设': 1241, '需求': 1242, '高速': 1243, '评': 1244, '老外': 1245, '明天': 1246, '春节': 1247, '打招呼': 1248, '日本': 1249, '对待': 1250, '来讲': 1251, '夸张': 1252, '亲自': 1253, '两': 1254, '楼梯': 1255, '起床': 1256, '错误': 1257, '上当': 1258, '来回': 1259, '淋浴间': 1260, '批评': 1261, '信号': 1262, '全国': 1263, '双人房': 1264, '物有所值': 1265, '难闻': 1266, '门前': 1267, '三亚': 1268, '阳朔': 1269, '奥运': 1270, '催': 1271, '房客': 1272, '不通': 1273, '双床': 1274, '费': 1275, '配备': 1276, '将近': 1277, '整理': 1278, '盖': 1279, '方式': 1280, '狭小': 1281, '赞': 1282, '电源': 1283, '关门': 1284, '下雨': 1285, '留': 1286, '不小': 1287, '死': 1288, '整改': 1289, '挺不错': 1290, '面前': 1291, '项目': 1292, '态度恶劣': 1293, '永远': 1294, '不肯': 1295, '公交车': 1296, '路边': 1297, '帐': 1298, '想想': 1299, '反而': 1300, '那位': 1301, '之外': 1302, '敲': 1303, '很漂亮': 1304, '贵宾楼': 1305, '不大': 1306, '下水道': 1307, '臭味': 1308, '旋转': 1309, '行程': 1310, '象是': 1311, '内容': 1312, '一瓶': 1313, '忍受': 1314, '不快': 1315, '做好': 1316, '担心': 1317, '洗完': 1318, '两点': 1319, '三次': 1320, '咨询': 1321, '身上': 1322, '提升': 1323, '尝试': 1324, '好久': 1325, '此类': 1326, '超': 1327, '广州': 1328, '作': 1329, '谢谢您': 1330, '菜品': 1331, '郑州': 1332, '调节': 1333, '有种': 1334, '还过得去': 1335, '集团': 1336, '开放': 1337, '度假村': 1338, '动作': 1339, '无比': 1340, '加收': 1341, '形容': 1342, '好不容易': 1343, '转身': 1344, '看上去': 1345, '足足': 1346, '控制': 1347, '西街': 1348, '下班': 1349, '没用': 1350, '地处': 1351, '约': 1352, '东莞': 1353, '对此': 1354, '懒得': 1355, '点心': 1356, '公安部门': 1357, '景房': 1358, '套餐': 1359, '寸': 1360, '不足之处': 1361, '写字台': 1362, '清洗': 1363, '忽悠': 1364, '待遇': 1365, '每人': 1366, '车子': 1367, '苏州': 1368, '结算': 1369, '不停': 1370, '足': 1371, '显示': 1372, '洗澡时': 1373, '距': 1374, '门票': 1375, '吵得': 1376, '两家': 1377, '深刻': 1378, '管理层': 1379, '急': 1380, '晚饭': 1381, '卫生条件': 1382, '威海': 1383, '娱乐': 1384, '关键': 1385, '地址': 1386, '两张床': 1387, '却是': 1388, '跟前': 1389, '韩国': 1390, '查看': 1391, '床上用品': 1392, '下车': 1393, '阁': 1394, '子': 1395, '认可': 1396, '典型': 1397, '困难': 1398, '心理': 1399, '食品': 1400, '曾': 1401, '对比': 1402, '频道': 1403, '欠': 1404, '拨打': 1405, '一会儿': 1406, '记得': 1407, '长春': 1408, '怕': 1409, '安装': 1410, '竟': 1411, '干': 1412, '餐具': 1413, '增加': 1414, '修好': 1415, '定单': 1416, '路口': 1417, '三点': 1418, '长时间': 1419, '事实': 1420, '用具': 1421, '关闭': 1422, '怪': 1423, '敢': 1424, '政府': 1425, '绿舟': 1426, '害': 1427, '一条街': 1428, '曰': 1429, '一声': 1430, '非常重视': 1431, '幸好': 1432, '最多': 1433, '瓶': 1434, '贴心': 1435, '装潢': 1436, '电视节目': 1437, '旁': 1438, '４': 1439, '没房': 1440, '液晶电视': 1441, '卫浴': 1442, '拿到': 1443, '装': 1444, '营业': 1445, '一住': 1446, '差别': 1447, '皇冠': 1448, '懂': 1449, '偏贵': 1450, '宣传': 1451, '总算': 1452, '会员卡': 1453, '搭': 1454, '师傅': 1455, '楼顶': 1456, '装饰': 1457, '地区': 1458, '白色': 1459, '痕迹': 1460, '一个月': 1461, '值': 1462, '商量': 1463, '个人感觉': 1464, '热心': 1465, '随时': 1466, '脸': 1467, '管理人员': 1468, '睡眠': 1469, '遭遇': 1470, '中式': 1471, '补': 1472, '只住': 1473, '打折': 1474, '商务中心': 1475, '散步': 1476, '关注': 1477, '好处': 1478, '太吵': 1479, '一件': 1480, '本次': 1481, '回房': 1482, '面包': 1483, '公里': 1484, '叫车': 1485, '难以': 1486, '承认': 1487, '东楼': 1488, '走走': 1489, '很棒': 1490, '无人': 1491, '夜里': 1492, '不见': 1493, '调查': 1494, '仅': 1495, '被褥': 1496, '正规': 1497, '蟑螂': 1498, '自驾游': 1499, '水温': 1500, '拿来': 1501, '排队': 1502, '效率': 1503, '隔': 1504, '携城': 1505, '堵': 1506, '夜晚': 1507, '缺少': 1508, '过程': 1509, '出示': 1510, '太慢': 1511, '式': 1512, '分开': 1513, '平米': 1514, '打印': 1515, '二星': 1516, '导游': 1517, '视野': 1518, '不得不': 1519, '情侣': 1520, '操作': 1521, '开关': 1522, '凉': 1523, '立马': 1524, '中环': 1525, '累': 1526, '北方': 1527, '宽': 1528, '幽静': 1529, '太冷': 1530, '点钟': 1531, '吸引': 1532, '迎宾': 1533, '还算': 1534, '客栈': 1535, '点分': 1536, '国营': 1537, '无论是': 1538, '绿色': 1539, '进房': 1540, '男友': 1541, '桑拿': 1542, '核对': 1543, '一圈': 1544, '路过': 1545, '可气': 1546, '家里': 1547, '寄': 1548, '星期': 1549, '一小': 1550, '再来': 1551, '爱理不理': 1552, '大连': 1553, '墙': 1554, '挑剔': 1555, '一大早': 1556, '太少': 1557, '搞笑': 1558, '锁': 1559, '那间': 1560, '大部分': 1561, '生硬': 1562, '谈不上': 1563, '烧': 1564, '水壶': 1565, '起步价': 1566, '价格便宜': 1567, '椅子': 1568, '北海': 1569, '两人': 1570, '街上': 1571, '斜对面': 1572, '刚才': 1573, '挨着': 1574, '四个': 1575, '厉害': 1576, '有股': 1577, '略显': 1578, '规范': 1579, '夜总会': 1580, '付钱': 1581, '世纪': 1582, '床铺': 1583, '长途': 1584, '说好': 1585, '躺': 1586, '老鼠': 1587, '单人床': 1588, '门锁': 1589, '全': 1590, '月底': 1591, '吐': 1592, '程度': 1593, '一块': 1594, '厅': 1595, '问候': 1596, '冷风': 1597, '过得去': 1598, '一如既往': 1599, '票': 1600, '汗': 1601, '应': 1602, '物超所值': 1603, '交': 1604, '强烈要求': 1605, '西式': 1606, '无线': 1607, '不是太好': 1608, '吹': 1609, '制冷': 1610, '闹市区': 1611, '铺': 1612, '表面': 1613, '第三次': 1614, '花洒': 1615, '黄山': 1616, '自然': 1617, '一塌糊涂': 1618, '接近': 1619, '服': 1620, '女': 1621, '可口': 1622, '被单': 1623, '修': 1624, '来到': 1625, '临近': 1626, '变化': 1627, '尴尬': 1628, '济南': 1629, '排水': 1630, '９': 1631, '杯子': 1632, '美丽': 1633, '提示': 1634, '公交': 1635, '大街': 1636, '车库': 1637, '入口': 1638, '接电话': 1639, '插': 1640, '独立': 1641, '睡衣': 1642, '点半': 1643, '改变': 1644, '暗': 1645, '熟悉': 1646, '忙': 1647, '早茶': 1648, '睡个': 1649, '商业区': 1650, '扔': 1651, '岁': 1652, '咖啡厅': 1653, '薄': 1654, '华侨': 1655, '开发票': 1656, '菜单': 1657, '一把': 1658, '私人': 1659, '搞错': 1660, '开元': 1661, '屋内': 1662, '广告': 1663, '内地': 1664, '查询': 1665, '传真': 1666, '甚': 1667, '令': 1668, '一大': 1669, '餐券': 1670, '打不开': 1671, '进出': 1672, '资料': 1673, '冬天': 1674, '调试': 1675, '地图': 1676, '赶上': 1677, '享用': 1678, '健身': 1679, '３': 1680, '办理手续': 1681, '父母': 1682, '人大': 1683, '床间': 1684, '二十分钟': 1685, '简洁': 1686, '角落': 1687, '嘉宾': 1688, '想要': 1689, '热情周到': 1690, '插座': 1691, '衣柜': 1692, '一分钟': 1693, '作用': 1694, '笑': 1695, '音乐': 1696, '短信': 1697, '说实话': 1698, '消费者': 1699, '全都': 1700, '现象': 1701, '计较': 1702, '满地': 1703, '该店': 1704, '换到': 1705, '外表': 1706, '烧烤': 1707, '跳蚤': 1708, '爱': 1709, '浴帘': 1710, '台上': 1711, '电': 1712, '客气': 1713, '高度重视': 1714, '予以': 1715, '柳州': 1716, '观景': 1717, '旅店': 1718, '评分': 1719, '女人': 1720, '脏乱差': 1721, '无法忍受': 1722, '虫子': 1723, '顺便': 1724, '冻结': 1725, '忍': 1726, '对方': 1727, '我用': 1728, '动静': 1729, '大楼': 1730, '同志': 1731, '美景': 1732, '省': 1733, 'mm': 1734, '隔开': 1735, '搞定': 1736, '白粥': 1737, '这位': 1738, '街边': 1739, '午餐': 1740, '理念': 1741, '位': 1742, '起码': 1743, '盘子': 1744, '第三': 1745, '故意': 1746, '窗子': 1747, '双人': 1748, '大海': 1749, '打个': 1750, '短': 1751, '几家': 1752, '滴': 1753, '驴友': 1754, '发出': 1755, '当日': 1756, '一出': 1757, '绿化': 1758, '寄存': 1759, '西餐': 1760, '很浓': 1761, '车程': 1762, '券': 1763, '标志': 1764, '美国': 1765, '状况': 1766, '商品': 1767, '总经理': 1768, '打扰': 1769, '总共': 1770, '广东': 1771, '多多': 1772, '古色古香': 1773, '索菲特': 1774, '垫': 1775, '足够': 1776, '‘': 1777, '修路': 1778, '体会': 1779, '销售': 1780, '接触': 1781, '经验': 1782, '双层': 1783, '上楼': 1784, '女儿': 1785, '洗手': 1786, '无锡': 1787, '钻石': 1788, '人员素质': 1789, '速度慢': 1790, '最让人': 1791, '时说': 1792, '单据': 1793, '南京': 1794, '休闲': 1795, '不开': 1796, '东方': 1797, '医院': 1798, '客房部': 1799, '只得': 1800, '卖': 1801, '账单': 1802, '报销': 1803, '关上': 1804, '业务': 1805, '想法': 1806, '左': 1807, '元天': 1808, '冷气': 1809, '洗个': 1810, '小朋友': 1811, '冷冰冰': 1812, '答': 1813, '技术人员': 1814, '生活': 1815, '形象': 1816, '丽江': 1817, '整晚': 1818, '成本': 1819, '偏小': 1820, '豪标': 1821, '拍': 1822, '洗衣': 1823, '各项': 1824, '脸上': 1825, '表情': 1826, '尽快': 1827, '银河': 1828, '餐': 1829, '上车': 1830, '服务行业': 1831, '曲阜': 1832, '划算': 1833, '闻到': 1834, '屋里': 1835, '日式': 1836, '迷你': 1837, '综合': 1838, '要说': 1839, '不佳': 1840, '签约': 1841, '诚挚': 1842, '冻': 1843, '亦': 1844, '两分钟': 1845, '古城': 1846, '报警': 1847, '清晰': 1848, '外国': 1849, '貌似': 1850, '紧邻': 1851, '污渍': 1852, 'c': 1853, '洗脸盆': 1854, '房是': 1855, '看电视': 1856, '愤怒': 1857, '不来': 1858, '办完': 1859, '占': 1860, '抱': 1861, '平台': 1862, '觉': 1863, '极端': 1864, '一是': 1865, '角度': 1866, '黄金周': 1867, '姓名': 1868, '烫': 1869, '蚊香': 1870, '後': 1871, '啤酒': 1872, '洗脸': 1873, '打死': 1874, '本店': 1875, '作出': 1876, '要死': 1877, '量': 1878, '见过': 1879, '卡拉': 1880, '笑脸': 1881, '大型': 1882, '金额': 1883, '损失': 1884, '级别': 1885, '蛮横': 1886, '旅游局': 1887, '青年': 1888, '自驾': 1889, '清新': 1890, '决不': 1891, '调换': 1892, '公共': 1893, '很响': 1894, '四周': 1895, '极度': 1896, '态度生硬': 1897, '始终': 1898, '保险柜': 1899, '房前': 1900, '九点': 1901, '海南': 1902, '欣赏': 1903, '黄色': 1904, '开会': 1905, '小费': 1906, '遇见': 1907, '成功': 1908, '单人房': 1909, '长途电话': 1910, '浓重': 1911, '常住': 1912, '涨价': 1913, '停车费': 1914, '至今': 1915, '游玩': 1916, '劝': 1917, '出奇': 1918, '人民币': 1919, '干脆': 1920, '地道': 1921, '车站': 1922, '件': 1923, '天天': 1924, '新开': 1925, '乘坐': 1926, '信任': 1927, '四': 1928, '一厅': 1929, '大人': 1930, '区域': 1931, '多分钟': 1932, '’': 1933, '饭': 1934, '延住': 1935, '问好': 1936, '服务业': 1937, '功能': 1938, '总机': 1939, '小区': 1940, '职业': 1941, '代表': 1942, '水压': 1943, '下降': 1944, '这才': 1945, '承包': 1946, '在外': 1947, '在意': 1948, '改': 1949, '发觉': 1950, '两位': 1951, '购买': 1952, '开灯': 1953, '格局': 1954, '泡温泉': 1955, '顶': 1956, '受': 1957, '这件': 1958, '潮': 1959, '改成': 1960, '幸亏': 1961, '烧水': 1962, '老式': 1963, '描述': 1964, '大门口': 1965, '过分': 1966, '诚恳': 1967, '声誉': 1968, '强烈推荐': 1969, '泰逸': 1970, '回家': 1971, '空房': 1972, '赶快': 1973, '令人满意': 1974, '很远': 1975, '平方': 1976, '一套': 1977, '指示': 1978, '难忘': 1979, '英语': 1980, '从未': 1981, '房屋': 1982, '借': 1983, '出发': 1984, '地震': 1985, '三人间': 1986, '第一个': 1987, '淡季': 1988, '车辆': 1989, '三口': 1990, '派': 1991, '妈妈': 1992, '怎么回事': 1993, '当即': 1994, '办公': 1995, '不热': 1996, '毛发': 1997, '参考': 1998, '喷头': 1999, '拿出': 2000, '走进': 2001, '前一天': 2002, '第天': 2003, '溧阳': 2004, '正是': 2005, '点菜': 2006, '夏威夷': 2007, '完毕': 2008, '游': 2009, '太脏': 2010, '要收': 2011, '夜间': 2012, '瓶装水': 2013, '一番': 2014, '太偏': 2015, '国家': 2016, '温暖': 2017, '凉水': 2018, '码头': 2019, '别致': 2020, '一眼': 2021, '长沙': 2022, '只会': 2023, '全体': 2024, '一双': 2025, '对本': 2026, '敦煌': 2027, '历史': 2028, '证件': 2029, '美伦': 2030, '差差': 2031, '徐州': 2032, '季节': 2033, '前提': 2034, '帐单': 2035, '摆': 2036, '远离': 2037, '拐角': 2038, '欧式': 2039, '便捷': 2040, '图': 2041, '象个': 2042, '指': 2043, '结构': 2044, '绕': 2045, '拔掉': 2046, '房到': 2047, '报': 2048, '月初': 2049, '一到': 2050, '旅行': 2051, '同等': 2052, '较晚': 2053, '做法': 2054, '独特': 2055, '骗人': 2056, '穿过': 2057, '奇慢': 2058, '柜子': 2059, '湿': 2060, '刺鼻': 2061, '一分': 2062, '闷': 2063, '刚好': 2064, '能力': 2065, '从没': 2066, '夜景': 2067, '关心': 2068, '顶多': 2069, '奇差': 2070, '未能': 2071, '说法': 2072, '香水': 2073, '好些': 2074, '单调': 2075, '网': 2076, '浴袍': 2077, '瑕疵': 2078, '每间': 2079, '重复': 2080, '三人房': 2081, '由此': 2082, '黑色': 2083, '早晚': 2084, '环境优美': 2085, '外国人': 2086, '升': 2087, '实用': 2088, '气温': 2089, '没人来': 2090, '准确': 2091, '国庆': 2092, '痛苦': 2093, '环保': 2094, '每位': 2095, '随意': 2096, '份': 2097, '优越': 2098, '固定': 2099, '收取': 2100, '应有': 2101, '剩下': 2102, '出面': 2103, '会议室': 2104, '感觉不好': 2105, '门卫': 2106, '太原': 2107, '马路上': 2108, '自驾车': 2109, '其间': 2110, '所说': 2111, '巧克力': 2112, '水漫金山': 2113, '极大': 2114, '不负责任': 2115, '维护': 2116, '旺角': 2117, '冷漠': 2118, '平湖': 2119, '森林公园': 2120, '游览': 2121, '武陵源': 2122, '风景区': 2123, '比不上': 2124, '冲着': 2125, '全家': 2126, '粤海': 2127, '撤': 2128, '免得': 2129, '小气': 2130, '同类': 2131, '纸': 2132, '机': 2133, '油烟味': 2134, '不堪': 2135, '特': 2136, '笔记本': 2137, '一周': 2138, '为此': 2139, '下榻': 2140, '房有': 2141, '上山': 2142, '共用': 2143, '数量': 2144, '时代广场': 2145, '远远': 2146, '多余': 2147, '卡片': 2148, '太太': 2149, '时才': 2150, '莫名其妙': 2151, '点到': 2152, '嘉兴': 2153, '招牌': 2154, '加钱': 2155, '真不错': 2156, '美食': 2157, '一碗': 2158, '人民': 2159, '落后': 2160, '大排档': 2161, '少见': 2162, '吓人': 2163, '听得': 2164, '箱子': 2165, '难得': 2166, '先到': 2167, '滑': 2168, '旅行社': 2169, '过后': 2170, '有时候': 2171, '拿走': 2172, '跟不上': 2173, '消毒': 2174, '黑乎乎': 2175, '管道': 2176, '挺大': 2177, '关掉': 2178, '措施': 2179, '设定': 2180, '付现金': 2181, '手续费': 2182, '不带': 2183, '统一': 2184, '市场': 2185, '柜台': 2186, '脸色': 2187, '附楼': 2188, '武汉': 2189, '抬头': 2190, '国贸': 2191, '开水': 2192, '混': 2193, '真是太': 2194, '脏兮兮': 2195, '车上': 2196, '床头灯': 2197, '双早': 2198, '绝佳': 2199, '换个': 2200, '负责人': 2201, '拥挤': 2202, '豆浆': 2203, '算不上': 2204, '几年': 2205, '放下': 2206, '晚到': 2207, '一个个': 2208, '恐怕': 2209, '英文': 2210, '黑黑的': 2211, '最烂': 2212, '爽': 2213, '光顾': 2214, '午饭': 2215, '几点': 2216, '稍稍': 2217, '阿姨': 2218, '租': 2219, '清清楚楚': 2220, '时尚': 2221, '木板': 2222, '航班': 2223, '铜锣湾': 2224, '原先': 2225, '上菜': 2226, '改建': 2227, '推': 2228, '高峰': 2229, '本地人': 2230, '闹市': 2231, '挤': 2232, '海港': 2233, '次日': 2234, '当地人': 2235, '扑面而来': 2236, '阳光': 2237, '高架': 2238, '过道': 2239, '充满': 2240, '贴': 2241, '肚子': 2242, '钱包': 2243, '建设': 2244, '前厅': 2245, '来电': 2246, '写字楼': 2247, '塑料': 2248, '共': 2249, '副': 2250, 'taxi': 2251, '通道': 2252, '浦东': 2253, '大道': 2254, '毛病': 2255, '无语': 2256, '晕倒': 2257, '二层': 2258, '第次': 2259, '宰': 2260, '山': 2261, '关不上': 2262, '路线': 2263, '红': 2264, '很晚': 2265, '蛋糕': 2266, '开阔': 2267, '散客': 2268, '设备陈旧': 2269, '生': 2270, '连续': 2271, '房里': 2272, '方巾': 2273, '不象': 2274, '稳定': 2275, '赶时间': 2276, '耽误': 2277, '标价': 2278, '他家': 2279, '乌鲁木齐': 2280, '气氛': 2281, '汉庭': 2282, '苍蝇': 2283, '大理': 2284, '忽冷忽热': 2285, '职员': 2286, 'motel': 2287, '海滩': 2288, '一年': 2289, '西宁': 2290, '线': 2291, '抱怨': 2292, '深夜': 2293, '肮脏': 2294, '标': 2295, '文件': 2296, '音响': 2297, '发': 2298, '经营': 2299, '起步': 2300, '座': 2301, '房号': 2302, '哈尔滨': 2303, '尖沙咀': 2304, '意外': 2305, '不在乎': 2306, '压抑': 2307, '不可思议': 2308, '供': 2309, '超出': 2310, '时期': 2311, '建': 2312, '价格公道': 2313, '大大的': 2314, '一带': 2315, '多么': 2316, '报纸': 2317, '小小': 2318, '成正比': 2319, '出于': 2320, '纳闷': 2321, '之处': 2322, '二是': 2323, '一名': 2324, '年前': 2325, '一段': 2326, '后门': 2327, 'ぃ': 2328, '８': 2329, '很慢': 2330, '缝隙': 2331, '场所': 2332, '说得过去': 2333, '四点': 2334, '后果': 2335, '点前': 2336, '连接': 2337, '往返': 2338, '坐车': 2339, '十一': 2340, '交通不便': 2341, '较贵': 2342, '地砖': 2343, '质问': 2344, '一遍': 2345, '即将': 2346, '吧台': 2347, '形同虚设': 2348, '核实': 2349, '酒': 2350, '商业中心': 2351, '公道': 2352, '就让': 2353, '才行': 2354, '工程': 2355, '向前': 2356, '差价': 2357, '彬彬有礼': 2358, '机构': 2359, '期望': 2360, '快点': 2361, '走人': 2362, '学生': 2363, '近点': 2364, '住进': 2365, '毛': 2366, '船': 2367, '洞': 2368, '便于': 2369, '氛围': 2370, '没得说': 2371, '袜子': 2372, '茶叶': 2373, '优雅': 2374, '人手': 2375, '背后': 2376, '友善': 2377, '只不过': 2378, '旅游团': 2379, '有所改善': 2380, '桌上': 2381, '一杯': 2382, '宗旨': 2383, '光': 2384, '最深': 2385, '超大': 2386, '冰凉': 2387, '紧靠': 2388, '饿': 2389, '花园式': 2390, '吸烟': 2391, '谅解': 2392, '机票': 2393, '送过来': 2394, '赚': 2395, '等候': 2396, '备用': 2397, '二个': 2398, '提了': 2399, '水量': 2400, '记录': 2401, '不说': 2402, '连个': 2403, '特色菜': 2404, '密码': 2405, '倍': 2406, '二次': 2407, '自备': 2408, '包装': 2409, '双': 2410, '海悦': 2411, '华美达': 2412, '弹簧': 2413, '山路': 2414, '假期': 2415, '旅游景点': 2416, '弄脏了': 2417, '住满': 2418, '市话': 2419, '开通': 2420, '老牌': 2421, '不适': 2422, '乱七八糟': 2423, '县城': 2424, '索性': 2425, '偶': 2426, '杜绝': 2427, '祝您': 2428, '身体健康': 2429, '鼓励': 2430, '洛阳': 2431, '邯郸': 2432, '强力': 2433, '喧哗': 2434, '差得': 2435, '有意思': 2436, '老街': 2437, '促销': 2438, '灰尘': 2439, '电吹风': 2440, '像样': 2441, '早起': 2442, '街道': 2443, '不靠': 2444, '桂林': 2445, '无表情': 2446, '太烂': 2447, '搞不懂': 2448, '别去': 2449, '砸': 2450, '责任': 2451, '太好': 2452, '在于': 2453, '电瓶车': 2454, '丝毫': 2455, '出去玩': 2456, '包子': 2457, '感慨': 2458, '低档': 2459, '厚': 2460, '用过': 2461, '棒': 2462, '大多': 2463, '面条': 2464, '天堂': 2465, '一顿': 2466, '鄙视': 2467, '右转': 2468, '多一点': 2469, '破烂': 2470, '牌': 2471, '很贵': 2472, '值得称赞': 2473, '表现': 2474, '难以忍受': 2475, '套': 2476, '更改': 2477, '销售部': 2478, '热卖': 2479, '预付': 2480, '商务人士': 2481, '穿着': 2482, '说话声': 2483, '人少': 2484, '南楼': 2485, '服务费': 2486, '没睡': 2487, '好觉': 2488, '一口': 2489, '没换': 2490, '没敢': 2491, '昆明': 2492, '牛': 2493, '利益': 2494, '四楼': 2495, '稀饭': 2496, '不该': 2497, '不大好': 2498, '喇叭': 2499, '自行车': 2500, '办好': 2501, '随后': 2502, '配': 2503, '佳': 2504, '挑': 2505, '枕套': 2506, '徐家汇': 2507, '真心': 2508, '一人': 2509, '工人': 2510, '好评': 2511, '事后': 2512, '一根': 2513, '暖和': 2514, '盒子': 2515, '混乱': 2516, '充其量': 2517, '不吃': 2518, '没住': 2519, '脱落': 2520, '乐园': 2521, '斑驳': 2522, '处于': 2523, '白鹭洲': 2524, '有名': 2525, '卫生状况': 2526, '根本就是': 2527, '看得出': 2528, '多年': 2529, '可想而知': 2530, '出风口': 2531, '迹象': 2532, '图片': 2533, '湿地': 2534, '感': 2535, '眼睛': 2536, '麽': 2537, '戴眼镜': 2538, '湾': 2539, '语言': 2540, '锦昌': 2541, '细心': 2542, '男服务员': 2543, '商店': 2544, '却说': 2545, '婚宴': 2546, '睡觉时': 2547, '差一点': 2548, '血迹': 2549, '计划': 2550, '够不上': 2551, '最最': 2552, '本地': 2553, '二星级': 2554, '持续': 2555, '提交': 2556, '留言': 2557, '第四': 2558, '心理准备': 2559, '理睬': 2560, '偏远': 2561, '节能': 2562, '自带': 2563, '一段时间': 2564, '级': 2565, '酒廊': 2566, '美好': 2567, '语': 2568, '位子': 2569, '墙面': 2570, '地说': 2571, '服务周到': 2572, '多元': 2573, '改正': 2574, '教育': 2575, '空': 2576, '方向': 2577, '买单': 2578, '用语': 2579, '拎': 2580, '门外': 2581, '金': 2582, '十年': 2583, '赶到': 2584, '楼房': 2585, '人房': 2586, '款': 2587, '黎明': 2588, '东东': 2589, '金陵': 2590, '发黄': 2591, '制服': 2592, '合格': 2593, 'rmb': 2594, '安全感': 2595, '太近': 2596, '没人管': 2597, '贼': 2598, '锅炉': 2599, '极力推荐': 2600, '屋顶': 2601, '吉林省': 2602, '鱼头': 2603, '正面': 2604, '流水': 2605, '取': 2606, '具备': 2607, '推开': 2608, '包头': 2609, '精神': 2610, '火锅': 2611, '好找': 2612, '一路上': 2613, '机器': 2614, '地下室': 2615, '清静': 2616, '隔断': 2617, '条': 2618, '监控': 2619, '偏偏': 2620, '损坏': 2621, '浓烈': 2622, '金华': 2623, '型': 2624, '离海': 2625, '预售': 2626, '炒菜': 2627, '两边': 2628, '多付': 2629, '有位': 2630, '错过': 2631, '奥运会': 2632, '制止': 2633, '当事人': 2634, '大城市': 2635, '已有': 2636, '要元': 2637, '住房': 2638, '英皇': 2639, '务必': 2640, '木棉花': 2641, '股': 2642, '污迹': 2643, '硬是': 2644, '原价': 2645, '指望': 2646, '少许': 2647, '搞好': 2648, '常识': 2649, '镇江': 2650, '纠纷': 2651, '推出': 2652, '帐户': 2653, '按钮': 2654, '出游': 2655, '定房': 2656, '不能容忍': 2657, '收元': 2658, '办公室': 2659, '酒店客房': 2660, '粗糙': 2661, '自始至终': 2662, '摇头': 2663, '天亮': 2664, '房务部': 2665, '索取': 2666, '为元': 2667, '房元': 2668, '自称': 2669, '惯例': 2670, '进一步': 2671, '小强': 2672, '今晚': 2673, '一类': 2674, '斑点': 2675, '外墙': 2676, '整整': 2677, '匆忙': 2678, '泡澡': 2679, '确保': 2680, '公布': 2681, '祝': 2682, '第一间': 2683, '线路': 2684, '我点': 2685, '纯粹': 2686, '油漆味': 2687, '车位': 2688, '如同': 2689, '品': 2690, '洗手台': 2691, '保护': 2692, '岛上': 2693, '裂缝': 2694, '评定': 2695, '订好': 2696, '没窗': 2697, '有生以来': 2698, '宾至如归': 2699, '抵达': 2700, '煎': 2701, '西环': 2702, '通畅': 2703, '公用': 2704, '采光': 2705, '太晚': 2706, '较脏': 2707, '可爱': 2708, '软': 2709, '南北': 2710, '紧': 2711, '热风': 2712, '呆': 2713, '饮食': 2714, '永和': 2715, '庭院': 2716, '充电器': 2717, '插头': 2718, '五分钟': 2719, '商业': 2720, '交易': 2721, '扣款': 2722, '背面': 2723, '没听说过': 2724, '将会': 2725, '一下子': 2726, '更让人': 2727, '晓得': 2728, '绝不会': 2729, '新开业': 2730, '节目': 2731, '掉下来': 2732, '两条': 2733, '鞋子': 2734, '免费打': 2735, '洗衣机': 2736, '放松': 2737, '非常适合': 2738, '外宾': 2739, '字条': 2740, '恶梦': 2741, '屋子里': 2742, '换气': 2743, '三分钟': 2744, '临安': 2745, '付款': 2746, '窗口': 2747, '匪夷所思': 2748, '太仓': 2749, '太阳': 2750, '之旅': 2751, '水管': 2752, '炒': 2753, '摆放': 2754, '丢失': 2755, '原': 2756, '相': 2757, '偶尔': 2758, '岗位': 2759, '去处': 2760, '添加': 2761, '之内': 2762, '面子': 2763, '收钱': 2764, '打扫卫生': 2765, '图个': 2766, '开到': 2767, '骂': 2768, '面向': 2769, '吸烟区': 2770, '类型': 2771, '索要': 2772, '好离': 2773, '启动': 2774, '小点': 2775, '六楼': 2776, '另一家': 2777, '差异': 2778, '要钱': 2779, '挺高': 2780, '想来': 2781, '品尝': 2782, '门铃': 2783, '九龙': 2784, '十次': 2785, '看不出': 2786, '泰安': 2787, '问路': 2788, '欧洲': 2789, '拖拉机': 2790, '特产': 2791, 'ps': 2792, '右边': 2793, '宽敞明亮': 2794, '狭窄': 2795, '直达': 2796, '服务设施': 2797, '房床': 2798, '等于': 2799, '再有': 2800, '观察': 2801, '武夷山': 2802, '同级': 2803, '冷热水': 2804, '误导': 2805, '马马虎虎': 2806, '镜子': 2807, '吃晚饭': 2808, '老人': 2809, '小事': 2810, '带回': 2811, '豪': 2812, '候': 2813, '噪声': 2814, '再次发生': 2815, '真诚地': 2816, '小小的': 2817, '日出': 2818, '五': 2819, '简易': 2820, '有限': 2821, '银滩': 2822, '规模': 2823, '坐地铁': 2824, '海洋公园': 2825, '门卡': 2826, '漆': 2827, '工程师': 2828, '窗台上': 2829, '电梯间': 2830, '配有': 2831, '遇上': 2832, '问要': 2833, '昆山': 2834, '办公楼': 2835, '赚钱': 2836, '前往': 2837, '发现自己': 2838, '排除': 2839, '天花板': 2840, '来往': 2841, '一向': 2842, '公寓式': 2843, '冷得': 2844, '热水器': 2845, '运气': 2846, '洗澡间': 2847, '几间': 2848, 'pos': 2849, '黑车': 2850, '点到点': 2851, '买票': 2852, '之下': 2853, '指定': 2854, '扣除': 2855, '很重': 2856, '堵塞': 2857, '变得': 2858, 'ｔ': 2859, '系': 2860, '电池': 2861, '饭馆': 2862, '真实': 2863, '优先': 2864, '岂有此理': 2865, '＋': 2866, '％': 2867, '晕过去': 2868, '牙膏': 2869, '十元': 2870, '落实': 2871, '携成': 2872, '一趟': 2873, '超好': 2874, '玩得': 2875, '恼火': 2876, '没到': 2877, '更差': 2878, '淘汰': 2879, '宜昌': 2880, '不能自己': 2881, '很值': 2882, '上档次': 2883, '喽': 2884, '嘿嘿': 2885, '散': 2886, '装置': 2887, '上班': 2888, '如果说': 2889, '监督': 2890, '反复': 2891, '新街口': 2892, '新华': 2893, '表示感谢': 2894, '两样': 2895, '欧洲杯': 2896, '落地': 2897, '大都': 2898, '每间房': 2899, '酒楼': 2900, '有事': 2901, '熟练': 2902, '会展中心': 2903, '看似': 2904, '东北': 2905, '一问': 2906, '一无是处': 2907, '协议价': 2908, '停下来': 2909, '衣橱': 2910, '订房间': 2911, '中有': 2912, '更新': 2913, '床头柜': 2914, '港币': 2915, '拼': 2916, '北面': 2917, '当湖': 2918, '昨晚': 2919, '放心': 2920, '敬业': 2921, '西安': 2922, '协助': 2923, '小店': 2924, '下水管': 2925, '畅': 2926, '靠着': 2927, '右': 2928, '降温': 2929, '比较慢': 2930, '早早': 2931, '南阳': 2932, '不用说': 2933, '民居': 2934, '便是': 2935, '招待': 2936, '外地': 2937, '价格合理': 2938, '睡得': 2939, '大失所望': 2940, '停车位': 2941, '老总': 2942, '座位': 2943, 'cm': 2944, '前门': 2945, '入': 2946, '山顶': 2947, '宜宾': 2948, '聊': 2949, '情调': 2950, '茶餐厅': 2951, '美女': 2952, '接站': 2953, '并未': 2954, '中山': 2955, '人工': 2956, '先进': 2957, '四川': 2958, '厘米': 2959, '讨厌': 2960, '慎重': 2961, '银川': 2962, '空空': 2963, '事实上': 2964, '青山湖': 2965, '兄弟': 2966, '节约': 2967, '管子': 2968, '漏': 2969, '外滩': 2970, '差太差': 2971, '种': 2972, '惨不忍睹': 2973, '太过': 2974, '频繁': 2975, '很烂': 2976, '屁股': 2977, '两份': 2978, '忍不住': 2979, '门市价': 2980, '剩': 2981, '下回': 2982, '土': 2983, '单人': 2984, '看不见': 2985, '切记': 2986, '脚': 2987, '顿时': 2988, '打分': 2989, '别处': 2990, '管家': 2991, 'hbo': 2992, '订金': 2993, '接线员': 2994, '变': 2995, '一问三不知': 2996, '汕尾': 2997, '自已': 2998, '感想': 2999, '毫无': 3000, 'ic卡': 3001, '电子': 3002, '川菜': 3003, '付账': 3004, '心中': 3005, '仅仅': 3006, '过夜': 3007, '端': 3008, '餐桌': 3009, '处处': 3010, '进屋': 3011, '医生': 3012, '胡同': 3013, '省会': 3014, '昨天': 3015, '年轻': 3016, '改为': 3017, '更衣室': 3018, '功夫': 3019, '所在': 3020, '签': 3021, '单子': 3022, '亲身': 3023, '旧旧': 3024, '周六': 3025, '板': 3026, '卫生纸': 3027, '欣慰': 3028, '写错': 3029, '信誉': 3030, '较近': 3031, '钟': 3032, '凯莱': 3033, '锁上': 3034, '林': 3035, '金鼎': 3036, '旺季': 3037, '漂流': 3038, '身边': 3039, '康乐': 3040, '说不出': 3041, '好几个': 3042, '众多': 3043, '当中': 3044, '非常感谢': 3045, '沐浴': 3046, '名不副实': 3047, '勤快': 3048, '虹口': 3049, '面海': 3050, '时要': 3051, '帘': 3052, '脏得': 3053, '深': 3054, '两年': 3055, '视线': 3056, '胜': 3057, '园林景观': 3058, '悠闲': 3059, '最为': 3060, '不划算': 3061, '对得起': 3062, '参加': 3063, '额外': 3064, '协商': 3065, '小菜': 3066, '一部': 3067, '超差': 3068, '不止': 3069, '自来水': 3070, '山东': 3071, '省钱': 3072, '闷热': 3073, '光线': 3074, '回应': 3075, '打到': 3076, '锅炉房': 3077, '水箱': 3078, '冲洗': 3079, '贴着': 3080, '洗不掉': 3081, '义务': 3082, '赔': 3083, '企业': 3084, '生存': 3085, '剥落': 3086, '酒店宾馆': 3087, '钥匙卡': 3088, '黄': 3089, '一堆': 3090, '冰冷': 3091, '房租': 3092, '较为': 3093, '老人家': 3094, '招呼': 3095, '干扰': 3096, '传来': 3097, '不配': 3098, '品味': 3099, '赞扬': 3100, '莫干山': 3101, '底下': 3102, '接待员': 3103, '全价': 3104, '太忙': 3105, '大理石': 3106, '就象': 3107, '十点': 3108, '色调': 3109, '吵架': 3110, '柔软': 3111, '打包': 3112, '无窗': 3113, '地理': 3114, '权': 3115, '最起码': 3116, '金卡': 3117, '诚意': 3118, '沙面': 3119, '夏天': 3120, '响': 3121, '大饭店': 3122, '推介': 3123, '馒头': 3124, '状态': 3125, '尖': 3126, '齐备': 3127, '三张': 3128, '一道': 3129, '中规中矩': 3130, '胖': 3131, '照样': 3132, '全新': 3133, '亚泰': 3134, '抢': 3135, '空气清新': 3136, '自由': 3137, '太重': 3138, '请示': 3139, '海底': 3140, '稍显': 3141, '弥漫着': 3142, '电话线': 3143, '发火': 3144, '催促': 3145, '背': 3146, '出钱': 3147, '删除': 3148, '透过': 3149, '南方': 3150, '财务': 3151, '油漆': 3152, '着想': 3153, '合作伙伴': 3154, '押': 3155, '过年': 3156, '大妈': 3157, '迷迷糊糊': 3158, '上帝': 3159, '佳宇': 3160, '大马路': 3161, '市里': 3162, '坑人': 3163, '开幕式': 3164, '民航': 3165, '长期': 3166, '体贴': 3167, '返回': 3168, '星级宾馆': 3169, '暖风': 3170, '一个多': 3171, '可恶': 3172, '海水': 3173, '南戴河': 3174, '雅致': 3175, '电力': 3176, '八音': 3177, '和速': 3178, '儿童': 3179, '燕都': 3180, '对外': 3181, '身份': 3182, '即可': 3183, '那条': 3184, '公路': 3185, '新装': 3186, '翻新': 3187, '清单': 3188, '地步': 3189, '行李架': 3190, '归还': 3191, '快递': 3192, '蹲': 3193, '层楼': 3194, '地带': 3195, '住宅': 3196, '上门': 3197, '免费送': 3198, '没车': 3199, '欺诈': 3200, '推行': 3201, '购物袋': 3202, '牵强': 3203, '此行': 3204, '修改': 3205, '灰色': 3206, '慎重考虑': 3207, '阴暗': 3208, '先说': 3209, '有车': 3210, '闹钟': 3211, '一段路': 3212, '断电': 3213, '包小包': 3214, '秒': 3215, '福州': 3216, '最小': 3217, '好感': 3218, '拨': 3219, '评上': 3220, '推门': 3221, '基础': 3222, '临海': 3223, '总有': 3224, '学校': 3225, '算星': 3226, '著名': 3227, '卫星频道': 3228, '可否': 3229, '著': 3230, '理': 3231, '┬': 3232, 'び': 3233, 'τ': 3234, '来访': 3235, '茶水': 3236, '这时候': 3237, '外围': 3238, '大洋': 3239, '心疼': 3240, '儿子': 3241, '水泥': 3242, '一处': 3243, '不起眼': 3244, '星座': 3245, '补偿': 3246, '较长': 3247, 'm': 3248, '干活': 3249, '环': 3250, '烟': 3251, '颇': 3252, '水会': 3253, '积水': 3254, '缺陷': 3255, '小巷': 3256, '噩梦': 3257, '妹妹': 3258, '好奇': 3259, '发誓': 3260, '一群': 3261, '露天': 3262, '服务到位': 3263, '点多钟': 3264, '或许': 3265, '入住率': 3266, '我带': 3267, '半夜里': 3268, '一脸': 3269, '申请': 3270, '日期': 3271, '更大': 3272, '桌椅': 3273, '有星': 3274, '计算': 3275, '严肃': 3276, '千岛湖': 3277, '沾': 3278, '踩': 3279, '令人气愤': 3280, '店家': 3281, '嫌': 3282, '厨房设备': 3283, '身心': 3284, '市政府': 3285, '烟台': 3286, '污垢': 3287, '长廊': 3288, '走道': 3289, '来得及': 3290, '白': 3291, '夜': 3292, '搬走': 3293, '肉': 3294, '友谊': 3295, '我来': 3296, '北戴河': 3297, '电视频道': 3298, '山西': 3299, '洗液': 3300, '别扭': 3301, '洗手盆': 3302, '写明': 3303, '提着': 3304, '实习生': 3305, '纱窗': 3306, '带到': 3307, '米粉': 3308, '未果': 3309, '擅自': 3310, '冲淋房': 3311, '个性化': 3312, '贵重物品': 3313, '中肯': 3314, '金钥匙': 3315, '乱收费': 3316, '得不到': 3317, '得来': 3318, '欠缺': 3319, '以下几点': 3320, '各位朋友': 3321, '喝水': 3322, '两块': 3323, '等级': 3324, '略有': 3325, '布局合理': 3326, '懒': 3327, '正门': 3328, '点后': 3329, '在我看来': 3330, '敬请': 3331, '狗': 3332, '当初': 3333, '带个': 3334, '四月': 3335, '据理力争': 3336, '点播': 3337, '观看': 3338, '银子': 3339, '每晚': 3340, '依旧': 3341, '尽头': 3342, '无聊': 3343, '缺憾': 3344, '想不通': 3345, '日子': 3346, '利用': 3347, '很杂': 3348, '张家界': 3349, '问过': 3350, '再要': 3351, '建国': 3352, '称道': 3353, '有误': 3354, '处在': 3355, '争执': 3356, '点多到': 3357, '暂时': 3358, '声明': 3359, '运动': 3360, '定点': 3361, '一律': 3362, '引导': 3363, '能住': 3364, '我于': 3365, '歌厅': 3366, '声响': 3367, '中西': 3368, '棋牌室': 3369, '购物中心': 3370, '旅行箱': 3371, '地漏': 3372, '糟透了': 3373, '内有': 3374, '豪房': 3375, '格': 3376, '得以': 3377, '头顶': 3378, '我店': 3379, '时会': 3380, '相隔': 3381, '半日': 3382, '门脸': 3383, '降到': 3384, '房住': 3385, '路段': 3386, '赵王': 3387, '些许': 3388, '两室': 3389, '微波炉': 3390, '吃海鲜': 3391, '上定': 3392, '中央大街': 3393, '字字': 3394, '蚂蚁': 3395, '就够': 3396, '厨师': 3397, '手艺': 3398, '挺快': 3399, '人来人往': 3400, '速': 3401, '断线': 3402, '动物园': 3403, '华天': 3404, '低下': 3405, '只顾': 3406, '没订': 3407, '再订': 3408, '价廉物美': 3409, '名': 3410, '碗': 3411, 'o': 3412, '一行': 3413, '多块': 3414, '以往': 3415, '古镇': 3416, '跟踪': 3417, '一床': 3418, '塑料袋': 3419, '冻死': 3420, '小孩子': 3421, '电影': 3422, '开启': 3423, '书桌': 3424, '停止': 3425, '走米': 3426, '傻子': 3427, '要放': 3428, '吸引力': 3429, '样': 3430, '一座': 3431, '一一': 3432, '送回': 3433, '笑脸相迎': 3434, '连住': 3435, '勿': 3436, '有水': 3437, '正对着': 3438, '太软': 3439, '研究': 3440, '受气': 3441, '主管': 3442, '公平': 3443, '老房子': 3444, '涨': 3445, '相对来说': 3446, '虹桥机场': 3447, '优惠价格': 3448, '拉萨': 3449, '犹豫': 3450, '中心地带': 3451, '轮渡': 3452, '单点': 3453, '网页': 3454, '豪生': 3455, '敏感': 3456, '时问': 3457, '不太会': 3458, '走出': 3459, '没收': 3460, '抗议': 3461, '数字电视': 3462, '池子': 3463, '洗衣服': 3464, '喷': 3465, '洗涤': 3466, '商': 3467, '订票': 3468, '房时': 3469, '要大床': 3470, '先行': 3471, '降': 3472, '食堂': 3473, '睡懒觉': 3474, '刮': 3475, '录像': 3476, '日常': 3477, '破损': 3478, '堂堂': 3479, '优秀': 3480, '弥补': 3481, '找个': 3482, '暖': 3483, '外部': 3484, '一线': 3485, '店方': 3486, '自然风': 3487, '洗衣房': 3488, '学': 3489, '附件': 3490, '礼品': 3491, '不妨': 3492, '人间': 3493, '逛逛': 3494, '皮鞋': 3495, '服务中心': 3496, '居民': 3497, '紧凑': 3498, '空气质量': 3499, '前天': 3500, '旅社': 3501, '略': 3502, '吓死人': 3503, '洒': 3504, '裤子': 3505, '鲜花': 3506, '一去': 3507, '凉快': 3508, '星海': 3509, '歇': 3510, '考察': 3511, '拉客': 3512, '一路': 3513, '部长': 3514, '一分钱': 3515, '名人': 3516, '换掉': 3517, '评语': 3518, '听不懂': 3519, '上放': 3520, '时能': 3521, '变态': 3522, '护照': 3523, '纸巾': 3524, '差些': 3525, '居民区': 3526, '试营业': 3527, '透': 3528, '肩膀': 3529, '园区': 3530, '手册': 3531, '吸': 3532, '是否是': 3533, '三分': 3534, '疏忽': 3535, '喝茶': 3536, '这类': 3537, '快速': 3538, '水要': 3539, '软硬件': 3540, '深感': 3541, '搭理': 3542, '平方米': 3543, '满好': 3544, '会住': 3545, '国宾': 3546, '说不清': 3547, '咸菜': 3548, '珠海': 3549, '整齐': 3550, '丽都': 3551, '尽职': 3552, '凤凰卫视': 3553, '普通话': 3554, '即到': 3555, '缆车': 3556, '长安': 3557, '尽可能': 3558, '大同': 3559, '交代': 3560, '五个': 3561, '好去处': 3562, '续房': 3563, '这方面': 3564, '按键': 3565, '跑上来': 3566, '预先': 3567, '假': 3568, '飞': 3569, '再三': 3570, '成人': 3571, '爱人': 3572, '骨头': 3573, '熨': 3574, '瀑布': 3575, '很潮': 3576, '我住': 3577, '没开': 3578, '留意': 3579, '极低': 3580, '天下': 3581, 'lp': 3582, '室': 3583, '吓了一跳': 3584, '不送': 3585, '喜达屋': 3586, '送达': 3587, '精美': 3588, '传说': 3589, '陈设': 3590, '媲美': 3591, '水质': 3592, '无论如何': 3593, '三条': 3594, '液晶': 3595, '采用': 3596, '稍远': 3597, '害得': 3598, '不全': 3599, '药': 3600, '五点': 3601, '陪': 3602, '老妈': 3603, '安心': 3604, '饮用': 3605, '江西': 3606, '零点': 3607, '两种': 3608, '动手': 3609, '沐浴液': 3610, '服务指南': 3611, '黑暗': 3612, '热得': 3613, '轰鸣': 3614, '证明': 3615, '贵宾': 3616, '大灯': 3617, '不严': 3618, '山景': 3619, '小且': 3620, '渡假': 3621, '尽然': 3622, '菜馆': 3623, '视而不见': 3624, '直至': 3625, '号码': 3626, '较慢': 3627, '解冻': 3628, '花钱': 3629, '字差': 3630, '冻得': 3631, '折': 3632, '享有': 3633, '西溪': 3634, '乐山': 3635, '不明': 3636, '还会来': 3637, '红酒': 3638, '亮点': 3639, '上当受骗': 3640, '夫妻': 3641, '每房': 3642, '金牌': 3643, '石家庄': 3644, '旗下': 3645, '一宿': 3646, '还选': 3647, '太好了': 3648, '避暑': 3649, '门缝': 3650, '天桥': 3651, '展会': 3652, '南宁': 3653, '差远了': 3654, '蓬莱': 3655, '泉州': 3656, '相符': 3657, '轻松': 3658, '化': 3659, '女孩': 3660, '唯独': 3661, '刚进': 3662, '茶几': 3663, '菜肴': 3664, '凯宾斯基': 3665, '先是': 3666, '不解': 3667, '菜色': 3668, '有损': 3669, '处罚': 3670, '延长': 3671, '可笑': 3672, '懒觉': 3673, '气死': 3674, '可不是': 3675, '楼大床': 3676, '拔': 3677, '要加': 3678, '结论': 3679, '注': 3680, '超时': 3681, '广东话': 3682, '高尔夫球场': 3683, '连在一起': 3684, '庄': 3685, '喜好': 3686, '并非': 3687, '天清岛': 3688, '优于': 3689, '远处': 3690, '瓷砖': 3691, '脏脏': 3692, '南湖': 3693, '台灯': 3694, '恶臭': 3695, '减少': 3696, '故障': 3697, '冬季': 3698, '疯': 3699, '标识': 3700, '女友': 3701, '男生': 3702, '水杯': 3703, '主任': 3704, '几张': 3705, '蓝': 3706, '类': 3707, '退回': 3708, '不仅仅': 3709, '文化': 3710, '预约': 3711, '低价': 3712, '长途汽车站': 3713, '目前为止': 3714, '预期': 3715, '宝宝': 3716, '男士': 3717, '两面': 3718, '落地窗': 3719, '二点': 3720, '同价位': 3721, '留给': 3722, '宁波': 3723, '上上下下': 3724, '躲': 3725, '手上': 3726, '标明': 3727, '建造': 3728, '那头': 3729, '多收': 3730, '卧具': 3731, '排': 3732, '鬼': 3733, '酒店设备': 3734, '双人间': 3735, '湖南': 3736, '刺耳': 3737, '５': 3738, '透气': 3739, '小东西': 3740, '原则': 3741, '拉开': 3742, '药品': 3743, '大气': 3744, '干湿': 3745, '附送': 3746, '算不算': 3747, '睡上去': 3748, '人才': 3749, '很破': 3750, '抽屉': 3751, '身处': 3752, '双人床': 3753, '药店': 3754, '红色': 3755, '饮品': 3756, '坐下': 3757, '不低': 3758, '出错': 3759, '明亮': 3760, '怪异': 3761, '廉价': 3762, '尚好': 3763, '擦': 3764, '拜访': 3765, '见面': 3766, '下午茶': 3767, '外包': 3768, '邻': 3769, 'lg': 3770, '一副': 3771, '自助餐厅': 3772, '深深': 3773, '熟': 3774, '沙嘴': 3775, '小红点': 3776, '花费': 3777, '带走': 3778, '半价': 3779, '画': 3780, '供选择': 3781, '非常少': 3782, '何必': 3783, '太乱': 3784, '河南': 3785, '大打折扣': 3786, '段时间': 3787, '七点': 3788, '打牌': 3789, '收银': 3790, '走时': 3791, '残旧': 3792, '怪怪的': 3793, '注重': 3794, '谈': 3795, '腻': 3796, '丹东': 3797, '电脑系统': 3798, '详细': 3799, '城堡': 3800, '挂断': 3801, '不尽人意': 3802, '停水': 3803, '马哥': 3804, '孛': 3805, '罗': 3806, '港湾': 3807, '还贵': 3808, '醒来': 3809, '皮肤': 3810, '加元': 3811, '跟进': 3812, '马路边': 3813, '接下来': 3814, '致以': 3815, '院子': 3816, '国际品牌': 3817, '水单': 3818, '吃饱': 3819, '失误': 3820, '加油': 3821, '最少': 3822, '贵阳': 3823, 'xx': 3824, '传家': 3825, '最低': 3826, '有无': 3827, '来不及': 3828, '联络': 3829, '时有': 3830, '中央': 3831, '小伙子': 3832, '入主': 3833, '溜达': 3834, '包间': 3835, '羽绒服': 3836, '极为': 3837, '未有': 3838, '时代': 3839, '公开': 3840, '权利': 3841, '微笑服务': 3842, '莲蓬头': 3843, '分为': 3844, '间隔': 3845, '卫星电视': 3846, '好看': 3847, '黄黄的': 3848, '去取': 3849, '网管': 3850, '大客车': 3851, '打听': 3852, '电熨斗': 3853, '发脾气': 3854, '朝南': 3855, '抽水马桶': 3856, '仙人掌': 3857, '东': 3858, '当面': 3859, '扣': 3860, '地理环境': 3861, '疗养院': 3862, '蜜月': 3863, '小姑娘': 3864, '身': 3865, '房务': 3866, '河北': 3867, '亲戚': 3868, '巨川': 3869, '佛山': 3870, '大而': 3871, '长宁路': 3872, '门牌': 3873, '工作效率': 3874, '知': 3875, '国家旅游局': 3876, '九江': 3877, '大桥': 3878, '邀请': 3879, '老干部': 3880, '走动': 3881, '房要': 3882, '用心': 3883, '王庙': 3884, '都江堰': 3885, '欣': 3886, '暗暗': 3887, '人会': 3888, '太难': 3889, '小虫子': 3890, '之隔': 3891, '有所改进': 3892, '晾': 3893, '设在': 3894, '一盒': 3895, '不予': 3896, '存放': 3897, '潍坊': 3898, '显': 3899, '核算': 3900, '米床': 3901, '至点': 3902, '单床': 3903, '行李箱': 3904, '下文': 3905, '台阶': 3906, '硬硬': 3907, '章': 3908, '房价格': 3909, '真有': 3910, '文字': 3911, '明示': 3912, '液体': 3913, '夹杂着': 3914, '之极': 3915, '冲澡': 3916, '两套': 3917, '新楼': 3918, '好得多': 3919, '很爽': 3920, '很长': 3921, '罗湖': 3922, '充电': 3923, '房会': 3924, '版纳': 3925, '风机': 3926, '金源': 3927, '有空': 3928, 'ing': 3929, '送上': 3930, '温泉水': 3931, '康年': 3932, '称': 3933, '遭': 3934, '做事': 3935, '大大小小': 3936, '奶粉': 3937, '市内电话': 3938, '第二间': 3939, '房一': 3940, '人理': 3941, '三间房': 3942, '找人': 3943, '改了': 3944, '渗水': 3945, '齐': 3946, '算啦': 3947, '斑斑': 3948, '污水': 3949, '并不大': 3950, '出乎意料': 3951, '稍差': 3952, '单行道': 3953, '解放碑': 3954, '总得来说': 3955, '於': 3956, '自行': 3957, '丁': 3958, '几条': 3959, '发黑': 3960, '趴在': 3961, '具': 3962, '最多星': 3963, '江边': 3964, '一班': 3965, '锦地': 3966, '叫醒': 3967, '点点': 3968, '钟点房': 3969, '行业': 3970, '六个': 3971, '小巴': 3972, '门框': 3973, '可取之处': 3974, '三环': 3975, '这么晚': 3976, '嘴里': 3977, '竣工': 3978, '车费': 3979, '已住': 3980, '特慢': 3981, '保龄球': 3982, '略贵': 3983, '免': 3984, '房顶': 3985, '面盆': 3986, '流': 3987, '懂得': 3988, '喝点': 3989, '一米': 3990, '湿漉漉': 3991, '卖点': 3992, '一幢': 3993, '决不会': 3994, '超贵': 3995, '高分': 3996, '午夜': 3997, '伞': 3998, '笔记本电脑': 3999, '乐意': 4000, '华君': 4001, '商户': 4002, '额度': 4003, '结': 4004, '讹诈': 4005, '庆幸': 4006, '破烂不堪': 4007, '笔': 4008, '后经': 4009, '□': 4010, '喧嚣': 4011, '呼吸': 4012, '三层': 4013, '占地': 4014, '不加': 4015, '大幅': 4016, '鞋': 4017, '小商品': 4018, '特大': 4019, '赏': 4020, '演奏': 4021, '俄式': 4022, '专用': 4023, '有线电视': 4024, '非要': 4025, '不敢相信': 4026, '电热水器': 4027, '主干道': 4028, '有问必答': 4029, '烂尾楼': 4030, '空旷': 4031, '冲凉': 4032, '床边': 4033, '男人': 4034, '夜市': 4035, '叫声': 4036, '升至': 4037, '晒': 4038, '呈': 4039, '大峡谷': 4040, '蒸': 4041, '小妹': 4042, '请勿打扰': 4043, '数次': 4044, '员工素质': 4045, '鸡饭': 4046, '果汁': 4047, '热忱': 4048, '责成': 4049, '定时': 4050, '优美': 4051, '总的来讲': 4052, '白眼': 4053, '帮着': 4054, '昨天晚上': 4055, '冻醒': 4056, '电热水壶': 4057, '片': 4058, '惨': 4059, '加热': 4060, '温': 4061, '香蕉': 4062, '看样子': 4063, '新月': 4064, '快要': 4065, '酸奶': 4066, '干燥': 4067, '眼泪': 4068, '刚住': 4069, '文具': 4070, '头疼': 4071, '喝酒': 4072, '头痛': 4073, '人管': 4074, '知名度': 4075, '显示器': 4076, '键盘': 4077, '说出': 4078, '社会': 4079, '吃喝': 4080, '功课': 4081, '防火': 4082, '屏幕': 4083, '此笔': 4084, '冤枉': 4085, '恢复': 4086, 'vpn': 4087, '拨号上网': 4088, '将来': 4089, '不下': 4090, '查找': 4091, '没去': 4092, '陪同': 4093, '高档': 4094, '西楼': 4095, '打麻将': 4096, '太坏': 4097, '城里': 4098, '穿衣服': 4099, '弄脏': 4100, '还收': 4101, '难以想象': 4102, '确是': 4103, '湖州': 4104, '过节': 4105, '才定': 4106, '我加': 4107, '糖酒会': 4108, '升级成': 4109, '做个': 4110, '急忙': 4111, '三晚': 4112, '里头': 4113, '那栋': 4114, '下才': 4115, '万象': 4116, '无意': 4117, '一赞': 4118, '但此': 4119, '美容美发': 4120, '下不去': 4121, '一桌': 4122, '中天': 4123, '回国': 4124, '掩盖': 4125, '来自': 4126, '大润发': 4127, '没完': 4128, '遵守': 4129, '焕然一新': 4130, '儿': 4131, '九': 4132, '有愧': 4133, '够星': 4134, '我晕': 4135, '实地考察': 4136, '下旬': 4137, '大致': 4138, '看法': 4139, '住户': 4140, '厨具': 4141, '要强': 4142, '有米': 4143, '大排挡': 4144, '中要': 4145, '自贡': 4146, '正赶上': 4147, '领教': 4148, '雪': 4149, '很窄': 4150, '硌': 4151, '西单': 4152, '交钱': 4153, '人声': 4154, '班机': 4155, '赶不上': 4156, '旧有': 4157, '不及': 4158, '邢台': 4159, '发达': 4160, '扰人': 4161, '森桦苑': 4162, '信心': 4163, '一阵子': 4164, '人订': 4165, '两件': 4166, '窗边': 4167, '虹桥': 4168, '凡是': 4169, '三角形': 4170, '想起': 4171, '用于': 4172, '冷热': 4173, '封': 4174, '极力': 4175, '坑': 4176, '阳江': 4177, '流畅': 4178, '油条': 4179, '虽小': 4180, '百货': 4181, '充足': 4182, '后半夜': 4183, '十五分钟': 4184, '消停': 4185, '一对': 4186, '连门': 4187, '大箱子': 4188, '差到': 4189, '遥控': 4190, '可取': 4191, '捡': 4192, '世茂': 4193, '皇家': 4194, '一再': 4195, '南京路': 4196, '从楼': 4197, 'l': 4198, '浪费时间': 4199, '难免': 4200, '屏风': 4201, '能源': 4202, '三思': 4203, '高出': 4204, '两间房': 4205, '黑心': 4206, '一项': 4207, '没得': 4208, '最多值': 4209, '强迫': 4210, '可乐': 4211, '国营企业': 4212, '端上来': 4213, 'ｃ': 4214, 'ｒ': 4215, 'ｉ': 4216, 'ｐ': 4217, '前住': 4218, '望出去': 4219, '鼓浪屿': 4220, '中山路': 4221, '邮件': 4222, '评点': 4223, '水声': 4224, '结婚': 4225, '生日': 4226, '水流': 4227, '搬到': 4228, '几句': 4229, '标榜': 4230, '洁具': 4231, '真让人': 4232, '放水': 4233, '淄博': 4234, '签订': 4235, '商业街': 4236, '句': 4237, '二手': 4238, '人口': 4239, '德州': 4240, '煎蛋': 4241, '因素': 4242, '多条': 4243, '价值': 4244, '为您服务': 4245, '住此': 4246, '把门': 4247, '道理': 4248, '国航': 4249, '下雪': 4250, '中途': 4251, '身体': 4252, '心目': 4253, '大跌眼镜': 4254, '拧': 4255, '拦': 4256, '没错': 4257, '收盘': 4258, '山下': 4259, '路灯': 4260, '夜床': 4261, '单早': 4262, '不动': 4263, '不至于': 4264, '真想': 4265, '酒店设计': 4266, '酒店式': 4267, '从进': 4268, '清除': 4269, '受罪': 4270, '掉线': 4271, '远点': 4272, '没人住': 4273, '改装': 4274, '第一印象': 4275, '流程': 4276, '前卫': 4277, '尽量避免': 4278, '不慎': 4279, '配件': 4280, '接收': 4281, '家中': 4282, '标有': 4283, '花生米': 4284, '甚远': 4285, '小到': 4286, '试问': 4287, '很久': 4288, '太平洋': 4289, '台盆': 4290, 'ms': 4291, '玻璃窗': 4292, '宽广': 4293, '新悦': 4294, '东胜': 4295, '同学': 4296, '盛开': 4297, '人性': 4298, '愿': 4299, '祝福': 4300, '逃跑': 4301, '要订': 4302, '线板': 4303, '全力': 4304, '低于': 4305, '平均': 4306, '对账': 4307, '补上': 4308, '保险箱': 4309, '栈桥': 4310, '泛海': 4311, '前一晚': 4312, '迪士尼': 4313, '转到': 4314, '这条': 4315, '黄浦江': 4316, '公交车站': 4317, '木屋': 4318, '户外': 4319, '哪家': 4320, '黑灯瞎火': 4321, '高性价比': 4322, '压力': 4323, '洗发液': 4324, '吸尘器': 4325, '风口': 4326, '在度': 4327, '想评': 4328, '选错': 4329, '选项': 4330, '放置': 4331, '引来': 4332, '至多': 4333, '散落': 4334, '没事': 4335, '一气之下': 4336, '团体': 4337, '开房间': 4338, '宁静': 4339, '眼光': 4340, '完美': 4341, '李': 4342, '车到': 4343, '当成': 4344, '农家': 4345, '四间': 4346, '傲慢': 4347, '娱乐场所': 4348, '不耐烦': 4349, '技能': 4350, '简约': 4351, '迎接': 4352, '尝尝': 4353, '段': 4354, '元人': 4355, '金钟': 4356, 'sogo': 4357, '骆克道': 4358, 'd': 4359, '食店': 4360, '表演': 4361, '下山': 4362, '票价': 4363, '鼻子': 4364, '何在': 4365, '歧视': 4366, '合算': 4367, '接待处': 4368, '居多': 4369, '待客': 4370, '人士': 4371, '客满': 4372, '几步': 4373, '老兄': 4374, '经济性': 4375, '游泳馆': 4376, '扬州': 4377, '刺激': 4378, '褒奖': 4379, '对客': 4380, '脾气': 4381, '行礼': 4382, '机关': 4383, '巷子': 4384, '潮气': 4385, '车水马龙': 4386, '汽笛声': 4387, '清晨': 4388, '熨斗': 4389, '衬衫': 4390, '交给': 4391, '犹如': 4392, '对照': 4393, '一清二楚': 4394, '吸水': 4395, '红烧': 4396, '电脑房': 4397, '穿梭': 4398, '栽赃': 4399, '开封': 4400, '无数': 4401, '从不': 4402, '访客': 4403, '硬说是': 4404, '一栋': 4405, '靠山': 4406, '五楼': 4407, '怕怕': 4408, '峨嵋': 4409, '逃': 4410, '元位': 4411, '包早': 4412, '吃不完': 4413, '淋浴器': 4414, '好大': 4415, '地去': 4416, '礼物': 4417, '三位': 4418, '晕菜': 4419, '初四': 4420, '认同': 4421, '来得': 4422, '吹风': 4423, '深更半夜': 4424, 'a座': 4425, '朝北': 4426, '一刻': 4427, '胃口': 4428, '碰': 4429, '下楼去': 4430, '熬': 4431, '索': 4432, '头上': 4433, '洗发水': 4434, '受潮': 4435, '毛毯': 4436, '传': 4437, '废话': 4438, '光纤': 4439, '落': 4440, '解决方案': 4441, '矿泉水瓶': 4442, '低级': 4443, '西': 4444, '最长': 4445, '空地': 4446, '很凉': 4447, '新区': 4448, '城区': 4449, '灰': 4450, '足以': 4451, '物': 4452, '实地': 4453, '电热毯': 4454, '一室': 4455, '建议您': 4456, '这项': 4457, '星星': 4458, '浪漫': 4459, '小资': 4460, '耳边': 4461, '卷帘': 4462, '遮挡': 4463, '此店': 4464, '衣物': 4465, '全天': 4466, '烹饪': 4467, '一听': 4468, '桥': 4469, '美食街': 4470, '银联': 4471, '马上会': 4472, '旅游者': 4473, '着急': 4474, '诧异': 4475, '就定': 4476, '小楼': 4477, '鼾声': 4478, '赣州': 4479, '出品': 4480, '按金': 4481, '单元': 4482, '这回': 4483, '单上': 4484, '脚垫': 4485, '一段距离': 4486, '席梦思': 4487, '褥子': 4488, '游船': 4489, '折扣': 4490, '设有': 4491, '不悦': 4492, '优惠政策': 4493, '船票': 4494, '山林': 4495, '古老': 4496, '不洁': 4497, '过敏': 4498, '白金': 4499, '外部环境': 4500, '土鸡': 4501, '抵': 4502, '商家': 4503, '患': 4504, '扫兴': 4505, '恭维': 4506, '无敌': 4507, '露出': 4508, '游泳衣': 4509, '遗漏': 4510, '相比之下': 4511, '有求必应': 4512, '花瓣': 4513, '远大': 4514, '好听': 4515, '赞赏': 4516, '江阴': 4517, '糊弄': 4518, '太棒了': 4519, '国道': 4520, '托': 4521, 'hkd': 4522, 'f': 4523, '居民楼': 4524, '挡住': 4525, '放不下': 4526, '扣钱': 4527, '借口': 4528, '梳子': 4529, '香皂': 4530, '风情': 4531, '颗星': 4532, '鸡': 4533, '正式': 4534, '亮': 4535, '愣': 4536, '干什么': 4537, '拆迁': 4538, '插队': 4539, '旅游区': 4540, '饼干': 4541, '家乐福': 4542, '绿地': 4543, '五一广场': 4544, '包车': 4545, '居家': 4546, '女性': 4547, '死活': 4548, '美林': 4549, '茶壶': 4550, '主题': 4551, '怪不得': 4552, '人多': 4553, '台球': 4554, '奇怪的是': 4555, '济宁': 4556, '最佳': 4557, '国产': 4558, '间房': 4559, '称号': 4560, '餐牌': 4561, '不安': 4562, '度过': 4563, '尽兴': 4564, '赞许': 4565, '料理': 4566, '不谈': 4567, '市内': 4568, '届时': 4569, '清凉': 4570, '海口': 4571, '例外': 4572, '秦皇岛': 4573, '龙门石窟': 4574, '打扮': 4575, '猜': 4576, '考': 4577, '醒': 4578, '不算什么': 4579, '信封': 4580, '六': 4581, '挂星': 4582, '报修': 4583, '角房': 4584, 'tnnd': 4585, '草坪': 4586, '快到': 4587, '感情': 4588, '接触不良': 4589, '恐龙': 4590, '园': 4591, '油': 4592, '湖水': 4593, '水上': 4594, '湖面': 4595, '不相上下': 4596, '不巧': 4597, '分配': 4598, '车票': 4599, '软料': 4600, '不易': 4601, '理会': 4602, '唯有': 4603, '传真机': 4604, '只能靠': 4605, '火柴': 4606, '家乡': 4607, '场': 4608, '极少': 4609, '数码': 4610, '周全': 4611, '狡辩': 4612, '鞍山': 4613, '晕死': 4614, '标的': 4615, '高标': 4616, '鲜明': 4617, '消失': 4618, '每层': 4619, '根本无法': 4620, '发表': 4621, '咋样': 4622, '猫': 4623, '换过': 4624, '无话可说': 4625, '超赞': 4626, '临走': 4627, '试': 4628, '不象话': 4629, '搞不好': 4630, '说会': 4631, '中信': 4632, '贵宾卡': 4633, '这辈子': 4634, 'hotel': 4635, '起价': 4636, '点餐': 4637, '后边': 4638, '有意': 4639, '第一家': 4640, '一部分': 4641, '花样': 4642, '坟场': 4643, '备有': 4644, '边缘': 4645, '玫瑰': 4646, '雾都': 4647, '方法': 4648, '多久': 4649, '职业道德': 4650, '可言': 4651, '言语': 4652, '没能': 4653, '河西': 4654, '转弯': 4655, '心态': 4656, '旅行团': 4657, '太久': 4658, '摄氏度': 4659, '街口': 4660, '陈': 4661, '酒家': 4662, '无关': 4663, '正对面': 4664, '常': 4665, '各类': 4666, '别墅区': 4667, '第一句': 4668, '女子': 4669, '公正': 4670, '赔钱': 4671, '倒霉': 4672, '多加': 4673, '多处': 4674, '吵死': 4675, '小屋': 4676, '分量': 4677, '个头': 4678, '一辆': 4679, '吃个': 4680, '工作失误': 4681, '必': 4682, '６': 4683, '款式': 4684, '占地面积': 4685, '体面': 4686, '很足': 4687, '痒': 4688, '水土不服': 4689, '无视': 4690, '因要': 4691, '足浴': 4692, '文明': 4693, '无动于衷': 4694, '境外': 4695, '打表': 4696, '姓': 4697, '常客': 4698, '带上': 4699, '周遍': 4700, '鼓楼': 4701, '半左右': 4702, '自费': 4703, '刷预': 4704, '震': 4705, '超小': 4706, '就此': 4707, '烟道': 4708, '生手': 4709, '连通': 4710, '退款': 4711, '找钱': 4712, '轰鸣声': 4713, '还来': 4714, '三间': 4715, '十个': 4716, '顺畅': 4717, '敢喝': 4718, '物价': 4719, '远眺': 4720, '沿途': 4721, '木质': 4722, '我刚': 4723, '匆匆': 4724, '日晚': 4725, '幸运': 4726, '费劲': 4727, '席梦思床': 4728, '鲍翅馆': 4729, '哭': 4730, '总体而言': 4731, '号房': 4732, '辛苦': 4733, '全程': 4734, '疯狂': 4735, '品位': 4736, '妈': 4737, '用车': 4738, '大雨': 4739, '零星': 4740, '签名': 4741, '洗衣费': 4742, '园景': 4743, '舒适度': 4744, '大雪': 4745, '热死': 4746, '名气': 4747, '定位': 4748, '鸡肉': 4749, '堵车': 4750, '成交': 4751, '一事': 4752, '高楼': 4753, '院内': 4754, '正确': 4755, '戴': 4756, '套票': 4757, '床房': 4758, '捂着': 4759, '拎包': 4760, '本子': 4761, '浓': 4762, '检查一下': 4763, '一口咬定': 4764, '悦华': 4765, '窗房': 4766, '一开': 4767, '美金': 4768, '相当于': 4769, '日前': 4770, '提取': 4771, '搬运': 4772, '问问': 4773, '心': 4774, '晦涩': 4775, '酒点': 4776, '折价': 4777, '高价': 4778, '幅': 4779, '特脏': 4780, 'ip地址': 4781, '耍': 4782, '说真的': 4783, '菲律宾': 4784, '震惊': 4785, '木头': 4786, '踹': 4787, '莫名': 4788, '桶装水': 4789, '意见反馈': 4790, '年底': 4791, '客史': 4792, '十多分钟': 4793, '时段': 4794, '延后': 4795, '情绪': 4796, '解决办法': 4797, '电风扇': 4798, '佣金': 4799, '置之不理': 4800, '上桌': 4801, '进不去': 4802, '解除': 4803, '床具': 4804, '湛江': 4805, '十分满意': 4806, '非得': 4807, '赶早': 4808, '找回': 4809, 'ｏ': 4810, '向来': 4811, '中国银行': 4812, '王府井': 4813, '最初': 4814, '宁夏': 4815, '机顶盒': 4816, '楼里': 4817, '密封': 4818, '池': 4819, '打搅': 4820, '牛肉': 4821, '满是': 4822, '一步': 4823, '没洗': 4824, '木楼': 4825, '航空': 4826, '中心地段': 4827, '普标': 4828, '酶': 4829, '迫不得已': 4830, '同一个': 4831, '都还没': 4832, '房钱': 4833, '幽雅': 4834, '不时': 4835, '电器': 4836, '寰岛': 4837, '眼界': 4838, '用来': 4839, '争': 4840, '中年男人': 4841, '壁纸': 4842, '看中': 4843, '蔽龙阁': 4844, '分享': 4845, '难怪': 4846, '苏': 4847, '一幅': 4848, '通': 4849, '口感': 4850, '首次': 4851, '大便': 4852, '河': 4853, '价是': 4854, '大石桥': 4855, '墙角': 4856, '打印机': 4857, '报价': 4858, '新疆': 4859, '程序': 4860, '南面': 4861, '直': 4862, '长城': 4863, '忙碌': 4864, '洗头': 4865, '很闷': 4866, '十字路口': 4867, '不必': 4868, '吃过饭': 4869, '业主': 4870, '收回': 4871, '危险': 4872, '执行': 4873, '总统套房': 4874, '评级': 4875, '成旧': 4876, '萧条': 4877, '往前': 4878, '住处': 4879, '岂': 4880, '忠告': 4881, '亲和力': 4882, '费元': 4883, '好玩': 4884, '软硬': 4885, '挨冻': 4886, '倒闭': 4887, '稍贵': 4888, '明细': 4889, '一排': 4890, '用不上': 4891, '四份': 4892, '脏乱': 4893, '公民': 4894, '出言不逊': 4895, '人格': 4896, '指责': 4897, '紧急': 4898, '零距离': 4899, '渍': 4900, '美仑': 4901, '美味': 4902, '卫星': 4903, '拜托': 4904, '对准': 4905, '马桶盖': 4906, '不灵': 4907, '换间': 4908, '忍无可忍': 4909, '热醒': 4910, '浑身': 4911, '玩意': 4912, '愚弄': 4913, '声称': 4914, '整夜': 4915, '凯悦': 4916, '金城': 4917, '隐私': 4918, '按时': 4919, '九华山': 4920, '收银台': 4921, '手里': 4922, '讲话': 4923, '孔雀': 4924, '略微': 4925, '厚道': 4926, '现': 4927, '此处': 4928, '风范': 4929, '正对': 4930, '宽带接入': 4931, '关了': 4932, '记不清': 4933, '捅': 4934, '醒目': 4935, '俱乐部': 4936, '铺设': 4937, '难得一见': 4938, '一倍': 4939, '讲究': 4940, '屯溪': 4941, '烤': 4942, '面孔': 4943, '格调': 4944, '年轻人': 4945, '肥皂': 4946, '途中': 4947, '拼命': 4948, '提早': 4949, '要选': 4950, '佛珠': 4951, '当班': 4952, '旅行者': 4953, '避孕套': 4954, '女朋友': 4955, '电视信号': 4956, '场景': 4957, '偷': 4958, '挺好吃': 4959, '心想': 4960, '一场': 4961, '也就是说': 4962, '智商': 4963, '三家': 4964, '湖边': 4965, '材料': 4966, '脑袋': 4967, '放进': 4968, '溪口': 4969, '拉肚子': 4970, '枕': 4971, '来换': 4972, '今日': 4973, '气得': 4974, '男子': 4975, '素斋': 4976, '荤菜': 4977, '一肚子气': 4978, '欧美': 4979, '称为': 4980, '邻近': 4981, '黄金': 4982, '京': 4983, '饮水机': 4984, '保定': 4985, '清新剂': 4986, '半山': 4987, '感应': 4988, '两只': 4989, '右手': 4990, '拦到': 4991, '偏低': 4992, '半夜三更': 4993, '项链': 4994, '坐地': 4995, '连星': 4996, '到极点': 4997, '负': 4998, '颁发': 4999, '这事': 5000, '腔调': 5001, '下属': 5002, '总府': 5003, '携': 5004, '垫子': 5005, '一台': 5006, '第二个': 5007, '米饭': 5008, '大片': 5009, '练习场': 5010, '疑问': 5011, '比赛': 5012, '此家': 5013, 'iptv': 5014, '撕': 5015, '奢华': 5016, '解答': 5017, '旅': 5018, '汽水': 5019, '抬起': 5020, '搪塞': 5021, '潘先生': 5022, '填写': 5023, '家住': 5024, '讯息': 5025, '赔元': 5026, '客': 5027, '放弃': 5028, '侧面': 5029, '碧海': 5030, '蓝天': 5031, '母亲': 5032, '去试': 5033, '熏': 5034, '复印': 5035, '改名': 5036, '短讯': 5037, '这元': 5038, '蓝色': 5039, '专车接送': 5040, '较远': 5041, '致歉': 5042, '高原': 5043, '风筝': 5044, '生锈': 5045, '差多': 5046, 'k': 5047, '中福': 5048, '五洲': 5049, '邻居': 5050, '随即': 5051, '中银': 5052, '饮茶': 5053, '食饭': 5054, '机能': 5055, '心有余悸': 5056, '天黑': 5057, '指示牌': 5058, '兜': 5059, '国际展览中心': 5060, '太湖': 5061, '村': 5062, '后不着店': 5063, '台风': 5064, '恒温': 5065, '视频': 5066, '凳子': 5067, '来个': 5068, '两房一厅': 5069, '端午节': 5070, '厕': 5071, '君怡': 5072, '贵点': 5073, '没差': 5074, '步': 5075, '远方': 5076, '礼遇': 5077, '二晚': 5078, '层面': 5079, '俗气': 5080, '美爵': 5081, '部队': 5082, '百思不得其解': 5083, '降格': 5084, '保存': 5085, '所称': 5086, '逻辑': 5087, '延伸': 5088, '床柜': 5089, '之行': 5090, '印记': 5091, '每分钟': 5092, '会儿': 5093, '老是': 5094, '老楼': 5095, '植物园': 5096, '边去': 5097, '卸货': 5098, '倒车': 5099, '该家': 5100, '楼离': 5101, '宝晖': 5102, '内在': 5103, '柜': 5104, '挪开': 5105, '箱包': 5106, '架': 5107, '藏': 5108, '盒': 5109, '一团': 5110, '借鉴': 5111, '冰块': 5112, '幸福': 5113, 'chekin': 5114, '天然': 5115, '再定': 5116, '明码标价': 5117, '骗子': 5118, '如能': 5119, '盒装': 5120, '玺': 5121, '没电': 5122, '用力': 5123, '哪间': 5124, '担忧': 5125, '海河': 5126, '平原': 5127, '疑惑': 5128, '韩式': 5129, '点路': 5130, '断网': 5131, '撒': 5132, '苞': 5133, '可要': 5134, '叭': 5135, '镑': 5136, '搂': 5137, '一百多元': 5138, '磨沙': 5139, '部份': 5140, '小桌子': 5141, '小柜子': 5142, '一本': 5143, '那本': 5144, '会客': 5145, '奇小': 5146, '开个': 5147, '超烂': 5148, '灯罩': 5149, '洲': 5150, '巨型': 5151, '蜘蛛': 5152, '新修': 5153, '拖拉': 5154, '提点': 5155, '口气': 5156, '要交': 5157, '问能': 5158, '先给': 5159, '火冒三丈': 5160, '尽管如此': 5161, '虚心接受': 5162, '此种': 5163, '糊涂': 5164, '吃水果': 5165, '地铁口': 5166, '电车': 5167, '滥': 5168, '接线生': 5169, '大有': 5170, '盐城': 5171, '四天': 5172, '上街': 5173, '美庐': 5174, '海天': 5175, '语气': 5176, '叼': 5177, '好会': 5178, '房感': 5179, '施舍': 5180, '住楼': 5181, '男朋友': 5182, '把头': 5183, '请问': 5184, '领到': 5185, '开裂': 5186, '排风扇': 5187, '陷阱': 5188, '定义': 5189, '有味': 5190, '凉爽': 5191, '风吹': 5192, '合约': 5193, '名义': 5194, '施工单位': 5195, '旧房': 5196, '楼面': 5197, '江': 5198, '面江': 5199, '换乘': 5200, '雨': 5201, '道谢': 5202, '笑话': 5203, '万不得已': 5204, '现代化': 5205, '诬陷': 5206, '贵重': 5207, '言论': 5208, '大半': 5209, '乱哄哄': 5210, '海外': 5211, '足足有': 5212, '跺': 5213, '丿': 5214, '泥土': 5215, '贵元': 5216, '有条': 5217, '溪水': 5218, '定下': 5219, '浏览': 5220, '店内': 5221, '社区': 5222, '宜人': 5223, '河流': 5224, '躲避': 5225, '独享': 5226, '整幢': 5227, '客流': 5228, '冷清': 5229, '薄弱': 5230, '爽快': 5231, '健康': 5232, '呆滞': 5233, '悬挂': 5234, '条幅': 5235, '保洁': 5236, '各种各样': 5237, '亟待': 5238, '高雅': 5239, '满目': 5240, '极小': 5241, '人员配备': 5242, '免费听': 5243, '包厢': 5244, '一首': 5245, '现实': 5246, '涮': 5247, '瓦西里': 5248, '酒馆': 5249, '多住': 5250, '海水浴场': 5251, '给钱': 5252, '挣钱': 5253, '提心吊胆': 5254, '十全街': 5255, '园林': 5256, '诗词': 5257, '不差': 5258, '前身': 5259, '内用': 5260, '坚称': 5261, '横店': 5262, '鸟': 5263, '鸟叫': 5264, '订到': 5265, '先前': 5266, '平安': 5267, '府': 5268, '抬': 5269, '高度': 5270, '短消息': 5271, '没查': 5272, '通话': 5273, '悲哀': 5274, '天滩': 5275, '镇': 5276, '素养': 5277, '莫明': 5278, '节省时间': 5279, '应对': 5280, '字样': 5281, '合肥': 5282, '差能': 5283, '其名': 5284, '之感': 5285, '笼头': 5286, '意想不到': 5287, '午睡': 5288, '兰花': 5289, '尽收眼底': 5290, '正宗': 5291, '香味': 5292, '弥猴桃': 5293, '汁': 5294, '掺': 5295, '钢琴': 5296, '人事': 5297, '饱': 5298, '交了': 5299, '星是': 5300, '乱糟糟': 5301, '关照': 5302, '跟上': 5303, '期': 5304, '评星': 5305, '赶走': 5306, '营养': 5307, '天后': 5308, '坐车去': 5309, '公厕': 5310, '晚起': 5311, '怕热': 5312, 'tmd': 5313, '空荡荡': 5314, '回头客': 5315, '三轮车': 5316, '几公里': 5317, '鄂尔多斯': 5318, '常备': 5319, '可恨': 5320, '送票': 5321, '高住': 5322, '可人': 5323, '后海': 5324, '酒吧街': 5325, '签定': 5326, '未来': 5327, '展馆': 5328, '角度看': 5329, '下咽': 5330, '应急灯': 5331, '奇妙': 5332, '视频点播': 5333, '手提电脑': 5334, '应急': 5335, '电脑自动': 5336, '记费': 5337, '影片': 5338, '免掉': 5339, '难能可贵': 5340, '头脑': 5341, '租车': 5342, '杀价': 5343, '贪便宜': 5344, '没话说': 5345, '关不紧': 5346, '摄像头': 5347, '调节器': 5348, '十天': 5349, '底层': 5350, '金山寺': 5351, '喧闹': 5352, '好意思': 5353, '换换': 5354, '广交会': 5355, '代金券': 5356, '富盈': 5357, '正月初': 5358, '满街': 5359, '朗豪坊': 5360, '住惯': 5361, '转不开身': 5362, '睡一觉': 5363, '区内': 5364, '不幸': 5365, '多得是': 5366, '标志性': 5367, '三四个': 5368, '特地': 5369, '去订': 5370, '杀': 5371, '但离': 5372, '厕纸': 5373, '理直气壮': 5374, '给出': 5375, '奇痒': 5376, '难忍': 5377, '蛮高': 5378, '专卖店': 5379, '憋屈': 5380, '很赞': 5381, 'star': 5382, '春熙路': 5383, '搜索': 5384, '度假型': 5385, '小家子气': 5386, '先交': 5387, '太子': 5388, '日日': 5389, '超爽': 5390, '个案': 5391, '碍眼': 5392, '看不清': 5393, '换来': 5394, '涉外': 5395, '财务人员': 5396, '价高': 5397, '差有': 5398, '航站楼': 5399, '整体素质': 5400, '之名': 5401, '恰好': 5402, '解放': 5403, '中路': 5404, '交界处': 5405, '一拐': 5406, '弥漫': 5407, '一阵': 5408, '营业时间': 5409, '久远': 5410, '破败': 5411, '桌': 5412, '搞不清': 5413, '转机': 5414, '下着雨': 5415, '锁起来': 5416, '两瓶': 5417, '竖': 5418, '翻': 5419, '服用': 5420, '吉林市': 5421, '送上来': 5422, '特好': 5423, '弧度': 5424, '住层': 5425, '电钻': 5426, '创造': 5427, '本市': 5428, '热诚': 5429, '一壶': 5430, '此项': 5431, '用点': 5432, '施': 5433, '房台': 5434, '充': 5435, '供餐': 5436, '很饱': 5437, '龙门': 5438, '国际饭店': 5439, '不大有': 5440, '十一点': 5441, '草原': 5442, '泛黄': 5443, '两台': 5444, '锅具': 5445, '万事达': 5446, '嘉莱': 5447, '床有': 5448, '买点': 5449, '煮': 5450, '拽': 5451, '做得好': 5452, '敞开': 5453, '浅水湾': 5454, '汇东': 5455, '松花江': 5456, '临河': 5457, '唱歌': 5458, '无故': 5459, '停用': 5460, '业余': 5461, '荣幸': 5462, '过多': 5463, '坏掉': 5464, '没用到': 5465, '大开': 5466, '呼呼大睡': 5467, '连锁店': 5468, '呼和浩特': 5469, '羊肉': 5470, '可口可乐': 5471, '碧': 5472, '四口': 5473, '轻易': 5474, '摸': 5475, '钢丝': 5476, '够用': 5477, '劲': 5478, '挂出去': 5479, '铁定': 5480, '西直门': 5481, '什刹海': 5482, '无法形容': 5483, '下定': 5484, '转车': 5485, '安宁': 5486, '再搬': 5487, '＃': 5488, '随发': 5489, '七点钟': 5490, '退掉': 5491, '四方街': 5492, '糕点': 5493, '超卖': 5494, '推委': 5495, '淡': 5496, '多点': 5497, '风味': 5498, '首屈一指': 5499, '出乎': 5500, '尚算': 5501, '呆板': 5502, '僵硬': 5503, '份量': 5504, '花卷': 5505, '正餐': 5506, '走到': 5507, '做生意': 5508, '被罩': 5509, '袋子': 5510, '慢慢': 5511, '划不来': 5512, '致命': 5513, '虚假': 5514, '强劲': 5515, '说来': 5516, '后院': 5517, '划伤': 5518, '开平': 5519, '忍耐': 5520, '年龄': 5521, '应有尽有': 5522, '封闭': 5523, '三部': 5524, '上床': 5525, '晚住': 5526, '情人': 5527, '忐忑不安': 5528, '主人': 5529, '左传': 5530, '聋子': 5531, '连云港': 5532, '尿': 5533, '房在楼': 5534, '人意': 5535, '滑稽': 5536, '匹配': 5537, '常年': 5538, '整天': 5539, '着手': 5540, '煮食': 5541, '房小得': 5542, '配制': 5543, '艾美': 5544, '烦人': 5545, '政策': 5546, '坐落': 5547, '须': 5548, '转乘': 5549, '全身': 5550, '痛': 5551, '后来者': 5552, '现场': 5553, '变更': 5554, '老几': 5555, '忠实': 5556, '一经': 5557, '规则': 5558, '咖啡馆': 5559, '附带': 5560, '大窗': 5561, '加以改进': 5562, '翻修': 5563, '跟着': 5564, 'adsl': 5565, '拨号': 5566, '来时': 5567, '需元': 5568, '客堂': 5569, '形式': 5570, '绮': 5571, '望楼': 5572, '惊人': 5573, '静': 5574, '回馈': 5575, '舍不得': 5576, '租给': 5577, '低温': 5578, '花哨': 5579, '点有': 5580, '两层': 5581, '轻轨': 5582, '阶段': 5583, '凯宾': 5584, '吃住行': 5585, '与非': 5586, '意义': 5587, '配不上': 5588, '软床': 5589, '别以为': 5590, '算好': 5591, '副经理': 5592, '定去': 5593, '太安静': 5594, '所订': 5595, '人修': 5596, '听过': 5597, '传统': 5598, '不吸': 5599, '吸者': 5600, '有服': 5601, '抽': 5602, '人成': 5603, '受害者': 5604, '中民': 5605, '民自好': 5606, '扒鸡': 5607, '就别': 5608, '口罩': 5609, '重点': 5610, '布草': 5611, '一客': 5612, '追究': 5613, '物价局': 5614, '太原市': 5615, '设法': 5616, '竭诚': 5617, '取出': 5618, '不妥': 5619, '青青': 5620, '博会': 5621, '做人': 5622, '共享': 5623, '好订': 5624, '种种': 5625, '湘泉': 5626, '算作': 5627, '照顾': 5628, '感激': 5629, '出长': 5630, '不以为然': 5631, '非常高兴': 5632, '僮': 5633, '低点': 5634, '橙汁': 5635, '比较忙': 5636, '差错': 5637, '承担': 5638, '接待客人': 5639, '不难': 5640, '差是': 5641, '从未见过': 5642, '凶': 5643, '正上方': 5644, '想定': 5645, '晋祠': 5646, '没发': 5647, '出门时': 5648, '被告': 5649, '酒巴': 5650, '只订': 5651, '长江': 5652, '擦不掉': 5653, '风量': 5654, '弱': 5655, '一封': 5656, '团': 5657, '筷子': 5658, '餐盘': 5659, '墨西哥': 5660, '够得上': 5661, '亏': 5662, '冷死': 5663, '延吉': 5664, '民俗': 5665, '外景': 5666, '桑拿浴': 5667, '仪征': 5668, '奇': 5669, '喷出来': 5670, '居': 5671, '玩天': 5672, '混杂': 5673, '该楼': 5674, '一扇': 5675, '过滤': 5676, '没吃过': 5677, '还算快': 5678, '手段': 5679, '傻傻的': 5680, '放个': 5681, '说道': 5682, '善意': 5683, '入口处': 5684, '辨认': 5685, '带路': 5686, '人影': 5687, '如潮': 5688, '浩海': 5689, '时冷时热': 5690, '油污': 5691, '洗漱间': 5692, '桶': 5693, '豁口': 5694, '南到': 5695, '拉生意': 5696, '那次': 5697, '找不出': 5698, '一碟': 5699, '走过': 5700, '相提并论': 5701, '隶属': 5702, '扑鼻而来': 5703, '城中': 5704, '制度': 5705, '加盖': 5706, '盖章': 5707, '年限': 5708, '最早': 5709, '过时': 5710, '这到': 5711, '招聘': 5712, '罢工': 5713, '舒心': 5714, '金沙': 5715, '安康': 5716, '人生': 5717, '那张': 5718, '浓浓的': 5719, '伴': 5720, '一百元': 5721, '一天到晚': 5722, '一应俱全': 5723, '误': 5724, '西部': 5725, '迎来': 5726, 'money': 5727, '无能为力': 5728, '渡假村': 5729, '讹人': 5730, '开过': 5731, '钟头': 5732, '从头到尾': 5733, '过期': 5734, '起泡': 5735, '消防队': 5736, '会员价': 5737, '我交': 5738, 's': 5739, 'minibar': 5740, '隐蔽': 5741, '角落里': 5742, '接口': 5743, '宽大': 5744, '常用': 5745, '怀念': 5746, '高额': 5747, '华美': 5748, '水池': 5749, '二张': 5750, '小床': 5751, '东方明珠': 5752, '陈旧不堪': 5753, '杨': 5754, '上上网': 5755, '包了': 5756, '睡好': 5757, '实': 5758, '点去': 5759, '劣质': 5760, '小偷': 5761, '玉皇阁': 5762, '收录': 5763, '蛇口': 5764, '那家': 5765, '半年': 5766, '暑假': 5767, '喧闹声': 5768, '迪斯尼': 5769, '童话世界': 5770, '手纸': 5771, '风速': 5772, '问其': 5773, '升温': 5774, '用个': 5775, '流通': 5776, '制热': 5777, '走后': 5778, '荒谬': 5779, '推窗': 5780, '直白': 5781, '撤掉': 5782, '送错': 5783, '我本': 5784, '稍后': 5785, '特滑': 5786, '可疑': 5787, '烫伤': 5788, '几层': 5789, '清明': 5790, '乡村': 5791, '发呆': 5792, '傻': 5793, '花园酒店': 5794, '网球场': 5795, '油然而生': 5796, '有序': 5797, '基于': 5798, '又续': 5799, '来接': 5800, '红肿': 5801, '调房': 5802, '不能取消': 5803, '毛骨悚然': 5804, '商旅': 5805, '歌': 5806, '绝无': 5807, '蛋': 5808, '房以': 5809, '什': 5810, '二天': 5811, '靠窗': 5812, '闻': 5813, '躺上去': 5814, '粤语': 5815, '别忘了': 5816, '霎': 5817, '东街': 5818, '云吞面': 5819, '鱼蛋': 5820, '往前走': 5821, '飞雪': 5822, '毫升': 5823, '庙街': 5824, '大树': 5825, '原地': 5826, '售票': 5827, '升空': 5828, '买元': 5829, '太平': 5830, 'nike': 5831, '波鞋': 5832, '临行': 5833, '好使': 5834, '交接': 5835, '贵量': 5836, '误解': 5837, '甜品店': 5838, '先来后到': 5839, '一盘': 5840, '安庆': 5841, '格林豪': 5842, '泰': 5843, '大学': 5844, '后续': 5845, '上用': 5846, '跳': 5847, '耐': 5848, '教': 5849, '服房': 5850, '鲁迅故居': 5851, '人接': 5852, '苛刻': 5853, '火车票': 5854, '参与': 5855, '锈迹斑斑': 5856, '国际金融': 5857, '鸢': 5858, '不料': 5859, '百多': 5860, '俄罗斯': 5861, '香': 5862, '别克': 5863, '令人费解': 5864, '假山': 5865, '夏季': 5866, '带给': 5867, '美的': 5868, '大部份': 5869, '多到': 5870, '转转': 5871, '放假': 5872, '哪知': 5873, '差刚': 5874, '离此': 5875, '佳苑': 5876, '天上': 5877, '坚定': 5878, '城逛': 5879, '搬家': 5880, '衢州': 5881, '咯': 5882, '强忍': 5883, '台要': 5884, '衣板': 5885, '内涵': 5886, '存': 5887, '个例': 5888, '交流': 5889, '防滑': 5890, '餐饮部': 5891, '番茄': 5892, '科学城': 5893, '四号': 5894, '增设': 5895, '休息室': 5896, '单薄': 5897, '动': 5898, '多才': 5899, '比比皆是': 5900, '踏实': 5901, '加拿大': 5902, '诱人': 5903, '够呛': 5904, '峨眉山': 5905, '廊': 5906, '四层': 5907, '领': 5908, '送客': 5909, '懒散': 5910, '红蛛山': 5911, '一查': 5912, '点儿': 5913, '毛衣': 5914, '一般化': 5915, '不象星': 5916, '棒极了': 5917, '往外': 5918, '眼前': 5919, '煲': 5920, '千狮桥': 5921, '冰': 5922, '好差': 5923, '知识': 5924, '问讯': 5925, '开房': 5926, '大作': 5927, '一滩': 5928, '漏雨': 5929, '大半夜': 5930, '恳求': 5931, '餐巾纸': 5932, '这笔': 5933, '朴素': 5934, '呕吐物': 5935, '令人发指': 5936, '夜灯': 5937, '缝': 5938, '发扬': 5939, '环球': 5940, '满意哦': 5941, '例行': 5942, '问才': 5943, '架上': 5944, 'b座': 5945, '跑来跑去': 5946, '更糟': 5947, '绿灯': 5948, '闪烁': 5949, '相去甚远': 5950, '地角': 5951, '阴冷': 5952, '加点': 5953, '钱住': 5954, '别家': 5955, '标注': 5956, '中文': 5957, '止泻': 5958, '赶回': 5959, '病': 5960, '疼': 5961, '三四次': 5962, '外加': 5963, '热切': 5964, '自主': 5965, '端来': 5966, '热腾腾': 5967, '一大群': 5968, '不在意': 5969, '不相称': 5970, '纳爱斯': 5971, '傍边': 5972, '洗衣粉': 5973, '超长': 5974, '小多': 5975, '好慢': 5976, '丽': 5977, '掏': 5978, '还慢': 5979, 'qq': 5980, '山脚': 5981, '值班人员': 5982, '十几年': 5983, '摔了一跤': 5984, '大碍': 5985, '长话': 5986, '催问': 5987, '嘱咐': 5988, '递给': 5989, '堕落': 5990, 'wifi': 5991, '马虎': 5992, '悲惨': 5993, '几楼': 5994, '封死': 5995, '向阳': 5996, '极强': 5997, '马马乎乎': 5998, '弟兄': 5999, '危言耸听': 6000, '对质': 6001, '靠背': 6002, '厚厚的': 6003, '不信': 6004, '看守所': 6005, '这话': 6006, '证据': 6007, '着实': 6008, '地狱': 6009, '帖子': 6010, '别住': 6011, '耳朵': 6012, '广告牌': 6013, '高低': 6014, '门关': 6015, '整修': 6016, '电源插座': 6017, '不亮': 6018, '睡梦中': 6019, '未经': 6020, '多花点': 6021, '元含': 6022, '上多加': 6023, '初次': 6024, '上星': 6025, '腿': 6026, '没门': 6027, '砍': 6028, '窄': 6029, '急事': 6030, '无理': 6031, '两夜': 6032, '滨江': 6033, '灯饰': 6034, '惹眼': 6035, '延安路': 6036, '敞亮': 6037, '车停': 6038, '恭候': 6039, '评比': 6040, '要点': 6041, '大陆': 6042, '上网卡': 6043, '入座': 6044, '牡丹': 6045, '时用': 6046, '天才': 6047, '发传真': 6048, '牙': 6049, '关怀': 6050, '空着': 6051, '记忆': 6052, '差太远': 6053, '转移': 6054, '个星': 6055, '家庭旅馆': 6056, '商榷': 6057, '电话响': 6058, '打烊': 6059, '推车': 6060, '排骨': 6061, '嫌疑': 6062, '近日': 6063, '乖乖': 6064, '海棠': 6065, '里会': 6066, '除此以外': 6067, '莫': 6068, '称之为': 6069, '哄哄': 6070, '称赞': 6071, '螨虫': 6072, '男性': 6073, '炒面': 6074, '抵用券': 6075, '租用': 6076, '佘山': 6077, '还脏': 6078, '巨响': 6079, '吊顶': 6080, '一地': 6081, '王城': 6082, '没面子': 6083, '字烂': 6084, '不太新': 6085, '每到': 6086, '长隆': 6087, '房在': 6088, '男员工': 6089, '扬': 6090, '要付': 6091, '欢乐': 6092, '烈日': 6093, '酒店家具': 6094, '玻璃门': 6095, '和蔼': 6096, '寒碜': 6097, '天井': 6098, '手机信号': 6099, '郊区': 6100, '自信': 6101, '秩序': 6102, '看齐': 6103, '不换': 6104, '公共厕所': 6105, '消毒剂': 6106, '茶园': 6107, '森林': 6108, '顶楼': 6109, '不脏': 6110, '时隔': 6111, '叮': 6112, '珀丽': 6113, 'jf': 6114, 'visa': 6115, '常州': 6116, '铁': 6117, '平安大街': 6118, '外人': 6119, '热带': 6120, '我元': 6121, '衷心希望': 6122, '所急': 6123, '衷心感谢': 6124, '针对性': 6125, '小不说': 6126, '酌情': 6127, '泳衣': 6128, '房进': 6129, '档': 6130, '没多久': 6131, '打要': 6132, '果珍': 6133, '先定': 6134, '灵隐寺': 6135, '评述': 6136, '新旧': 6137, '旧楼': 6138, '神州行': 6139, 'kanghsi': 6140, '然': 6141, '交界': 6142, '房面': 6143, '品是': 6144, '傍': 6145, '摊子': 6146, '蓬莱阁': 6147, '打上去': 6148, '富凯': 6149, '早操': 6150, 'checkinout': 6151, '出水量': 6152, '双标': 6153, '弟兄们': 6154, '先办': 6155, 'だ': 6156, '惠': 6157, '扑克': 6158, '一站': 6159, '结实': 6160, '晃动': 6161, '黑糊糊': 6162, '性质': 6163, '再续': 6164, '牡丹江': 6165, '一夜情': 6166, '墙体': 6167, '涂层': 6168, '至极': 6169, '说了半天': 6170, '茶文化': 6171, '订满': 6172, '人太多': 6173, '轮': 6174, '陆羽': 6175, '室内外': 6176, '挺全': 6177, '土菜': 6178, '试一下': 6179, '早已': 6180, '奢侈': 6181, '敬告': 6182, '柜门': 6183, '余额': 6184, '太窄': 6185, '近元': 6186, '抓': 6187, '报歉': 6188, '夜宵': 6189, '全日': 6190, '惊讶': 6191, '清洁卫生': 6192, '一上': 6193, '特别感谢': 6194, '一贯': 6195, '洗发': 6196, '全有': 6197, '试试看': 6198, '递': 6199, '颇为': 6200, '圈': 6201, '关林庙': 6202, '吝啬': 6203, '进口': 6204, '两句': 6205, '女孩子': 6206, '空房间': 6207, '药水': 6208, '不多见': 6209, '冰泉': 6210, '再能': 6211, '收款': 6212, '睡醒': 6213, '追问': 6214, '高价位': 6215, '中关村': 6216, '不整洁': 6217, '八点半': 6218, '十来': 6219, '一点半': 6220, '我查': 6221, '头天': 6222, '族': 6223, '二环': 6224, '没关系': 6225, '很强': 6226, '奖励': 6227, '般': 6228, '概念': 6229, '海带': 6230, '台式机': 6231, '键': 6232, '最晚': 6233, '试过': 6234, '过往': 6235, '色彩': 6236, '指点': 6237, '阴影': 6238, '最贵': 6239, '太黑': 6240, '西藏': 6241, '盆': 6242, '藤椅': 6243, '彰显': 6244, '走来': 6245, '白云山': 6246, '毛主席': 6247, '典故': 6248, '设立': 6249, '自然风景': 6250, '天元': 6251, '小点心': 6252, '贵得': 6253, '很深': 6254, '共个': 6255, '排列': 6256, '依次': 6257, '写意': 6258, '丰富多彩': 6259, '合一': 6260, '望远镜': 6261, '辽阔': 6262, '楼前': 6263, '张米': 6264, '高于': 6265, '逊色': 6266, '青山': 6267, '主': 6268, '易': 6269, '参观': 6270, '可不': 6271, '照明': 6272, '下雨天': 6273, '冰水': 6274, '不厌其烦': 6275, '大东海': 6276, '四颗星': 6277, '慈溪': 6278, '卧铺票': 6279, '买到': 6280, '上铺': 6281, '房一厅': 6282, '木地板': 6283, '消退': 6284, '幽默': 6285, '兰州': 6286, '高明': 6287, '店里': 6288, '取暖': 6289, '未见': 6290, '之差': 6291, '刚去': 6292, '皇后': 6293, '有轨电车': 6294, '不出': 6295, '尼斯': 6296, '凤凰': 6297, '台前': 6298, '时间段': 6299, '提意见': 6300, '南方人': 6301, 'x': 6302, '没点': 6303, '后山': 6304, '尽如人意': 6305, '插入': 6306, '很烦': 6307, '浙江': 6308, '枉': 6309, '没好': 6310, '布满': 6311, '雪花': 6312, '忒': 6313, '余地': 6314, '十月': 6315, '哪是': 6316, '天目湖': 6317, '取暖器': 6318, '目的': 6319, '定期': 6320, '满意度': 6321, '洁净': 6322, '不太敢': 6323, '好闻': 6324, '含双': 6325, '外包装': 6326, '标示': 6327, '诺曼': 6328, '弟': 6329, '远达': 6330, '停留': 6331, '符合标准': 6332, '巨差': 6333, '写程': 6334, '实话实说': 6335, '真假': 6336, '鼓捣': 6337, '这层': 6338, '名不虚传': 6339, '几处': 6340, '青菜': 6341, '客户关系': 6342, '膏药': 6343, '咳嗽': 6344, '树立': 6345, '至上': 6346, '明年': 6347, '不良': 6348, '写得': 6349, '非说': 6350, '四川人': 6351, '丢弃': 6352, '市场经济': 6353, '竞争': 6354, '无言': 6355, '言': 6356, '换上': 6357, '背着': 6358, '前问': 6359, '台湾人': 6360, '指导': 6361, '太薄': 6362, '嘉善': 6363, '计程车': 6364, '分到': 6365, '超星': 6366, '收块': 6367, '围巾': 6368, '遗失在': 6369, '称呼': 6370, '号召': 6371, '多用': 6372, '转接': 6373, '外资企业': 6374, '四次': 6375, '房务员': 6376, '小心翼翼': 6377, '滑倒': 6378, '一号': 6379, '多样': 6380, '西式早餐': 6381, '名称': 6382, '好大床': 6383, '冲突': 6384, '嚣张': 6385, '价比': 6386, '十几块': 6387, '未到': 6388, '特别之处': 6389, '影视城': 6390, '农庄': 6391, '十一点半': 6392, '仅用': 6393, '大坡': 6394, '开眼界': 6395, '供暖': 6396, '我进': 6397, '功夫茶': 6398, '茶杯': 6399, '道歉信': 6400, '泡茶': 6401, '茶碗': 6402, '我免': 6403, '手': 6404, '想不到': 6405, '泸州': 6406, '过个': 6407, '鲍鱼': 6408, '作法': 6409, '呜呜': 6410, '打来': 6411, '洗澡房': 6412, '常有': 6413, '挂掉': 6414, '中年': 6415, 'fb': 6416, '决不再': 6417, '高些': 6418, '裙楼': 6419, '哈哈哈': 6420, '每张': 6421, '晚些': 6422, '眼神': 6423, '工程部': 6424, '科技含量': 6425, '显示屏': 6426, '摇控器': 6427, '百度': 6428, '偶然': 6429, '抢钱': 6430, '惟一': 6431, '不可理喻': 6432, '老客户': 6433, '时不时': 6434, '一女': 6435, '害怕': 6436, '托儿': 6437, '干嘛': 6438, '再换': 6439, '马可波罗': 6440, '流出': 6441, '天花': 6442, '回传': 6443, '打伞': 6444, '好喝': 6445, '二话没说': 6446, '窃喜': 6447, '看不懂': 6448, '踏入': 6449, '有始': 6450, '周一': 6451, '辣': 6452, '前去': 6453, '原订': 6454, '云亭': 6455, '周庄': 6456, '钻头': 6457, '几位': 6458, '较长时间': 6459, '嗅到': 6460, '少得': 6461, '冷冷清清': 6462, '搬进': 6463, '热水澡': 6464, '馆子': 6465, '阳台门': 6466, '二来': 6467, '旅程': 6468, '脚上': 6469, '症状': 6470, '曙光': 6471, '虫': 6472, '烟灰缸': 6473, '费力': 6474, '敲门声': 6475, '公分': 6476, '屋子': 6477, 'bus': 6478, '牺牲': 6479, '活活': 6480, '批发市场': 6481, '斩': 6482, '米左右': 6483, '会选': 6484, '这句': 6485, '时光': 6486, '多会': 6487, '卫生设施': 6488, '圈椅': 6489, '睡袋': 6490, '卫浴设备': 6491, '皮蛋': 6492, '瘦肉粥': 6493, '天半': 6494, '需不需要': 6495, '震动': 6496, '时刻': 6497, '灯泡': 6498, '机坏': 6499, '无数次': 6500, '核查': 6501, '接客': 6502, '人用': 6503, '中华': 6504, '和尚': 6505, '蚊': 6506, '胶带': 6507, '塞': 6508, 'it': 6509, '遗留': 6510, '淑女': 6511, '征询': 6512, '说完': 6513, '寻找': 6514, '关着': 6515, '朝向': 6516, '朝东': 6517, '兴趣': 6518, '广西': 6519, '往来': 6520, '大型超市': 6521, '外是': 6522, '客服部': 6523, '名单': 6524, '过份': 6525, '内饰': 6526, '续住': 6527, '搬出': 6528, '讲明': 6529, '带领': 6530, '每天晚上': 6531, '唱': 6532, '五台山': 6533, '优越性': 6534, '内蒙': 6535, '芙蓉': 6536, '华旗': 6537, '福顺': 6538, '数': 6539, '第二位': 6540, '呼噜': 6541, '汉普顿': 6542, '地帮': 6543, '行走': 6544, '足矣': 6545, '行李车': 6546, '几片': 6547, '产': 6548, '鲜美': 6549, '问道': 6550, '报国寺': 6551, '四大': 6552, '店去': 6553, '清淡': 6554, '落伍': 6555, 'hk': 6556, '休闲游': 6557, '观前街': 6558, '不买': 6559, '民宅': 6560, '人气': 6561, '舒畅': 6562, '再见': 6563, '加急': 6564, '博客': 6565, '更别': 6566, '及格': 6567, '镜': 6568, '非常容易': 6569, '暖意': 6570, '再用': 6571, '过问': 6572, '共和': 6573, '新路': 6574, '另一边': 6575, '一截': 6576, '没带': 6577, '买好': 6578, '死板': 6579, '事宜': 6580, '差太多': 6581, '楼有': 6582, '重申': 6583, '文殊': 6584, '住入': 6585, '擦亮': 6586, '长兴': 6587, '洗烫': 6588, '好话': 6589, '火': 6590, '酒杯': 6591, '总会': 6592, '鱼片': 6593, '很全': 6594, '后厨': 6595, '把把关': 6596, '近离': 6597, '无可厚非': 6598, '不然的话': 6599, '小青岛': 6600, '外环': 6601, '交费': 6602, '自然环境': 6603, '榻榻米': 6604, '不太高': 6605, '不失': 6606, '南油': 6607, '老土': 6608, '二人': 6609, '六十元': 6610, '星期五': 6611, '白白': 6612, '平日': 6613, '包含': 6614, '高尔夫': 6615, '节假日': 6616, '以此': 6617, '案例': 6618, '检讨': 6619, '补办': 6620, '一在': 6621, '终点站': 6622, '太暗': 6623, '大半天': 6624, '按元': 6625, '严厉': 6626, '一元': 6627, '走上': 6628, '婉拒': 6629, '黑白': 6630, '习惯性': 6631, '百元': 6632, '三分之一': 6633, '露宿街头': 6634, '燕赵': 6635, '提供方便': 6636, '近期': 6637, '凌乱': 6638, '准星': 6639, '霉': 6640, '保养': 6641, '小灯': 6642, '一颗': 6643, '紧闭': 6644, '流动': 6645, '忌讳': 6646, '想一想': 6647, '同伴': 6648, '玩具': 6649, '美式': 6650, '厚爱': 6651, '美居': 6652, '算一天': 6653, '我延': 6654, '填饱': 6655, '成问题': 6656, '超难': 6657, '分离': 6658, '视觉': 6659, '蚁穴': 6660, '非常简单': 6661, '领会到': 6662, '繁重': 6663, '之中': 6664, '太过分': 6665, '僵化': 6666, '用脚': 6667, '霉暗': 6668, '前段时间': 6669, '星程': 6670, '面貌': 6671, '赢得': 6672, '反感': 6673, '二十多分钟': 6674, '寒心': 6675, '国内外': 6676, '盏灯': 6677, '讨论': 6678, '在场': 6679, '野蛮': 6680, '对天发誓': 6681, '乐府': 6682, '差个': 6683, '字来': 6684, '取电卡': 6685, '用量': 6686, '馄饨': 6687, '忽然': 6688, '提及': 6689, '之慢': 6690, '很静': 6691, '齐齐哈尔': 6692, '电话声': 6693, '说要': 6694, '看好': 6695, '太紧': 6696, '开了门': 6697, '委屈': 6698, '恍然大悟': 6699, '指出': 6700, '一旁': 6701, '小贵': 6702, '有家': 6703, '麻将': 6704, '推土机': 6705, '打桩机': 6706, 'ｎ': 6707, '好转': 6708, '截然不同': 6709, '信任度': 6710, '酒店服': 6711, '刚退': 6712, '早些': 6713, '节日期间': 6714, '一两个': 6715, '旅途': 6716, '竟是': 6717, '德清': 6718, '雅兰': 6719, '四件': 6720, '两小床': 6721, '遍地': 6722, '堂': 6723, '同里': 6724, '美不胜收': 6725, '垃圾桶': 6726, '很能': 6727, '靠里面': 6728, '商务楼': 6729, '楼梯间': 6730, '层次': 6731, '一见': 6732, '酒水': 6733, 'housekeeping': 6734, '信用': 6735, '无可挑剔': 6736, '封顶': 6737, '／': 6738, '平衡': 6739, '逃出': 6740, '前来': 6741, '浴具': 6742, '以客': 6743, '尊': 6744, '思想': 6745, '多为': 6746, '应变能力': 6747, '试想': 6748, '入眠': 6749, '所幸': 6750, '随手': 6751, '一个劲': 6752, '青海': 6753, '人满为患': 6754, '春秋': 6755, '太老': 6756, '不周到': 6757, '携带': 6758, '有大床': 6759, 'shuttlebus': 6760, '有的是': 6761, '原谅': 6762, '近年': 6763, '蜀': 6764, '倒退': 6765, '代客': 6766, '泊车': 6767, '老实': 6768, '要换': 6769, '库房': 6770, '先来': 6771, '网评': 6772, '砸牌子': 6773, 'cdma': 6774, '有线': 6775, '宽频': 6776, '岛': 6777, '约定': 6778, '评为': 6779, '街头': 6780, '较烂': 6781, '小厨': 6782, '天壤之别': 6783, '接头': 6784, '长住': 6785, '鸟巢': 6786, '不近': 6787, '很多年': 6788, '东城': 6789, '锁定': 6790, '亲耳': 6791, '否定': 6792, '答案': 6793, '叠': 6794, '豪华气派': 6795, '保': 6796, '刷牙': 6797, '啃': 6798, '钟才': 6799, '呆住': 6800, '新年': 6801, '准时': 6802, '球': 6803, '二十块': 6804, '出门在外': 6805, '太气': 6806, '有门': 6807, '派人来': 6808, '糟蹋': 6809, '表达': 6810, '非常明显': 6811, '未挂星': 6812, '路面': 6813, '漫不经心': 6814, '工作服': 6815, '近一': 6816, '老大': 6817, '脸盆': 6818, '第一晚': 6819, '极重': 6820, '极慢': 6821, '所住': 6822, '饮食店': 6823, '我选': 6824, '美元': 6825, '阁楼': 6826, '后栋': 6827, '若能': 6828, '几件': 6829, '大榕树': 6830, '买下': 6831, '眼里': 6832, '门槛': 6833, '叮嘱': 6834, '寄给': 6835, '犯': 6836, '咔嚓': 6837, '数码相机': 6838, '供参考': 6839, '安全门': 6840, 'bs': 6841, '拖把': 6842, '无果': 6843, '近前': 6844, '特殊要求': 6845, '昏昏沉沉': 6846, '万达': 6847, '三点钟': 6848, '请求': 6849, '技术': 6850, '彩灯': 6851, '冷嘲热讽': 6852, '男女': 6853, '乏善可陈': 6854, '擦干': 6855, '接通': 6856, '画面': 6857, '不堪入目': 6858, '镜头': 6859, '反思': 6860, '盖子': 6861, '满洲里': 6862, '脱': 6863, '情形': 6864, '较硬': 6865, '下层': 6866, '开口': 6867, '不断改进': 6868, '荒凉': 6869, '三塔': 6870, '很久没': 6871, '客务部': 6872, '没来': 6873, '家庭式': 6874, '多家': 6875, '军大衣': 6876, '朦胧': 6877, '南昌': 6878, '哥儿': 6879, '着装': 6880, '住宅区': 6881, '隔间': 6882, '统计': 6883, '热点': 6884, '桑': 6885, '中等偏上': 6886, '登': 6887, '西翠': 6888, '绝望': 6889, '羽绒被': 6890, '三趟': 6891, '霸道': 6892, '拍摄': 6893, '迟': 6894, '没水': 6895, '沮丧': 6896, '绝不': 6897, '几月': 6898, '列为': 6899, '汇报': 6900, '碰上': 6901, '比星': 6902, '太短': 6903, '酒泉': 6904, '小房间': 6905, '保温': 6906, '几样': 6907, '过度': 6908, '里少': 6909, '摆明': 6910, '华夏': 6911, '泵房': 6912, '专': 6913, '写字': 6914, '大婶': 6915, '回头': 6916, '军人': 6917, '顿生': 6918, '迎宾馆': 6919, '原来如此': 6920, '政要': 6921, '借记卡': 6922, '灰暗': 6923, '软垫': 6924, '银座': 6925, '进店': 6926, '附属': 6927, '气度': 6928, '因有': 6929, '邻房': 6930, 'angel': 6931, '谈及': 6932, '比较烦': 6933, '水份': 6934, '该市': 6935, '店大欺客': 6936, '洒店': 6937, '车来': 6938, '头晕': 6939, '姑且': 6940, '回绝': 6941, '搞清楚': 6942, '省事': 6943, '收获': 6944, '前楼': 6945, '袋': 6946, '单一': 6947, '很怪': 6948, '前端': 6949, '小便': 6950, '墟沟': 6951, '花果山': 6952, '还会选': 6953, '讲话声': 6954, '动辄': 6955, '几百元': 6956, '殷墟': 6957, '富阳': 6958, '南国': 6959, '寸土寸金': 6960, '瑞峰': 6961, '铜': 6962, '上个星期': 6963, '顶嘴': 6964, '速溶': 6965, '绿茶': 6966, '水渍': 6967, '恰逢': 6968, '接轨': 6969, '下达': 6970, '驱车': 6971, '更有甚者': 6972, '侮辱': 6973, '态度强硬': 6974, '从何而来': 6975, '折磨': 6976, '六星': 6977, '赞同': 6978, '身份证件': 6979, '书名号': 6980, '发文': 6981, '加个': 6982, '全过程': 6983, '一月': 6984, '相连': 6985, '七': 6986, '醉酒': 6987, '深表遗憾': 6988, '重要性': 6989, '协成': 6990, '古典': 6991, '街景': 6992, '设备齐全': 6993, '升星': 6994, '嘶叫': 6995, '拍照': 6996, '龙游': 6997, '掀开': 6998, '音': 6999, '薄薄的': 7000, '衣架': 7001, '样式': 7002, '卫视': 7003, '盗版': 7004, '法律': 7005, '字幕': 7006, '引下来': 7007, '天线': 7008, '消不掉': 7009, '六点半': 7010, '不缺': 7011, '有用': 7012, '这算': 7013, '工行': 7014, '卡刷': 7015, '二字': 7016, '没菜': 7017, '表才': 7018, '屋': 7019, '说点': 7020, '难熬': 7021, '闻所未闻': 7022, '南': 7023, '东湖': 7024, '看海': 7025, '恶差': 7026, '补贴': 7027, '别提': 7028, 'p': 7029, '大厨': 7030, '刚到': 7031, '闷死': 7032, '差去': 7033, '亲身经历': 7034, '响到': 7035, '运费': 7036, '温差': 7037, '雪白': 7038, '芹菜': 7039, '肉片': 7040, '无精打采': 7041, '瑞吉': 7042, '红塔': 7043, '鱼': 7044, '肠胃': 7045, '曼谷': 7046, '举目无亲': 7047, '泰国': 7048, '周': 7049, '底楼': 7050, '上订': 7051, '很美': 7052, '会换': 7053, '商铺': 7054, '客运': 7055, '半票': 7056, '苑': 7057, '退票': 7058, '苍山': 7059, '车里': 7060, '楚雄': 7061, '加油站': 7062, '一车': 7063, '火锅店': 7064, '错开': 7065, '明红': 7066, '十一年': 7067, '川菜馆': 7068, '洽谈': 7069, '三周': 7070, '收个': 7071, '还敢': 7072, '要价': 7073, '境': 7074, '判断': 7075, '建立': 7076, '手工': 7077, '远超过': 7078, '第一张': 7079, '从早到晚': 7080, '喇叭声': 7081, '烟酒': 7082, '针线包': 7083, '豆腐': 7084, '三百块': 7085, '缩水': 7086, '泥沙': 7087, '一怒之下': 7088, '短时间': 7089, '矮': 7090, '裸露': 7091, '太硬': 7092, '温和': 7093, '多个': 7094, '污物': 7095, '随处可见': 7096, '对付': 7097, '点下': 7098, '接听': 7099, '耽误时间': 7100, '点要': 7101, '看得出来': 7102, '沐浴露': 7103, '星要': 7104, '小丸子': 7105, '完整': 7106, '酒味': 7107, '歌唱': 7108, '再就是': 7109, '致远': 7110, '送机': 7111, '有分': 7112, '春园': 7113, '纸质': 7114, '投资': 7115, '一碰': 7116, '周四': 7117, '快得': 7118, '很累': 7119, '入门': 7120, '老夫': 7121, '扰民': 7122, '希尔顿': 7123, '迪厅': 7124, '楼板': 7125, '八一': 7126, '我见': 7127, '干吗': 7128, '响起': 7129, '局部': 7130, '毛巾架': 7131, '无从': 7132, '三岁': 7133, '年纪': 7134, '应酬': 7135, '似地': 7136, '圆圈': 7137, '说不清楚': 7138, '价目表': 7139, '个人用品': 7140, '究竟': 7141, '歉': 7142, '转过': 7143, '挨': 7144, '住宿费': 7145, '大车': 7146, '词': 7147, '仙湖': 7148, '酒店用品': 7149, '期盼': 7150, '于元': 7151, '知是': 7152, '高点': 7153, '柔和': 7154, '左手边': 7155, '名叫': 7156, '翅': 7157, '狂': 7158, '宵夜': 7159, '依云': 7160, '伤害': 7161, '黑名单': 7162, '万丽': 7163, '入驻': 7164, '回想起来': 7165, '好心': 7166, '对折': 7167, '天目山': 7168, '还亮': 7169, '霸': 7170, '一说': 7171, '难看': 7172, '壶': 7173, '擦掉': 7174, '不堪设想': 7175, '网吧': 7176, '国企': 7177, '作风': 7178, '宽阔': 7179, '仿佛': 7180, '此起彼伏': 7181, '省略': 7182, '商务活动': 7183, '国内长途': 7184, '安全性': 7185, '大点': 7186, '保姆': 7187, '来会': 7188, '锈迹': 7189, '一串': 7190, '纪念': 7191, '公认': 7192, '完才': 7193, '瘦瘦的': 7194, '意见建议': 7195, '成心': 7196, '活生生': 7197, '潮州': 7198, '预授': 7199, '多出': 7200, '放到': 7201, '不吵': 7202, '尺寸': 7203, '袋装': 7204, '五环': 7205, '亭子': 7206, '鱼虾': 7207, '最高级': 7208, '怀旧': 7209, '训练有素': 7210, '房层': 7211, '燃油费': 7212, '椰梦': 7213, '金棕榈': 7214, '初一': 7215, '元到': 7216, '极脏': 7217, '书吧': 7218, '清净': 7219, '淳朴': 7220, '大块': 7221, '多长时间': 7222, '手指': 7223, '服务项目': 7224, '操心': 7225, '预算': 7226, '价格低': 7227, '保卫': 7228, '火灾': 7229, '那面': 7230, '农家乐': 7231, '出头': 7232, '漏风': 7233, '顿饭': 7234, '葡京': 7235, '澳门': 7236, '寺': 7237, '当地政府': 7238, '自月': 7239, '在建': 7240, '早日': 7241, '吸氧': 7242, '「': 7243, '」': 7244, '区块': 7245, '一块块': 7246, '退出': 7247, '游乐': 7248, '安慰': 7249, '冲水': 7250, '言过其实': 7251, '突发': 7252, '病情': 7253, '异地': 7254, '到家': 7255, '原定': 7256, '住天': 7257, '谢意': 7258, '银行卡': 7259, '凭条': 7260, '吹毛求疵': 7261, '推卸': 7262, '缓慢': 7263, '市': 7264, '稀': 7265, '惊醒': 7266, '提过': 7267, '云霄': 7268, '放着': 7269, '一点多': 7270, '加快': 7271, '价差': 7272, '前有': 7273, '找遍': 7274, '南充': 7275, '汶川': 7276, '之选': 7277, '调到度': 7278, '秉承': 7279, '限度': 7280, '电话费': 7281, '钱数': 7282, '半死': 7283, '上锁': 7284, '精品': 7285, '搁': 7286, '媳妇': 7287, '外机': 7288, '道路': 7289, '自顾自': 7290, '雅戈尔': 7291, '富宫': 7292, '永不': 7293, '楚': 7294, '困扰': 7295, '拿单': 7296, '打出': 7297, '真不愧是': 7298, '黄金地段': 7299, '梦幻': 7300, '上时': 7301, '噔': 7302, '大花': 7303, '过高': 7304, '规格': 7305, '说不过去': 7306, '市郊': 7307, '评了': 7308, '博维': 7309, '带双': 7310, '基地': 7311, '大年初一': 7312, '四百多': 7313, '吸水性': 7314, '动不动': 7315, '演艺': 7316, 'dvd': 7317, '不太热': 7318, '说辞': 7319, '开到度': 7320, '赤柱': 7321, '真得': 7322, '老虎滩': 7323, '零钱': 7324, '摇': 7325, '王': 7326, '迟缓': 7327, '老头': 7328, '破旧不堪': 7329, '一个角': 7330, '取静': 7331, '订间': 7332, '无效': 7333, '评不上': 7334, '打闹': 7335, '孔子': 7336, '香烟': 7337, '可能性': 7338, '连坐': 7339, '西方': 7340, '深刻印象': 7341, '小路': 7342, '吓死': 7343, '连浴': 7344, '帘子': 7345, '金属': 7346, '大众': 7347, '塘沽': 7348, '久久': 7349, '各处': 7350, '呼市': 7351, '洪山': 7352, '个子': 7353, '祖庙': 7354, '还定': 7355, '无用': 7356, '仔细检查': 7357, '无力': 7358, 'morningcall': 7359, '不愧': 7360, '警察': 7361, '每月': 7362, '快乐': 7363, '不像话': 7364, '谢绝': 7365, '宰客': 7366, '窄小': 7367, '时非': 7368, '预想': 7369, '老城区': 7370, '苦苦': 7371, '累积': 7372, '新建': 7373, '留在': 7374, '好好看': 7375, '报案': 7376, '我入': 7377, '要赞': 7378, '管理者': 7379, '所在位置': 7380, '离得': 7381, '杂音': 7382, '入耳': 7383, 'ip': 7384, '六七点': 7385, '夫人': 7386, '抓挠': 7387, '尘土飞扬': 7388, '房产': 7389, '开发': 7390, '有间': 7391, '祝愿': 7392, '绿树': 7393, '疗养所': 7394, '己经': 7395, '返点': 7396, '我司': 7397, '报以': 7398, '挑衅': 7399, '入店': 7400, '内锁': 7401, '水沟': 7402, '出租车费': 7403, '本部': 7404, '证实': 7405, '丝巾': 7406, '天数': 7407, '优悦会': 7408, '琢磨': 7409, '大吵大闹': 7410, '空调机': 7411, '花得': 7412, '便当': 7413, '女生': 7414, '黑漆漆': 7415, '远要': 7416, '想必': 7417, '旅舍': 7418, '大相国寺': 7419, '层高': 7420, '太美': 7421, '资格': 7422, '冤': 7423, '打过': 7424, '远去': 7425, '看房': 7426, '切实': 7427, '西服': 7428, '满分': 7429, '一店': 7430, '放进去': 7431, '发飙': 7432, '逼': 7433, '官员': 7434, '略差': 7435, '换洗': 7436, '熄灯': 7437, '如是': 7438, '两双': 7439, '型号': 7440, '性比': 7441, '呛': 7442, '分布': 7443, '两名': 7444, '打赤脚': 7445, '性': 7446, '上能': 7447, '拥有': 7448, '学院': 7449, '御庭': 7450, '进问': 7451, '有房': 7452, '我能': 7453, '附': 7454, '起到': 7455, '胖胖的': 7456, '海洋': 7457, '糨糊': 7458, '最脏': 7459, '故里': 7460, '敢管': 7461, '是度': 7462, '梅苑': 7463, '狠': 7464, '损害': 7465, '观光': 7466, '苹果': 7467, '老字号': 7468, '交谈': 7469, '预留': 7470, '最舒服': 7471, '八百多': 7472, 'kingsize': 7473, '有理': 7474, '房好': 7475, '会来': 7476, '尸体': 7477, '证书': 7478, '欺害': 7479, '全套': 7480, '各式各样': 7481, '加送': 7482, '阳面': 7483, '床太硬': 7484, '臭豆腐': 7485, '换好': 7486, '配得': 7487, '食': 7488, '拐角处': 7489, '形状': 7490, '方便使用': 7491, '油黑': 7492, '这帮': 7493, '宋村': 7494, '叶君健': 7495, '这厮': 7496, '歉疚': 7497, '打人': 7498, '元辆': 7499, '心旷神怡': 7500, '温水': 7501, '期望值': 7502, '毯子': 7503, '鲜奶': 7504, 'modem': 7505, '准时到达': 7506, '排气扇': 7507, '君临天下': 7508, '发廊': 7509, '五华': 7510, '烟头': 7511, '反差': 7512, '难民营': 7513, '评估': 7514, '详尽': 7515, '就订': 7516, '作罢': 7517, '因故': 7518, '元间': 7519, '两倍': 7520, '各有千秋': 7521, '满满的': 7522, '头部': 7523, '征用': 7524, '逗留': 7525, '日后': 7526, '怎能': 7527, '应变': 7528, '完让': 7529, '建行': 7530, '七斗': 7531, '游记': 7532, '凭证': 7533, '餐费': 7534, '陌生人': 7535, '笔录': 7536, '青年会': 7537, '地热': 7538, '天住': 7539, '砍价': 7540, '网络接口': 7541, '采纳': 7542, '反锁': 7543, '黄金海岸': 7544, '民风': 7545, '尽力': 7546, '萧山': 7547, '二家': 7548, '龙华': 7549, '家里人': 7550, '观': 7551, '忙不过来': 7552, '粘': 7553, '不冷': 7554, '调到': 7555, '苦': 7556, '房服': 7557, '震后': 7558, '上下班': 7559, '高峰期': 7560, '太快': 7561, '牙具': 7562, '痛心': 7563, '以致于': 7564, '第五': 7565, '泳帽': 7566, '高元': 7567, '新来': 7568, '两栋': 7569, '夹缝': 7570, '服人度': 7571, '女同事': 7572, '交付': 7573, '挽回': 7574, '趟': 7575, '我快': 7576, '举牌': 7577, '换气扇': 7578, '泥巴': 7579, '开年': 7580, '升到': 7581, '来宾': 7582, '洁白': 7583, '黄瓜': 7584, '海宁': 7585, '空气流通': 7586, '隔墙': 7587, '私密性': 7588, '华师': 7589, '该换': 7590, '童': 7591, '通行证': 7592, '几十块': 7593, '闹到': 7594, '惊诧': 7595, '有趣': 7596, '喷水': 7597, '台商': 7598, '永利': 7599, '上学': 7600, '拱北': 7601, '关口': 7602, '家强': 7603, '四百': 7604, '陈年': 7605, '播放': 7606, '中份': 7607, '尚': 7608, '徒步': 7609, '∩': 7610, '完备': 7611, '拦车': 7612, '发箍': 7613, '香炉': 7614, '弄坏了': 7615, '学习': 7616, '说服': 7617, '石狮': 7618, '残酷': 7619, '黄酒': 7620, '水是': 7621, '自动扶梯': 7622, '台布': 7623, '倒胃口': 7624, '建设费': 7625, '面上': 7626, '虎': 7627, '繁多': 7628, '车声': 7629, '大方': 7630, '星光': 7631, '包三晚': 7632, '西双版纳': 7633, 'angela': 7634, '令人惊叹': 7635, '嘉逸': 7636, '旧且': 7637, '可乘': 7638, '人名': 7639, '连接线': 7640, '三百': 7641, '宽度': 7642, '护国寺': 7643, '青城山': 7644, '泡饭': 7645, '茶位': 7646, '位费': 7647, '挺远': 7648, '留存': 7649, '燕莎': 7650, '全免': 7651, '宜春': 7652, '大火': 7653, '有如': 7654, '唐山': 7655, '最号': 7656, '储藏室': 7657, '翻动': 7658, '时太难': 7659, '亮灯': 7660, '二桥': 7661, '显大': 7662, '名曰': 7663, '看准': 7664, '涵江区': 7665, '跟海': 7666, '已满': 7667, '合并': 7668, '无耻': 7669, '过小能': 7670, '晾衣服': 7671, '绳': 7672, '卡站': 7673, '五六米': 7674, '偏小到': 7675, '门厅': 7676, '粽子': 7677, '卖掉': 7678, '一走': 7679, '便利店': 7680, '花头': 7681, '两大': 7682, '托人': 7683, '不对经': 7684, '边远': 7685, '豪客': 7686, '伤脚': 7687, '奔来': 7688, '奔': 7689, '减免': 7690, '讨饭': 7691, '自诩': 7692, '跌': 7693, '眼球': 7694, '代答': 7695, '毫': 7696, '华大': 7697, '纸袋': 7698, '说准': 7699, '泰达': 7700, '李看': 7701, '房后': 7702, '真如': 7703, '小屏': 7704, '金海': 7705, '驿站': 7706, '略加': 7707, '建筑设施': 7708, '级差': 7709, '时常': 7710, '新铺': 7711, '鞋印': 7712, '水淹七军': 7713, '德请': 7714, '高层次': 7715, '苛求': 7716, '文物': 7717, '伪满': 7718, '曲折': 7719, '之高才定': 7720, '起家': 7721, '脱离': 7722, '色': 7723, '深且': 7724, '幕墙': 7725, '引擎': 7726, '嘈杂声': 7727, '停停': 7728, '前浦造': 7729, '不达': 7730, '广元': 7731, '皇泽寺': 7732, '村里': 7733, '装璜': 7734, '古雅': 7735, '缺': 7736, '面巾纸': 7737, '漆黑': 7738, '之谈': 7739, '人关': 7740, '上选': 7741, '上放点': 7742, '散散步': 7743, '新人': 7744, '婚礼': 7745, '羡慕': 7746, '福州市': 7747, 'drinkingwater': 7748, '差级': 7749, '同层': 7750, '上饶市': 7751, '情理之中': 7752, '海航': 7753, '出众': 7754, '宝华': 7755, '自定义': 7756, '已无房': 7757, '拒晕': 7758, '谈价': 7759, '如所': 7760, '佃户': 7761, '搞了半天': 7762, '关键问题': 7763, '先报': 7764, '虚惊一场': 7765, '费先': 7766, '大钱': 7767, '多花钱': 7768, '张元': 7769, '大骗子': 7770, '十全十美': 7771, '三项': 7772, '超人': 7773, '冲泡': 7774, '借此机会': 7775, '优质服务': 7776, '越办': 7777, '越': 7778, '重新整理': 7779, '注了': 7780, '不间断': 7781, '两菜': 7782, '一汤': 7783, '还算值': 7784, '圬': 7785, '迹': 7786, '最美': 7787, '上课': 7788, '铃声': 7789, '电费': 7790, '热如': 7791, 'cheakin': 7792, '记住': 7793, '留好': 7794, '向海': 7795, '李朝': 7796, '木炭': 7797, '给星': 7798, '虚设': 7799, '自停': 7800, '到手': 7801, '房大有': 7802, '服太惰': 7803, '之後反': 7804, '整': 7805, '大腿': 7806, '什在': 7807, '事後打': 7808, '理理': 7809, '夜由': 7810, '天之後就': 7811, '改去': 7812, '家店': 7813, '境卡': 7814, '打行': 7815, '台服': 7816, '房生': 7817, 'ぇ': 7818, '丁矫': 7819, 'ネ': 7820, 'キ': 7821, '华': 7822, '砰': 7823, '俱丁': 7824, '丁秸': 7825, 'ρ': 7826, '侣': 7827, '崩滤': 7828, '┍': 7829, '实习': 7830, '偏见': 7831, '十几元': 7832, '价贵物': 7833, '远不如': 7834, '尊客': 7835, '封路': 7836, '异性': 7837, '书上': 7838, '那怕': 7839, '好几页': 7840, '个人隐私': 7841, '软饮': 7842, '非凡': 7843, '床灯': 7844, '霉到': 7845, '锈到': 7846, '涠': 7847, '修补': 7848, '满员': 7849, '零时': 7850, '标兵': 7851, '份饭': 7852, '个山': 7853, '血迹斑斑': 7854, '趴': 7855, '计费': 7856, '办到': 7857, 'nndlz': 7858, '富仁坊': 7859, '汉庭住': 7860, '跟锦地': 7861, '终归': 7862, '忠心': 7863, '领导层': 7864, '只算': 7865, '变通': 7866, '仍会': 7867, '变通处理': 7868, '一踏': 7869, '网卡': 7870, '交换': 7871, '漳州': 7872, '排档': 7873, '说个': 7874, '点才': 7875, '游乐园': 7876, '变好': 7877, '前途': 7878, '有天': 7879, '关灯': 7880, '多拉': 7881, '逍夏': 7882, '分近': 7883, '乳胶漆': 7884, '剥脱': 7885, '脏新': 7886, '有小标': 7887, '大标': 7888, '热水管': 7889, '同屋': 7890, '三遍': 7891, '两遍': 7892, '火住': 7893, '朝北面': 7894, '长期以来': 7895, '大力支持': 7896, '朝南面': 7897, '流到': 7898, '次次': 7899, '找修': 7900, '能修': 7901, '附合': 7902, '小形': 7903, '有幸': 7904, '出格': 7905, 'copyrightctripcomallrightsreserv': 7906, '负分': 7907, '谈谈': 7908, '赤裸裸': 7909, '探': 7910, '神': 7911, '陌生': 7912, '闯入': 7913, '他妈的': 7914, '四遍': 7915, '问紧': 7916, '书面': 7917, 'kao': 7918, '咆哮': 7919, '母性': 7920, '外说': 7921, '喷过': 7922, 'topstar': 7923, '低劣': 7924, '经过训练': 7925, '天府广场': 7926, '春曦路': 7927, '啤酒节': 7928, 'copyrightctripcoma': 7929, '荣昌': 7930, '湖景区': 7931, '退单': 7932, '构局': 7933, '盘腿': 7934, '离床': 7935, '洗点': 7936, '溅湿': 7937, '旁有': 7938, '商品房': 7939, '赶工期': 7940, '半上': 7941, '腰会': 7942, '歌声': 7943, '很痒': 7944, '同住': 7945, '英式': 7946, '台借': 7947, '接线板': 7948, '放不多': 7949, '不怪': 7950, '歌舞厅': 7951, '安眠药': 7952, '睡楼': 7953, '一等': 7954, '华君住': 7955, '号线': 7956, '浦东南路': 7957, '东昌路': 7958, '一手': 7959, '举着': 7960, '手提': 7961, '选华君': 7962, '没有止境': 7963, '华君出': 7964, '初级': 7965, '制': 7966, '发卡': 7967, '特约': 7968, '许可': 7969, '以内': 7970, '用途': 7971, '某位': 7972, '不短': 7973, '王老吉': 7974, '搞出': 7975, '四样': 7976, '三样': 7977, '查证': 7978, '偷东西': 7979, '随身携带': 7980, '个人信息': 7981, '用旧': 7982, '换下来': 7983, '串门': 7984, '涌上来': 7985, '出口伤人': 7986, '扫地出门': 7987, '哪根香': 7988, '烧错': 7989, '斗争': 7990, '近个': 7991, '相胁': 7992, '以星': 7993, '车胎': 7994, '扎': 7995, '钉子': 7996, '轮胎': 7997, '全瘪': 7998, '报复': 7999, '人生地不熟': 8000, '仇家': 8001, '加层': 8002, '但令': 8003, '刷毛': 8004, '嘴巴': 8005, '酱瓜': 8006, '硐': 8007, '衄': 8008, '觞': 8009, '最彻': 8010, '跤': 8011, '堤': 8012, '磁': 8013, '叹': 8014, '腔': 8015, '嬴': 8016, '虚': 8017, '红楼': 8018, '脚印': 8019, '调高乐': 8020, '偏点': 8021, '枕着': 8022, '溪流': 8023, '全能': 8024, '望能': 8025, '流淌': 8026, '迎着': 8027, '和煦': 8028, '清风': 8029, '沉静': 8030, '静静的': 8031, '消磨': 8032, '度假地': 8033, '别样': 8034, '感觉良好': 8035, '咖啡茶': 8036, '细细': 8037, '内宾': 8038, '体外': 8039, '风大挂': 8040, '大姐': 8041, '雨鞋': 8042, '时帮': 8043, '吹干': 8044, '吕淑红': 8045, '有要': 8046, '见缝插针': 8047, '放满': 8048, '泡泡浴': 8049, '塑料套': 8050, '填满': 8051, '上办': 8052, '达车': 8053, '如画': 8054, '挂满': 8055, '咏': 8056, '风叹景': 8057, '对联': 8058, '闲坐': 8059, '虽高': 8060, '确非': 8061, '镇中': 8062, '能比': 8063, '此小住': 8064, '傍湖': 8065, '任游': 8066, '游湖': 8067, '第一眼': 8068, '大白天': 8069, '五彩缤纷': 8070, '高音': 8071, '某某': 8072, '歌奏家': 8073, '感化': 8074, '献上': 8075, '眠': 8076, '不长': 8077, '选址': 8078, '如旧': 8079, '变只': 8080, '生病': 8081, '大餐': 8082, '数字': 8083, '清点': 8084, '四包': 8085, '修过': 8086, '如家店': 8087, '古城区': 8088, '刻有': 8089, '金色': 8090, '万盛': 8091, '没太': 8092, '大用处': 8093, '暖水': 8094, '窗太吵': 8095, '不进': 8096, '拉箱': 8097, 'v': 8098, 'ip卡': 8099, '价要': 8100, '摔下去': 8101, '抽风': 8102, '赶着': 8103, '台站': 8104, '张江店': 8105, '低有': 8106, '双标间': 8107, '锦华': 8108, '挫': 8109, '仁兄': 8110, '有过之而无不及': 8111, '一阵阵': 8112, '乱叫': 8113, '代售': 8114, '浙西': 8115, '大明山': 8116, '八五折': 8117, '连忙': 8118, '爆': 8119, '安稳': 8120, '接线': 8121, '时分': 8122, '莫明奇': 8123, '特低': 8124, '房拼': 8125, '谴责': 8126, '邮政': 8127, '果': 8128, '不负': 8129, '质量上乘': 8130, '凛乱': 8131, '一新': 8132, '枕上': 8133, '二朵': 8134, '紫色': 8135, '体贴入微': 8136, '手表': 8137, '手饰': 8138, '感同': 8139, '深受': 8140, '象家': 8141, '延续': 8142, '真好': 8143, '虚名': 8144, '乌龙茶': 8145, '茶质': 8146, '浓元': 8147, '鲜榨': 8148, '好生': 8149, '酸涩': 8150, '具然': 8151, '水太': 8152, '回头率': 8153, '悠雅': 8154, '琴声': 8155, '力求': 8156, '营造': 8157, '旅居': 8158, '三刻': 8159, '二十': 8160, '停到': 8161, '脏刚': 8162, '追加': 8163, '减肥': 8164, '涉及': 8165, '质监': 8166, '部已': 8167, '督导': 8168, '天宇': 8169, '消耗品': 8170, '工种': 8171, '范畴': 8172, '潮乎乎': 8173, '瑞和源': 8174, '豆腐块': 8175, '黄油': 8176, '下上': 8177, '盘': 8178, '大晕': 8179, '上边': 8180, '小乱': 8181, '俩次': 8182, '贺龙': 8183, '体育中心': 8184, '摩天轮': 8185, '赶人': 8186, '锈水': 8187, '天讲': 8188, '头晚': 8189, '晚是': 8190, '一批': 8191, '金泰': 8192, '海博': 8193, '杂草丛生': 8194, '以加': 8195, '超窄': 8196, '最头': 8197, '吵吵': 8198, '囔囔': 8199, '关死': 8200, '嗖嗖': 8201, '全关': 8202, '洋浦': 8203, '干充': 8204, '音译': 8205, '元大床': 8206, '西早': 8207, '分于': 8208, '如用': 8209, '贵比': 8210, '贵倍': 8211, '短途': 8212, '可用': 8213, '如住': 8214, '罗丽尔': 8215, '心痛': 8216, '丽轩': 8217, '骨子里': 8218, '送票员上': 8219, '取票': 8220, 'h': 8221, '狗来': 8222, '泡吧': 8223, '主机': 8224, '国有企业': 8225, '持有': 8226, '我错': 8227, '有钱': 8228, '硬道理': 8229, '太长': 8230, '绝大部分': 8231, '宾馆酒店': 8232, '空气污染': 8233, '真替': 8234, '冷笑': 8235, '那破': 8236, '电视屏幕': 8237, '突发事件': 8238, '切换': 8239, '电路': 8240, '供电': 8241, '拒不承认': 8242, 'mini': 8243, '基本相同': 8244, '下位': 8245, '张家港': 8246, '椭圆': 8247, '这一': 8248, '窝心': 8249, '设防地': 8250, '扎进': 8251, '队伍': 8252, '吸取经验': 8253, '决不能': 8254, '心软': 8255, '事多': 8256, '喷淋': 8257, '一泉路': 8258, '异响': 8259, '提出抗议': 8260, '我行我素': 8261, '中环线': 8262, '一个圈': 8263, '善待': 8264, '友人': 8265, '胡说': 8266, '电视台': 8267, '老放': 8268, '杜月笙': 8269, '三年': 8270, '如浴春风': 8271, '把手': 8272, '直灌': 8273, '双年展': 8274, '发掘': 8275, '送元': 8276, '有段': 8277, '下班时间': 8278, '一身': 8279, '冷汗': 8280, '连刷次': 8281, '降级': 8282, '很乱': 8283, '小混混': 8284, '靓仔': 8285, 'hm': 8286, '地摊货': 8287, '巨小': 8288, '再进': 8289, '富丽华': 8290, '渔民': 8291, '村小': 8292, '君悦': 8293, '中招': 8294, '偏老': 8295, '还算全': 8296, '比君悦': 8297, '打倒': 8298, '十一次': 8299, '十二次': 8300, '小恩小惠': 8301, '猪猪': 8302, '常往': 8303, '见利忘义': 8304, '家伙': 8305, '细小': 8306, '地毡': 8307, '恐布': 8308, '差劣': 8309, '据称': 8310, '比有': 8311, '意味着': 8312, '遵华': 8313, '浔': 8314, '阳路': 8315, '浔阳': 8316, '东路': 8317, '县政府': 8318, '旅友': 8319, '几晚': 8320, '经营思想': 8321, '独到之处': 8322, '运行': 8323, '颇似': 8324, '中低端': 8325, '务实': 8326, '楼盘': 8327, '醉月轩': 8328, '蚊虫': 8329, '咬痕': 8330, '未愈': 8331, '喔': 8332, '每去': 8333, '单冷': 8334, '日小假': 8335, '领略': 8336, '市民': 8337, '静心': 8338, '挑选': 8339, '丝绸': 8340, '毛笔': 8341, '青山绿水': 8342, '纯': 8343, '别有情趣': 8344, '通风管道': 8345, '老年': 8346, '全城': 8347, '间且': 8348, '高太多': 8349, '过账': 8350, '到层': 8351, '港元': 8352, '换算': 8353, '东站': 8354, '花园街': 8355, '差得远': 8356, '普遍现象': 8357, '批示': 8358, '疲惫不堪': 8359, '哪栋': 8360, '二十四': 8361, '接送车': 8362, '鸟儿': 8363, '中偏': 8364, '一支': 8365, '打滑': 8366, '包双早': 8367, '空话': 8368, '不合情理': 8369, '价格优势': 8370, '价只': 8371, '三块': 8372, '难符': 8373, '冰糖': 8374, '梨汁': 8375, '喉咙': 8376, '西路': 8377, '黄兴': 8378, '濒临': 8379, '湘江': 8380, '吵点': 8381, '没多大': 8382, '云耳笋': 8383, '绿色食品': 8384, '仅分': 8385, '李师傅': 8386, '岩茶': 8387, '愉悦': 8388, '茶艺': 8389, '游山玩水': 8390, '住海晟': 8391, '零乱': 8392, '腐霉': 8393, '不翼而飞': 8394, '非人': 8395, '可住': 8396, '一回': 8397, '最有': 8398, '容忍': 8399, '菜该': 8400, '变凉': 8401, '锁好': 8402, '记事本': 8403, '拉口': 8404, '爸妈': 8405, '保健品': 8406, '善': 8407, '存带': 8408, '五瓶': 8409, '进住': 8410, '自作主张': 8411, '少量': 8412, '淑': 8413, '时好时坏': 8414, '连不上': 8415, '开瓶': 8416, '工具': 8417, '假烟': 8418, '返味': 8419, '开瓶器': 8420, '将备': 8421, '随酒': 8422, '所售': 8423, '烟均': 8424, '正规渠道': 8425, '退换货': 8426, '重上': 8427, '胖子': 8428, '串串香': 8429, '忘不了': 8430, '好友': 8431, '刨冰': 8432, '酸辣粉': 8433, '超棒': 8434, '他子': 8435, '前排': 8436, '服和生': 8437, '偶住': 8438, '生件': 8439, '受过': 8440, '辩解': 8441, '亏心事': 8442, '情跟本': 8443, '世外': 8444, '桃': 8445, '感境': 8446, '思意': 8447, '风道': 8448, '控制系统': 8449, '安睡': 8450, '欲裂': 8451, '深感不安': 8452, '深切': 8453, '优美环境': 8454, '施工方': 8455, '接洽': 8456, '最具': 8457, '金葫芦': 8458, '更会': 8459, '忠肯': 8460, '恳请': 8461, '万事如意': 8462, '春': 8463, '星河': 8464, '百汇': 8465, '腰算': 8466, '背痛': 8467, '下沉': 8468, '力量': 8469, '找门': 8470, '只用': 8471, '浴隔': 8472, '澡整': 8473, '淹水': 8474, '台房': 8475, '人得': 8476, '候一有': 8477, '七到': 8478, '九山': 8479, '早出': 8480, '找西': 8481, '房看': 8482, '格是': 8483, '低整': 8484, '再九山': 8485, '梅林': 8486, '活多': 8487, '活少': 8488, '还吵': 8489, '一星半点': 8490, '坝上': 8491, '农家院': 8492, '辜负': 8493, '原则上': 8494, '较久': 8495, '六阶': 8496, '吉之岛': 8497, '套昂': 8498, '现有': 8499, '玩海': 8500, '电饭煲': 8501, '生猛海鲜': 8502, '循环水': 8503, '水深': 8504, '救生员': 8505, '会人': 8506, '没嘉莱': 8507, '散热': 8508, '专属': 8509, '跑马场': 8510, '省下': 8511, '脚力': 8512, '紧挨': 8513, '可选': 8514, '索菲亚': 8515, '教堂': 8516, '喜剧': 8517, '莱西': 8518, '唱到': 8519, '岳阳': 8520, '算高': 8521, '旧订': 8522, '补丁': 8523, '大于': 8524, '拇指': 8525, '初五': 8526, '嘉福': 8527, '怡东': 8528, '金元': 8529, '蛮近': 8530, '卫生部': 8531, '一扇门': 8532, '亲热': 8533, '上趟': 8534, '海华': 8535, '年头': 8536, '旧些': 8537, '倍感': 8538, '还全': 8539, 'swtich': 8540, '收网': 8541, '费天': 8542, '病毒': 8543, '爬进': 8544, '岱宗': 8545, '去掉': 8546, '联锁': 8547, '报纸杂志': 8548, '算全': 8549, '内蒙古': 8550, '带汽': 8551, '告': 8552, '百事公司': 8553, '意大利': 8554, '水分': 8555, '具说': 8556, '转人': 8557, '看管': 8558, '内沙': 8559, '饭桌': 8560, '电饭锅': 8561, '住象': 8562, '上层': 8563, '用手': 8564, '格子': 8565, '交结': 8566, '缓解': 8567, '死忍': 8568, '腰酸背痛': 8569, '改期': 8570, 'dnd': 8571, '要动': 8572, '下门': 8573, '宽带网': 8574, '足疗': 8575, '联想': 8576, '管事': 8577, '地儿': 8578, '多离': 8579, '特不': 8580, '黑斑': 8581, '誉兴太脏': 8582, '誉兴': 8583, '但康': 8584, '出名': 8585, '到期': 8586, '后想': 8587, '爱住': 8588, '一给': 8589, '讲信用': 8590, '目': 8591, '楼标': 8592, '房仅元': 8593, '仅管': 8594, '郑州市': 8595, '搭早': 8596, '专车': 8597, '随叫': 8598, '有助': 8599, '先期': 8600, '火大': 8601, '磨磨蹭蹭': 8602, '没人查': 8603, '搞反': 8604, '两分': 8605, '姜汤': 8606, '绵州': 8607, '旧店': 8608, '延': 8609, '年代久远': 8610, '辰光': 8611, '离星': 8612, '免骚扰': 8613, '好房': 8614, '没社': 8615, '社么': 8616, '忆江南': 8617, '看人': 8618, '小米粥': 8619, '以间': 8620, '个务大床': 8621, '卖超': 8622, '价廉': 8623, '上出': 8624, '有助于': 8625, '坏事': 8626, '想不起来': 8627, '无意间': 8628, '市景': 8629, '撑开': 8630, '盆在': 8631, '接水': 8632, '水散': 8633, '太开': 8634, '台湾': 8635, '没厅': 8636, '太新': 8637, '古北': 8638, '断层': 8639, 'days': 8640, '星等': 8641, '和善': 8642, '全球': 8643, '车开进': 8644, '不敢苟同': 8645, '枫丹白露': 8646, '烹调': 8647, '不太有': 8648, '农家饭': 8649, '红螺': 8650, '停下': 8651, '怀柔': 8652, '水边': 8653, '把守': 8654, '人头': 8655, '人不多': 8656, '偏连': 8657, 'copyrightctripcomal': 8658, '虚有': 8659, '高利贷': 8660, '索帐': 8661, '粘满': 8662, '令人作呕': 8663, '邻街': 8664, '个人观点': 8665, '第三方': 8666, '寒冬': 8667, '事物': 8668, '弱点': 8669, '列举如下': 8670, '功率': 8671, '呼气': 8672, '不定': 8673, '乌龟': 8674, '就免': 8675, '能租': 8676, '头目': 8677, '认帐': 8678, '银泰换': 8679, '好床': 8680, '比银泰': 8681, '古筝': 8682, '中西部': 8683, '改口': 8684, '订是': 8685, '刚换': 8686, '山边': 8687, '少说': 8688, '机不': 8689, '有现': 8690, '米线': 8691, '群体': 8692, '服饰': 8693, '称得上': 8694, '他妈': 8695, '坏人': 8696, '小点声': 8697, '完走': 8698, '刚刚开始': 8699, '推着': 8700, '破车': 8701, '恩好': 8702, '真他妈': 8703, '里照': 8704, '破口大骂': 8705, '看表': 8706, '半真': 8707, '下决心': 8708, '您们': 8709, '差离': 8710, '嗨': 8711, '嗷嗷': 8712, 'sb': 8713, '崇洋媚外': 8714, '人提': 8715, '阿溅': 8716, '苍天': 8717, '电转': 8718, '多放': 8719, '脏四': 8720, '太大一': 8721, '水五': 8722, '星期天': 8723, '不太尽': 8724, '皇帝': 8725, '篇': 8726, '闽泰': 8727, '企缸': 8728, '脏东西': 8729, '没太多': 8730, '大由': 8731, '房位': 8732, '然有': 8733, '放式': 8734, '灶': 8735, '坐位': 8736, '梳化床': 8737, '可床': 8738, '小企缸': 8739, '剩空': 8740, '容一人': 8741, '下酒': 8742, '茶相': 8743, '甚物': 8744, '二号楼': 8745, 'yuan': 8746, '液镜': 8747, '粗心大意': 8748, '单从': 8749, '间接': 8750, '正确率': 8751, '出台': 8752, '否认': 8753, '恢复原': 8754, '有效性': 8755, '机制': 8756, '迟钝': 8757, '餐饮店': 8758, '起始': 8759, '首层': 8760, '转来转去': 8761, '溅': 8762, '瓦数': 8763, '串联': 8764, '两千': 8765, '七百多': 8766, '喀什': 8767, '中西亚': 8768, '相仿': 8769, '其为': 8770, '偏差': 8771, '上个月': 8772, '携城定': 8773, '三星期': 8774, '霸王': 8775, '条款': 8776, '付姓': 8777, '合伙': 8778, '连携城': 8779, '照坑': 8780, '全额': 8781, '九折': 8782, '细则': 8783, '约束': 8784, '规': 8785, '中秋': 8786, '嘉年华会': 8787, '票元': 8788, '喝问': 8789, '公务员': 8790, '龙井茶': 8791, '茶渣': 8792, '受元': 8793, '保险': 8794, '链': 8795, '成汉': 8796, '庭': 8797, '难以解决': 8798, '偏离': 8799, '弯子': 8800, '花掉': 8801, '杂吵': 8802, '藏服': 8803, '四合院': 8804, '好多年': 8805, '说不定': 8806, '已贵': 8807, '荃湾': 8808, '消夜': 8809, '住宅楼': 8810, '几文': 8811, '心差': 8812, '中等': 8813, '如心': 8814, '房大新': 8815, '保证质量': 8816, '碗碟': 8817, '洗出来': 8818, '水淋淋': 8819, '鹅岭': 8820, '上坡': 8821, '楼早': 8822, '一门': 8823, '宴会': 8824, '不太足': 8825, '方不': 8826, '大坪': 8827, '朝天门': 8828, '人会用': 8829, '远洲': 8830, '一月份': 8831, '传递': 8832, '很满': 8833, '名为': 8834, '按理': 8835, '绿色通道': 8836, '怒斥': 8837, '淡薄': 8838, 'out': 8839, '十多岁': 8840, '五金': 8841, '拉好': 8842, '反光': 8843, '美态': 8844, '心跳': 8845, '几度': 8846, '偏热': 8847, '批': 8848, '漂浮': 8849, '时列': 8850, '傲慢无礼': 8851, '先结': 8852, '签署': 8853, '车时': 8854, '元刷': 8855, '收上': 8856, '专用车': 8857, '车队': 8858, '辆': 8859, '交纳': 8860, '几千块': 8861, '管理费': 8862, '这辆': 8863, '性价': 8864, '比上': 8865, '加一点': 8866, '国信': 8867, '达标': 8868, '脏床': 8869, '靠太近': 8870, '亲密': 8871, '水灾': 8872, '未评': 8873, '高原地区': 8874, '审查': 8875, '美卡': 8876, '水排': 8877, '有来': 8878, '来句': 8879, '把免': 8880, '懂不懂': 8881, '悲': 8882, '修水': 8883, '比差': 8884, '差加': 8885, '旧床': 8886, '房梯部': 8887, '相比而言': 8888, '华强': 8889, '吃腻': 8890, '送果': 8891, '篮': 8892, '烂烂': 8893, '涂': 8894, '吐掉': 8895, '吐沫': 8896, '星子': 8897, '落到': 8898, '吧唧': 8899, '天多': 8900, '普房': 8901, '非经济': 8902, '参看': 8903, '前述': 8904, '附加': 8905, '查处': 8906, '一换': 8907, '如蒙': 8908, '改水单': 8909, '改过来': 8910, 'no': 8911, '考虑一下': 8912, '力竭': 8913, '十几个': 8914, '活': 8915, '离中': 8916, '天迎': 8917, '人身': 8918, '财产': 8919, '开中': 8920, '还开': 8921, '更多人': 8922, '侵害': 8923, '订机票': 8924, '外全': 8925, '小虫': 8926, '煞风景': 8927, '要降': 8928, '见二是': 8929, '高档次': 8930, '淡忘': 8931, '撤底': 8932, '失望透顶': 8933, '信息处理': 8934, '赞赞': 8935, '就评': 8936, '发完': 8937, '牢骚': 8938, '紧靠着': 8939, '阳光充足': 8940, '澡时': 8941, '有长': 8942, '楷模': 8943, '团结湖': 8944, '散发出': 8945, '倒底': 8946, '关不掉': 8947, '反掉': 8948, '转角': 8949, '回头一看': 8950, '剩点': 8951, '茶叶蛋': 8952, '嘀咕': 8953, '忍住': 8954, '开饭': 8955, '打个招呼': 8956, '爱护': 8957, '于山': 8958, '公营': 8959, '坐路': 8960, '中心区': 8961, '装在': 8962, '离晋': 8963, '祠': 8964, '斩得': 8965, '两处': 8966, '含双早': 8967, '希尔顿酒店': 8968, '有租': 8969, '四轮': 8970, '骑': 8971, '太多象': 8972, '轰炸机': 8973, '贵宾房': 8974, '夷陵': 8975, '几站': 8976, '霉斑': 8977, '水浸泡': 8978, '检验证': 8979, '大了些': 8980, '欧美经典': 8981, '鲜明对比': 8982, '有群': 8983, '欢迎信': 8984, '汉口': 8985, '大呼小叫': 8986, '夹子': 8987, '自选': 8988, '夹起来': 8989, 'riogrande': 8990, '换钱': 8991, '元夜': 8992, '鱼村': 8993, '留恋': 8994, '好住': 8995, '干丝': 8996, '冷水澡': 8997, '忍着': 8998, '停气': 8999, '浴房': 9000, '手会': 9001, '玻璃房': 9002, '生痛': 9003, '蓬头': 9004, '奇低': 9005, '闪光点': 9006, '中层': 9007, '通情达理': 9008, '神仙': 9009, '好几口': 9010, '不赖': 9011, '选中': 9012, '接待厅': 9013, '汗味': 9014, '全封闭': 9015, '全靠': 9016, '换风': 9017, '问题所在': 9018, '风': 9019, '新换': 9020, '据然': 9021, '股味': 9022, '选他': 9023, '乘米': 9024, '贪污': 9025, '协程订': 9026, '解决不了': 9027, '聊大天': 9028, '不勤': 9029, '儿不太': 9030, '房可': 9031, '燥热': 9032, '灯出': 9033, '量少': 9034, '发毛': 9035, '敷衍': 9036, '糖霜': 9037, '笨到': 9038, '海风': 9039, '拂面': 9040, '博鳌': 9041, '人气儿': 9042, '超超': 9043, '几百年': 9044, '里弄': 9045, '这样一来': 9046, '傻站': 9047, '假人': 9048, '日记本': 9049, '讨要': 9050, '八佰伴': 9051, '查查': 9052, '词典': 9053, '漏发': 9054, '更趋': 9055, '低俗': 9056, '耐看': 9057, '费尽周折': 9058, '绕错': 9059, '小雨': 9060, '引路': 9061, '一溜烟': 9062, '口回': 9063, '几件事': 9064, '褒贬': 9065, '无不': 9066, '天停': 9067, '次电': 9068, '蜡烛': 9069, '西到': 9070, '北到': 9071, '积水潭': 9072, '东到': 9073, '百货商场': 9074, '老有': 9075, '搭客': 9076, '兜生意': 9077, '安全部': 9078, '严加': 9079, '查管': 9080, '我门': 9081, '好算': 9082, '仪器': 9083, '胡小姐': 9084, '要来': 9085, '人姓': 9086, '冯说': 9087, '顺丰': 9088, '到付': 9089, '现金支付': 9090, '签到': 9091, '仅够': 9092, '无济于事': 9093, '世外桃源': 9094, '明孝陵': 9095, '遛弯': 9096, '中山陵': 9097, '想换': 9098, '不赶': 9099, '国庆节': 9100, '期待值': 9101, '优胜': 9102, '明细单': 9103, '拒': 9104, '要个': 9105, '庭院式': 9106, '小栋': 9107, '彩电': 9108, '开找': 9109, '变化很大': 9110, '驻马店': 9111, '上装': 9112, '个花': 9113, '汉族': 9114, '扣子': 9115, '绷': 9116, '太胖': 9117, '钉好': 9118, '题外话': 9119, '积极主动': 9120, '围追堵截': 9121, '十几层': 9122, '爬楼梯': 9123, '星和星': 9124, '行人': 9125, '杂志': 9126, '中英文': 9127, '小说': 9128, '当街': 9129, '开法': 9130, '水够': 9131, '大够': 9132, '经营方式': 9133, '思路': 9134, '博物馆': 9135, '值得一看': 9136, '红杏': 9137, '不辣': 9138, '小诗': 9139, '异乡': 9140, '邂逅': 9141, '万水千山': 9142, '蓦然回首': 9143, '刹那': 9144, '海角': 9145, '天边': 9146, '无际': 9147, '蔓延': 9148, '娇艳': 9149, '杜鹃': 9150, '尽情': 9151, '绽颜': 9152, '岁月': 9153, '如歌': 9154, '心系': 9155, '西客站': 9156, '顺路': 9157, '人如潮涌': 9158, '过路客': 9159, '狂贵': 9160, '肯德基': 9161, '加州': 9162, '牛肉面': 9163, '残疾人': 9164, '多刷': 9165, '四千元': 9166, '退还': 9167, '大连市': 9168, '毗邻': 9169, '带足': 9170, '园内': 9171, '纵横': 9172, '夜夜': 9173, '笙歌': 9174, '一二点': 9175, '管月': 9176, '敢收': 9177, '落乡': 9178, '烟蒂': 9179, '烫痕': 9180, '虽未': 9181, '得逞': 9182, '我拉到': 9183, '好赚': 9184, '差进': 9185, '磕碜': 9186, '买不到': 9187, '几万': 9188, '只想': 9189, '加盟费': 9190, '差月': 9191, '尤为': 9192, '拉肠': 9193, '没上': 9194, '活该': 9195, '高架路': 9196, '吵进': 9197, '出具': 9198, '新卡订': 9199, '简评': 9200, '三明治': 9201, '里外': 9202, '大吹': 9203, '败笔': 9204, '出处': 9205, '钻进': 9206, '钻出': 9207, '太次': 9208, '结给': 9209, '队': 9210, '液晶屏幕': 9211, '孤零零': 9212, '地被': 9213, '空无一物': 9214, '仓促': 9215, '连点': 9216, '饱受': 9217, '惊吓': 9218, '慢花': 9219, '国语': 9220, '自觉': 9221, '心头': 9222, '一凉': 9223, '睁一只眼': 9224, '闭一只眼': 9225, '自欺欺人': 9226, '安分': 9227, '绕道': 9228, '轩尼诗': 9229, '所花': 9230, '不合算': 9231, '五牛': 9232, '城给': 9233, '二室': 9234, '金茂': 9235, '很冲': 9236, '后过': 9237, '督促': 9238, '奇小且': 9239, '价格昂贵': 9240, '秦发': 9241, '报业': 9242, '往北': 9243, '海岳': 9244, '走不动': 9245, '留有': 9246, '无线网络': 9247, '太弱': 9248, '短线': 9249, '能用': 9250, 'gprs': 9251, '住离': 9252, '湖心岛': 9253, '相宜': 9254, '海鲜酒楼': 9255, '少妇': 9256, '捉': 9257, '丈夫': 9258, '奸': 9259, '大喊': 9260, '大闹': 9261, '要死要活': 9262, '炒得': 9263, '保密工作': 9264, '破星': 9265, '放净': 9266, '盒式': 9267, '登封': 9268, '满屋子': 9269, '备品': 9270, '软性': 9271, '有员': 9272, '大杂院': 9273, '防盗链': 9274, '防盗': 9275, '屡有': 9276, '失窃': 9277, '应为': 9278, '赞成': 9279, '北街': 9280, '寒酸': 9281, '中水': 9282, '一肚子火': 9283, '建在': 9284, '奔跑': 9285, '阿都': 9286, '脏都生': 9287, '青苔': 9288, '发梳': 9289, '只放': 9290, '翻阅': 9291, '降至度': 9292, '何用': 9293, '残念': 9294, '地答': 9295, '灰太多': 9296, '预防': 9297, '事实证明': 9298, '至度': 9299, '减缓': 9300, '发热量': 9301, '降低': 9302, '一一列举': 9303, '各方': 9304, '个面': 9305, '米外': 9306, '刘三姐': 9307, '处食': 9308, '菜式': 9309, '完差': 9310, '假道': 9311, '九点钟': 9312, '九十年代': 9313, '而来': 9314, '总服务台': 9315, '专员': 9316, '衣着打扮': 9317, '不得体': 9318, '睡下': 9319, '欠妥': 9320, '相背': 9321, '扭伤脚': 9322, '桌下': 9323, '池塘': 9324, '格式': 9325, '放入': 9326, '爱喝': 9327, '精心': 9328, '修整': 9329, '我以': 9330, '打量': 9331, '近乎': 9332, '外溢': 9333, '弄湿': 9334, '会荣升': 9335, '整撞': 9336, '家门': 9337, '山山水水': 9338, '健谈': 9339, '时住': 9340, '饿肚子': 9341, '餐饮费': 9342, '日为': 9343, '刺激性': 9344, '呼吸困难': 9345, '并称': 9346, '监测': 9347, '国宏': 9348, '消遣': 9349, '扩音': 9350, '连呼': 9351, '数声': 9352, '西化': 9353, '形态': 9354, '失眠': 9355, '听听': 9356, '会以': 9357, '特重': 9358, '驾驶员': 9359, '糟糕透顶': 9360, '假话': 9361, '选此家': 9362, '消灭': 9363, '家星': 9364, '订过': 9365, '一如': 9366, '即往': 9367, '打消': 9368, '念头': 9369, '鸽子': 9370, '呆呆': 9371, '考试': 9372, '延到': 9373, '一摸': 9374, '很赃床': 9375, '簧': 9376, '凸出': 9377, '吵市': 9378, '外差': 9379, '南京市': 9380, '纯净': 9381, '配给': 9382, '首都机场': 9383, '港龙': 9384, '空中': 9385, '管制': 9386, '点半才': 9387, '起飞': 9388, '哈根达斯': 9389, 'achk': 9390, '香港机场': 9391, '元晚': 9392, '烟层': 9393, '不挤': 9394, '老太太': 9395, '放过': 9396, '墓园': 9397, '侍者': 9398, '名副其实': 9399, '时刻表': 9400, '捞去': 9401, '许留山': 9402, '池记': 9403, '旁元': 9404, '净': 9405, '云吞': 9406, '不远处': 9407, '义顺': 9408, '双皮奶': 9409, '元碗': 9410, '何洪记': 9411, '罗素': 9412, '波斯': 9413, '富街': 9414, '交叉处': 9415, '咖喱': 9416, '威灵顿': 9417, '街翠花': 9418, '奶茶': 9419, '仔记': 9420, '优之良品': 9421, '旁元瓶': 9422, '恒香': 9423, '饼': 9424, '乘路': 9425, '若到': 9426, '车行': 9427, '狼藉': 9428, '小鸟': 9429, '海豚': 9430, '海洋馆': 9431, '云母': 9432, '万花筒': 9433, '七彩': 9434, '气球': 9435, '蜡像馆': 9436, '观景台': 9437, '东荟城': 9438, '秀丽': 9439, '元东': 9440, '荟城元': 9441, '元双': 9442, '元行': 9443, '八达通': 9444, '摄像机': 9445, '带够': 9446, 'sd': 9447, '港岛': 9448, '万众': 9449, '卡打': 9450, 'excuseme': 9451, '写下': 9452, '黄同金': 9453, '联系电话': 9454, '银龙': 9455, '戎州': 9456, '山西省': 9457, '灵': 9458, '能闻': 9459, '好延退': 9460, '我结': 9461, '菜市场': 9462, '富豪': 9463, '四面': 9464, '老先生': 9465, '收好': 9466, '比做': 9467, '一城': 9468, '新城': 9469, '叫口': 9470, '香舌': 9471, '榴莲': 9472, '飘飘': 9473, '直达车': 9474, '天有': 9475, '天会': 9476, '未免': 9477, '好烂': 9478, '直呼其名': 9479, '臭美': 9480, '这楼': 9481, '违章建筑': 9482, '一体化': 9483, '愣头愣脑': 9484, '菜鸟': 9485, '根据地': 9486, '他施': 9487, '多班': 9488, '保险费': 9489, '波斯特': 9490, 'post': 9491, '鸢飞': 9492, '何妨': 9493, '兴许': 9494, '临晨': 9495, '水田': 9496, '问询': 9497, '没过': 9498, '中庸': 9499, '房去': 9500, '专卖': 9501, '延路': 9502, '商务车': 9503, '随到': 9504, '丽王': 9505, '凯苑': 9506, '够低': 9507, '造浪': 9508, '所有人': 9509, '赖': 9510, '卖得': 9511, '略为': 9512, '标杆': 9513, '调派': 9514, '增援': 9515, '给够': 9516, '兴灾乐祸': 9517, 'ctirp': 9518, '这张': 9519, '模凌': 9520, '两可到': 9521, '时来': 9522, '这趟': 9523, '王府井书店': 9524, '多来': 9525, '满以为': 9526, '歇歇': 9527, '只岁': 9528, '多公斤': 9529, '无床': 9530, '可加': 9531, '五十多岁': 9532, '有失身份': 9533, '再带': 9534, '一挤': 9535, '血拼': 9536, '城内': 9537, '偌大': 9538, '全逛': 9539, '一歇': 9540, '坐火车': 9541, '房改': 9542, '股子': 9543, '泛着': 9544, '黄床': 9545, '翻身': 9546, '使劲': 9547, '一整夜': 9548, '等不及': 9549, '改敲': 9550, '会晕': 9551, '败给': 9552, '翻话': 9553, '响雷': 9554, '触动': 9555, '熟会': 9556, '台少': 9557, '十来个': 9558, '第一名': 9559, '卫生用品': 9560, '全棉': 9561, '内裤': 9562, '无菌': 9563, '安全套': 9564, '吵到': 9565, '一小块': 9566, '算远': 9567, '之小': 9568, '鸡块': 9569, '蛋汤': 9570, '沾染': 9571, '烟盒': 9572, '快线': 9573, '常新': 9574, '来要': 9575, '木板墙': 9576, '头有': 9577, '机关枪': 9578, '突突突': 9579, '水洗': 9580, '个澡': 9581, '灵光': 9582, '粘糊糊': 9583, '绝然': 9584, '陷害': 9585, '毛巾被': 9586, '小口': 9587, '有情可原': 9588, '不诚实': 9589, '本质': 9590, '如此一来': 9591, '恶言': 9592, '做爱': 9593, '直播': 9594, '身临其境': 9595, '一人住': 9596, '真够': 9597, '万泉河': 9598, '降降温': 9599, '建一': 9600, '瘦': 9601, '光头': 9602, '黑道': 9603, '打手': 9604, '晚些时候': 9605, '总比': 9606, '夜半': 9607, '来客': 9608, '爱停': 9609, '换住': 9610, '只贵元': 9611, '那才': 9612, '一举一动': 9613, '毛裤': 9614, '灯一': 9615, '挺暗': 9616, '泰和': 9617, '透透气': 9618, '万顷碧波': 9619, '悠悠': 9620, '群山': 9621, 'baby': 9622, '清茶': 9623, '乐不思蜀': 9624, '老鸭': 9625, '红泥': 9626, '要约': 9627, '杭徽': 9628, '省道': 9629, '隧洞': 9630, '远些': 9631, '大好': 9632, '香槟': 9633, '亲朋好友': 9634, '好寒': 9635, '好难': 9636, '指个': 9637, '指错': 9638, '难说': 9639, '一系列': 9640, '行之有效': 9641, '特此': 9642, '大小不一': 9643, '指路': 9644, '郑重声明': 9645, '插卡': 9646, '取电': 9647, '电钮': 9648, '部位': 9649, '断裂': 9650, '胶布': 9651, '绑': 9652, '轰隆声': 9653, '雨来': 9654, '去求': 9655, '慢吞吞': 9656, '耐不住': 9657, '饥饿': 9658, '炒饭': 9659, '卖块': 9660, '时往': 9661, '一包': 9662, '两块钱': 9663, '住块': 9664, '赚取': 9665, '少于': 9666, '狗腿子': 9667, '金茂君悦': 9668, '周总理': 9669, '时共': 9670, '老板娘': 9671, '小女孩': 9672, '一家子': 9673, '虽能': 9674, '飞虫': 9675, '衬衣': 9676, '熨烫': 9677, '各届': 9678, '竭尽全力': 9679, '壁挂': 9680, '粘乎乎': 9681, '一长': 9682, '鸡翼': 9683, '最可气': 9684, '承认错误': 9685, '飞驰': 9686, '横': 9687, '元办': 9688, '兑现': 9689, '近二': 9690, '或明或暗': 9691, '闪闪发亮': 9692, '暗淡无光': 9693, '脏渍': 9694, '石老人': 9695, '怠慢': 9696, '女服务员': 9697, '介绍书': 9698, '韩文': 9699, '字体': 9700, '一热脸': 9701, '上吐下泻': 9702, '程': 9703, '交接班': 9704, '晚班': 9705, '早班': 9706, '累拉': 9707, '上楼去': 9708, '前胸': 9709, '后背': 9710, '油腻': 9711, '虚弱': 9712, '身子': 9713, '哪有': 9714, '喝粥': 9715, '无数遍': 9716, '配菜': 9717, '切片': 9718, '元片': 9719, '两碗': 9720, '六片': 9721, '角如家': 9722, '完餐': 9723, '先回': 9724, '蜡黄': 9725, '止泻药': 9726, '翻遍': 9727, '恁': 9728, '漫长': 9729, '激动': 9730, '吃得了': 9731, '如家元': 9732, '发自内心': 9733, '在乎': 9734, '独具匠心': 9735, '围': 9736, '绿博院': 9737, '福特': 9738, '时拉': 9739, '监守自盗': 9740, '赖到': 9741, '扑克牌': 9742, '丽水': 9743, '位点': 9744, '电灯': 9745, '金沙滩': 9746, '不放': 9747, '奥运场馆': 9748, '两楼': 9749, '提重': 9750, '吃不消': 9751, '涂料': 9752, '往下掉': 9753, '咯人': 9754, '棉花胎': 9755, '运动员': 9756, '入场式': 9757, '火炬': 9758, '进场': 9759, '传到': 9760, '张军': 9761, '嚓': 9762, '华丽': 9763, '梦想': 9764, '破裂': 9765, '评的星': 9766, '每首': 9767, '圆': 9768, '光纤网络': 9769, '登个': 9770, '合租': 9771, '滴房': 9772, '因怕': 9773, '同租': 9774, '没聊': 9775, '电脑部': 9776, '电工': 9777, '试下': 9778, '多加件': 9779, '苏秀': 9780, '个个': 9781, '泰城': 9782, '数首': 9783, '屈一值': 9784, '太滑': 9785, '幸无': 9786, '心情舒畅': 9787, '偷税漏税': 9788, '标记': 9789, '元瓶元': 9790, '经营者': 9791, '台板': 9792, '金环': 9793, '一连串': 9794, '后车': 9795, '征求': 9796, '香格里拉酒店': 9797, '耗时': 9798, '有元': 9799, '单再点': 9800, '小钱': 9801, '手开': 9802, '定额': 9803, '撕票': 9804, '实话': 9805, '说此': 9806, '内置': 9807, '诺': 9808, '覃祥渣': 9809, '厄珩祥': 9810, '渣': 9811, '憩苌腔': 9812, 'ⅰ': 9813, '耋': 9814, '结余': 9815, '倒霉事': 9816, '上落': 9817, '风一': 9818, '快餐店': 9819, '报告': 9820, '第三件': 9821, '供电局': 9822, '中望': 9823, '热要': 9824, '依然如故': 9825, '北园路': 9826, '广告语': 9827, '星有': 9828, '同价': 9829, '穷则思变': 9830, '优越感': 9831, '少部分': 9832, '残': 9833, '目睹': 9834, '奇迹': 9835, '五年': 9836, '前两天': 9837, '同一天': 9838, '怀着': 9839, '悲愤': 9840, '愤然': 9841, '喷点': 9842, '清洗剂': 9843, '随时奉陪': 9844, '上积': 9845, '稀奇': 9846, '两头': 9847, '挡板': 9848, '摆动': 9849, '鸣叫': 9850, '室外机': 9851, '喘': 9852, '关在': 9853, '小多差': 9854, '堆': 9855, '任地': 9856, '宽容': 9857, '创办': 9858, '奢求': 9859, '家家': 9860, '把握住': 9861, '不廉': 9862, '前先': 9863, '实事求是': 9864, '直来': 9865, '一个天': 9866, '刚回来': 9867, '正想': 9868, '发帖子': 9869, '深有同感': 9870, '通程': 9871, '投金苑': 9872, '金苑': 9873, '三房': 9874, '一房': 9875, '民生路': 9876, '分太高住': 9877, '个映': 9878, '硬生生': 9879, '磕': 9880, '说错': 9881, '这门': 9882, '体重': 9883, '秤': 9884, '贵有': 9885, '实有': 9886, '白胡': 9887, '讽刺': 9888, '数落': 9889, '这两点': 9890, '床关': 9891, '敲醒': 9892, '看表分': 9893, '箱': 9894, '瑞安': 9895, '拒载': 9896, '踩死': 9897, '假货': 9898, '另一名': 9899, '开点': 9900, '车选': 9901, '贿赂': 9902, '同往': 9903, '免除': 9904, '关注度': 9905, '道里区': 9906, '拿下': 9907, '京华': 9908, '靓丽': 9909, '东芝': 9910, '狮子头': 9911, '爽嫩': 9912, '滑口': 9913, '瘦西湖': 9914, '河畔': 9915, '中取': 9916, '夜色': 9917, '幕顶': 9918, '辉映': 9919, '野外': 9920, '新世界': 9921, '执意': 9922, '执着': 9923, '就响': 9924, '间元晚': 9925, '容下': 9926, '漫出': 9927, '白送': 9928, '大刀': 9929, '假笑': 9930, '型星': 9931, '肠子': 9932, '都悔青': 9933, '近星': 9934, '一往': 9935, '本挂': 9936, '拿架子': 9937, '登出来': 9938, '什么世道': 9939, 'boy': 9940, '引领': 9941, '下较': 9942, '一尘': 9943, '靠墙': 9944, '喝咖啡': 9945, '浦西': 9946, '中福世福': 9947, '汇楼': 9948, '汇': 9949, '形': 9950, '高桥': 9951, '开来': 9952, '远望': 9953, '拘谨': 9954, '不可同日而语': 9955, '眼色': 9956, '叫停': 9957, '同档次': 9958, '次序': 9959, '排立': 9960, '指引': 9961, '出脚': 9962, '狮子': 9963, '小卖部': 9964, '符合要求': 9965, '洗澡盆': 9966, '沙田': 9967, '河边': 9968, '不比星': 9969, '那辆车': 9970, '车号': 9971, '欠佳': 9972, '忠恳': 9973, '会秉呈': 9974, '节': 9975, '上浮': 9976, '过过': 9977, '谗': 9978, '对预': 9979, '质疑': 9980, '天到': 9981, '要天': 9982, '满房': 9983, '能放张': 9984, '脚连个': 9985, '筒': 9986, '刷刷': 9987, '满嘴都是': 9988, '只值': 9989, '博览': 9990, '能加': 9991, '闯': 9992, '搬出去': 9993, '加进': 9994, '分明': 9995, '有能': 9996, '院墙': 9997, '常理': 9998, '康体': 9999, '总说': 10000, '肇庆': 10001, '江湖': 10002, '地位': 10003, '另开': 10004, '收据': 10005, '主意': 10006, '澡后': 10007, '卡当': 10008, '又响': 10009, '收大元': 10010, '公婆': 10011, '千年': 10012, '雪封过': 10013, '俊': 10014, '仔': 10015, '凤爪': 10016, '叉烧包': 10017, '盖印': 10018, '早上好': 10019, '旁连放': 10020, '定个': 10021, '很葬': 10022, '离三孔': 10023, '儒家': 10024, '冷试': 10025, '排气口': 10026, '我多盖': 10027, '发烧': 10028, '兼': 10029, '铺垫': 10030, '伞拉在': 10031, '购票': 10032, '岂非': 10033, '分属': 10034, '住金': 10035, '绿萌': 10036, '盈盈': 10037, '佛': 10038, '泰比': 10039, '燃气': 10040, '前锋': 10041, '垫被': 10042, '过乐': 10043, '国展': 10044, '红包': 10045, '皮肤病': 10046, '长征医院': 10047, '确诊': 10048, '不经': 10049, '罪': 10050, '拖累': 10051, '名声': 10052, '绿树成荫': 10053, '乐趣': 10054, '红烧肉': 10055, '蒸饺': 10056, '床是': 10057, '满送': 10058, '噱头': 10059, '满心欢喜': 10060, '乒乓室': 10061, '真去': 10062, '明早': 10063, '好要': 10064, '较重': 10065, '关键在于': 10066, '鼠': 10067, '水泥块': 10068, '硕大': 10069, '蹿': 10070, '如家能': 10071, '灭绝': 10072, '鼠患': 10073, '云泥之别': 10074, '争气': 10075, '建筑物': 10076, '夸口': 10077, '真烂': 10078, '花多': 10079, '馊': 10080, '云龙': 10081, '等同': 10082, '灌水': 10083, '放盐': 10084, 'confirm': 10085, '建筑施工': 10086, '由然而生': 10087, '当下': 10088, '推卸责任': 10089, '皮球': 10090, '踢': 10091, '肥': 10092, '间间': 10093, '两入': 10094, '与人方便': 10095, '这才查': 10096, '杨小姐': 10097, '留着': 10098, '人金贵': 10099, '脑筋': 10100, '房转': 10101, '时到': 10102, '补多': 10103, '本月': 10104, '马戏': 10105, '任选': 10106, '要进': 10107, '这票': 10108, '扣住': 10109, '每有': 10110, '顾着': 10111, '查到': 10112, '东北地区': 10113, '影像': 10114, 'bestwestern': 10115, '并洲': 10116, '地定': 10117, '湖滨': 10118, '改定': 10119, '漳电头': 10120, '安安静静': 10121, '哈尔': 10122, '宾算': 10123, '哥们': 10124, '飞机场': 10125, '秋林': 10126, '住定': 10127, '质数': 10128, '新城区': 10129, '汕头': 10130, '快活': 10131, '海鲜城': 10132, '茶楼': 10133, '台士': 10134, '超快': 10135, '公务': 10136, '时太乱': 10137, '挤成一团': 10138, '稳': 10139, '倍受鼓舞': 10140, '摘掉': 10141, '做起': 10142, '伤心': 10143, '店名': 10144, '卡壳': 10145, '海拔': 10146, '山泉水': 10147, '茫茫': 10148, '说太多': 10149, '热洗': 10150, '星时': 10151, '太阔': 10152, '晚间': 10153, '想订': 10154, '卫兰轩': 10155, '湾景': 10156, 'logo': 10157, '累坏': 10158, '不慢': 10159, '八九十': 10160, '万事达卡': 10161, '呼呼': 10162, '格太': 10163, '昆百': 10164, '叮醒': 10165, '餐卷': 10166, '极贵': 10167, '合情理': 10168, '时多收': 10169, '先讲': 10170, '升经': 10171, '讲连个': 10172, '使用率': 10173, '边沿': 10174, '磨烂': 10175, '刷头': 10176, '握': 10177, '柄': 10178, '好脏': 10179, '国大': 10180, '摩擦': 10181, '时时': 10182, '塞满': 10183, '不畅': 10184, '得当': 10185, '三月': 10186, '五号': 10187, '陈列': 10188, '华贵': 10189, '清幽': 10190, '相给': 10191, '时限': 10192, '上岛': 10193, '吊竿': 10194, '超小不说': 10195, '长安街': 10196, '延长线': 10197, '须要': 10198, '天呐': 10199, '窜入': 10200, '周去': 10201, '少恩': 10202, '指挥': 10203, '外边': 10204, '看象': 10205, '光明顶': 10206, '狮子林': 10207, '稍近': 10208, '华山': 10209, '两件事': 10210, '差连': 10211, '楼栋': 10212, '平庸': 10213, '落脚点': 10214, '真差': 10215, '鱼水之欢': 10216, '华阳': 10217, '驾车者': 10218, '破落': 10219, '大呼': 10220, 'wye': 10221, '看守': 10222, '惊': 10223, '空城计': 10224, '万': 10225, '完竟': 10226, '漆面': 10227, '冷清清': 10228, '住嘉利': 10229, '握住': 10230, '州': 10231, '手少': 10232, '金水路': 10233, '及路': 10234, '不民': 10235, '斜面': 10236, '元去': 10237, '吃舞': 10238, '然久': 10239, '床度': 10240, '花安': 10241, '外授': 10242, '内生': 10243, '毛有': 10244, '身刷': 10245, '漱口水': 10246, '加分西': 10247, '但据': 10248, '主打': 10249, 'priorityclubmembercard': 10250, '其服': 10251, '集下': 10252, '人度': 10253, '而道': 10254, '占据': 10255, '然施': 10256, '服及': 10257, '人太': 10258, '湿乎乎': 10259, '纠正': 10260, '双号': 10261, '国歌声': 10262, '施地': 10263, '用网': 10264, '沉': 10265, '姑娘': 10266, '抗着': 10267, '扛着': 10268, '有貌': 10269, '奈何': 10270, '很整': 10271, '境合': 10272, '及研': 10273, '量助': 10274, '深水': 10275, '活室': 10276, '去争': 10277, 'т': 10278, '腹隔': 10279, '腹': 10280, 'タ': 10281, '癸': 10282, 'ǐ': 10283, '牧诀': 10284, '初娩': 10285, '暗诀': 10286, '初': 10287, 'ぺ': 10288, 'じ': 10289, '衡': 10290, 'ス': 10291, '牧逗': 10292, 'ゑ': 10293, '耕': 10294, '名胜': 10295, '送给': 10296, '逛商场': 10297, '生意兴隆': 10298, '实力': 10299, '粗燥': 10300, '时向': 10301, '礼品袋': 10302, '杂乱': 10303, '礼仪': 10304, '果篮盒': 10305, '炭烧': 10306, '薯片': 10307, '布': 10308, '草房': 10309, '之时': 10310, '时侯': 10311, '很松': 10312, '学生妹': 10313, '陪游': 10314, '安保': 10315, '必胜客': 10316, '简餐': 10317, '仙踪': 10318, '据点': 10319, '为大床': 10320, '另一番': 10321, '诗意': 10322, '农村': 10323, '下靠': 10324, '不选': 10325, '星空': 10326, 'bbccnn': 10327, '小键盘': 10328, 'a型': 10329, '订天': 10330, '会事': 10331, '老美说': 10332, '那方': 10333, '远东': 10334, '鼎': 10335, '见谅': 10336, '说莫泰': 10337, '胸闷': 10338, '底联': 10339, '群': 10340, '做活': 10341, '工资': 10342, '抛弃': 10343, '收着': 10344, '点连星': 10345, '硬要': 10346, '多算': 10347, '茶经': 10348, '琳琅满目': 10349, '真是假': 10350, '搞订': 10351, '二周': 10352, '个大床': 10353, '有二米': 10354, '蛮全': 10355, '首家': 10356, '双溪': 10357, '完泳': 10358, '沙': 10359, '弧球': 10360, '殷切': 10361, '命名': 10362, '小溪': 10363, '渔': 10364, '鸭': 10365, '一百五十元': 10366, '那股': 10367, '热浪': 10368, '山间': 10369, '消耗': 10370, '殆尽': 10371, '凉风': 10372, '吹来': 10373, '度个': 10374, '家居用品': 10375, '差象': 10376, '味美': 10377, '查来查': 10378, '记': 10379, '名下': 10380, '偏小厅': 10381, 'hbobbc': 10382, '电影台': 10383, '好远': 10384, '洞房': 10385, '铁通': 10386, '比汉庭': 10387, '衣宵': 10388, '服务牌': 10389, '餐品': 10390, '从容': 10391, '多款': 10392, '开会讨论': 10393, '两圈': 10394, '司': 10395, '趁火打劫': 10396, '怒房': 10397, '只慢': 10398, '歌本': 10399, '房和格': 10400, '喜': 10401, '恭': 10402, '梁思': 10403, '制定': 10404, '一拉': 10405, '一点很多': 10406, '登入': 10407, '名誉': 10408, '紧急会议': 10409, '牌号': 10410, '两顿': 10411, '观看电视': 10412, '收看': 10413, '区有': 10414, '问卷调查': 10415, '悄悄': 10416, '南普陀': 10417, '厦大': 10418, '潮得': 10419, '小弟': 10420, '饶': 10421, '马自达': 10422, '奥迪': 10423, '帮送': 10424, '日文': 10425, '妖艳': 10426, '口音': 10427, '本楼': 10428, '自作聪': 10429, '海标': 10430, '直面': 10431, '一袋': 10432, '竹炭': 10433, '灭蚊': 10434, '住久': 10435, '体验生活': 10436, '漂白粉': 10437, '私自': 10438, '改动': 10439, '连水单': 10440, '后能': 10441, '一级': 10442, '诶': 10443, '北京电视台': 10444, '北外': 10445, '中国青年政治学院': 10446, '北京理工大学': 10447, '中央民族大学': 10448, '几根': 10449, '瞒': 10450, '国际台': 10451, '列出来': 10452, '电视柜': 10453, '迟个': 10454, '回见': 10455, '时水单': 10456, '应含': 10457, '元才': 10458, '上餐': 10459, '修浴': 10460, '洗濑': 10461, '背包': 10462, '向北': 10463, '三两个': 10464, 'dell': 10465, '性能': 10466, '主流': 10467, '两点钟': 10468, '超前': 10469, '下海': 10470, '玩沙': 10471, '散发': 10472, '灵异': 10473, '平安无事': 10474, '读光盘': 10475, '失败': 10476, '碰过': 10477, '误机': 10478, '交通堵塞': 10479, '往下': 10480, '分公司': 10481, '毫不犹豫': 10482, '发短信': 10483, '渠道': 10484, '再会用': 10485, '因满房': 10486, '表示遗憾': 10487, '高质量': 10488, '另一半': 10489, '温控': 10490, '暴热': 10491, '左转': 10492, '东四十条': 10493, '般配': 10494, '查卡': 10495, '芯片': 10496, '连试': 10497, '开行': 10498, '浴足': 10499, '却告': 10500, '私下里': 10501, '如去': 10502, '房蛮': 10503, '长大': 10504, '水床': 10505, '格个': 10506, '鸡笼': 10507, '这年头': 10508, '皇嘉给': 10509, '换后': 10510, '差台': 10511, '皇嘉': 10512, '厅里': 10513, '降个': 10514, '出自': 10515, '之手': 10516, '档案': 10517, '市政': 10518, '新昌': 10519, '文明城市': 10520, '示范性': 10521, '谦意': 10522, '毛体': 10523, '摘录': 10524, '所题': 10525, '自制': 10526, '枣泥': 10527, '培根': 10528, '好广': 10529, '受欢迎': 10530, '四季豆': 10531, '蛇形': 10532, '层层': 10533, '停车库': 10534, '左侧': 10535, '右侧': 10536, '坪': 10537, '或山': 10538, '首推': 10539, '岛屿': 10540, '层峦': 10541, '遮拦': 10542, '水墨画': 10543, '韵味': 10544, '天水': 10545, '自然景观': 10546, '雕饰': 10547, '椅': 10548, '扮': 10549, '耗到': 10550, '冲杯': 10551, '驶过': 10552, '快艇': 10553, '望望': 10554, '远山': 10555, '隔条': 10556, '园林绿化': 10557, '睡大床': 10558, '湖景大床': 10559, '视角': 10560, '晚换': 10561, '房正': 10562, '水湾': 10563, '碧水': 10564, '不足为奇': 10565, '水面': 10566, '折线': 10567, '左望': 10568, '湖区': 10569, '最远': 10570, '问津': 10571, '文化公园': 10572, '复式': 10573, '秋冬季': 10574, '橡胶': 10575, '贵块': 10576, '叫辆': 10577, '确标': 10578, '老高': 10579, '加冰': 10580, '自古': 10581, '交通要道': 10582, '毫华': 10583, '喝啤酒': 10584, '问下路': 10585, '时头': 10586, '拜拜': 10587, '除要': 10588, '费外': 10589, '钱元': 10590, '到头来': 10591, '座票': 10592, '还付': 10593, '次到': 10594, '硬卧': 10595, '软卧': 10596, '不阻': 10597, '甚大': 10598, '数天': 10599, '毒': 10600, '给排水': 10601, '工程项目': 10602, '善于': 10603, '找外': 10604, '中西合璧': 10605, '豆腐花': 10606, '肉肠': 10607, '仔冷': 10608, '火腿': 10609, '指数': 10610, '有增无减': 10611, '两盒': 10612, '月饼': 10613, '打水单': 10614, '运通卡': 10615, '三门峡': 10616, '可谈': 10617, '近日点': 10618, '击倒': 10619, '变热': 10620, '饮水': 10621, '茶垢': 10622, '超薄': 10623, '打火机': 10624, '从来不': 10625, '几十个': 10626, '百家': 10627, '金碧辉煌': 10628, '轮船': 10629, '锅贴': 10630, '大王': 10631, '家俱': 10632, '几大': 10633, '低如': 10634, '点许': 10635, '时起': 10636, '健身操': 10637, '港澳': 10638, '已交': 10639, '未算': 10640, '时即': 10641, '扎堆': 10642, '不可开交': 10643, '册子': 10644, '水给': 10645, '加水': 10646, '会动': 10647, '套套': 10648, '平价': 10649, '加湿器': 10650, '作作': 10651, '凸显': 10652, '光临惠顾': 10653, '初二': 10654, '插进去': 10655, '不爽快': 10656, '已作': 10657, '会用': 10658, '水毛': 10659, '最靠': 10660, '凳': 10661, '货': 10662, '澡堂子': 10663, '发个': 10664, '纸张': 10665, '断断续续': 10666, '图象': 10667, '杂烩': 10668, '一众泳': 10669, '客们': 10670, '说评': 10671, '评委': 10672, '导盲犬': 10673, '搜集': 10674, '二日': 10675, '吃了饭': 10676, '游人': 10677, '物不所值': 10678, '受冻': 10679, '诱使': 10680, '上不来': 10681, '箱柜': 10682, '夸奖': 10683, '该洒店': 10684, '全且': 10685, '放心使用': 10686, '见山山味': 10687, '凉拌': 10688, '靓妹': 10689, '养眼': 10690, '早会': 10691, '视为': 10692, '分辨': 10693, '撕开': 10694, '帮帮忙': 10695, '害人': 10696, '除夕夜': 10697, '为豪': 10698, '标元': 10699, '竟比前': 10700, '更小到': 10701, '梳妆台': 10702, '次住': 10703, '转房': 10704, '多贴': 10705, '这烂远': 10706, '达大上': 10707, '多花元': 10708, '撑死': 10709, '所在地': 10710, '徐汇': 10711, '爱菊': 10712, '小学': 10713, '往右': 10714, '水果店': 10715, '衡山路': 10716, '喷泉': 10717, '青翠': 10718, '两部': 10719, '抹布': 10720, '充当': 10721, '维修工': 10722, '察看': 10723, '车且': 10724, '该死': 10725, '里间': 10726, '木结构': 10727, '天花乱坠': 10728, '低分': 10729, '莫太住': 10730, '你好': 10731, '时断时续': 10732, '断': 10733, '去秋': 10734, '长途费': 10735, '技巧': 10736, '水渠': 10737, '用水': 10738, '床前': 10739, '夹逢': 10740, '渗透': 10741, '感同身受': 10742, '王杰': 10743, '金玉': 10744, '盛': 10745, '胃病': 10746, '进餐': 10747, '胃黏膜': 10748, '小盘': 10749, '脚面': 10750, '云南白药': 10751, '膏': 10752, '一瘸一拐': 10753, '痊愈': 10754, '慢性': 10755, '咽炎': 10756, '取来': 10757, '金嗓子喉宝': 10758, '糖浆': 10759, '见效': 10760, '整整齐齐': 10761, '有方': 10762, '培养': 10763, '之好': 10764, '殷勤': 10765, '超一流': 10766, '效率高': 10767, '菜谱': 10768, '素菜': 10769, '金雁': 10770, '三千五百': 10771, '特级': 10772, '房明明': 10773, '人买': 10774, '差临': 10775, '时如家': 10776, '罚款': 10777, '面帮': 10778, '见状': 10779, '初到': 10780, '注意事项': 10781, '美死': 10782, '正大': 10783, '说句实话': 10784, '太叫': 10785, '默默': 10786, '渐渐': 10787, '激烈': 10788, '致命伤': 10789, '景德镇': 10790, '复查': 10791, '粉末': 10792, '婺源': 10793, '不经意': 10794, '收不说': 10795, '无障碍': 10796, '小心眼': 10797, '一般来说': 10798, '临柜': 10799, '迟疑': 10800, '三百多': 10801, '价想': 10802, '细问': 10803, '呼吁': 10804, '好比': 10805, '拿海悦': 10806, '海口市': 10807, '开打': 10808, '弄不好': 10809, '厌烦': 10810, '麦当劳': 10811, '影剧院': 10812, '封边': 10813, '跷起': 10814, '整栋': 10815, '中州': 10816, '广式': 10817, '台问': 10818, '房日': 10819, '刁难': 10820, '应答': 10821, '全没': 10822, '丽悦': 10823, '真该': 10824, '订位': 10825, '困惑': 10826, '令郎': 10827, '足不出户': 10828, '稍作': 10829, '下半夜': 10830, '理说': 10831, '响应': 10832, '能耗': 10833, 'dfs': 10834, '转接头': 10835, '有点像': 10836, '水瓶': 10837, '衣云收': 10838, '洽谈会': 10839, '老表': 10840, '有鬼': 10841, '真烦': 10842, '最困': 10843, '最累': 10844, '成号': 10845, '木乃伊': 10846, '留神': 10847, '不热洗': 10848, '崩溃': 10849, '中国式': 10850, '咸鸭蛋': 10851, '水泵': 10852, '风景点': 10853, '门派': 10854, '美梦': 10855, '赞太': 10856, '强太多': 10857, '定过': 10858, '此于': 10859, '一个团': 10860, '腾房': 10861, '引诱': 10862, '定到': 10863, '中十': 10864, '金旭': 10865, '极快': 10866, '山高皇帝远': 10867, '蝴蝶谷': 10868, '前人': 10869, '属实': 10870, '桃园': 10871, '别具': 10872, '地板砖': 10873, '平添': 10874, '情趣': 10875, '南海': 10876, '实景': 10877, '清补': 10878, '凉山': 10879, '老得': 10880, '闹心': 10881, '不旺': 10882, '冒雨': 10883, '三级片': 10884, '花洒管': 10885, '软管': 10886, '手巧': 10887, '剪掉': 10888, '一节': 10889, '水暖': 10890, '制造': 10891, '惊奇': 10892, '想开': 10893, '四川话': 10894, '连小': 10895, '小处': 10896, '离江近': 10897, '煤': 10898, '每件事': 10899, '灯不亮': 10900, '一切正常': 10901, '房悟': 10902, '亲笔写': 10903, '晚当': 10904, '打破': 10905, '闽南人': 10906, '八宝': 10907, '之余': 10908, '愧疚': 10909, '一封信': 10910, '赔还': 10911, '两片': 10912, '创可贴': 10913, '圣诞礼物': 10914, '贺卡': 10915, '姓氏': 10916, '联系方式': 10917, '程式化': 10918, '临江': 10919, '元人钟': 10920, '钓鱼': 10921, '说华荣': 10922, '住华荣': 10923, '株洲': 10924, 'shopping': 10925, '无非': 10926, '人行天桥': 10927, '伐善': 10928, '窗正': 10929, '东南西北': 10930, '分不清': 10931, '数分钟': 10932, '生力': 10933, '歌手': 10934, '献唱': 10935, '唱前': 10936, 'lobby': 10937, '鱼翅': 10938, '抠门儿': 10939, '尝鲜': 10940, '再预': 10941, '账户': 10942, '卡有': 10943, '卡告': 10944, '我延住': 10945, '锁住': 10946, '没法儿': 10947, '这点儿': 10948, '卡预': 10949, '房给': 10950, '主观': 10951, '火车头': 10952, '维修站': 10953, '机务段': 10954, '性骚扰': 10955, '内江': 10956, '难度': 10957, '时快时慢': 10958, '外车': 10959, '前期': 10960, '供货': 10961, '井冈山': 10962, '全家人': 10963, 'spa': 10964, '不善': 10965, '了佰富': 10966, '气结': 10967, '佰富': 10968, '不胜其烦': 10969, '欢场': 10970, '抢过去': 10971, '要元人': 10972, '元场': 10973, '歌城': 10974, '好路': 10975, '颠簸': 10976, '费油': 10977, '离合器': 10978, '指路牌': 10979, '甚元': 10980, '成天': 10981, '喝得': 10982, '赤': 10983, '胡脸': 10984, '不屑': 10985, '陪衬': 10986, '放卡': 10987, '天底下': 10988, '一段话': 10989, '卡元': 10990, '返航': 10991, 'latecheckout': 10992, '一课': 10993, '坚毅': 10994, '预签': 10995, '老师': 10996, '白痴': 10997, '四晚': 10998, '撮': 10999, '全湿': 11000, '仔细观察': 11001, '撬': 11002, '房上': 11003, '坐式': 11004, '得用': 11005, '浮': 11006, '毛毛': 11007, '粘上': 11008, '狭隘': 11009, '结房': 11010, '动用': 11011, '罢休': 11012, '童床': 11013, '不包': 11014, '开想': 11015, '偶遇': 11016, '中档': 11017, '孤陋寡闻': 11018, '插曲': 11019, '竟放': 11020, '铁架': 11021, '内装': 11022, '运转': 11023, '压缩机': 11024, '拖走': 11025, '日语': 11026, '笔误': 11027, '一升': 11028, '门会': 11029, '传出': 11030, '消化不良': 11031, '谷维素': 11032, '神经': 11033, '安眠': 11034, '阙': 11035, '里宾': 11036, '舍': 11037, '抵制': 11038, '受人之托': 11039, '需要的话': 11040, '更何况': 11041, '超土': 11042, '尊爵': 11043, '湖畔': 11044, '搜到': 11045, 'nizdcspriispmqpdrhio': 11046, '刘公岛': 11047, '海堤': 11048, '边有': 11049, '星期一': 11050, '五买': 11051, '三送': 11052, '八月': 11053, '五十分钟': 11054, '端茶': 11055, '送水': 11056, '姜茶': 11057, '携城订': 11058, '藏式': 11059, '牧舍': 11060, '不管怎样': 11061, '夸': 11062, '文本': 11063, 'abc': 11064, '我姐': 11065, '太冲': 11066, '长寿路': 11067, '单栋': 11068, '美化': 11069, '当有': 11070, '乘客': 11071, '下车时': 11072, '不方': 11073, '六百块': 11074, '多送': 11075, '地标': 11076, '部人': 11077, '窝火': 11078, '我象': 11079, '底': 11080, '翘个': 11081, '公用电话': 11082, 'serves': 11083, '冲不去': 11084, '升旗仪式': 11085, '电话机': 11086, '偷吃': 11087, '偏闹': 11088, '尚能': 11089, '湖景标': 11090, '大得': 11091, '床沿': 11092, '土气': 11093, '樱花': 11094, '渺无人烟': 11095, '花花草草': 11096, '房此': 11097, '别墅式': 11098, '李志宁': 11099, '特高': 11100, '双桥': 11101, '陈逸飞': 11102, '万三蹄': 11103, '镇上': 11104, '基本素质': 11105, '打孔': 11106, '还花': 11107, '飘来': 11108, '加块': 11109, '海上': 11110, '亲近感': 11111, '停顿': 11112, '位待': 11113, '直逼': 11114, '物无所值': 11115, '升降': 11116, '阻': 11117, '水花': 11118, '水弄': 11119, '外近': 11120, '明污': 11121, '很子': 11122, '甚失': 11123, '施房': 11124, '收是': 11125, '付出': 11126, '一仟': 11127, '奇林': 11128, '大喜过望': 11129, '优缺点': 11130, '一大跳': 11131, '米够': 11132, '一个舒服': 11133, '泡泡': 11134, '劳累': 11135, '顿': 11136, '隔夜饭': 11137, '同胞们': 11138, '口碑': 11139, '有加': 11140, '依山傍水': 11141, '请进来': 11142, '埃及': 11143, '活动场所': 11144, '见怪不怪': 11145, '漏出来': 11146, '仅次于': 11147, '漓江': 11148, '湖房': 11149, '面湖房': 11150, '重新考虑': 11151, '重选': 11152, '山房': 11153, '退订': 11154, '选定': 11155, '后先': 11156, '肿块': 11157, '痛痒': 11158, '钻心': 11159, '皮肤科': 11160, '咬得': 11161, '万分': 11162, '新加坡': 11163, '禁烟': 11164, '吞云吐雾': 11165, '阻止': 11166, '弹': 11167, '烟灰': 11168, '摇摇晃晃': 11169, '遮光': 11170, '光照': 11171, '灯来': 11172, '见墙': 11173, '秋冬': 11174, '萧瑟': 11175, '窝': 11176, '叫餐': 11177, '退烧药': 11178, '感冒药': 11179, '厦门岛': 11180, '星且': 11181, '能快': 11182, '一房一厅': 11183, '网点': 11184, '早班车': 11185, '需点': 11186, '吃螃蟹': 11187, '一文不值': 11188, '江滨公园': 11189, '城去': 11190, '胡说八道': 11191, '宿舍': 11192, '真可算': 11193, '够格': 11194, '不多远': 11195, '通往': 11196, '陶然': 11197, '在内': 11198, '小吃店': 11199, '灯红酒绿': 11200, '卖场': 11201, '土特产品': 11202, '带回家': 11203, '需费些': 11204, '多半': 11205, '地域': 11206, '用词': 11207, '遇到困难': 11208, '排忧解难': 11209, '疯女人': 11210, '砸门': 11211, '挂准': 11212, '学生公寓': 11213, '阻塞': 11214, '摆布': 11215, '增城': 11216, '县市': 11217, '侃价': 11218, '前几日': 11219, '山西旅游': 11220, '查错': 11221, '双床间': 11222, '去入': 11223, '取住': 11224, '难道说': 11225, '谱': 11226, '悄悄地': 11227, '靠背椅': 11228, '坐人': 11229, '忘带': 11230, '闲居': 11231, '粗劣': 11232, '因是': 11233, '寒冷': 11234, '初冬': 11235, '纯水': 11236, '解放路': 11237, '火机': 11238, '座垫': 11239, '风大': 11240, '炒河粉': 11241, '毁掉': 11242, '还星': 11243, '处身': 11244, '第一分钟': 11245, '一个半月': 11246, '并不多': 11247, '搬开': 11248, '问个': 11249, '所以然': 11250, '时涮': 11251, '我次': 11252, '发到': 11253, '园玩': 11254, '一拨': 11255, '喝多': 11256, '打架': 11257, '咋爽': 11258, '关窗': 11259, '说个事': 11260, '崩': 11261, '菩萨': 11262, '二百块': 11263, '总来': 11264, '上海滩': 11265, '海浪声': 11266, '离剑池': 11267, '芦花': 11268, '荡': 11269, '旭光': 11270, '台近': 11271, '下台阶': 11272, '四间房': 11273, '双阳台': 11274, '山蚊': 11275, '凶猛': 11276, '穿防': 11277, '衣裤': 11278, '前山': 11279, '高等级公路': 11280, '绕远': 11281, '陡窄': 11282, '正义路': 11283, '三圈': 11284, '并续': 11285, '粘着': 11286, '八个': 11287, '心理障碍': 11288, '昏倒': 11289, '俩个': 11290, '药味': 11291, '隔层': 11292, '算有': 11293, '查完': 11294, '房才': 11295, '结只': 11296, '怕人': 11297, '万万': 11298, '存心': 11299, '特有': 11300, '狠下功夫': 11301, '清扫': 11302, '房双床': 11303, '真令人': 11304, '靓姐': 11305, '阿妹': 11306, '纯净水': 11307, '大一': 11308, '畅通': 11309, '京伦': 11310, '鸳飞': 11311, '几号楼': 11312, '南通': 11313, '马鞍山': 11314, '虱子': 11315, '全身上下': 11316, '疙瘩': 11317, '于长春': 11318, '稍旧': 11319, '厦门市': 11320, '有车族': 11321, '花布': 11322, '点缀': 11323, '小瓶': 11324, '旁写': 11325, '远路': 11326, '体育馆': 11327, '万变不离其宗': 11328, '初步': 11329, '九个': 11330, '金鸡湖': 11331, '口到': 11332, '告示': 11333, '会务': 11334, '公务活动': 11335, '两百多': 11336, '规规矩矩': 11337, '中规': 11338, '中举': 11339, '超越': 11340, '很旧': 11341, '很糙': 11342, '现买': 11343, '脏度': 11344, '鼻涕': 11345, '离得床': 11346, '分店': 11347, '大烟囱': 11348, '长出': 11349, '豆豆': 11350, '所致': 11351, '所持': 11352, '删去': 11353, '够快': 11354, '三餐': 11355, '间标': 11356, '两幢': 11357, '泥水': 11358, '失灵': 11359, '当门卡': 11360, '做卡时': 11361, 'n年': 11362, '某县': 11363, '一架': 11364, '中振和华庭': 11365, '世贸': 11366, '横幅': 11367, '密集': 11368, '强大': 11369, '抗干扰能力': 11370, '只见': 11371, '只管': 11372, '封锁': 11373, '旧点': 11374, '价比高': 11375, '元包': 11376, '要小休': 11377, '美食节': 11378, '羔羊': 11379, '深山': 11380, '老鸡': 11381, '文殊院': 11382, '已多此': 11383, '夏日': 11384, '华融': 11385, '不大不小': 11386, '余下': 11387, '金谷': 11388, '排到': 11389, '小袋': 11390, '雀巢咖啡': 11391, '还算过': 11392, '晚时': 11393, '笑容可掬': 11394, '虚惊': 11395, '第一站': 11396, '确如': 11397, '大而无当': 11398, '卖力': 11399, '包大': 11400, '好用': 11401, '走南闯北': 11402, '浙江省': 11403, '口帮': 11404, '唤来': 11405, '推到': 11406, '车前': 11407, '装好车': 11408, '殉职': 11409, '不感兴趣': 11410, '剧吵': 11411, '合紧': 11412, '溅出': 11413, '克服': 11414, '三百元': 11415, '木耳': 11416, '黑笋': 11417, '门把手': 11418, '婚房': 11419, '闹房': 11420, '分机': 11421, '卡上': 11422, '搬下来': 11423, '卡给': 11424, '猴年马月': 11425, '哭闹': 11426, '打屁股': 11427, '瞟': 11428, '打住': 11429, '瑜珈': 11430, '峨眉': 11431, '需元人': 11432, '比较复杂': 11433, '迷宫': 11434, '尚佳': 11435, '价与': 11436, '接会': 11437, '太差脏': 11438, '乱说': 11439, '华强北': 11440, 'yangming': 11441, '开水瓶': 11442, '冻人': 11443, '标件': 11444, '稍慢': 11445, '算大': 11446, '折算': 11447, '长长的': 11448, '亭台楼阁': 11449, '悠悠的': 11450, '民乐': 11451, '一步之遥': 11452, '悠闲自得': 11453, '取笑': 11454, '反倒': 11455, '本末倒置': 11456, '坐坐': 11457, '口层': 11458, '包围': 11459, '用脑': 11460, '叫个': 11461, '不大不急': 11462, '基金': 11463, '带我去': 11464, '说车': 11465, '桑那': 11466, '骗钱': 11467, '管理混乱': 11468, '很旺': 11469, '果篮': 11470, '最绝': 11471, '菱湖': 11472, '时俩': 11473, '专为': 11474, '一人办': 11475, '慢悠悠': 11476, '打错': 11477, '不急': 11478, '不忙': 11479, '权只': 11480, '单临': 11481, '输': 11482, '走人时': 11483, '人走茶凉': 11484, '交到': 11485, '不写': 11486, '炝': 11487, '拌': 11488, '不惯': 11489, '奶': 11490, '傍晚': 11491, '俩': 11492, '撕打': 11493, '嗓子': 11494, '变远': 11495, '哭喊': 11496, '按理说': 11497, '小书': 11498, '抬抬': 11499, '眼皮': 11500, '提问': 11501, '远米': 11502, '点式住宅': 11503, '老油条': 11504, '展览': 11505, '超标准': 11506, '两扇': 11507, '两听': 11508, '没喝': 11509, '夫子庙': 11510, '已带': 11511, '路况': 11512, '弄成': 11513, '制作': 11514, '标牌': 11515, '消毒水': 11516, '冷开': 11517, '皆': 11518, '甚至于': 11519, '领进': 11520, '房说': 11521, '赔礼': 11522, '如不送': 11523, '中山北路': 11524, '半露': 11525, '露': 11526, '安全卫生': 11527, '动力': 11528, '行床': 11529, '电脑台': 11530, '能少': 11531, '我想会': 11532, '走挺长': 11533, '日用品': 11534, '有桥': 11535, '婚纱': 11536, '模特': 11537, '取景': 11538, '莫家': 11539, '华联': 11540, '大十字': 11541, '被动': 11542, '满大': 11543, '立式': 11544, '肥皂沫': 11545, '搽': 11546, '磁湖': 11547, '湖北': 11548, '雨雪': 11549, '通风口': 11550, '订死': 11551, '伸': 11552, '手能': 11553, '川北': 11554, '凉粉': 11555, '蚌埠': 11556, '东营': 11557, '蓝海': 11558, '还漏': 11559, '水浴': 11560, '近火站': 11561, '中以': 11562, '尺度': 11563, '置': 11564, '平心': 11565, '而委不中': 11566, '中距': 11567, '之直': 11568, '是程': 11569, '不豪': 11570, '敞舒坐': 11571, '服奉': 11572, '茶花': 11573, '外望': 11574, '野空': 11575, '不促': 11576, '恰化': 11577, '免上': 11578, '偶有': 11579, '服都': 11580, '地助度': 11581, '堪嘉': 11582, '足生': 11583, '踏': 11584, '不持': 11585, '有友': 11586, '餐服': 11587, '翠杏村': 11588, '兰桂坊': 11589, '双眼': 11590, '蔡雪': 11591, '奇贵': 11592, '洋': 11593, '天上人间': 11594, '料理店': 11595, '吃顿': 11596, '保健': 11597, '只选': 11598, '自有': 11599, '耗时间': 11600, '多时': 11601, '高速公路': 11602, '散漫': 11603, '大杂烩': 11604, '泡菜': 11605, '变味': 11606, '无可奈何': 11607, '听任': 11608, '一千六百': 11609, 'email': 11610, '妥当': 11611, '撇得': 11612, '操作失误': 11613, '好几年': 11614, '那点': 11615, '浓列': 11616, '力马': 11617, '两岁': 11618, '付大元': 11619, '买条': 11620, '任人宰割': 11621, '窗头': 11622, '白帆': 11623, '一览无余': 11624, '匹萨': 11625, '电脑桌': 11626, '金桥': 11627, '碧云': 11628, '受贿': 11629, '丢脸': 11630, '雪灾': 11631, '仁': 11632, '安悦榕': 11633, '座落在': 11634, '藏民': 11635, '村落': 11636, '融为一体': 11637, '何满': 11638, '封山': 11639, '藏族': 11640, '扎西': 11641, '要开': 11642, '正湖房': 11643, '我间': 11644, '首饰盒': 11645, '耳环': 11646, '瓶身': 11647, '加热棒': 11648, '星星点点': 11649, '发白': 11650, '发绿': 11651, '霉点': 11652, '就度': 11653, '低量': 11654, '打局': 11655, '保球': 11656, '保球券': 11657, '六及': 11658, '日用': 11659, '天呀': 11660, 'ctripoffice': 11661, '然不': 11662, '多重': 11663, '很道': 11664, '打保': 11665, '著想': 11666, 'ctripcom': 11667, '好解': 11668, '保龄球馆': 11669, '赠券': 11670, '误会': 11671, '雅客': 11672, '尽职尽责': 11673, '近若': 11674, '问单': 11675, '禁愕': 11676, '时拒': 11677, '四元': 11678, '斥责': 11679, '公然': 11680, '逃税': 11681, '牌照': 11682, '饮水器': 11683, '水桶': 11684, '拆下来': 11685, '订住': 11686, '到哪去': 11687, '楼刚': 11688, '一想': 11689, '天忍': 11690, '见个': 11691, '门窗': 11692, '迈过': 11693, '窗台': 11694, '缓台': 11695, '截然': 11696, '反复强调': 11697, '情': 11698, '单面': 11699, '怒火': 11700, '爆发': 11701, '钞票': 11702, '残缺': 11703, '上下左右': 11704, '回地': 11705, '大步': 11706, '迈出': 11707, '忠诚': 11708, '筛选': 11709, '宁少': 11710, '双塔': 11711, '咬人': 11712, '十多个': 11713, '公关': 11714, '窗能': 11715, '维港': 11716, '过餐': 11717, '停要': 11718, '弥敦道': 11719, '近路': 11720, '地收': 11721, '问一问': 11722, '确切': 11723, '龙城': 11724, '之上': 11725, '差悦华': 11726, '透光': 11727, '还歉': 11728, '帕艘': 11729, '徽蟆': 11730, 'inputtype': 11731, '炸鱼': 11732, '灵活': 11733, '合情合理': 11734, '豆浆店': 11735, '远远望去': 11736, '税元': 11737, '算来': 11738, '象样': 11739, '梨': 11740, '比较完善': 11741, '外来': 11742, '光源': 11743, '细看': 11744, '风水': 11745, '一擦': 11746, '气约点': 11747, '改订': 11748, '过人': 11749, '这店': 11750, '无形': 11751, '视': 11752, '而定': 11753, '比例': 11754, '阅览': 11755, '元旦': 11756, '水蒸汽': 11757, '会滴': 11758, '人员培训': 11759, '忙乱': 11760, '刷成': 11761, '三角板': 11762, '粘住': 11763, '加假': 11764, '一比': 11765, '旧办': 11766, '愚见': 11767, '摆好': 11768, '插口': 11769, '评友': 11770, '接连不断': 11771, '安生': 11772, '诸君': 11773, '胶': 11774, '来来往往': 11775, '平顶山': 11776, '不底': 11777, '治理': 11778, '除异味': 11779, '对岸': 11780, '象鼻山': 11781, '烧钱': 11782, '第一第二': 11783, '现代感': 11784, '需用': 11785, '第一位': 11786, '跌到': 11787, '五位': 11788, '从此以后': 11789, '千里之堤': 11790, '会崩于': 11791, '之不察则': 11792, '领取': 11793, '警方': 11794, '改口说': 11795, '穿插在': 11796, '苦不堪言': 11797, '在此之前': 11798, '数日': 11799, '周边城市': 11800, '所作所为': 11801, '模式化': 11802, '权力': 11803, '投票': 11804, '金叶': 11805, '压': 11806, '严格控制': 11807, '睡床': 11808, '苏城': 11809, '梅雨季节': 11810, '激励': 11811, '更名': 11812, '挂壁': 11813, '淮河': 11814, '以北': 11815, '这两块': 11816, '差住': 11817, '外境': 11818, '喧哗声': 11819, '看才': 11820, '喝醉酒': 11821, '人刚': 11822, '意味': 11823, '高高兴兴': 11824, '算得': 11825, '我米': 11826, '成年人': 11827, '需付': 11828, '游趣': 11829, '全无': 11830, '太脏且': 11831, '有块': 11832, '再点': 11833, '没影': 11834, '郴州': 11835, '价格不菲': 11836, '宽贷': 11837, '获取': 11838, '有史以来': 11839, '窝囊': 11840, '如入': 11841, '壁': 11842, '橱柜门': 11843, '皮': 11844, '胶粘': 11845, '原状': 11846, '老天': 11847, '处长': 11848, '弄坏': 11849, '钱别': 11850, '民警': 11851, '派出所': 11852, '录': 11853, '口供': 11854, '察': 11855, '指纹': 11856, '洗清': 11857, '冤情': 11858, '驾到': 11859, '递烟': 11860, '闹大': 11861, '闲着没事': 11862, '焚毁': 11863, '意欲': 11864, '体察': 11865, '肃清': 11866, '歪风邪气': 11867, '走过场': 11868, '乘船': 11869, '喝一杯': 11870, '寿司': 11871, '香肠': 11872, '烤鱼': 11873, '烤肉': 11874, '既有': 11875, '热热': 11876, '不来电': 11877, '咳天': 11878, '出让': 11879, '明档': 11880, '橘子': 11881, '乐队': 11882, '窜出': 11883, '飞快': 11884, '惊呆': 11885, '治安': 11886, '意': 11887, '小有': 11888, '最慢': 11889, '正逢': 11890, '春节假期': 11891, '黑龙江': 11892, '雨伞': 11893, '电脑网络': 11894, '通病': 11895, '重新认识': 11896, '这味': 11897, '木料': 11898, '哪来': 11899, '同房': 11900, '我关': 11901, '推不开': 11902, '一脚': 11903, '犯愁': 11904, '又费': 11905, '九牛二虎之力': 11906, '旧都': 11907, '发动机': 11908, '但点': 11909, '餐桌上': 11910, '调羹': 11911, '刀叉': 11912, '人数': 11913, '张券': 11914, '那台': 11915, '下定决心': 11916, '评出来': 11917, '方将': 11918, '方会': 11919, '存入': 11920, '挖': 11921, '鼻屎': 11922, '化妆': 11923, '起先': 11924, '元利': 11925, '极点': 11926, '恰年': 11927, '屋顶花园': 11928, '里大床': 11929, '三亚湾': 11930, '比水': 11931, '不太清': 11932, '差菜': 11933, '两码事': 11934, '矿业': 11935, '合营': 11936, '门有': 11937, '沅': 11938, '拔下来': 11939, '断楼': 11940, '喊叫声': 11941, '现场感': 11942, '太强': 11943, '小组': 11944, '哭丧着脸': 11945, '八百': 11946, '吊': 11947, '接过': 11948, '时间延迟': 11949, '方倒': 11950, '拿个': 11951, '抛开': 11952, '号线通': 11953, '公干': 11954, '梯里': 11955, '哈住': 11956, '湖店': 11957, '武义': 11958, '新宇': 11959, '明招': 11960, '付掉': 11961, '领队': 11962, '房因': 11963, '直奔': 11964, '完菜': 11965, '谁家': 11966, '场面': 11967, '啼笑皆非': 11968, '触碰': 11969, '丽晶': 11970, '端详': 11971, '查下': 11972, '每星期': 11973, '张卡': 11974, '疲惫': 11975, '绿皮': 11976, '莫高窟': 11977, '好水': 11978, '幢': 11979, '整楼': 11980, '区住': 11981, '空楼': 11982, '还会定': 11983, '世德': 11984, '红灯笼': 11985, '宅子': 11986, '一张白纸': 11987, '丢进': 11988, '瞌睡': 11989, '打夜': 11990, '第四天': 11991, 'xxx': 11992, '小倒': 11993, '无伤大雅': 11994, '局促': 11995, '灰常灰常': 11996, '粉粉': 11997, '投身': 11998, '稍小些': 11999, '倒算': 12000, '别无二选': 12001, '刚一': 12002, '不算数': 12003, '过数': 12004, '自尊': 12005, '小妹妹': 12006, '偷偷': 12007, '打瞌睡': 12008, '尔特': 12009, '金项链': 12010, '摘下': 12011, '丽庭': 12012, '坊': 12013, '东瀛': 12014, '露台': 12015, '恭为': 12016, '大煞风景': 12017, '日货': 12018, 'ｓ': 12019, 'ｙ': 12020, '小桌': 12021, '十人': 12022, '大桌': 12023, '大食': 12024, '大感': 12025, '新时空': 12026, '本不愿': 12027, '屯河': 12028, '偏狭': 12029, '少且': 12030, '清冷': 12031, '空荡': 12032, '暗旧': 12033, '陈脏': 12034, '邋遢': 12035, '奇少': 12036, '倨傲': 12037, '俾睨': 12038, '争风': 12039, '好辩': 12040, '宛若': 12041, '答非所问': 12042, '尚显': 12043, '新融': 12044, '调研': 12045, '五次': 12046, '改换': 12047, '当夜': 12048, '收些': 12049, '作何': 12050, '星而': 12051, '得星': 12052, '家园': 12053, '防盗窗': 12054, '另一面': 12055, '寻': 12056, '访问': 12057, '另收': 12058, '拿给': 12059, '离门': 12060, '常带': 12061, 'check': 12062, 'in': 12063, '三峡': 12064, '乘路路': 12065, '车离': 12066, '国': 12067, '强手': 12068, '抓仅': 12069, '乘路车': 12070, '各买': 12071, '几斤': 12072, '枸杞': 12073, '羊': 12074, '膻味': 12075, '只开': 12076, '等位': 12077, '许昌': 12078, '混子': 12079, '内里': 12080, '离地': 12081, '十公分': 12082, '关了灯': 12083, '反射': 12084, '亮得': 12085, '时取': 12086, '现烧': 12087, '下手': 12088, '得手': 12089, '会常来': 12090, '左右江': 12091, '泳裤': 12092, '工商银行': 12093, '无可': 12094, '人连个': 12095, '卡卡': 12096, '晨练': 12097, '联说': 12098, '赶去': 12099, '查说': 12100, '联': 12101, '换行': 12102, '遗忘': 12103, '特权': 12104, '缝里': 12105, '赊账': 12106, '密封性': 12107, '恶偏': 12108, '比美': 12109, '第二趟': 12110, '连声': 12111, '气死我': 12112, '跟本': 12113, '淋巴': 12114, '能到': 12115, '脚手架': 12116, '胆战心惊': 12117, '走入': 12118, '几部': 12119, '长长': 12120, '一两': 12121, '看清': 12122, '太空': 12123, '一桶': 12124, '好长时间': 12125, '为啥': 12126, '发痒': 12127, '口渴': 12128, '总能': 12129, '一壶水': 12130, '买水': 12131, '众': 12132, '决': 12133, '经济效益': 12134, '竞争者': 12135, '奇快': 12136, '掌上': 12137, '联众': 12138, '打游戏': 12139, '公车': 12140, '搭乘': 12141, '房而': 12142, '顶到': 12143, 'thepositionofthishotelisverybad': 12144, '有窗': 12145, '坟墓': 12146, 'stayedheremanytimesinthepastmonthsthiscouldbeagoodplacetostayifthehotelwouldmaintainthefacilitiesbuttheydidnotthelasttwotimesistayedfebandmarchtheshowerandtvdidnotworkevenafterireportedthemwillnotstayherefromnowon': 12147, 'thanksyourproblemwewillchangtheshowerandtviwillhopeyoucomehereagain': 12148, '一动': 12149, '两对': 12150, '超美': 12151, '住岛': 12152, '房门口': 12153, '下岛': 12154, '讲解': 12155, '习惯于': 12156, '不因': 12157, '喝烧': 12158, '划等号': 12159, '文': 12160, '猫腻': 12161, '上市': 12162, '志向': 12163, '沦落': 12164, '自营': 12165, '盒想': 12166, '暂': 12167, '包烟': 12168, '寄放': 12169, '翻边': 12170, '须知': 12171, '定价': 12172, '骚痒': 12173, '晚去': 12174, '保准': 12175, '第三产业': 12176, '蛮乱': 12177, '初莲花': 12178, '另个': 12179, '通通': 12180, '哭笑不得': 12181, '茉莉花': 12182, '华港': 12183, '雅阁': 12184, '友联': 12185, '认作': 12186, '全离': 12187, '城外': 12188, '住次': 12189, '安贞桥': 12190, '东南角': 12191, '大户': 12192, '最合适': 12193, '家常': 12194, '不贵量': 12195, '旧公卫': 12196, '一洗': 12197, '不坏': 12198, '官气': 12199, '首都': 12200, '次数': 12201, '十多次': 12202, '要略': 12203, '对会': 12204, '产权': 12205, '香洲': 12206, '满近': 12207, '敌': 12208, '十一点多': 12209, '预付款': 12210, '先耐着': 12211, '性子': 12212, '说来说去': 12213, '一过': 12214, '陈经理': 12215, '行不行': 12216, '问住': 12217, '床特硬': 12218, '潮看': 12219, '一块钱': 12220, '网费': 12221, '转门': 12222, '两之手': 12223, '脚踢': 12224, '门转': 12225, '过放回': 12226, '修身养性': 12227, '极具': 12228, '英国皇家': 12229, '罗马柱': 12230, '凉亭': 12231, '翼': 12232, '大片大片': 12233, '护城河': 12234, '挪到': 12235, '应付': 12236, '曲径通幽': 12237, '领略到': 12238, '高招': 12239, '半到': 12240, '时看': 12241, '远一晚': 12242, '民宿': 12243, '锅': 12244, '小碟': 12245, '榨菜': 12246, '肉包': 12247, '芝麻': 12248, '最气': 12249, '硬实': 12250, '污了': 12251, '两包': 12252, '清洁液': 12253, '忍声': 12254, '吞气': 12255, '议论': 12256, '争辨': 12257, '身穿': 12258, '面目可憎': 12259, '海南省': 12260, '一轮': 12261, '管辖': 12262, '这群领': 12263, '纳税人': 12264, '过日子': 12265, '职责': 12266, '打得通': 12267, '人为': 12268, '主持公道': 12269, '想得美': 12270, '闻名': 12271, '旅游胜地': 12272, '竞请': 12273, '阅读': 12274, '这篇住': 12275, '淡黄色': 12276, '二种': 12277, '内除': 12278, '台面': 12279, '浴之伴': 12280, '有偿': 12281, '元袋': 12282, '那块': 12283, '租元': 12284, '即元': 12285, '坑坑洼洼': 12286, '货梯': 12287, '大挺': 12288, '倒床': 12289, '见方': 12290, '处热': 12291, '住滴': 12292, '撑不住': 12293, '耷拉': 12294, '前列腺': 12295, '牙澡': 12296, '洗嗽': 12297, '方便快捷': 12298, '聊上': 12299, '绍兴': 12300, '九月份': 12301, '晚定': 12302, '简但': 12303, 'ramada': 12304, '莫泰如家': 12305, '另家': 12306, '神经衰弱': 12307, '靠枕': 12308, '喜庆': 12309, '欧尚': 12310, '车马': 12311, '喧': 12312, '大不象': 12313, '收购': 12314, '上个世纪': 12315, '排放': 12316, '时持': 12317, '双币': 12318, 'bnnd': 12319, '悦达': 12320, '低些': 12321, '安阳': 12322, '中原': 12323, '遥远': 12324, '连连': 12325, '碰头': 12326, '水汽': 12327, '电器城': 12328, '栋': 12329, '河源': 12330, '蔽': 12331, '龙阁': 12332, '提月': 12333, '晃': 12334, '包车去': 12335, '写过': 12336, '拨通': 12337, '约摸': 12338, '八成新': 12339, '普桑停': 12340, '闲话少说': 12341, '神侃': 12342, '天伦': 12343, '艺术设计': 12344, '出身': 12345, '跨过': 12346, '一窝': 12347, '燕子': 12348, '写全': 12349, '拉下': 12350, '粗心': 12351, '高估': 12352, '蛙声': 12353, '呱呱': 12354, '芬芳': 12355, '梦': 12356, '决策': 12357, '英明': 12358, '顾不上': 12359, '冲上': 12360, 'cool': 12361, '山水画': 12362, '跃入': 12363, '眼帘': 12364, '相机': 12365, '院落': 12366, '大碗': 12367, '端到': 12368, '色香味': 12369, '俱全': 12370, '爱爱': 12371, '耙': 12372, '艾草': 12373, '浸制': 12374, '糍粑': 12375, '酱菜': 12376, '值得一提': 12377, '骑上': 12378, '借来': 12379, '领着': 12380, '寄过来': 12381, '邮寄': 12382, '风趣': 12383, '广告费': 12384, '一家之言': 12385, '谨': 12386, '存有': 12387, '单身公寓': 12388, '一个样': 12389, '偏硬': 12390, '编外': 12391, '孤立': 12392, '信阳': 12393, '玻璃墙': 12394, 'cnn': 12395, '堆放': 12396, '扫把': 12397, '晾晒': 12398, '晒台': 12399, '树林': 12400, '跑味': 12401, '用处': 12402, '角落处': 12403, '有霉点': 12404, '比小': 12405, '很平': 12406, '凑活': 12407, '算白': 12408, '当值': 12409, '推诿': 12410, '管理水平': 12411, '管理系统': 12412, 'word': 12413, '好歹': 12414, 'excel': 12415, '除名': 12416, '离锦里': 12417, '凶巴巴': 12418, '包裹': 12419, '礼让': 12420, '汉爵': 12421, '特一赞': 12422, '好餐': 12423, '地沟油': 12424, '减轻': 12425, '挥之不去': 12426, '天一亮': 12427, '呆久': 12428, '晕车': 12429, '换得': 12430, '张新': 12431, '来开': 12432, '尽能': 12433, '憋着': 12434, '拿排': 12435, '雄飞': 12436, '灯会': 12437, '挺近': 12438, '想办': 12439, '收了员': 12440, '及时处理': 12441, '如家越': 12442, '办越': 12443, '李先生': 12444, '四步': 12445, '板材': 12446, '隔出来': 12447, '呻吟': 12448, '同浴': 12449, '炮房': 12450, '差且': 12451, '排出': 12452, '上海地区': 12453, '点住': 12454, '扣分': 12455, '早退': 12456, '张床': 12457, '肯': 12458, '环节': 12459, '能省': 12460, '抖动': 12461, '放出': 12462, '铁锈': 12463, '水急': 12464, '手巾': 12465, '催过': 12466, '异议': 12467, '本该': 12468, '上网费': 12469, '跟副理': 12470, '尚未': 12471, '告诫': 12472, '陈述': 12473, 'priority': 12474, '摁': 12475, '好几声': 12476, '爬起来': 12477, '多一点点': 12478, '灯坏': 12479, '交款': 12480, '一不小心': 12481, '摔碎': 12482, '阴毛': 12483, '省市': 12484, '故宫': 12485, '存水': 12486, '仇': 12487, '点中': 12488, '为什': 12489, '古都': 12490, '阴霾': 12491, '付现': 12492, '翻出': 12493, '整数': 12494, '机打': 12495, '小额': 12496, '地多': 12497, '网络小姐': 12498, '我拔': 12499, '烧到度': 12500, '下开': 12501, '热真': 12502, '机器人': 12503, '来修': 12504, '跟个': 12505, '中等城市': 12506, '四处': 12507, '洗盆池': 12508, '乌语': 12509, '花香': 12510, '冷闷': 12511, '不愿开': 12512, '栅栏': 12513, '专场': 12514, '莅临': 12515, '后侧': 12516, '墙外': 12517, '五六百米': 12518, '球锁': 12519, '下屋': 12520, '一整天': 12521, '详单': 12522, '提议': 12523, '单来': 12524, '摔': 12525, '手柄': 12526, '裂开': 12527, '随口': 12528, '话机': 12529, '罚': 12530, '数额': 12531, '加倍': 12532, '四百块': 12533, '钱少': 12534, '一把手': 12535, '原话': 12536, '赔付': 12537, '十来种': 12538, '份儿饭': 12539, '桌餐': 12540, '两三样': 12541, '没准儿': 12542, '车才': 12543, 'km': 12544, '夜游': 12545, 'wlan': 12546, '无法弥补': 12547, '电扇': 12548, '冷媒': 12549, '实施': 12550, '主动性': 12551, '今天下午': 12552, '课上': 12553, '专项': 12554, '不定期': 12555, '专题': 12556, '常规': 12557, '查阅': 12558, '行规': 12559, '点退': 12560, '绝': 12561, '需晚': 12562, '北园春': 12563, '真挚': 12564, '折射出': 12565, '疏漏': 12566, '为鉴': 12567, '广大客户': 12568, '行列': 12569, '咱得': 12570, '亲临': 12571, '经朋': 12572, '细腻': 12573, '不稳': 12574, '失而复得': 12575, '专线': 12576, '更多更好': 12577, '布面': 12578, '忘掉': 12579, '好除': 12580, '睡眼': 12581, '象演': 12582, '黑灯': 12583, '瞎伙': 12584, '第二句': 12585, '审': 12586, '犯人': 12587, '划掉': 12588, '改回来': 12589, '一大堆': 12590, '前才': 12591, '主菜': 12592, '有太多': 12593, '召集': 12594, '南昌市': 12595, '专业化': 12596, '更进一步': 12597, '班次': 12598, '鞭策': 12599, '严格管理': 12600, '全权负责': 12601, '推迟': 12602, '着重': 12603, '首问': 12604, '责任制': 12605, '词语': 12606, '指锦昌': 12607, '隔音窗': 12608, '营销': 12609, '晏艳春': 12610, '随之': 12611, '四十五个': 12612, '蒸品': 12613, '热度': 12614, '不断完善': 12615, '打哆嗦': 12616, '无孔不入': 12617, '推销': 12618, '新世纪': 12619, '代销': 12620, '一日游': 12621, '上盖': 12622, '条形': 12623, '公章': 12624, '姓青': 12625, '车尾': 12626, '昭陵': 12627, '黑导': 12628, '误导性': 12629, '黄龙': 12630, '门卡有': 12631, '楼上楼下': 12632, '这太': 12633, '强制': 12634, '书籍': 12635, '摄影': 12636, '著作': 12637, '摆在': 12638, '合庆': 12639, '董事长': 12640, '编写': 12641, '霉气': 12642, '虽好': 12643, '可别': 12644, '未见有人': 12645, '送卡': 12646, '自取': 12647, '冒险': 12648, '忽亮': 12649, '忽灭': 12650, '没锁': 12651, '已近': 12652, '夜点': 12653, '尽早': 12654, '液': 12655, '盒内': 12656, '空盒': 12657, '大换': 12658, '内部空间': 12659, '住国': 12660, '超慢': 12661, '侯': 12662, '说句': 12663, '没道理': 12664, '价格政策': 12665, '鱼味馆': 12666, '赞不绝口': 12667, '白云': 12668, '溪': 12669, '鱼丸': 12670, '沿海': 12671, '进一步提高': 12672, '提不上': 12673, '发生争执': 12674, 'night': 12675, '吊灯': 12676, '头灯': 12677, '到样': 12678, '已不多': 12679, '老来': 12680, '回收': 12681, '不论是': 12682, '挂羊头卖狗肉': 12683, '堂皇': 12684, '不太大': 12685, '原名': 12686, '个洋': 12687, '名成': 12688, '雷梦得': 12689, '住标': 12690, '就楼': 12691, '近过': 12692, '近有': 12693, '半透明': 12694, '令人烦恼': 12695, '时提': 12696, '门迎': 12697, '以次充好': 12698, '房拼到': 12699, '长级': 12700, '不早': 12701, '全混': 12702, '问事': 12703, '物业': 12704, '姓李': 12705, '女经理': 12706, '赔不是': 12707, '大小便': 12708, '传染性': 12709, '没人敢': 12710, '客未': 12711, '竟直': 12712, '连饭': 12713, '晚饭时间': 12714, '军方': 12715, '军官': 12716, '照理说': 12717, '但运': 12718, '推进': 12719, '抱怨声': 12720, '可去': 12721, '目瞪口呆': 12722, '腰酸': 12723, '抢先': 12724, '受骗上当': 12725, '枪战': 12726, '逃离': 12727, '鸿': 12728, '展楼': 12729, '胶纸': 12730, '剪': 12731, '四颗': 12732, '红五星': 12733, '我昏': 12734, '鸿展': 12735, '小看': 12736, '画册': 12737, '朱容基': 12738, '李鹏': 12739, '经叔平': 12740, '提字': 12741, '合影留念': 12742, '时便': 12743, '三易': 12744, '分割': 12745, '讯问': 12746, '扣下': 12747, '咋象': 12748, '很矮': 12749, '坑里': 12750, '豪气万千': 12751, '承想': 12752, '设备简陋': 12753, '有条理': 12754, '小盒子': 12755, '新政': 12756, '内加': 12757, '节省': 12758, '装修费': 12759, '产梦神': 12760, '睡惯': 12761, '小些': 12762, '年内': 12763, '黄河': 12764, '路车': 12765, '牌取': 12766, '电后': 12767, '开水壶': 12768, '空烧': 12769, '之多': 12770, '摸索': 12771, '促销价': 12772, '报馆': 12773, '急不及待': 12774, '愧对': 12775, '包房': 12776, '安客': 12777, '二手烟': 12778, '抹': 12779, '老秽渍': 12780, '隔声': 12781, '馍糊地': 12782, '妓女': 12783, '杂人': 12784, '下调': 12785, '房折': 12786, '五百元': 12787, '遗下': 12788, '名贵': 12789, '认得': 12790, '那樽酒': 12791, '名片': 12792, '冯': 12793, '讲价': 12794, '以元': 12795, '天气预报': 12796, '感觉得到': 12797, '规模较': 12798, '时房': 12799, '晚十点': 12800, '回味': 12801, '网带': 12802, '可进': 12803, '欺骗性': 12804, '车往': 12805, '光光': 12806, '很吵床': 12807, '脏吵小慢': 12808, '带门卡': 12809, '寒': 12810, 'psp': 12811, '略嫌': 12812, '凑': 12813, '活用': 12814, '漫游': 12815, '上窗': 12816, '霉园': 12817, '耶': 12818, '淮安': 12819, '五谷杂粮': 12820, '挨近': 12821, '缙云': 12822, '一蹋': 12823, '农夫山泉': 12824, '瓶盖': 12825, '当场': 12826, '台一': 12827, '瓶子': 12828, '我无语': 12829, '检查团': 12830, '谎': 12831, '开了个': 12832, '拒付': 12833, '铺上': 12834, '厚点': 12835, '健美操': 12836, '新加': 12837, '卷': 12838, '短打': 12839, '帅哥': 12840, '化妆间': 12841, '简介': 12842, '牛肉丸': 12843, '二十元': 12844, '递到': 12845, '床直': 12846, '问讯处': 12847, '纸写': 12848, '收条': 12849, '衡量': 12850, '别无选择': 12851, '外标': 12852, '缴纳': 12853, '少见多怪': 12854, '六峰路': 12855, '贵在': 12856, '水力': 12857, '小型': 12858, '烧来': 12859, '络腮胡子': 12860, '工夫': 12861, '浅': 12862, '垂下来': 12863, '底部': 12864, '下部': 12865, '只敢': 12866, '崇文门': 12867, '大修': 12868, '封站': 12869, '拥堵': 12870, '挂帐': 12871, '只卖': 12872, '桔子': 12873, '无礼': 12874, '生讲': 12875, '复合地板': 12876, '不太像': 12877, '床品': 12878, '连岛': 12879, '专线车': 12880, '陇海路': 12881, '苍梧': 12882, '绿园': 12883, '四岁': 12884, '豆腐汤': 12885, '新浦区': 12886, '沼气': 12887, '托收': 12888, '属元': 12889, '北京大学': 12890, '外环线': 12891, '多公里': 12892, '动弹': 12893, '只配': 12894, '二件': 12895, '烂订': 12896, '带你去': 12897, '烧香': 12898, '烧高香': 12899, '算命': 12900, '护身符': 12901, '开光': 12902, '几千元': 12903, '住所': 12904, '王陵': 12905, '遗址': 12906, '废墟': 12907, '两日': 12908, '游戏规则': 12909, '奢望': 12910, '时应': 12911, '星号': 12912, '括号': 12913, '大如家': 12914, '房假': 12915, '特惠': 12916, '空闲': 12917, '南浦': 12918, '恨': 12919, 'checkincheckout': 12920, '仅限于': 12921, '总金额': 12922, '划账': 12923, '周期': 12924, '会花': 12925, '分清': 12926, '竹': 12927, '联排': 12928, '水热': 12929, '潮有件': 12930, '文庙': 12931, '闽南': 12932, '佛寺': 12933, '关帝庙': 12934, '清真寺': 12935, '没要': 12936, '瓶水': 12937, '圣廷苑': 12938, '颜面': 12939, '订成': 12940, '浴衣': 12941, '新洗': 12942, '单布': 12943, '内因': 12944, '剧组': 12945, '廉租房': 12946, '荷包蛋': 12947, '标签': 12948, '人中': 12949, '未带': 12950, '有效证件': 12951, '公安局': 12952, '配合': 12953, '事前': 12954, '达个': 12955, '错全': 12956, '下发': 12957, '当今': 12958, '信息化': 12959, '政府部门': 12960, '遵循': 12961, '若真': 12962, '诸如此类': 12963, '信誉度': 12964, '高达': 12965, '多度': 12966, '高温': 12967, '盗用': 12968, '李鬼': 12969, '兄弟会': 12970, '做何': 12971, '工商管理': 12972, '享有盛名': 12973, '身着': 12974, '服装': 12975, '说句话': 12976, '上级': 12977, '此位': 12978, '斗胆': 12979, '高贵': 12980, '息事宁人': 12981, '出尔反尔': 12982, '耗': 12983, '这群': 12984, '饥肠辘辘': 12985, '湖真': 12986, '男客人': 12987, '竟无一人': 12988, '劝阻': 12989, '归于': 12990, '叙述': 12991, '遭受': 12992, '挂出': 12993, '这六星': 12994, '新面貌': 12995, '公众': 12996, '调出': 12997, '学学': 12998, '恕': 12999, '执法机关': 13000, '严谨': 13001, '自圆其说': 13002, '一脉相传': 13003, '开幕': 13004, '地为': 13005, '集团公司': 13006, '高品质': 13007, '前日': 13008, '到来': 13009, '推至': 13010, '国际惯例': 13011, '诽谤': 13012, '诬蔑': 13013, '不道德': 13014, '全湖景': 13015, '劝慰': 13016, '实行': 13017, '不卑不亢': 13018, '深知': 13019, '值得尊重': 13020, '严格执行': 13021, '文字游戏': 13022, '步伐': 13023, '和衣而睡': 13024, '古朴': 13025, '掩映': 13026, '古树': 13027, '林中': 13028, '小人': 13029, '分床': 13030, '充明': 13031, '否床': 13032, '着床': 13033, '微风': 13034, '空调器': 13035, '纯平': 13036, '西武': 13037, '名店': 13038, 'canalieamontblanc': 13039, '不新': 13040, '完全符合': 13041, '国际标准': 13042, '差号': 13043, '换楼': 13044, '布菜': 13045, '扩建': 13046, '钻机': 13047, '挖土机': 13048, '衣衫不整': 13049, '太累': 13050, '床罩': 13051, '定制': 13052, '下方': 13053, '房件': 13054, '音上': 13055, '衣厨': 13056, '实心': 13057, '墙衣': 13058, '厨一划': 13059, '两半': 13060, '撞击': 13061, '厨壁': 13062, '响得': 13063, '吵杂': 13064, '激情': 13065, '有乐购': 13066, '批准': 13067, '简体中文': 13068, 'cinemax': 13069, '中文字幕': 13070, 'cnnbbc': 13071, '号菲星': 13072, '菲星': 13073, '游动': 13074, '一字不漏': 13075, '分卡器': 13076, '正版': 13077, '马赛克': 13078, '留下来': 13079, '垫圈': 13080, '嫌烦': 13081, '选台键': 13082, '翻下': 13083, '翻键': 13084, '计时': 13085, '木板地': 13086, '太度': 13087, '很进': 13088, '点半找': 13089, '晾着': 13090, '我管': 13091, '烦死': 13092, '清闲': 13093, '接待工作': 13094, '到馆': 13095, '岗位培训': 13096, '详细情况': 13097, '登记处': 13098, '不胜感激': 13099, '理好': 13100, '浸': 13101, '装满水': 13102, '心太黑': 13103, '庄比': 13104, '百倍': 13105, '多真': 13106, '应多为': 13107, '走下坡': 13108, '回选': 13109, '不闻不问': 13110, '贴切': 13111, '词汇': 13112, '瞥见': 13113, '写道': 13114, 'g': 13115, '那饭': 13116, '金子': 13117, '抠门': 13118, '微': 13119, '菜贵': 13120, '买不起': 13121, '锻炼': 13122, '承受能力': 13123, '心理素质': 13124, '部都': 13125, '订餐': 13126, '批萨说': 13127, '番茄酱': 13128, '一小包': 13129, '玩儿': 13130, '开查': 13131, '案内': 13132, '点关': 13133, '改点': 13134, '改挺难': 13135, '许昌市': 13136, '反省': 13137, '废除': 13138, '受苦': 13139, '发了': 13140, '顿火': 13141, '严整': 13142, '一盖': 13143, '包着': 13144, '出汗': 13145, '不盖': 13146, '吸血': 13147, '熬过来': 13148, '炎热': 13149, '搬台': 13150, '撞': 13151, '溢美': 13152, '真实性': 13153, '按约': 13154, '值个': 13155, '未必': 13156, '磕碰': 13157, '次房': 13158, '看员': 13159, '是员': 13160, 'led': 13161, '征求意见': 13162, '挺值': 13163, '直拨': 13164, 'ip电话': 13165, '长话费': 13166, '几十桌': 13167, '八十年代': 13168, '不介意': 13169, '白漆': 13170, '涂涂': 13171, '配色': 13172, '看错': 13173, '恶脏': 13174, '盆希里': 13175, '哗啦': 13176, '长霉': 13177, '铁板': 13178, '晃晃悠悠': 13179, '廊桥': 13180, '大金': 13181, '跳窗': 13182, '有景江': 13183, '网路': 13184, '会改': 13185, '富蓝特': 13186, '木': 13187, '放会水': 13188, '两宿': 13189, '之家': 13190, '比富': 13191, '蓝特': 13192, '嘈死': 13193, '依赖': 13194, '元天间': 13195, '搞脏': 13196, '我到': 13197, '每处': 13198, '玩一玩': 13199, '宽容度': 13200, '修养': 13201, '甚大要': 13202, '穿衣': 13203, '汗流浃背': 13204, '约度': 13205, '很细': 13206, '太阳岛': 13207, '一览无遗': 13208, '日落': 13209, '抄': 13210, '会心微笑': 13211, '地好': 13212, '多花些': 13213, '这人': 13214, '没星': 13215, '泻': 13216, '飞到': 13217, '内疚': 13218, '入境': 13219, '原料': 13220, '加工': 13221, '过因': 13222, '引发': 13223, '早日康复': 13224, '元房': 13225, '黑漆': 13226, '车约': 13227, '垃圾筒': 13228, '垃圾袋': 13229, '地问': 13230, '时买': 13231, '全票': 13232, '云南旅游': 13233, '快车': 13234, '转头': 13235, '换票': 13236, '云南省': 13237, '旅高快': 13238, '用到': 13239, '后进': 13240, '大摇大摆': 13241, '带太多': 13242, '钱来': 13243, '台球室': 13244, '情色': 13245, '同性': 13246, '新潮': 13247, '做成': 13248, '坐车到': 13249, '百佳': 13250, '尝一尝': 13251, '好菜式': 13252, '双份': 13253, '诸多不便': 13254, '五十多': 13255, '那钱': 13256, '亲': 13257, '亲家庭': 13258, '总动员': 13259, '交元': 13260, '两至': 13261, '网上支付': 13262, '一再强调': 13263, '刷卡机': 13264, '财务部门': 13265, '截至': 13266, '那元预': 13267, '华苑': 13268, '产业园': 13269, '百岁': 13270, '飘溢': 13271, '奇香': 13272, '可有': 13273, '只注': 13274, '诈骗': 13275, '缺根弦': 13276, '还查': 13277, '过能': 13278, '乾': 13279, '很安': 13280, '住家': 13281, '洗盆': 13282, '一个多月': 13283, '痒害': 13284, '细菌': 13285, '一两百': 13286, '总部': 13287, 'ceo': 13288, '账册': 13289, '步骤': 13290, '略懂': 13291, '意大利文': 13292, '不能不': 13293, '自找麻烦': 13294, '彻底解决': 13295, '多押': 13296, '卡号': 13297, '发达国家': 13298, '观念': 13299, '补刷': 13300, '差额': 13301, '不刷': 13302, '怒气': 13303, '激起': 13304, '再刷': 13305, '中刷': 13306, '元望': 13307, '找麻烦': 13308, '摩托车': 13309, '绝路': 13310, '高声': 13311, '显高': 13312, '区楼': 13313, '风油精': 13314, '鱼头汤': 13315, '兴奋不已': 13316, '不如人意': 13317, '本想': 13318, '居民小区': 13319, '北环': 13320, '想人': 13321, '时花': 13322, '可调': 13323, '反应速度': 13324, '高登': 13325, '山脚下': 13326, '一口价': 13327, '三美': 13328, '鲁': 13329, '白菜': 13330, '炖': 13331, '窗框': 13332, '股市': 13333, '开市': 13334, '股票': 13335, '抛': 13336, '盈利': 13337, '因太热': 13338, '面吃': 13339, '领教过': 13340, '会下': 13341, '说面': 13342, '卖完': 13343, '擀': 13344, '枕头套': 13345, '印子': 13346, '阴森森': 13347, '该类': 13348, '每冲': 13349, '陶瓷': 13350, 'diy': 13351, '汗颜': 13352, '九洲': 13353, '狂载': 13354, '请客': 13355, '各不相同': 13356, '提个': 13357, '别光记': 13358, '涨点': 13359, '成喷': 13360, '傻笑': 13361, '水等能': 13362, '天睡': 13363, '扰人清梦': 13364, '吴中路': 13365, '万源': 13366, '蹋': 13367, '流下': 13368, '咬醒': 13369, '水池子': 13370, '锈斑': 13371, '累累': 13372, '启用': 13373, '咫尺': 13374, '几百米': 13375, 'ca': 13376, '管理员': 13377, '辆车': 13378, '遗留下': 13379, '产物': 13380, '我下': 13381, '嫌太近': 13382, '少不去': 13383, '打了个': 13384, '花去': 13385, '放亮': 13386, '多花': 13387, '目录': 13388, '纵向': 13389, '停路车': 13390, '皮卡': 13391, '关系户': 13392, '半才': 13393, '总提': 13394, '出公差': 13395, '润肤霜': 13396, '洗发膏': 13397, '好且': 13398, '左绕': 13399, '章鱼': 13400, '串': 13401, '小生意': 13402, '床下': 13403, '全线': 13404, '拼凑': 13405, '而成': 13406, '凉意': 13407, '单身': 13408, '还用': 13409, '洋人街': 13410, '死气沉沉': 13411, '能算星': 13412, '很难说': 13413, '拆下': 13414, '桌旁': 13415, '待用': 13416, '后会': 13417, '西红柿': 13418, '毛绒': 13419, '公仔': 13420, '中排': 13421, '车去': 13422, '空车': 13423, '搭载': 13424, '能订': 13425, '重装': 13426, '新房': 13427, '一做': 13428, '鲜味': 13429, '多些': 13430, '抓住': 13431, '痛宰': 13432, '商业道德': 13433, '不留': 13434, '牌上': 13435, '车况': 13436, '进口车': 13437, '二日游': 13438, '钱出': 13439, '倒换': 13440, '远比': 13441, '看来看去': 13442, '排水系统': 13443, '烫洗': 13444, '完澡': 13445, '杂物间': 13446, '敞着': 13447, '脏布': 13448, '内线': 13449, '市容': 13450, '和谐': 13451, '吐出来': 13452, '克制': 13453, '煞笔': 13454, '装傻充愣': 13455, '接入': 13456, '迟早': 13457, '星才订': 13458, '一订': 13459, '好家伙': 13460, '热订': 13461, '现找': 13462, '真别': 13463, '信': 13464, '现实情况': 13465, '天交': 13466, '海尔': 13467, '凉气': 13468, '怪怪': 13469, '排得': 13470, '弱智': 13471, '早中晚': 13472, '真难': 13473, '分成': 13474, '像家': 13475, '行带': 13476, '朗': 13477, '朗庭': 13478, '多人': 13479, '嫌小': 13480, '免税店': 13481, '抵价券': 13482, '受宠若惊': 13483, '橡木': 13484, '游回来': 13485, '游个泳': 13486, '上方': 13487, '浴帘会': 13488, '洒满': 13489, '按人配': 13490, '勤能补拙': 13491, '花岗岩': 13492, '置身于': 13493, '古堡': 13494, '挂个': 13495, '剔': 13496, '人猿': 13497, '星球': 13498, '大发雷霆': 13499, '左手': 13500, '小吃摊': 13501, '市井': 13502, '人较': 13503, '钩子': 13504, '不足以': 13505, '来查': 13506, '过低': 13507, '西宁市': 13508, '沉重': 13509, '重音': 13510, '越过': 13511, '遥遥': 13512, '耳塞': 13513, '无法平息': 13514, '临晨点': 13515, '好乐迪': 13516, '订价': 13517, '移至': 13518, '永昌': 13519, '中转': 13520, '尼姑': 13521, '可比性': 13522, '米兰': 13523, 'happy': 13524, '招不招': 13525, '掂量': 13526, '丽家': 13527, '选丽家': 13528, '好几倍': 13529, '层普标': 13530, '爱莫能助': 13531, '没及': 13532, '老少': 13533, '边区': 13534, '提倡': 13535, '仁义': 13536, '礼至信': 13537, '闻名于世': 13538, '孔': 13539, '老夫子': 13540, '故乡': 13541, '隔音设备': 13542, '骄横': 13543, '不够格': 13544, '六神': 13545, '尽心': 13546, '飞过': 13547, '中问': 13548, '下半年': 13549, '蝇虫': 13550, '卫生防疫': 13551, '对蝇': 13552, '消杀': 13553, '起毛': 13554, '比喻': 13555, '垫狗屋': 13556, '沟缝': 13557, '白水泥': 13558, '小孔': 13559, '蚂蚁窝': 13560, '铜锈': 13561, '考究': 13562, '香皂盒': 13563, 'cotto': 13564, '建材': 13565, '不详': 13566, '肥皂泡': 13567, '隐隐': 13568, '淹过': 13569, '地脚线': 13570, '装上去': 13571, '小睡': 13572, '多回': 13573, '乱成一团': 13574, '吞': 13575, '全消': 13576, '上客': 13577, '下课': 13578, '停几量': 13579, '客而': 13580, '维持秩序': 13581, '全站': 13582, '等车': 13583, '前后左右': 13584, '先后顺序': 13585, '卖东西': 13586, '怂恿': 13587, '推广': 13588, '牌连': 13589, '价目单': 13590, '最大化': 13591, '义乌': 13592, '啧啧': 13593, '怡宝': 13594, '吃亏': 13595, '道个': 13596, '错错': 13597, '好过': 13598, '共通': 13599, '做过': 13600, '绵阳': 13601, '富': 13602, '九州': 13603, '叹为观止': 13604, '评选': 13605, '五颗': 13606, '小星星': 13607, '永别': 13608, '套用': 13609, '流行': 13610, '生态': 13611, '滑草': 13612, '祈福': 13613, '轩': 13614, '墓地': 13615, '勺子': 13616, '我共住': 13617, '五天': 13618, '纸屑': 13619, '真可笑': 13620, 'bar': 13621, '行李房': 13622, '因好': 13623, '应多开': 13624, '深处': 13625, '百年': 13626, '徽菜': 13627, '老店': 13628, '一尝': 13629, '大师': 13630, '卖价': 13631, '百': 13632, '毛峰': 13633, '出味': 13634, '宣笔': 13635, '花元': 13636, '附庸风雅': 13637, '胡开文': 13638, '墨卖': 13639, '烦': 13640, '游人如织': 13641, '齐云山': 13642, '西递': 13643, '宏村': 13644, '绿洲': 13645, '市价': 13646, '不由': 13647, '感叹': 13648, '所属': 13649, '哀悼日': 13650, '魔': 13651, '口号': 13652, '专制': 13653, '不服': 13654, '层门卡': 13655, '激活': 13656, '上周五': 13657, '港大道': 13658, '未了': 13659, '改签': 13660, '方说': 13661, '已动': 13662, '喝且': 13663, '编号': 13664, '暗访': 13665, '中断': 13666, '列入': 13667, '朋友圈': 13668, '时先': 13669, '作假': 13670, '诚信教育': 13671, '所作': 13672, '尼盛': 13673, '不大动线': 13674, '围着': 13675, '本土': 13676, '对君豪': 13677, '投入': 13678, '心血': 13679, '鸟语花香': 13680, '送张': 13681, '路朝': 13682, '东北方向': 13683, '中石化': 13684, '隧道': 13685, '一伙人': 13686, '每幢': 13687, '总门': 13688, '关起': 13689, '卖光': 13690, '购物点': 13691, '桥底': 13692, '每桌': 13693, '羽绒衣': 13694, '防寒': 13695, '高多': 13696, '委托': 13697, '瑞金': 13698, '上辈子': 13699, '橙色': 13700, '满难': 13701, '特浓': 13702, '大马力': 13703, '鼓风机': 13704, '共舞': 13705, '好几家': 13706, '打着': 13707, '旗号': 13708, '开窗子': 13709, '没法用': 13710, '像目': 13711, '老虎': 13712, '新床': 13713, '瑕不掩瑜': 13714, '加温': 13715, '友': 13716, '双保险': 13717, '惊恐': 13718, '垄断': 13719, '单车': 13720, '会车': 13721, '口角': 13722, '肉体': 13723, '搏斗': 13724, '滑雪': 13725, '银': 13726, '七星': 13727, '要贵': 13728, '没人会': 13729, '刚办': 13730, '自说自话': 13731, '强硬': 13732, '乌烟瘴气': 13733, '聪明': 13734, '另有': 13735, '别想': 13736, '很早': 13737, '辗转反侧': 13738, '语气词': 13739, '想念': 13740, '豪门': 13741, '办妥': 13742, '这块': 13743, '窄窄的': 13744, '一溜': 13745, '人暴': 13746, '特多': 13747, '蹭': 13748, '帮妈订': 13749, '要代': 13750, '公共汽车': 13751, '竭力': 13752, '消协': 13753, '改过': 13754, '嘲音': 13755, '晚房': 13756, '来收': 13757, '五一节': 13758, '自我感觉': 13759, '五十多个': 13760, '数字化': 13761, '房奇': 13762, '声三和板': 13763, '传音': 13764, '能排': 13765, '大队': 13766, '几包': 13767, '提款机': 13768, '始发站': 13769, '繁简': 13770, '共五人': 13771, '号叫': 13772, '太热': 13773, '两房两厅': 13774, '一卫': 13775, '口人': 13776, '迫不及待': 13777, '里边': 13778, '共元': 13779, '棕榈': 13780, '滩': 13781, '二十年': 13782, '没试': 13783, '痛风': 13784, '吊挂在': 13785, '北站': 13786, '地到': 13787, '北辰': 13788, '东向西': 13789, '近距离': 13790, '衡水': 13791, '瓜子皮': 13792, '暗淡': 13793, '辞职': 13794, '沪': 13795, '杭': 13796, '下到': 13797, '乍嘉苏': 13798, '匝道': 13799, '收费站': 13800, '左前方': 13801, '天珠': 13802, '佛祖': 13803, '显灵': 13804, '会飞': 13805, '品德': 13806, '采取措施': 13807, '压缩': 13808, '便装': 13809, '恶狠狠': 13810, '少怕': 13811, '极佳': 13812, '七星岩': 13813, '牌坊': 13814, '好长': 13815, '体': 13816, '普普通通': 13817, '争论': 13818, '挣': 13819, '眼线': 13820, '监视': 13821, '差问': 13822, 'whathappen': 13823, '姓陆': 13824, '说明文': 13825, '瓜葛': 13826, '规程': 13827, '透露': 13828, '点回': 13829, '不慌不忙': 13830, '摸黑': 13831, '大师傅': 13832, '协会': 13833, '主席': 13834, '一席': 13835, '府城': 13836, '多得很': 13837, '九层': 13838, '吵糟杂': 13839, '不关': 13840, '通宵': 13841, '人多嘴杂': 13842, '脏全': 13843, '挂房': 13844, '新开通': 13845, '未知': 13846, '有次': 13847, '挤满': 13848, '酒气': 13849, '醺醺': 13850, '厌倦': 13851, '谈论': 13852, '不堪入耳': 13853, '牛说': 13854, '不法分子': 13855, '破坏': 13856, '这真快': 13857, '予定': 13858, '官僚': 13859, '机关作风': 13860, 'min': 13861, '近要': 13862, '力道': 13863, '大水': 13864, '赃': 13865, '相互影响': 13866, '甜点': 13867, '多且': 13868, '混用': 13869, '误认为': 13870, '另行': 13871, '万古': 13872, '玩吧': 13873, '营运': 13874, '攀升': 13875, '退化': 13876, '自动控制': 13877, '座落': 13878, '北四环': 13879, '北苑路': 13880, '四环': 13881, '一黑': 13882, '标上': 13883, '金玉其外': 13884, '败絮': 13885, '其内': 13886, '打平手': 13887, '笑脸迎人': 13888, '砍客': 13889, '摆出': 13890, '别来': 13891, '紫光': 13892, '悬崖': 13893, '听海': 13894, '海虾': 13895, '蟹': 13896, '好太多': 13897, '星紫江': 13898, '花钱买': 13899, '罪受': 13900, '满高': 13901, '钟鼓楼': 13902, '具全': 13903, '法国人': 13904, '横乱': 13905, '咱队': 13906, '不熟': 13907, '创意': 13908, '有点儿': 13909, '无缘': 13910, '已开': 13911, '憋气': 13912, '多得': 13913, '一抓': 13914, '闷气': 13915, '兴致': 13916, '稀罕': 13917, '非比': 13918, '亦庄': 13919, '荒地': 13920, '万杰': 13921, '迟到': 13922, '车接': 13923, '使人': 13924, '小桥流水': 13925, '枯藤': 13926, '树': 13927, '昏鸦': 13928, '惨淡': 13929, '女生宿舍': 13930, '很嫩': 13931, '智能': 13932, '面线': 13933, '糊': 13934, '鸭肉': 13935, '淡提': 13936, '妥贴': 13937, '领事馆': 13938, '去鹭江': 13939, '房楼': 13940, '园到': 13941, '孔明灯': 13942, '跳舞': 13943, '我后': 13944, '多话': 13945, '金凤凰': 13946, '近仅': 13947, '大巴车': 13948, 'ikea': 13949, '上调': 13950, '变相': 13951, '变脸': 13952, '一翻': 13953, '水晶头': 13954, '两侧': 13955, '大清早': 13956, '闹醒': 13957, '严实': 13958, '消除': 13959, '近因': 13960, '风味小吃': 13961, '郝': 13962, '羊杂': 13963, '割': 13964, '飞机票': 13965, '没买成': 13966, '室内空间': 13967, '无量': 13968, '电动': 13969, '钻': 13970, '所付': 13971, '大年': 13972, '她家': 13973, '逛一逛': 13974, '评错': 13975, '照料': 13976, '踏踏': 13977, '轻轻': 13978, '忽闪': 13979, '忽暗': 13980, '漱口': 13981, '油迹': 13982, '脏处': 13983, '孤弃': 13984, '答不上': 13985, '边答': 13986, '边用': 13987, '估摸': 13988, '池饭': 13989, '矿物质': 13990, '这象': 13991, '沉默': 13992, '限时': 13993, '遮': 13994, '风挡': 13995, '顶连个': 13996, '篷子': 13997, '冷飕飕': 13998, '模仿': 13999, '葫芦': 14000, '盘算': 14001, '措手不及': 14002, '毁坏': 14003, '简而言之': 14004, '不伦不类': 14005, '某种': 14006, '经营不善': 14007, '澡堂': 14008, '长此以往': 14009, '其时': 14010, '姐姐': 14011, '画廊': 14012, 'mordern': 14013, '会到': 14014, '说老实话': 14015, '非住不可': 14016, '大离': 14017, '综述': 14018, '详细描述': 14019, '基础设施': 14020, '四形': 14021, '具体表现': 14022, '双语': 14023, '安全意识': 14024, '松动': 14025, '消防法': 14026, '独出心裁': 14027, '一无适': 14028, '追求': 14029, '偏周遍': 14030, '可逛': 14031, '订晚': 14032, '临湖': 14033, '乌其麻': 14034, '源': 14035, '鸡汤': 14036, '鲜': 14037, '牛羊肉': 14038, '尾随': 14039, '乱字': 14040, '没含': 14041, '长途车': 14042, '通体': 14043, '发红': 14044, '蜈蚣': 14045, '肆虐': 14046, '十二点': 14047, '江门': 14048, '海逸住': 14049, '被卧': 14050, '电线': 14051, '办成': 14052, '漂白': 14053, '武定': 14054, '有名无实': 14055, '只当': 14056, '连句': 14057, '阿牛': 14058, '饺子馅': 14059, '大不贵味': 14060, '亲眼看到': 14061, '吃剩': 14062, '饭桶': 14063, '机子': 14064, '失效': 14065, '脱列': 14066, '调戏': 14067, '拆个': 14068, '官宦': 14069, '浓厚': 14070, '伴有': 14071, '呕吐': 14072, '食物中毒': 14073, '随身带': 14074, '发冷': 14075, '开药': 14076, '黄莲素片': 14077, '吃惊': 14078, '食品卫生': 14079, '开张': 14080, '铜臭': 14081, '附赠': 14082, '最糟': 14083, '疑似': 14084, '月经': 14085, '精液': 14086, '后者': 14087, '不规则': 14088, '手脚': 14089, '满口': 14090, '人手不足': 14091, '调配': 14092, '责令': 14093, '对布草': 14094, '严格把关': 14095, '责任心': 14096, '烘托': 14097, '节日': 14098, '同升湖': 14099, '延湖': 14100, '折回去': 14101, '迷路': 14102, '圈子': 14103, '高路': 14104, '小台': 14105, '洗裕': 14106, '心脏病': 14107, '急救中心': 14108, '输液': 14109, '无微不至': 14110, '返程': 14111, '华驿': 14112, '外乡人': 14113, '水流声': 14114, '姗姗来迟': 14115, '退定': 14116, '接电': 14117, '褒贬不一': 14118, '但心': 14119, '遮阳板': 14120, '灭蚊器': 14121, '走错': 14122, '蔬菜': 14123, '两三种': 14124, '肠是': 14125, '玉米': 14126, '川': 14127, '粤': 14128, '中定': 14129, '加以分析': 14130, '牛排': 14131, '可尝过': 14132, '国际博览': 14133, '展览会': 14134, '上海市': 14135, '羽': 14136, '桃林': 14137, '多日': 14138, '我刷': 14139, '文件袋': 14140, '退个': 14141, '刷过': 14142, '底单': 14143, '遗失': 14144, '不付': 14145, '平白': 14146, '款项': 14147, '划入': 14148, '出纳': 14149, '开户行': 14150, '帐号': 14151, '函': 14152, '深思': 14153, '多大': 14154, '主导': 14155, '反观': 14156, '处理事件': 14157, '未曾': 14158, '淌': 14159, '登要': 14160, '半小整': 14161, '其差': 14162, '四巾': 14163, '白给': 14164, '咳嗽声': 14165, '出声': 14166, '巨多': 14167, '混在': 14168, '分区': 14169, '入库': 14170, '出库': 14171, '时现': 14172, '稍加': 14173, '福建': 14174, '山水': 14175, '★': 14176, '专人': 14177, '糊味': 14178, 'kbs': 14179, '购大': 14180, 'size': 14181, '某车': 14182, '警报器': 14183, '发癫': 14184, '直冲': 14185, '音量': 14186, '摇滚': 14187, '或来': 14188, '没急': 14189, '风风火火': 14190, '左刷': 14191, '右刷': 14192, '报错': 14193, '错误信息': 14194, '转帐': 14195, '卡锁': 14196, '共有': 14197, '四位': 14198, '时多': 14199, '看下': 14200, '锁卡': 14201, '好彩': 14202, '归心似箭': 14203, '时请': 14204, '冷静': 14205, '从始至终': 14206, '上此': 14207, '百尺竿头更进一步': 14208, '承受': 14209, '楼楼': 14210, '纸糊': 14211, '洗洁精': 14212, '裤兜': 14213, '甜美': 14214, '三道': 14215, '升房': 14216, '升上去': 14217, '外地人': 14218, '十二楼': 14219, '摇晃': 14220, '六点钟': 14221, '驾车': 14222, '不二': 14223, '岳父': 14224, '丈母娘': 14225, 'savingmoney': 14226, '人挤': 14227, '床会': 14228, '直夸': 14229, '广播': 14230, '轻微': 14231, '两床': 14232, '很成': 14233, '旧用': 14234, '问竟': 14235, '差元': 14236, '范儿': 14237, '高傲': 14238, '大嫂': 14239, '一上午': 14240, '感触': 14241, '床硬': 14242, '里查': 14243, '全适': 14244, '宰割': 14245, '冤大头': 14246, '电话单': 14247, '电话号码': 14248, '打通': 14249, '元分': 14250, '强盗': 14251, '确说': 14252, '想干什么': 14253, '惹事': 14254, '承德': 14255, '木门': 14256, '变形': 14257, '使劲儿': 14258, '杂七杂八': 14259, '上素': 14260, '斋': 14261, '页': 14262, '糖醋': 14263, '里脊': 14264, '糖': 14265, '变苦': 14266, '尝': 14267, '撤回': 14268, '原样': 14269, '端回': 14270, '味儿': 14271, '没辙': 14272, '千呼万唤': 14273, '地尝': 14274, '斩钉截铁': 14275, '断言': 14276, '默念': 14277, '回响': 14278, '惹人烦': 14279, '带刺': 14280, '一日三餐': 14281, '赘述': 14282, '全为': 14283, '中菜': 14284, '不正': 14285, '增多': 14286, '做些': 14287, '一觉': 14288, '特难': 14289, '劝业场': 14290, '说近': 14291, '要根': 14292, '多钱': 14293, '别定': 14294, '会展': 14295, '看不像': 14296, '似': 14297, '黟县': 14298, '更惠': 14299, '可得免': 14300, '有尬': 14301, '分析': 14302, '并作': 14303, '改改': 14304, '好北虹': 14305, '路店': 14306, '车会': 14307, '北虹店': 14308, '各异': 14309, '流通性': 14310, '面朝': 14311, '气息': 14312, '沙尘': 14313, '滚滚': 14314, '方正': 14315, '歪歪扭扭': 14316, '那元间': 14317, '返佣费': 14318, '甘心': 14319, '争创': 14320, '局面': 14321, '虹桥店': 14322, '有余': 14323, '总价': 14324, '一切顺利': 14325, '打单': 14326, '有条不紊': 14327, '字符': 14328, '房晕': 14329, '服度': 14330, '不太有貌': 14331, '房比陋': 14332, '对房': 14333, '寂静': 14334, '食品质量': 14335, '高可选': 14336, '超多': 14337, '三十一': 14338, '再度': 14339, '看报': 14340, '看因': 14341, '亮度': 14342, '点多进': 14343, '点多想': 14344, '开不出': 14345, '供热': 14346, '没供': 14347, '柳': 14348, '官腔': 14349, '脚线': 14350, '裸露出': 14351, '快开': 14352, '陷': 14353, '大坑': 14354, '吓坏': 14355, '吸得': 14356, '饱饱': 14357, '两百元': 14358, '七楼': 14359, '洗着': 14360, '深秋': 14361, '滋味': 14362, '意料之中': 14363, 'd座': 14364, '分多钟': 14365, 'atm': 14366, '但星': 14367, '淋浴室': 14368, '可说': 14369, '总的说': 14370, '上要': 14371, '细致入微': 14372, '用门卡': 14373, '襄樊': 14374, '春节愉快': 14375, '人个': 14376, '浩浩荡荡': 14377, '开拔': 14378, '沈': 14379, '滦县': 14380, '交警': 14381, '轰下': 14382, '高速路': 14383, '前方': 14384, '当头一棒': 14385, '接团': 14386, '私下': 14387, '转包': 14388, '没多花': 14389, '通融': 14390, '卡式': 14391, '标本': 14392, '隔帘': 14393, '复位': 14394, '修没修': 14395, '线算': 14396, '回事儿': 14397, '体育': 14398, '吵吵闹闹': 14399, '问人': 14400, '探亲': 14401, '加钱换': 14402, '价去': 14403, '要出': 14404, '豪海正': 14405, '对海': 14406, '恒通': 14407, '财富': 14408, '创新': 14409, '使用者': 14410, '自动开关': 14411, '外置': 14412, '最黑': 14413, '几十': 14414, '大体': 14415, '机加分': 14416, '大会': 14417, '就整': 14418, '凹下去': 14419, '布景': 14420, '很新床': 14421, '宣称': 14422, '橱柜': 14423, '可亲': 14424, '矗立': 14425, '小洋房': 14426, '最滥': 14427, '脏房': 14428, '讨到': 14429, '不合': 14430, '下块': 14431, '打赤膊': 14432, '冒汗': 14433, '搪': 14434, '噻': 14435, '闪闪': 14436, '弱势群体': 14437, '罗嗦': 14438, '结了': 14439, '问心无愧': 14440, '打折扣': 14441, '差开': 14442, '事要': 14443, '一变': 14444, '犯错': 14445, '赔礼道歉': 14446, '客观原因': 14447, '吃不起': 14448, '更不愁': 14449, '皱着眉头': 14450, '档贵': 14451, '点岛': 14452, '再交': 14453, '并愿': 14454, '保密': 14455, '客户服务': 14456, '管好': 14457, '转告': 14458, '有张': 14459, '五尺': 14460, '签退': 14461, '忘右': 14462, 'shoppingmall': 14463, '近有车': 14464, '张块': 14465, '假钱': 14466, '卷曲': 14467, '妄图': 14468, '繁荣': 14469, '一角': 14470, '借鸡生蛋': 14471, '忆苦思甜': 14472, '爱国主义': 14473, '相匹配': 14474, '再开': 14475, '天窗': 14476, '教会': 14477, '飙车': 14478, '脸色苍白': 14479, '阴间': 14480, '一千多元': 14481, '象如家': 14482, '小巷子': 14483, '拆除': 14484, '赢利': 14485, '租出去': 14486, '真相': 14487, '经销商': 14488, '那层': 14489, '监狱': 14490, '狭长的': 14491, '潮潮': 14492, '妥善': 14493, '供应商': 14494, '踢皮球': 14495, '闹重': 14496, '还生': 14497, '扣掉': 14498, '波折': 14499, '大度': 14500, '后免': 14501, '多一间': 14502, '侧门': 14503, '中共': 14504, '委员会': 14505, '央企吃': 14506, '印有': 14507, '图案': 14508, '假装': 14509, '特长': 14510, '没人时': 14511, '黑得': 14512, '沿街': 14513, '翻番': 14514, '曲府': 14515, '按协程': 14516, '鲁能': 14517, '孔庙': 14518, '西请': 14519, '先要': 14520, '合法': 14521, '违法行为': 14522, '违法': 14523, '脏比': 14524, '接上': 14525, '几台': 14526, '临沂': 14527, '差星': 14528, 'service': 14529, '埸': 14530, '记号': 14531, '包容': 14532, '仅指': 14533, '几本书': 14534, 'dv': 14535, '及时发现': 14536, '寄望': 14537, '管理体系': 14538, '初看': 14539, '花园里': 14540, '还养': 14541, '照看': 14542, '挺脏害': 14543, '人到': 14544, '混暗': 14545, '狗叫': 14546, '开玩笑': 14547, '雪地': 14548, '隆隆': 14549, '体育锻炼': 14550, '天第天': 14551, '抢修': 14552, '请谅解': 14553, '中南': 14554, '海滨': 14555, '打一': 14556, '需角': 14557, '小木屋': 14558, '作息时间': 14559, '叽里呱啦': 14560, '识趣': 14561, '走开': 14562, '床小': 14563, '救命': 14564, '天拉': 14565, '小厨房': 14566, '左拐': 14567, '意料': 14568, '鼓': 14569, '将就一下': 14570, '一清早': 14571, '起眼': 14572, '会大': 14573, 'hp': 14574, '出人意料': 14575, '弧形': 14576, '推拉门': 14577, '雨夹雪': 14578, '十几分钟': 14579, '有飘窗': 14580, '张小床': 14581, '拼成': 14582, '跑马地': 14583, '洗衣店': 14584, '脚下': 14585, '双窗': 14586, '人有': 14587, '苏州园林': 14588, '天门山': 14589, '闹区': 14590, '小脏': 14591, '沉淀': 14592, '杂质': 14593, '很湿': 14594, '个体户': 14595, '差门': 14596, '薄墙': 14597, '偏长': 14598, '超低': 14599, '办得': 14600, '利索': 14601, '红薯': 14602, '腐烂': 14603, '散去': 14604, '一个拖拉机': 14605, '愚蠢': 14606, '令人欣慰': 14607, '内心': 14608, '上诉': 14609, '恶意': 14610, '污蔑': 14611, '实属': 14612, '用协程': 14613, '比用': 14614, '痒痒': 14615, '汉廷': 14616, '十几位': 14617, '海怡': 14618, '小巧': 14619, '省政府': 14620, '武昌': 14621, '书桌上': 14622, '最快': 14623, '这近': 14624, '单方面': 14625, '但愿': 14626, '旋宫': 14627, '应记': 14628, '面馆': 14629, '半年前': 14630, '扯': 14631, '床凳': 14632, '千张': 14633, '签个': 14634, '睡前': 14635, '血': 14636, '深圳机场': 14637, '多天': 14638, '前查': 14639, '耍手段': 14640, '自用': 14641, '贵多': 14642, '订号': 14643, '还单': 14644, '五角场': 14645, '滴水': 14646, '玻璃钢': 14647, '瓦上': 14648, '跑冒滴漏': 14649, '到星': 14650, '花色': 14651, '水里': 14652, '堵住': 14653, '鸳鸯浴': 14654, '旺财': 14655, '叫个不停': 14656, '时务': 14657, '客户经理': 14658, '点名': 14659, 'novotel': 14660, '解百': 14661, '以作': 14662, '逆向行驶': 14663, '摄象机': 14664, '彩': 14665, '差朝': 14666, '难调': 14667, '一个半': 14668, '拉浴': 14669, '备注': 14670, '传给': 14671, '讲得': 14672, '打表元': 14673, '宰元': 14674, '较多离': 14675, '富春江': 14676, '这破': 14677, '那灯': 14678, '朝代': 14679, '贵山': 14680, '秃山': 14681, '伪劣产品': 14682, '碰坏': 14683, '范': 14684, '时点': 14685, '烤肉串': 14686, '老当': 14687, '没空': 14688, '小桥': 14689, '很乾净': 14690, '从床': 14691, '空隙': 14692, '实景图': 14693, '个体承包': 14694, '搭配': 14695, '不上': 14696, '混装': 14697, '不知情': 14698, '用后': 14699, '完睡': 14700, '先达': 14701, '街郎': 14702, '豪坊': 14703, '贵加': 14704, '每日': 14705, '水元吨': 14706, '疲惫感': 14707, '电车站': 14708, '摆脱': 14709, '跨国': 14710, '停工': 14711, '桩': 14712, '大汉': 14713, '山东人': 14714, '本色': 14715, '印尼': 14716, '雅加达': 14717, '郊外': 14718, '扑鼻': 14719, '斑斑点点': 14720, '触目惊心': 14721, '长年': 14722, '污斑': 14723, '如厕': 14724, '倒贴': 14725, '不大未': 14726, '周边地区': 14727, '小包': 14728, '对大': 14729, '遵义': 14730, '中山公园': 14731, '后往': 14732, '西沿': 14733, '遵义路': 14734, '拐过去': 14735, '巷口': 14736, '龙之梦': 14737, '去年底': 14738, '两三天': 14739, '再方座': 14740, '相服': 14741, '比性': 14742, '漫': 14743, 'businessman': 14744, '熟度': 14745, '尚差': 14746, '浴帽': 14747, '吱吱作响': 14748, '羽毛': 14749, '日个': 14750, '不是故意': 14751, '变相加价': 14752, '就范': 14753, '由协程': 14754, '出多': 14755, '妥协': 14756, '双面': 14757, '吵闹声': 14758, '星半': 14759, '黑咕隆咚': 14760, '亭': 14761, '下厅': 14762, '汤圆': 14763, '一大块': 14764, '塑料纸': 14765, '短短的': 14766, '已全': 14767, '罩': 14768, '呕心': 14769, '办离店': 14770, '抽烟': 14771, '时不含': 14772, '雁鸣': 14773, '外币': 14774, '原封不动': 14775, '摄像': 14776, '探头': 14777, '醒来时': 14778, '多想': 14779, '同情心': 14780, '不领情': 14781, '可耻': 14782, '凑巧': 14783, '打击': 14784, '千元': 14785, '不舍': 14786, '床大得': 14787, '面带笑容': 14788, '小城': 14789, '盐都': 14790, '会放点': 14791, '糖果': 14792, '左岸': 14793, '式样': 14794, '娇小': 14795, '体型': 14796, '够不着': 14797, '房可床': 14798, '球面': 14799, '风声': 14800, '别用': 14801, '催四请': 14802, '暗地里': 14803, '新光': 14804, '天地': 14805, '值元': 14806, '无理取闹': 14807, '推给': 14808, '台办': 14809, '一提': 14810, '真服了': 14811, '店及': 14812, '为期': 14813, '说太差': 14814, '岂止': 14815, '呼朋唤友': 14816, '挨个': 14817, '弄醒': 14818, '急才': 14819, '臊味': 14820, '没关': 14821, '很严': 14822, '地铺': 14823, '平整': 14824, '楼后': 14825, '场地': 14826, '杂物': 14827, '乱堆': 14828, '乱放': 14829, '果断': 14830, '鱼缸': 14831, '寥寥': 14832, '三四种': 14833, '鱼类': 14834, '烧法': 14835, '一百个': 14836, '沙锅': 14837, '锅汤': 14838, '该地': 14839, '小害': 14840, '不雅观': 14841, '手臂': 14842, '脚背': 14843, '白嫩': 14844, '上长': 14845, '医学知识': 14846, '妹夫': 14847, '生物': 14848, '不言自明': 14849, '泥浆': 14850, '取代': 14851, '乞': 14852, '如今': 14853, '人去楼空': 14854, '窗门': 14855, '破碎': 14856, '之景': 14857, '褒': 14858, '恕我直言': 14859, '偏激': 14860, '辱': 14861, '妻子': 14862, '消掉': 14863, '很毒': 14864, '开身': 14865, '相临': 14866, '说楼': 14867, '忍一宿': 14868, '做饭': 14869, '辩驳': 14870, '挂六星': 14871, '七夕': 14872, '情人节': 14873, '平易近人': 14874, '秦经理': 14875, '更上一层楼': 14876, '代转': 14877, '秦': 14878, '新宁': 14879, '不亦乐乎': 14880, '分种': 14881, '散布': 14882, '一幢幢': 14883, '起劲': 14884, '外国专家': 14885, '说些': 14886, '第三间': 14887, '结网': 14888, '民族': 14889, '顶头': 14890, '凉菜': 14891, '热菜': 14892, '点半刚': 14893, '撤餐': 14894, '跟普': 14895, '夜深': 14896, '讲该': 14897, '教训': 14898, '七月份': 14899, '意大利人': 14900, '语言不通': 14901, '无水': 14902, '剃须': 14903, '口头': 14904, '能画': 14905, 'hellokitty': 14906, '没装': 14907, '碰撞': 14908, '思想斗争': 14909, '开浴': 14910, '亮堂': 14911, '不掉': 14912, '计划经济': 14913, '开使': 14914, '目送': 14915, '分散': 14916, '联动': 14917, '条街': 14918, '肥肠': 14919, '捆': 14920, '塑料绳': 14921, '好坏': 14922, '看人用': 14923, '眼白': 14924, '过房': 14925, '英文翻译': 14926, '拼写错误': 14927, '完后': 14928, '千差万别': 14929, '充斥': 14930, '肉菜': 14931, '还算大': 14932, '雨花台': 14933, '脚程': 14934, '亲历': 14935, '问得': 14936, '邮费': 14937, '很贵要': 14938, '他来': 14939, '三十': 14940, '几层楼': 14941, '需先到': 14942, '要花': 14943, '更正': 14944, '有层': 14945, '含早': 14946, '苦恼': 14947, '没处': 14948, '对流': 14949, '算钱': 14950, '累计': 14951, '总府路': 14952, '成订': 14953, '高新': 14954, '两道': 14955, '找会': 14956, '嫦娥': 14957, '真巧': 14958, '前作': 14959, '第一级': 14960, '较窄': 14961, '溪谷': 14962, '飘过来': 14963, '谷工里': 14964, '骨青': 14965, '方骨': 14966, '防滑垫': 14967, '事才': 14968, '梳洗': 14969, '牯岭': 14970, '车元': 14971, '立场': 14972, '不坚': 14973, '元游': 14974, '漏掉': 14975, '庐林湖': 14976, '庐林': 14977, '会址': 14978, '花径': 14979, '仙人洞': 14980, '电站': 14981, '大坝': 14982, '争议': 14983, '消夏': 14984, '庐宾': 14985, '睡着觉': 14986, '退店': 14987, '糊弄人': 14988, '拐': 14989, '弯': 14990, '给定': 14991, 'btv': 14992, '芳香': 14993, '元得': 14994, '七十多种': 14995, '白酒': 14996, '鸡翅': 14997, '两杯': 14998, 'sogood': 14999, '两串': 15000, '玛瑙': 15001, '手机链': 15002, 'imissyou': 15003, '老久离': 15004, '远住': 15005, '合资': 15006, '搞个': 15007, '夜店': 15008, '赖着': 15009, '竟来': 15010, 'lady': 15011, '内壁': 15012, '蛾子': 15013, '那顿': 15014, '问有': 15015, '限额': 15016, '进只': 15017, '桌布': 15018, '其慢': 15019, '胃痛': 15020, '物体': 15021, '圆筒形': 15022, '长约': 15023, '毫米': 15024, '切面': 15025, '圆珠笔芯': 15026, '倒个': 15027, '水叫': 15028, '那桌': 15029, '收完': 15030, '卡是': 15031, '照成': 15032, '几块钱': 15033, '毫州': 15034, '外流': 15035, '草地': 15036, '阳澄湖': 15037, '隆重': 15038, '杆快': 15039, '挺好玩': 15040, '碰巧': 15041, '前均': 15042, '消防系统': 15043, '消防': 15044, '审核': 15045, '生命安全': 15046, '大冷': 15047, '好几件': 15048, '冲冲': 15049, '空前': 15050, '不为过': 15051, '等同于': 15052, '让步': 15053, 'posh': 15054, '影视剧': 15055, '点拨': 15056, '好又多': 15057, '私家车': 15058, '前谈': 15059, '敢坐': 15060, '观光台': 15061, '早是': 15062, '退钱': 15063, '假币': 15064, '预谋': 15065, '已过': 15066, '音训': 15067, '不感': 15068, '就餐者': 15069, '兴': 15070, '事此': 15071, '离之远点': 15072, '好重': 15073, '了丽晶': 15074, '好久没': 15075, '好大住': 15076, '过点': 15077, '发动': 15078, '收费员': 15079, '环城': 15080, '路花': 15081, '手忙脚乱': 15082, '脸皮厚': 15083, '离住': 15084, '手动': 15085, '不齐': 15086, '香江': 15087, '烟花': 15088, '外壳': 15089, '闭合': 15090, '脏痕': 15091, '既不烂': 15092, '快餐': 15093, '相距': 15094, '差极': 15095, '＼': 15096, '南开大学': 15097, '近才': 15098, '称心': 15099, '优惠活动': 15100, '于楼': 15101, '更近': 15102, '浓郁': 15103, '养': 15104, '狂吠': 15105, '大狗': 15106, '字烦': 15107, '人流量': 15108, '出了名': 15109, '高海悦算': 15110, '小游': 15111, '气质': 15112, '均差': 15113, '散放': 15114, '协': 15115, '程网': 15116, '加盟': 15117, '快且': 15118, '连到': 15119, '内部网': 15120, '费要': 15121, '够得着': 15122, '全过': 15123, '鸣笛': 15124, '轻': 15125, '生喝': 15126, '令人心寒': 15127, '单号': 15128, '天开': 15129, '乱打': 15130, '业绩': 15131, '毅力': 15132, '得元': 15133, '检测': 15134, '各样': 15135, '汽车修理': 15136, '晦气': 15137, '何物': 15138, '投後要': 15139, '解': 15140, '服意': 15141, '客反': 15142, '太逗': 15143, '大老远': 15144, '打领带': 15145, '大肚子': 15146, '小两口': 15147, '了不起': 15148, '两口子': 15149, '掏腰包': 15150, '公款': 15151, '欺负': 15152, '此要': 15153, '要学': 15154, '好于': 15155, '差想': 15156, '没待': 15157, '可觉': 15158, '小而': 15159, '当到': 15160, '两手': 15161, '南门': 15162, '唯': 15163, '时出': 15164, '事缘': 15165, '雪柜': 15166, '临退': 15167, '赶车': 15168, '千多元': 15169, '几元': 15170, '收足': 15171, '搬动': 15172, '日元': 15173, '两眼': 15174, '一亮': 15175, '五四': 15176, '不太爽': 15177, '无车': 15178, '八分钟': 15179, '雨天': 15180, '艰难': 15181, '过大呼': 15182, '一通': 15183, '算在里面': 15184, '退问': 15185, '算进去': 15186, '憋': 15187, '重启': 15188, '结到': 15189, '现金交易': 15190, '买卖': 15191, '玩游戏': 15192, '高阳': 15193, '蚂蚱': 15194, '生灵': 15195, '音效': 15196, '经贸': 15197, '倒像': 15198, '状况不佳': 15199, '泥灰': 15200, '脚踏': 15201, '脏污': 15202, '座椅': 15203, '不愿': 15204, '落座': 15205, '格兰': 15206, '云天': 15207, '孰轻孰重': 15208, '竹筐': 15209, '趋势': 15210, '如新': 15211, '玻璃幕墙': 15212, '不格惠境': 15213, '比喜': 15214, '房订': 15215, '窗玻璃': 15216, '加装': 15217, '百叶窗': 15218, '老伯': 15219, '没则': 15220, '有红边': 15221, '窗前': 15222, '私密': 15223, '人想': 15224, '中油': 15225, '江地': 15226, '旅中': 15227, '缺是': 15228, '城建': 15229, '倒挂': 15230, '乌鲁木齐市': 15231, '少定': 15232, '三床': 15233, '一墙之隔': 15234, '全然': 15235, '彻查': 15236, '突变': 15237, '骤降': 15238, '稍候': 15239, '说订': 15240, '登记表': 15241, '该名': 15242, '六晚': 15243, '国际都市': 15244, '单行线': 15245, '车不多': 15246, '差比': 15247, '向左转': 15248, '摊还': 15249, '亲近': 15250, '换衣服': 15251, '台球桌': 15252, '金黄色': 15253, '碧绿': 15254, '那有星': 15255, '自我介绍': 15256, '中说': 15257, '浴场': 15258, '模样': 15259, '一次次': 15260, '穿出去': 15261, '闭嘴': 15262, '阵势': 15263, '北京华': 15264, '白洋淀': 15265, '娣': 15266, '妹店': 15267, '桌前': 15268, '落地灯': 15269, '移': 15270, '正月': 15271, '半热': 15272, '上点': 15273, '通了': 15274, '栏杆': 15275, '大哥': 15276, '挪动': 15277, '车要': 15278, '拦住': 15279, '抬杆': 15280, '放车': 15281, '烧到': 15282, '抑制': 15283, '喝斥': 15284, '不卖': 15285, '财大气粗': 15286, '并入': 15287, '您提': 15288, '能为': 15289, '刚回': 15290, '紫薇': 15291, '打工': 15292, '招来': 15293, '友谊路': 15294, '金融街': 15295, '科技': 15296, '正处': 15297, '期来': 15298, '照相机': 15299, '说声': 15300, '脏京': 15301, '沈高速': 15302, '境佳泉': 15303, '想像中': 15304, '那好': 15305, '小滩': 15306, '挺舒服': 15307, '截到': 15308, '排班': 15309, '沙洲': 15310, '这座': 15311, '近住': 15312, '紫楼': 15313, '玩累': 15314, '好受': 15315, '慎用': 15316, '全方位': 15317, '丝丝': 15318, '高架桥': 15319, '悠久': 15320, '缅怀': 15321, '很具': 15322, '平民化': 15323, '佳宁娜': 15324, '百花': 15325, '商业广场': 15326, '不太近': 15327, '却排': 15328, '华庭': 15329, '各界': 15330, 'laptop': 15331, '下边': 15332, '横档': 15333, '有颗': 15334, '痣': 15335, '中年人': 15336, '粗暴': 15337, '减分': 15338, '人事部门': 15339, '事关': 15340, '脸面': 15341, 'chickin': 15342, 'master': 15343, '大头照': 15344, '囊中羞涩': 15345, '天财': 15346, '挡': 15347, '算不清': 15348, '贵如家': 15349, '喋喋不休': 15350, '北关': 15351, '黑压压': 15352, '知不知道': 15353, '售票员': 15354, '好几': 15355, '班': 15356, '点间': 15357, '过路车': 15358, '坐飞机': 15359, '多米': 15360, '裕隆': 15361, '贵去': 15362, '圣亚': 15363, '好蛮': 15364, '花点': 15365, '钱订': 15366, '高离': 15367, '支': 15368, '面崖': 15369, '并会': 15370, '古运河': 15371, '古诗词': 15372, '意韵': 15373, '不紧': 15374, '脸蛋': 15375, '涂过': 15376, '慢玩': 15377, '游戏': 15378, '挺慢': 15379, '桌面': 15380, '轰': 15381, '美发店': 15382, '下流': 15383, '无所事事': 15384, '上能订': 15385, '相配': 15386, '系元': 15387, '系太差': 15388, '有眼力': 15389, '垃圾箱': 15390, '扔掉': 15391, '回不去': 15392, '认': 15393, '对象': 15394, '剔除': 15395, '总感': 15396, '加钱且': 15397, '拖时': 15398, '工点': 15399, '极高': 15400, '回归自然': 15401, '货真价实': 15402, '布帘': 15403, '蛮长': 15404, '怨妇': 15405, '状': 15406, '有面': 15407, '你家': 15408, '五六家': 15409, '吓一跳': 15410, '往床': 15411, '下放': 15412, '只定': 15413, '连澡': 15414, '考验': 15415, '直言': 15416, '方对': 15417, '现场会议': 15418, '即日起': 15419, '全员': 15420, '展开': 15421, '同步': 15422, '留电话': 15423, '问后': 15424, '冲个': 15425, '热一看': 15426, '就会': 15427, '上半夜': 15428, '夏至': 15429, '全年': 15430, '最热': 15431, '省电所': 15432, '赳': 15433, '得体': 15434, '但梅苑': 15435, '危楼': 15436, '雄伟': 15437, '太散': 15438, '个馆': 15439, '长春市': 15440, '整顿': 15441, '半潜': 15442, '买一送一': 15443, '世界之窗': 15444, '威尼斯': 15445, '办公桌': 15446, '桑在': 15447, '全说': 15448, '外线': 15449, '计入': 15450, '上级领导': 15451, '展现出': 15452, '朱家角': 15453, '好容易': 15454, '我过': 15455, '关门声': 15456, '声声': 15457, '停歇': 15458, '朝内': 15459, '院': 15460, '机组': 15461, '吵才': 15462, '还算大床': 15463, '向东': 15464, '二百米': 15465, '王街': 15466, '蟠龙': 15467, '豪顶': 15468, '人点': 15469, '二瓶': 15470, '瓶雪碧才': 15471, '三百多元': 15472, '几种': 15473, '野菜': 15474, '转入': 15475, '睡过': 15476, '多床': 15477, '规整': 15478, '偏好': 15479, '平平': 15480, '已显': 15481, '老态': 15482, '当局': 15483, '对粤财': 15484, '偷懒': 15485, '做作': 15486, '温软': 15487, '除去': 15488, '泡酒吧': 15489, '姑苏': 15490, '信价': 15491, '差床': 15492, '过到': 15493, '大佛寺': 15494, '不佳有': 15495, '本本': 15496, '抛出': 15497, '一问一答': 15498, '房交': 15499, '只过': 15500, '投了': 15501, '资的': 15502, '气病': 15503, '元元': 15504, '小次': 15505, '所小得': 15506, '连张': 15507, '特毒': 15508, '肿': 15509, '鲜血': 15510, '奉献精神': 15511, '房可进': 15512, '一模一样': 15513, '搞鬼': 15514, '支支吾吾': 15515, '我狂': 15516, '无物': 15517, '加价': 15518, '铁轨': 15519, '自年': 15520, '天津市': 15521, '思考': 15522, '有别于': 15523, '几百间': 15524, '熙熙攘攘': 15525, '缺欠': 15526, '前换': 15527, '应是': 15528, '告之': 15529, '没顾': 15530, '这番话': 15531, '近处': 15532, '远到': 15533, '顾虑': 15534, '语言表达': 15535, '到此一游': 15536, '方方面面': 15537, '店头': 15538, '还算够': 15539, '一百多': 15540, '分贝': 15541, '震死': 15542, '急于': 15543, '北齐': 15544, '吃完饭': 15545, '污染': 15546, '日住': 15547, '受够了': 15548, '脚步声': 15549, '帐房': 15550, '内送餐': 15551, '德行': 15552, '振振有辞': 15553, '很久以前': 15554, '列表': 15555, '起太早': 15556, '未达': 15557, '有准': 15558, '暂且不说': 15559, '签了': 15560, '闸': 15561, '坡': 15562, '浴': 15563, '价格表': 15564, '额外收费': 15565, '硬挺': 15566, '狂晕': 15567, '施工人员': 15568, '独此一家': 15569, '来金': 15570, '物价水平': 15571, '边角料': 15572, '压着': 15573, '暴露': 15574, '简装': 15575, '手太': 15576, '当心': 15577, '跨': 15578, '半步': 15579, '设试': 15580, '虽较': 15581, '关城': 15582, '鱼子': 15583, '仅元': 15584, '夹': 15585, '竞': 15586, '咋办': 15587, '好几分钟': 15588, '嘉峪关': 15589, '里煲': 15590, '问是': 15591, '差看': 15592, '斜': 15593, '人品': 15594, '没意思': 15595, '最低价': 15596, '激怒': 15597, '能宰': 15598, '个样': 15599, '妈呀': 15600, '迷惑': 15601, '家好': 15602, '大河': 15603, '近来': 15604, '多功能': 15605, 'copy': 15606, '发送': 15607, '会收': 15608, '使用费': 15609, '有效率': 15610, '难题': 15611, '极好': 15612, '光脚': 15613, '长假': 15614, '帆板': 15615, '可玩去': 15616, '动员': 15617, '满处': 15618, '多几家': 15619, '一纬路': 15620, '比价': 15621, '下岗': 15622, '三台山': 15623, '于谦祠': 15624, '清明节': 15625, '体检': 15626, '崇圣': 15627, '多发': 15628, '四带': 15629, '开水器': 15630, '这倒': 15631, '心致': 15632, '猪': 15633, '办事处': 15634, '卤蛋': 15635, '夹饼': 15636, '喷出': 15637, '远洋': 15638, '蔓好': 15639, '现券': 15640, '负一': 15641, '住遍': 15642, '上周': 15643, '方飞': 15644, '老爷': 15645, '弄错': 15646, '现况': 15647, '前车之鉴': 15648, '贵太多': 15649, '担误': 15650, '所指': 15651, '半山腰': 15652, '故是': 15653, '载': 15654, '渡过': 15655, '虽离': 15656, '窗见': 15657, '灿烂': 15658, '花朵': 15659, '合不拢嘴': 15660, '事事': 15661, '顺心': 15662, '母亲节': 15663, '献给': 15664, '兰溪': 15665, '哈哈哈哈': 15666, '初去': 15667, '大塘': 15668, '小旧': 15669, '陕甘': 15670, '会馆': 15671, '入眼': 15672, '橱': 15673, '实拍': 15674, '预警': 15675, '点大床': 15676, '湾仔': 15677, '四条': 15678, '天星': 15679, '攒': 15680, '造型': 15681, '柯布': 15682, '夜光': 15683, '授信额度': 15684, '小票': 15685, '作坊式': 15686, '围裙': 15687, '恶俗': 15688, '财神': 15689, '烟雾': 15690, '缭绕': 15691, '次此': 15692, '要压': 15693, '公共交通': 15694, '太糟': 15695, '臭臭': 15696, '无数个': 15697, '断然拒绝': 15698, '再接': 15699, '和标': 15700, '要房': 15701, '搞掂': 15702, '五颗星': 15703, '案': 15704, '鲁迅': 15705, '住来': 15706, '底子': 15707, '窗大床': 15708, '桥边': 15709, '摊': 15710, '离尚': 15711, '湖虞山': 15712, '王四': 15713, '更衣': 15714, '开等': 15715, '我游': 15716, '能分': 15717, '连云港市': 15718, '谨慎': 15719, '经不住': 15720, '诱惑': 15721, '取舍': 15722, '一分货': 15723, '黑迹': 15724, '眼花缭乱': 15725, '仨': 15726, '好名': 15727, '空开': 15728, '带病': 15729, '五分': 15730, '多钟': 15731, '宏裕分': 15732, '进进出出': 15733, '妈咪': 15734, '八点钟': 15735, '液态': 15736, '使到': 15737, '西海': 15738, '绝好': 15739, '落脚处': 15740, '本站': 15741, '电暖器': 15742, '西门子': 15743, '二十三年': 15744, '生长': 15745, '适应能力': 15746, '几近': 15747, '情有可原': 15748, '过门': 15749, '床褥': 15750, '人不太': 15751, '干粮': 15752, '上馆子': 15753, '菜价': 15754, '发言权': 15755, '免去': 15756, '之苦': 15757, '实为': 15758, '之喜要': 15759, '卧榻': 15760, '吹冷风': 15761, '落荒而逃': 15762, '芙蓉路': 15763, '应收': 15764, '眼底': 15765, '驻': 15766, '拿水单': 15767, '话别': 15768, '自寻烦恼': 15769, '半瓶': 15770, '回用': 15771, '不好不坏': 15772, '慢望': 15773, '几日': 15774, '容量': 15775, '增大': 15776, '一大部分': 15777, '警告': 15778, '雅高': 15779, '住拙': 15780, '耕园': 15781, '三本': 15782, '就行了': 15783, '时换': 15784, '催送': 15785, '预热': 15786, '凉凉的': 15787, '连折': 15788, '不折': 15789, '资助': 15790, '隔个': 15791, '这鬼': 15792, '一帮': 15793, '老太': 15794, '出土文物': 15795, '人像': 15796, '同仁': 15797, '狼狈为奸': 15798, '只觉': 15799, '马粪': 15800, '皮面': 15801, '阴森': 15802, '可得': 15803, '光鲜': 15804, '房就订': 15805, '两卫': 15806, '床元': 15807, '碗筷': 15808, '指甲刀': 15809, '手边': 15810, '只知': 15811, '老远': 15812, '大字': 15813, '转圈': 15814, '混为一体': 15815, '十楼': 15816, '字大脏': 15817, '瓜子壳': 15818, '冲淋': 15819, '房水': 15820, '快捷键': 15821, '电话簿': 15822, '奔波': 15823, '消极': 15824, '而后': 15825, '辞退': 15826, '服务满意': 15827, '有待于': 15828, '生态园': 15829, '往里': 15830, '休博会': 15831, '机械': 15832, '晚退': 15833, '依我看': 15834, '就星': 15835, '步态': 15836, '送个': 15837, '完事': 15838, '仙林': 15839, '避风港': 15840, '地摊': 15841, '因该': 15842, '要事': 15843, '写点': 15844, '拟定': 15845, '发展': 15846, '战略': 15847, '纲要': 15848, '亲情': 15849, '拿回扣': 15850, '北山': 15851, '上乘': 15852, '宴请': 15853, '赶上来': 15854, '聚会': 15855, '食欲': 15856, '犹': 15857, '干掉': 15858, '四特酒': 15859, '李副理': 15860, '问寒问暖': 15861, '写成': 15862, '电力部门': 15863, '别有洞天': 15864, '束河': 15865, '按脚': 15866, '车回': 15867, '赶出来': 15868, '筵席': 15869, '五六个': 15870, '八卦': 15871, '交通局': 15872, '这所': 15873, '知晓': 15874, '回说': 15875, '才刚': 15876, '无法解释': 15877, '亏损': 15878, '名目': 15879, '亏待': 15880, '改说': 15881, '动气': 15882, '弹性': 15883, '早作': 15884, '发此': 15885, '推说': 15886, '大名': 15887, '并排': 15888, '一侧': 15889, '味害': 15890, '关窗户': 15891, '连挡': 15892, '水条': 15893, '送风口': 15894, '仓惶': 15895, '打嘴巴': 15896, '室内空气': 15897, '龙卡': 15898, '受权': 15899, '末': 15900, '预受': 15901, '怎有': 15902, '没热方': 15903, '现去': 15904, '考芦': 15905, '我楼': 15906, '罗湾': 15907, '珀宁': 15908, '崇光': 15909, '红眼': 15910, '延弛': 15911, '午觉': 15912, '合理要求': 15913, '当做': 15914, '撕走': 15915, '卡用': 15916, '不知就里': 15917, '这会': 15918, '个局': 15919, '贡献': 15920, '阴面': 15921, '迎': 15922, '西临': 15923, '高低不平': 15924, '滚': 15925, '部后': 15926, '熟练地': 15927, '干开': 15928, '翻个': 15929, '一铺': 15930, '连贯': 15931, '一气呵成': 15932, '磨损': 15933, '象纸': 15934, '站点': 15935, '不成问题': 15936, '多据': 15937, '驹': 15938, '鲍': 15939, '市口': 15940, '厂房': 15941, '童叟无欺': 15942, '谎称': 15943, '中毒': 15944, '连好': 15945, '山海': 15946, '人群': 15947, '物美价廉': 15948, '返还': 15949, '要时': 15950, '哥伦布': 15951, '新大陆': 15952, '从前': 15953, '涑': 15954, 'visa卡': 15955, '北京机场': 15956, '候机楼': 15957, '惊魂': 15958, '财物': 15959, '被盗': 15960, '为证': 15961, '人民警察': 15962, '为民除害': 15963, '引狼入室': 15964, '玩忽职守': 15965, '赔偿损失': 15966, '赖掉': 15967, '法院': 15968, '疑点': 15969, '侦破': 15970, '警官': 15971, '客观事实': 15972, '吵声': 15973, '真空包装': 15974, 'ab': 15975, '版': 15976, '高枕': 15977, '荞麦': 15978, '租赁': 15979, '何故': 15980, '张家': 15981, '想住': 15982, '甲醛': 15983, '含量': 15984, '雷到': 15985, '三处': 15986, '污点': 15987, '哈刚': 15988, '我大床': 15989, '八楼': 15990, '禁止': 15991, '事务': 15992, '连夜': 15993, '滨州': 15994, '太深': 15995, '一吃': 15996, '调成': 15997, '拉着': 15998, '嘿咻嘿': 15999, '咻': 16000, '汉庭汉庭': 16001, '灯箱': 16002, '电流': 16003, '低频': 16004, '元店': 16005, '停时': 16006, '没地': 16007, '兑奖': 16008, '刮过': 16009, '不爱': 16010, '来发': 16011, '蒙蔽': 16012, '有托': 16013, '门都关': 16014, '拉门': 16015, '倒入': 16016, '裂': 16017, 'priorityclub': 16018, '之事': 16019, '卡会': 16020, '好几层': 16021, '房先': 16022, '贵人': 16023, '三是': 16024, '庆春路': 16025, '往东方': 16026, '脏用': 16027, '四五十岁': 16028, '中老年': 16029, '妇女': 16030, '句句': 16031, '友情': 16032, '四五百': 16033, '手扶': 16034, '不响': 16035, '本世纪初': 16036, '出手': 16037, '必定': 16038, '挨宰': 16039, '赴': 16040, '标准差': 16041, '嘲杂': 16042, '大到': 16043, '超乎': 16044, '气势': 16045, '四号线': 16046, '东安': 16047, '路站': 16048, '中医药大学': 16049, '厂': 16050, '迎导': 16051, '酶迹': 16052, '房换': 16053, '宁缺': 16054, '令人恐怖': 16055, '零下': 16056, '十几': 16057, '叫卖': 16058, '后怕': 16059, '不已': 16060, '晚订': 16061, '山西人': 16062, '自述': 16063, '不分': 16064, '混合': 16065, '晚床': 16066, '不深': 16067, '水景': 16068, '石': 16069, '俯首': 16070, '黄河水': 16071, '色如': 16072, '浓茶': 16073, '沧桑': 16074, '流泪': 16075, '要用': 16076, '手去': 16077, '抠出来': 16078, '关上灯': 16079, '灭蟑螂': 16080, '不精': 16081, '观海': 16082, '癞蛤蟆': 16083, '微凉': 16084, '冲得': 16085, '蜈支洲': 16086, '潜水': 16087, '能见度': 16088, '大晴天': 16089, '大叔': 16090, '略贵些': 16091, '班长': 16092, '人开': 16093, '西西': 16094, '除外': 16095, '纸篓': 16096, '长流水': 16097, '合同': 16098, '比狮林': 16099, '较乱': 16100, '有情': 16101, '可谅': 16102, '听取': 16103, '天泉': 16104, '最後是': 16105, '陋': 16106, '做不了': 16107, '服素': 16108, '很貌': 16109, '不考': 16110, '贵不说': 16111, '有过': 16112, '飘香': 16113, '北边': 16114, '溜': 16115, '偏贵过': 16116, '跑题': 16117, '连车': 16118, '零分': 16119, '谭家菜': 16120, '名头': 16121, '马术': 16122, '鸡蛋里挑': 16123, '关不': 16124, '紧要': 16125, '塞进来': 16126, '海蟹': 16127, '涨得': 16128, '象艾美': 16129, '豪达': 16130, '复古': 16131, '庄重': 16132, '福朋': 16133, '精巧': 16134, '评福朋': 16135, '就是指': 16136, '岂不知': 16137, '房中': 16138, 'queensize': 16139, '核证': 16140, '言评': 16141, '原位': 16142, '仪征市': 16143, '帅府': 16144, '东北角': 16145, '记错': 16146, '烘干': 16147, '书店': 16148, '柳州市': 16149, '游购': 16150, '娱': 16151, '呼来': 16152, '张灵芳': 16153, '瑞雪': 16154, '投诉无门': 16155, '第六': 16156, '一顶': 16157, '一大帮': 16158, '泳': 16159, '望池': 16160, '兴叹': 16161, '规矩': 16162, '少人游': 16163, '亲口': 16164, '亲眼看见': 16165, '用卡': 16166, '用卡预': 16167, '勾结': 16168, '报帐': 16169, '报效': 16170, '难用': 16171, '常德': 16172, '没分': 16173, '有生': 16174, '五层': 16175, '停过': 16176, '沧州': 16177, '成绩': 16178, '张口': 16179, '穿不下': 16180, '码': 16181, '需向': 16182, '客务': 16183, '灰蒙蒙': 16184, '没人用': 16185, '先放': 16186, '窗式空调': 16187, '查因': 16188, '宽约': 16189, '两米': 16190, '轰动': 16191, '正值': 16192, '元旦假期': 16193, '屈就': 16194, '转为': 16195, '分体': 16196, '香港城': 16197, '貌': 16198, '只交': 16199, '中是': 16200, '文物保护': 16201, '有道': 16202, '屡屡': 16203, '差均': 16204, 'chackin': 16205, '性格': 16206, '因行': 16207, '但家店': 16208, '外卡': 16209, '先押': 16210, '本要': 16211, '比押': 16212, '保障': 16213, '表': 16214, '一貌': 16215, '民生': 16216, 'ず': 16217, '楞楞': 16218, '沃尔玛': 16219, '夹人合': 16220, '上岗': 16221, '封杀': 16222, '竟有': 16223, '擦亮眼睛': 16224, '从点': 16225, '气到': 16226, '上窜下跳': 16227, '我该': 16228, '佩服': 16229, '怡人': 16230, '鸟鸣': 16231, '奇事': 16232, '月亮': 16233, '河是': 16234, '富人': 16235, '天热': 16236, '调低': 16237, '太噪': 16238, '紧邻着': 16239, '台有': 16240, '脸型': 16241, '日时': 16242, '举办': 16243, '难以置信': 16244, '一而再': 16245, '再而三': 16246, '面带微笑': 16247, '略胜': 16248, '仅此而已': 16249, '请速': 16250, '漏算': 16251, '少向': 16252, '犯下': 16253, '解雇': 16254, '不利': 16255, '个人空间': 16256, '传播媒介': 16257, '撰写': 16258, '伙伴': 16259, '讲讲': 16260, '价值连城': 16261, '投诉信': 16262, '深表': 16263, '责任人': 16264, '处理意见': 16265, '交往': 16266, '盛情款待': 16267, '携手': 16268, '同进': 16269, '万事': 16270, '顺意': 16271, '迄今为止': 16272, '绝无仅有': 16273, '一下肚子': 16274, '描绘': 16275, '弹钢琴': 16276, '沙拉': 16277, '周日': 16278, '使馆区': 16279, '不安全感': 16280, '背上': 16281, '不大算': 16282, '济源': 16283, '热害': 16284, '送风': 16285, '不热前': 16286, '气转': 16287, '三十度': 16288, '开要': 16289, '忍忍': 16290, '兜圈子': 16291, '前回': 16292, '玩弄': 16293, '翻脸': 16294, '好不好': 16295, '刚写': 16296, '真可怜': 16297, '抬杠': 16298, '回覆': 16299, '虚心': 16300, '没人接': 16301, '已派': 16302, '手机号码': 16303, '傻瓜': 16304, '除夕': 16305, '奇响': 16306, '出不来': 16307, '游乐场': 16308, '德国': 16309, '房晚': 16310, '数错': 16311, '数数': 16312, '数不清': 16313, '半卧': 16314, '旁楼': 16315, '戚家山': 16316, '工作到位': 16317, '有名气': 16318, '特地去': 16319, '西侧': 16320, '静得': 16321, '一下床': 16322, '支小': 16323, '元接': 16324, '事发': 16325, '用元': 16326, '店元': 16327, '中恳': 16328, '中伤': 16329, '实事': 16330, '求事': 16331, '提个醒': 16332, '永州': 16333, '卡比': 16334, '傲气': 16335, '斜眼': 16336, '刘': 16337, '当作': 16338, '二等': 16339, '网口': 16340, '反': 16341, '刺眼': 16342, '出逃': 16343, '坦言': 16344, '接手': 16345, '海丰': 16346, '滴滴': 16347, '滴响': 16348, '重楼': 16349, '上望': 16350, '顶层': 16351, 'ymca': 16352, '好小叻': 16353, 'btw': 16354, '金银': 16355, 'yo': 16356, '唐里': 16357, '卖菜': 16358, '九楼': 16359, '过本': 16360, '破有': 16361, '洞洞': 16362, '很多很多': 16363, '订要': 16364, '叫星': 16365, '升标': 16366, '没热': 16367, '行里': 16368, '狼狗': 16369, '绕车': 16370, '看不清楚': 16371, '借去': 16372, '磨': 16373, '取现': 16374, '总评': 16375, '业务素质': 16376, '脏到': 16377, '灰黑色': 16378, '板床': 16379, 'tz': 16380, '有福': 16381, '失手': 16382, '大眼袋': 16383, '痛咯': 16384, '别选': 16385, '不求': 16386, '多好': 16387, '仅记': 16388, '别看': 16389, '四季': 16390, '法国': 16391, '欧舒丹': 16392, '果腹': 16393, '带血': 16394, '还配': 16395, '按说': 16396, '食谱': 16397, '毁成': 16398, '厨艺': 16399, '皮革': 16400, '去逛': 16401, 'fiba': 16402, '打球': 16403, '球员': 16404, '录入': 16405, '玫瑰红': 16406, '台式': 16407, '均面': 16408, '一滴': 16409, '汤': 16410, '想租': 16411, '这一来': 16412, '建塘': 16413, '积雪': 16414, '没想': 16415, '小巫见大巫': 16416, '简': 16417, '用纸': 16418, '一点儿': 16419, '一顿饭': 16420, '蹊跷': 16421, '左边': 16422, '参加考试': 16423, '留加床': 16424, '隐形眼镜': 16425, '很次': 16426, '点旧': 16427, '计价器': 16428, '过路费': 16429, '去京': 16430, '住宿地': 16431, '朴实': 16432, '扶手': 16433, '滑道': 16434, '光滑': 16435, '痛快': 16436, '暖色': 16437, '老百姓': 16438, '行动不便': 16439, '大都市': 16440, '好道': 16441, '刹': 16442, '豪间': 16443, '球衣': 16444, '高大': 16445, '刺青': 16446, '粘贴': 16447, '涂鸦': 16448, '服务器': 16449, '口及': 16450, '香溢': 16451, '豪单': 16452, '莫太': 16453, 'e': 16454, '代': 16455, '桑拿房': 16456, '归类': 16457, '略过': 16458, '不计': 16459, '中国电信': 16460, '吊儿郎当': 16461, '三句话': 16462, '想不出': 16463, '躲来躲去': 16464, '想下': 16465, '面站': 16466, '装作': 16467, '多一事不如少一事': 16468, '轻而易举': 16469, '绝大多数': 16470, '兢兢业业': 16471, '刚来': 16472, '大包': 16473, '车门': 16474, '先不说': 16475, '刚作': 16476, '乐于': 16477, '赞有': 16478, '单程': 16479, '无须': 16480, '三赞': 16481, '黄石寨': 16482, '你别': 16483, '再受': 16484, '热气腾腾': 16485, '还套': 16486, '最受': 16487, '鼓舞': 16488, '缺氧': 16489, '极易': 16490, '加剧': 16491, '窗上': 16492, '歪': 16493, '床架': 16494, '更脏': 16495, '铁丝': 16496, '包问': 16497, '几眼': 16498, '不怕死': 16499, '净水': 16500, '两三点': 16501, '猜想': 16502, '撒酒疯': 16503, '流量': 16504, '先开': 16505, '盖板': 16506, '抄家': 16507, '鸡犬不宁': 16508, '叠成': 16509, '动物': 16510, '八折': 16511, '从订': 16512, '交还': 16513, '相互': 16514, '开出': 16515, '签收': 16516, '马': 16517, '相要': 16518, '足进': 16519, '水开': 16520, '定元': 16521, '佳丽': 16522, '变价': 16523, '老破破': 16524, '隔离': 16525, '慢且': 16526, '四部': 16527, '缩短': 16528, '飞蛾': 16529, '飞费': 16530, '周折': 16531, '扑杀': 16532, '无可非议': 16533, '在续': 16534, '会涨': 16535, '胜利': 16536, '杨家埠': 16537, '法老王': 16538, '赌场': 16539, '挤住': 16540, 'vip': 16541, '一试': 16542, '秦堰楼': 16543, '开开': 16544, '开多流': 16545, '黑脸': 16546, '包公': 16547, '定为': 16548, '银牌': 16549, '因去': 16550, '香港大学': 16551, '离港': 16552, '大较': 16553, '大饱口福': 16554, '台太少': 16555, '店太差': 16556, '显贵': 16557, '没大床': 16558, '连卡佛': 16559, '烟瘾': 16560, '挺差': 16561, '没吐': 16562, '套紧': 16563, '房大挺': 16564, '借人': 16565, '脚踏车': 16566, '凭门卡': 16567, '可任意': 16568, '比绿舟': 16569, '哗哗': 16570, '恍若': 16571, '既快': 16572, '七八分钟': 16573, '慕名而来': 16574, '挺棒': 16575, '说起': 16576, '扔进': 16577, '带有': 16578, '茂名': 16579, '拆': 16580, '浴盆': 16581, '长度': 16582, '水溅': 16583, '食街': 16584, '帝豪': 16585, '真切': 16586, '可问': 16587, '收一正天': 16588, '背包客': 16589, '暧昧': 16590, '温州': 16591, '校办': 16592, '大些': 16593, '一小部分': 16594, '上旬': 16595, '几十元': 16596, '浴陋': 16597, '或水': 16598, '卫生死角': 16599, '没有话说': 16600, '都行': 16601, '做牢': 16602, '大伙': 16603, '常驻': 16604, '张纸': 16605, '楼建': 16606, '气侯': 16607, '住潭江': 16608, '潭江': 16609, '鼎鼎有名': 16610, '非洲': 16611, '堵水': 16612, '四象': 16613, '六总比': 16614, '强些': 16615, '中向': 16616, '吹嘘': 16617, '先看': 16618, '冲鼻': 16619, '脏且': 16620, '不平': 16621, '水锈': 16622, '开床': 16623, '螺丝': 16624, '世纪末': 16625, '显像管': 16626, '横条': 16627, '伴随': 16628, '招全': 16629, '挂机': 16630, '晕头转向': 16631, '回扣': 16632, '长久': 16633, '无异': 16634, '饮': 16635, '甄': 16636, '止渴': 16637, '剃须刀': 16638, '课': 16639, '有用吗': 16640, '银帆': 16641, '新协通': 16642, '不思上': 16643, '十几米': 16644, '定满': 16645, '枫枫': 16646, '私心': 16647, '四十': 16648, '说元': 16649, '车块': 16650, '蛮多': 16651, '糖醋排骨': 16652, '一丁点': 16653, '酸辣': 16654, '土豆丝': 16655, '小份': 16656, '少算': 16657, '很傻': 16658, '戆进': 16659, '戆': 16660, '死不认账': 16661, '那么回事': 16662, '行头': 16663, '晚睡': 16664, '股刚': 16665, 'xc': 16666, '门市': 16667, '比如说': 16668, '叙府': 16669, '星如家': 16670, '同去': 16671, '真没想到': 16672, '另人': 16673, '碟卡': 16674, '烧会': 16675, '洗成': 16676, '税后': 16677, '使该': 16678, '博物': 16679, '马王堆': 16680, '天生': 16681, '电壶': 16682, '先收': 16683, '过热': 16684, '没干过': 16685, '这行': 16686, '红山': 16687, '近在咫尺': 16688, '二道桥': 16689, '仅四站': 16690, '有缘': 16691, '有好有坏': 16692, '到些': 16693, '用话': 16694, '话说回来': 16695, '糟待': 16696, '脏水': 16697, '地守': 16698, '最坏': 16699, '幽暗': 16700, '空空荡荡': 16701, '走不进': 16702, '动画片': 16703, '住个': 16704, '米奇': 16705, '童年': 16706, '雨夜': 16707, '公寓楼': 16708, '颠醒': 16709, '结分': 16710, '冤透': 16711, '立交': 16712, '锁门': 16713, '咚咚': 16714, '节奏': 16715, '碎屑': 16716, '旋钮': 16717, '看不出来': 16718, '过连亲': 16719, '爷爷': 16720, '跑过来': 16721, '眼睁睁': 16722, '引到': 16723, '气疯': 16724, '收走': 16725, '偏巧': 16726, '不休': 16727, '勤奋工作': 16728, '套上': 16729, '第二周': 16730, '橙子': 16731, '那熏': 16732, '礼拜': 16733, '深航': 16734, '听人': 16735, '不周': 16736, '指正': 16737, '处事': 16738, '不当': 16739, '获悉': 16740, '离别': 16741, '身汗': 16742, '特别强调': 16743, '想像': 16744, '牛仔裤': 16745, '为止': 16746, '到份': 16747, '值钱': 16748, '睡到': 16749, '隔天': 16750, '偷钱': 16751, '再接再厉': 16752, '吸烟者': 16753, '烟鬼': 16754, '外企': 16755, '请多设': 16756, '加付': 16757, 'wearethenonsmokersitisabouttimethatthehotelrespectustohavethefreedomoffreshairbanthesmokersinthecheckinorcheckoutcounterpleasethankyou': 16758, '房梯': 16759, '不透气': 16760, '台及': 16761, '洗脚': 16762, '两星': 16763, '圣地': 16764, '新点': 16765, 'crowneplaza': 16766, '穿衣镜': 16767, '大套': 16768, '有大': 16769, '半身': 16770, '无需': 16771, '不免': 16772, '业务知识': 16773, '北塔': 16774, '迪吧': 16775, '快曲': 16776, '南塔': 16777, '觉换': 16778, '畅经': 16779, '多名': 16780, '细水': 16781, '就流': 16782, '泡脚': 16783, '玩艺': 16784, '狂叫': 16785, '小毛': 16786, '小病': 16787, '日益': 16788, '杀猪': 16789, '莫明其妙': 16790, '认认': 16791, '喊': 16792, '话题': 16793, '两口': 16794, '痰': 16795, '背身': 16796, '吐痰': 16797, '证大丽笙': 16798, '甘肃': 16799, '重叠': 16800, '宿州': 16801, '汇源': 16802, 'i': 16803, 'u': 16804, '付房': 16805, '费时': 16806, '星好': 16807, '旧得': 16808, '冷害': 16809, '威海市': 16810, '电力局': 16811, '给关': 16812, '兰州铁路局': 16813, '出站口': 16814, '暴要': 16815, '太漂亮': 16816, '香灰': 16817, '一味': 16818, '重建': 16819, '清生': 16820, '非吸': 16821, '没有冬天': 16822, '王道': 16823, '徒有其表': 16824, '说怕': 16825, '着凉': 16826, '鸭绒被': 16827, '舍得': 16828, '早年': 16829, '嗜': 16830, '辣者': 16831, '兼顾': 16832, '南来北往': 16833, '非辣': 16834, '逃走': 16835, '感差': 16836, '屋後床': 16837, '已登': 16838, '二小': 16839, '服的品': 16840, '其房': 16841, '服人': 16842, '否': 16843, '位上': 16844, '客源': 16845, '洗发露': 16846, '清爽': 16847, '好楼': 16848, '雪茄': 16849, '正中': 16850, '乳酪': 16851, '相通': 16852, '向前走': 16853, '都江堰市': 16854, '成林': 16855, '练嗓子': 16856, '清早': 16857, '晨': 16858, 'soho': 16859, '取阶': 16860, '漫步': 16861, '兰桂枋': 16862, '异国情调': 16863, '各式': 16864, '时害': 16865, '东问西': 16866, '交通工具': 16867, '用光': 16868, '办生续': 16869, '黑印': 16870, '雷同': 16871, '员来': 16872, '行家': 16873, '昨日': 16874, '拾金不昧': 16875, '刺': 16876, '生巴': 16877, '白豚': 16878, '刺生': 16879, '粤菜馆': 16880, '金鼎要': 16881, '菜汤': 16882, '超多超': 16883, '渴': 16884, '香片': 16885, '拉面': 16886, '九寨沟': 16887, '格桑去': 16888, '比格': 16889, '桑要': 16890, '格桑': 16891, '豆腐脑': 16892, '隔壁邻居': 16893, '少元': 16894, '太渴': 16895, '佳宝': 16896, '福': 16897, '青龙': 16898, '沟口': 16899, '进沟': 16900, '人流': 16901, '存包': 16902, '盘锦': 16903, '沂河': 16904, '大雾': 16905, '全来': 16906, '轰轰': 16907, 'elan': 16908, 'chinalonelyplanet': 16909, '极尽': 16910, '之辞': 16911, '千里眼': 16912, '苗条': 16913, '小于': 16914, '漂着': 16915, '及大': 16916, '翘起来': 16917, '压根': 16918, '感不太像': 16919, '星期四': 16920, '上花': 16921, '问题重重': 16922, '放得': 16923, '打打牌': 16924, '含氧量': 16925, '野味': 16926, '咸': 16927, '代表性': 16928, '会准': 16929, '比照': 16930, '打造': 16931, '几幢': 16932, '联合体': 16933, 'crrip': 16934, '上路': 16935, '石阶': 16936, '摩恩': 16937, '限量供应': 16938, '双休日': 16939, '房源': 16940, 'cheakout': 16941, '兴冲冲': 16942, '太吵要': 16943, '吵多': 16944, '猪油': 16945, '吃伴': 16946, '截流': 16947, '隔成': 16948, '长达来': 16949, '差评': 16950, '语调': 16951, '男同事': 16952, '音程': 16953, '断章': 16954, '歪曲事实': 16955, '称有': 16956, '前因后果': 16957, '刚装': 16958, 'isdn': 16959, '测试': 16960, '贵而': 16961, '不实': 16962, '更添': 16963, '预订单': 16964, '加大力度': 16965, '考核': 16966, '网络系统': 16967, '均衡': 16968, '花太多': 16969, '食品街': 16970, '文化街': 16971, '干静': 16972, '傅家庄': 16973, '涨潮': 16974, '燕窝': 16975, '岭': 16976, '风光': 16977, '利害': 16978, '一方': 16979, '地头蛇': 16980, '超软': 16981, '安不人': 16982, '商物': 16983, '磁卡': 16984, '大吵一架': 16985, '求助': 16986, '老家': 16987, '总天': 16988, '四日游': 16989, '房跑': 16990, '难关': 16991, '没扫': 16992, '浴霸': 16993, '里心': 16994, '天晕': 16995, '金沙江': 16996, '休息日': 16997, '十': 16998, '钱塘江': 16999, '景标': 17000, '举目望去': 17001, '野草': 17002, '长衣': 17003, '裤带': 17004, '帽子': 17005, '瘙痒': 17006, '之江': 17007, '重来': 17008, '按规定': 17009, '几遍': 17010, '从史': 17011, '自终': 17012, '钱样': 17013, '惹火': 17014, '几人后': 17015, '退而求其次': 17016, '问加床': 17017, '挤挤': 17018, '担任': 17019, '不言而喻': 17020, '麻将桌': 17021, '零': 17022, '传统意义': 17023, '店外': 17024, '车门口': 17025, '各住': 17026, '灵隐': 17027, '床无太大': 17028, '比比': 17029, '中街': 17030, '操守': 17031, '从此': 17032, '老父亲': 17033, '乌过': 17034, '天价': 17035, '留个': 17036, '地向': 17037, '区区': 17038, '比较而言': 17039, '首数': 17040, '深圳市': 17041, '工业': 17042, '发生巨变': 17043, '生命': 17044, 'match': 17045, 'schedule': 17046, '从中': 17047, '省点': 17048, '怡和': 17049, '坐路车': 17050, 'sweet': 17051, '震撼': 17052, '小时候': 17053, 'upgrade': 17054, '一笔': 17055, '路费': 17056, '任食': 17057, 'soup': 17058, '甜品': 17059, '地头': 17060, '兰桂芳': 17061, '小食店': 17062, '开得': 17063, '莲香楼': 17064, '亚裔': 17065, '差一': 17066, '在家': 17067, '洗头发': 17068, '借用': 17069, '说全': 17070, '借出去': 17071, '一刀': 17072, '冷想': 17073, '多要': 17074, '抓痒': 17075, '索赔': 17076, '台吵': 17077, '人好': 17078, '携城会': 17079, '穷': 17080, '包月': 17081, '逮住': 17082, '长租': 17083, '门上': 17084, '信箱': 17085, '太早': 17086, '市中心区': 17087, '姊妹': 17088, '相差无几': 17089, '蔚为壮观': 17090, '表述': 17091, '不得已': 17092, '免为其难': 17093, '诡异': 17094, '坟地': 17095, '不约而同': 17096, '背脊': 17097, '发凉': 17098, '低头': 17099, '石上': 17100, '听得见': 17101, '感应式': 17102, '不大广人': 17103, '因在程': 17104, '上理': 17105, '不人意': 17106, '本著': 17107, '上室': 17108, '先查': 17109, '部打': 17110, '托里': 17111, '放著': 17112, '候房': 17113, '搜': 17114, '莫有': 17115, '罪名': 17116, '加在': 17117, '上前': 17118, '持': 17119, '我理': 17120, '加宴': 17121, '元作失': 17122, '失': 17123, '事小': 17124, '和件': 17125, '解在': 17126, '因房': 17127, '考的果': 17128, '巴吃': 17129, '桃源路': 17130, '北': 17131, '高服': 17132, '美味可口': 17133, '还长': 17134, '若有': 17135, '里象': 17136, '上该': 17137, '闭上眼睛': 17138, '盯': 17139, '灌': 17140, '杯': 17141, '为本': 17142, '火花': 17143, '噼里啪啦': 17144, '赔不赔': 17145, '分数': 17146, '大礼包': 17147, '手脚冰凉': 17148, '电暖气': 17149, '房个': 17150, '我份': 17151, '那元': 17152, '星湖': 17153, '厚实': 17154, '横向': 17155, '海德': 17156, '不会错': 17157, '过遍': 17158, '好笑': 17159, '修葺': 17160, '餐椅': 17161, '我家': 17162, '扣减': 17163, '标双': 17164, '建筑师': 17165, '转个': 17166, '不湿': 17167, '天方夜': 17168, '首都图书馆': 17169, '咖啡壶': 17170, '那就好': 17171, '调热': 17172, '室温': 17173, '预前': 17174, '楼宇': 17175, '阴阳怪气': 17176, '奢侈品': 17177, '早九到': 17178, '过关': 17179, '过把瘾': 17180, '有试': 17181, '详情': 17182, '礼包': 17183, '中算差': 17184, '过长': 17185, '安全隐患': 17186, '出现意外': 17187, '胚': 17188, '房加': 17189, '开机': 17190, '卫生设备': 17191, '点加': 17192, '漱口杯': 17193, '接下去': 17194, '接连': 17195, '选了样': 17196, '盖浇饭': 17197, '诸如': 17198, '雪菜': 17199, '木鱼': 17200, '茄汁': 17201, '大肠': 17202, '回锅肉': 17203, '蚝油': 17204, '从外': 17205, '青椒': 17206, '每份': 17207, '统一价': 17208, '顶上': 17209, '高挂': 17210, '手试': 17211, '热气': 17212, '破洞': 17213, '可不可以': 17214, '暖气片': 17215, '披上': 17216, '外衣': 17217, '警服': 17218, '房问': 17219, '窗小': 17220, '脸一拉说': 17221, '面容': 17222, '欠意': 17223, '值夜班': 17224, '乐子': 17225, '上天': 17226, '冻坏': 17227, '咕咕': 17228, '青年文明': 17229, '不由得': 17230, '长叹一声': 17231, '乡': 17232, '感激涕零': 17233, '文革': 17234, '清洁工': 17235, '长好': 17236, '放新': 17237, '星里': 17238, '印度': 17239, '神油': 17240, '脑火': 17241, '明摆着': 17242, '居心': 17243, '点为': 17244, '三种': 17245, '米色': 17246, '翠绿色': 17247, '粉红色': 17248, '须用': 17249, '顶住': 17250, '厦洽': 17251, '所处': 17252, '两颗': 17253, '贵周遍': 17254, '极次': 17255, '取缔': 17256, '真敢': 17257, '不起作用': 17258, '高得': 17259, '气候': 17260, '飘': 17261, '树苗': 17262, '定得': 17263, '冲忙': 17264, '菜量': 17265, '厚重': 17266, '维多利亚': 17267, '小数目': 17268, '连带': 17269, '予': 17270, '装个': 17271, '巨贵': 17272, '或者说': 17273, '朝街': 17274, '大卡车': 17275, '开来开去': 17276, '没亮': 17277, '卡车': 17278, '不朝街': 17279, '容': 17280, '公德心': 17281, '毒死': 17282, '度假胜地': 17283, '贵宝地': 17284, '草木': 17285, '植被': 17286, '繁茂': 17287, '少数民族': 17288, '居于': 17289, '山野': 17290, '火势': 17291, '猛于': 17292, '常见': 17293, '傣': 17294, '皇宫': 17295, '猴': 17296, '高升': 17297, '旱季': 17298, '重中之重': 17299, '若因': 17300, '疏于防范': 17301, '酿成': 17302, '大祸': 17303, '莫大': 17304, '引以为鉴': 17305, '服务部': 17306, '员员': 17307, '取到': 17308, '签证': 17309, '首都北京': 17310, '一切都是': 17311, '盖楼': 17312, '妥善处理': 17313, '不含': 17314, '我花': 17315, '热衷于': 17316, '消息': 17317, '稍大': 17318, '区分': 17319, '四五': 17320, '和司': 17321, '司傅': 17322, '慈云': 17323, '西北角': 17324, '整施': 17325, '选了': 17326, '浴墙': 17327, '可折叠': 17328, '拉帘式': 17329, '雨景': 17330, '较少': 17331, '偏慢': 17332, '靠里': 17333, '西头': 17334, '传过来': 17335, '兴旺': 17336, '很雅': 17337, '公安厅': 17338, '省委': 17339, '温婉': 17340, '前几次': 17341, '板着脸': 17342, '来来回回': 17343, '三方': 17344, '第五天': 17345, '这使': 17346, '一成不变': 17347, '多一些': 17348, '借壳': 17349, '收市': 17350, '国脉': 17351, '小街': 17352, '二年': 17353, '未洗': 17354, '椅背': 17355, '靠北边': 17356, '冷却塔': 17357, '嘈': 17358, '领餐票': 17359, '弄得好': 17360, '像订': 17361, '天大': 17362, '车场': 17363, '停满': 17364, '疑问请': 17365, '问汗': 17366, '露露': 17367, '窝头': 17368, '一个床': 17369, '床脚': 17370, '做块': 17371, '板子': 17372, '人帮': 17373, '自助游': 17374, '山城': 17375, '渝中区': 17376, '平面图': 17377, '提价': 17378, '打是': 17379, '灰瓦': 17380, '白墙': 17381, '有够': 17382, 'ke': 17383, '台换': 17384, '偏外': 17385, '粒': 17386, '橙': 17387, '思': 17388, '不锈钢管': 17389, '锈了': 17390, '弄堂': 17391, '勘查': 17392, '际': 17393, '韩日': 17394, '现已': 17395, '渤海': 17396, '明珠': 17397, '大不了': 17398, '转嫁到': 17399, '字爽': 17400, '字太爽': 17401, '略高于': 17402, '靠西': 17403, '东部': 17404, '盛华': 17405, '十三号': 17406, '挂牌价': 17407, '元经': 17408, '价元': 17409, '不冷不热': 17410, '后人': 17411, '洗下来': 17412, '查出': 17413, '低电量': 17414, '修复': 17415, '多于': 17416, '高地': 17417, '处理结果': 17418, '次发': 17419, '火才': 17420, '竖幅': 17421, '大风': 17422, '猎猎': 17423, '作响': 17424, '人花元': 17425, '分食': 17426, '虎视耽耽': 17427, '慕名': 17428, '还伴': 17429, '预计': 17430, '想着': 17431, '皇城根': 17432, '我出': 17433, '总店': 17434, '看门': 17435, '更优越': 17436, '低廉': 17437, '二话不说': 17438, '下新': 17439, '公车站': 17440, '上欣': 17441, '多该': 17442, '枪手': 17443, '竞争对手': 17444, '溅水': 17445, '顶尖': 17446, '浮动': 17447, '宜兴': 17448, '颇感': 17449, '赶往': 17450, '一片狼藉': 17451, '窗叫': 17452, '管房': 17453, '门去': 17454, '来源': 17455, '澡人': 17456, '已熏': 17457, '明智': 17458, '联通': 17459, '释放出来': 17460, '上以': 17461, '浓度': 17462, '窗侧': 17463, '淡些': 17464, '建筑工地': 17465, '隆隆声': 17466, '恶臭味': 17467, '宛如': 17468, '旅行网': 17469, '诸多': 17470, '荣誉': 17471, '荣誉榜': 17472, '吻合': 17473, '歌及': 17474, '几栋': 17475, '赏心悦目': 17476, '胃': 17477, '展鸿楼': 17478, '冷且': 17479, '舒适性': 17480, '沙粒': 17481, '夸大': 17482, '之大': 17483, '荣盛': 17484, '操作程序': 17485, '上传': 17486, '抽查': 17487, '复核': 17488, '卢球': 17489, '最低气温': 17490, '冷到': 17491, '洗剂': 17492, '柔软剂': 17493, '饮食文化': 17494, '原固': 17495, '茶收': 17496, '转去': 17497, '饭时': 17498, '交茶': 17499, '真气': 17500, '十堰': 17501, '燕良': 17502, '等于零': 17503, '区里': 17504, '霉变': 17505, '温特莱': 17506, '油画': 17507, '正巧': 17508, '生日蛋糕': 17509, '会订': 17510, '污秽不堪': 17511, '泳场': 17512, '流下来': 17513, '天神': 17514, '沟': 17515, '探险': 17516, '走钢丝': 17517, '铁索桥': 17518, '三水': 17519, '大弯才': 17520, '健康秤': 17521, '随团': 17522, '多写': 17523, '告之有': 17524, '没变': 17525, '出色': 17526, '南行': 17527, '海岸': 17528, '北行': 17529, '佳世客': 17530, '阴天': 17531, '嘎嘎': 17532, '两根': 17533, '杏': 17534, '间谍': 17535, '惟坊': 17536, '通缉犯': 17537, '办案': 17538, '实战': 17539, '试一试': 17540, '站台': 17541, '回程': 17542, '登门': 17543, '几瓶': 17544, '热水瓶': 17545, '尖东': 17546, '到弥墩': 17547, '两小块': 17548, '比住': 17549, '锁闭': 17550, '自作自受': 17551, '很厚': 17552, '松软': 17553, '冷冷的': 17554, '贵姓': 17555, '冷言': 17556, '片刻': 17557, '划卡': 17558, '卡机': 17559, '话语': 17560, '桌面上': 17561, '摔门': 17562, '理侧': 17563, '我代': 17564, '少少': 17565, '和气生财': 17566, '欲': 17567, '生财': 17568, '礼者': 17569, '不可不': 17570, '当事': 17571, '人力资源部': 17572, '努力提高': 17573, '草率': 17574, '输入': 17575, '两笔': 17576, '解释一下': 17577, '支来': 17578, '支去': 17579, '胖胖': 17580, '复': 17581, '推脱': 17582, '吵人': 17583, '返': 17584, '一页': 17585, '兴亚': 17586, '售完': 17587, '楼不高': 17588, '方向感': 17589, '不强': 17590, '转不清': 17591, '峙': 17592, '爬山': 17593, '过桥': 17594, '没多远': 17595, '两人住': 17596, '控制柜': 17597, '工商局': 17598, '消费水平': 17599, '开久': 17600, '四分': 17601, '街面': 17602, '真叫': 17603, '打到度': 17604, '之烂': 17605, '长久以来': 17606, '大错': 17607, '剪刀': 17608, '体臭味': 17609, '未眠': 17610, '失职': 17611, '被套': 17612, '令人担心': 17613, '看清楚': 17614, '最令': 17615, '真晕': 17616, '一脸茫然': 17617, '无辜': 17618, '气个': 17619, '急匆匆': 17620, '鸦绿江': 17621, '飞镖': 17622, '没话': 17623, '比较简单': 17624, '不太凉': 17625, '滨海': 17626, '力': 17627, '走来走去': 17628, '口香糖': 17629, '房一进': 17630, '床靠': 17631, '多种': 17632, '摇动': 17633, '苏果超市': 17634, '第三张': 17635, '相近': 17636, '第二张': 17637, '国际会议中心': 17638, '干干净净': 17639, '床住': 17640, '建工': 17641, '差不太多': 17642, '呼啦啦': 17643, '洗手液': 17644, '三合一': 17645, '近邻': 17646, '华师大': 17647, '武大': 17648, '天宁寺': 17649, '暨': 17650, '答谢会': 17651, '阳光明媚': 17652, '人去': 17653, '闲暇': 17654, '约点': 17655, '三栋': 17656, '生帮开': 17657, '买房': 17658, '安顿下来': 17659, '可边': 17660, '垂钓': 17661, '陵水': 17662, '名菜': 17663, '决了': 17664, '开放式': 17665, '依山': 17666, '主体': 17667, '湖上': 17668, '几颗': 17669, '树干': 17670, '倾斜': 17671, '枝叶': 17672, '向上': 17673, '棕榈树': 17674, '侏罗纪': 17675, '私家': 17676, '海域': 17677, '幽': 17678, '分界': 17679, '顿感': 17680, '黎苗': 17681, '篝火': 17682, '晚会': 17683, '捉蟹': 17684, '颇丰': 17685, '吊罗山': 17686, '支脉': 17687, '牛岭': 17688, '津津乐道': 17689, '不虚此行': 17690, '石龙': 17691, '总值': 17692, '７': 17693, '脚踏船': 17694, '走个': 17695, '乒乓球': 17696, '桌球室': 17697, '沐': 17698, '手法': 17699, '车位费': 17700, '短期': 17701, '震天响': 17702, '炮仗': 17703, '大年夜': 17704, '隔海': 17705, '零食': 17706, '还够': 17707, '咖啡杯': 17708, '噶小': 17709, '处贴': 17710, '上露': 17711, '合影': 17712, 'kt': 17713, '冷眼': 17714, '爱来': 17715, '腰疼': 17716, '无房': 17717, 'good': 17718}\n",
      "time: 4.37 ms\n"
     ]
    }
   ],
   "source": [
    "# 查看token.word_index属性\n",
    "print(token.word_index)"
   ]
  },
  {
   "cell_type": "code",
   "execution_count": 61,
   "metadata": {
    "collapsed": false,
    "id": "E0DA481CF5A14F1C87C38DBE0856FAE1",
    "jupyter": {
     "outputs_hidden": false
    },
    "notebookId": "5fb641c5cced180030286a9c",
    "slideshow": {
     "slide_type": "slide"
    },
    "tags": []
   },
   "outputs": [
    {
     "name": "stdout",
     "output_type": "stream",
     "text": [
      "time: 138 ms\n"
     ]
    }
   ],
   "source": [
    "# 使用tokne将review转换为数字列表\n",
    "x_train_seq = token.texts_to_sequences(x_train_text)\n",
    "x_test_seq = token.texts_to_sequences(x_test_text)"
   ]
  },
  {
   "cell_type": "code",
   "execution_count": 62,
   "metadata": {
    "collapsed": false,
    "id": "D6FA70DF5FB548C48DEF0DB0552D6406",
    "jupyter": {
     "outputs_hidden": false
    },
    "notebookId": "5fb641c5cced180030286a9c",
    "slideshow": {
     "slide_type": "slide"
    },
    "tags": []
   },
   "outputs": [
    {
     "name": "stdout",
     "output_type": "stream",
     "text": [
      "[160, 29, 492, 1849, 22, 4, 6, 3, 573, 177, 79]\n",
      "time: 480 µs\n"
     ]
    }
   ],
   "source": [
    "# 查看转换为sequences之后的结果\n",
    "print(x_train_seq[0])"
   ]
  },
  {
   "cell_type": "markdown",
   "metadata": {
    "id": "1DD81B23F43144E9B174730B323EC251",
    "jupyter": {},
    "mdEditEnable": false,
    "notebookId": "5fb641c5cced180030286a9c",
    "slideshow": {
     "slide_type": "slide"
    },
    "tags": []
   },
   "source": [
    "可以看到训练数据的\"评论文字\"已经转换为\"数字列表\"，并且从查看第0项的\"数字列表\"可以发现前3个文字转换成为了160、29、492。"
   ]
  },
  {
   "cell_type": "markdown",
   "metadata": {
    "id": "C8FD203F6E3E4C0893883D0A779D6977",
    "jupyter": {},
    "mdEditEnable": false,
    "notebookId": "5fb641c5cced180030286a9c",
    "slideshow": {
     "slide_type": "slide"
    },
    "tags": []
   },
   "source": [
    "## 固定数字长度\n",
    "* 因为每一则的\"酒店评论\"的词数都不固定，列入有些可能有26个词组，有些是10个词组。转换成\"数字列表\"的数字个数也就不固定。因为后续要将\"数字列表\"转换为\"向量列表\"，并送入到深度学习模型进行训练，所以长度必须固定。使用截长补短的方法让转换后的数字长度相同。"
   ]
  },
  {
   "cell_type": "code",
   "execution_count": 64,
   "metadata": {
    "collapsed": false,
    "id": "A60890EF763D46F38E255793D3991774",
    "jupyter": {
     "outputs_hidden": false
    },
    "notebookId": "5fb641c5cced180030286a9c",
    "slideshow": {
     "slide_type": "slide"
    },
    "tags": []
   },
   "outputs": [
    {
     "name": "stdout",
     "output_type": "stream",
     "text": [
      "time: 24.1 ms\n"
     ]
    }
   ],
   "source": [
    "# 让转换后的数字长度相同\n",
    "# 截长补短\n",
    "x_train = sequence.pad_sequences(x_train_seq, maxlen = 50)\n",
    "x_test = sequence.pad_sequences(x_test_seq, maxlen = 50)"
   ]
  },
  {
   "cell_type": "code",
   "execution_count": 65,
   "metadata": {
    "collapsed": false,
    "id": "7FEB0E4EE60643729B5169301FC896BE",
    "jupyter": {
     "outputs_hidden": false
    },
    "notebookId": "5fb641c5cced180030286a9c",
    "slideshow": {
     "slide_type": "slide"
    },
    "tags": []
   },
   "outputs": [
    {
     "name": "stdout",
     "output_type": "stream",
     "text": [
      "before pad_sequences length = 23\n",
      "[160, 29, 492, 1849, 22, 4, 6, 3, 573, 177, 79]\n",
      "time: 639 µs\n"
     ]
    }
   ],
   "source": [
    "# 查看统一长度后的数字列表\n",
    "print('before pad_sequences length =', len(x_train_seq[4]))\n",
    "print(x_train_seq[0])"
   ]
  },
  {
   "cell_type": "code",
   "execution_count": 66,
   "metadata": {
    "collapsed": false,
    "id": "36E3D7A40EE4403BB093344D864D247B",
    "jupyter": {
     "outputs_hidden": false
    },
    "notebookId": "5fb641c5cced180030286a9c",
    "slideshow": {
     "slide_type": "slide"
    },
    "tags": []
   },
   "outputs": [
    {
     "name": "stdout",
     "output_type": "stream",
     "text": [
      "after pad_sequences length =  50\n",
      "[   0    0    0    0    0    0    0    0    0    0    0    0    0    0\n",
      "    0    0    0    0    0    0    0    0    0    0    0    0    0    0\n",
      "    0    0    0    0    0    0    0    0    0    0    0  160   29  492\n",
      " 1849   22    4    6    3  573  177   79]\n",
      "time: 960 µs\n"
     ]
    }
   ],
   "source": [
    "print('after pad_sequences length = ', len(x_train[0]))\n",
    "print(x_train[0])"
   ]
  },
  {
   "cell_type": "markdown",
   "metadata": {
    "id": "A3810B885B17412FBE1EA042E28FDA48",
    "jupyter": {},
    "mdEditEnable": false,
    "notebookId": "5fb641c5cced180030286a9c",
    "slideshow": {
     "slide_type": "slide"
    },
    "tags": []
   },
   "source": [
    "* 使用嵌入层将\"数字列表\"转换为\"向量列表\"。词嵌入是一种自然语言处理技术，其原理是将文字映射成多维几何空间的向量。语义类似的文字向量在多维的几何空间的距离也比较相近。前面我们将\"评论\"转换为数字，可是数字在语义上无任何关联。为了能让每一个文字都有关联性，必须转换为向量的形式。Keras提供了嵌入层可以用于将\"数字列表\"转换为\"向量列表\"。该过程会在建立深度学习模型的过程中一起加入嵌入层。\n",
    "\n",
    "以上数据预处理完成后产生欠采样的训练数据与测试数据，还有过采样的训练数据与测试数据。训练数据将送入各种深度学习模型进行训练，而测试数据可以用于评估深度学习模型的准确率，并进行预测。"
   ]
  },
  {
   "cell_type": "markdown",
   "metadata": {
    "id": "60A1EBBD3E054E1581AC251BC0F5F15C",
    "jupyter": {},
    "mdEditEnable": false,
    "notebookId": "5fb641c5cced180030286a9c",
    "slideshow": {
     "slide_type": "slide"
    },
    "tags": []
   },
   "source": [
    "## 欠采样模型的建立——建立多层感知器模型进行情感分析"
   ]
  },
  {
   "cell_type": "code",
   "execution_count": 67,
   "metadata": {
    "collapsed": false,
    "id": "F9DB9A8D9D904F0D8E8AC96151A4EEF5",
    "jupyter": {
     "outputs_hidden": false
    },
    "notebookId": "5fb641c5cced180030286a9c",
    "slideshow": {
     "slide_type": "slide"
    },
    "tags": []
   },
   "outputs": [
    {
     "name": "stdout",
     "output_type": "stream",
     "text": [
      "time: 604 µs\n"
     ]
    }
   ],
   "source": [
    "# 加入嵌入层\n",
    "# 导入所需模块\n",
    "from keras.models import Sequential \n",
    "from keras.layers.core import Dense, Dropout, Activation, Flatten\n",
    "from keras.layers.embeddings import Embedding"
   ]
  },
  {
   "cell_type": "code",
   "execution_count": 68,
   "metadata": {
    "collapsed": false,
    "id": "DC378EE12F784F9FBCA6FD4DBAD4F09B",
    "jupyter": {
     "outputs_hidden": false
    },
    "notebookId": "5fb641c5cced180030286a9c",
    "slideshow": {
     "slide_type": "slide"
    },
    "tags": []
   },
   "outputs": [
    {
     "name": "stdout",
     "output_type": "stream",
     "text": [
      "time: 20.2 ms\n"
     ]
    }
   ],
   "source": [
    "# 建立模型\n",
    "# 建立一个线性堆叠模型，后续只需要将各个神经网络加入模型即可\n",
    "model = Sequential()"
   ]
  },
  {
   "cell_type": "code",
   "execution_count": 69,
   "metadata": {
    "collapsed": false,
    "id": "A34F4ED336C64C038B2E8508E6B2BDB3",
    "jupyter": {
     "outputs_hidden": false
    },
    "notebookId": "5fb641c5cced180030286a9c",
    "slideshow": {
     "slide_type": "slide"
    },
    "tags": []
   },
   "outputs": [
    {
     "name": "stdout",
     "output_type": "stream",
     "text": [
      "WARNING:tensorflow:From /opt/conda/lib/python3.6/site-packages/tensorflow/python/framework/op_def_library.py:263: colocate_with (from tensorflow.python.framework.ops) is deprecated and will be removed in a future version.\n",
      "Instructions for updating:\n",
      "Colocations handled automatically by placer.\n",
      "WARNING:tensorflow:From /opt/conda/lib/python3.6/site-packages/keras/backend/tensorflow_backend.py:3445: calling dropout (from tensorflow.python.ops.nn_ops) with keep_prob is deprecated and will be removed in a future version.\n",
      "Instructions for updating:\n",
      "Please use `rate` instead of `keep_prob`. Rate should be set to `rate = 1 - keep_prob`.\n",
      "time: 35.2 ms\n"
     ]
    }
   ],
   "source": [
    "# 将嵌入层加入模型\n",
    "model.add(Embedding(output_dim = 32,\n",
    "                    input_dim = 2000,\n",
    "                    input_length = 50))\n",
    "model.add(Dropout(0.2))"
   ]
  },
  {
   "cell_type": "code",
   "execution_count": 70,
   "metadata": {
    "collapsed": false,
    "id": "B927D942D45A42DC86B5FDEB9413427C",
    "jupyter": {
     "outputs_hidden": false
    },
    "notebookId": "5fb641c5cced180030286a9c",
    "slideshow": {
     "slide_type": "slide"
    },
    "tags": []
   },
   "outputs": [
    {
     "name": "stdout",
     "output_type": "stream",
     "text": [
      "time: 8.48 ms\n"
     ]
    }
   ],
   "source": [
    "# 建立多层感知器模型进行情感分析\n",
    "# 将平坦层加入模型\n",
    "model.add(Flatten())"
   ]
  },
  {
   "cell_type": "code",
   "execution_count": 71,
   "metadata": {
    "collapsed": false,
    "id": "39312CE1B1934CFFBEB11E9EEA60298C",
    "jupyter": {
     "outputs_hidden": false
    },
    "notebookId": "5fb641c5cced180030286a9c",
    "slideshow": {
     "slide_type": "slide"
    },
    "tags": []
   },
   "outputs": [
    {
     "name": "stdout",
     "output_type": "stream",
     "text": [
      "time: 24 ms\n"
     ]
    }
   ],
   "source": [
    "# 将隐藏层加入模型\n",
    "model.add(Dense(units = 256,\n",
    "                activation = 'relu'))\n",
    "model.add(Dropout(0.35))"
   ]
  },
  {
   "cell_type": "code",
   "execution_count": 72,
   "metadata": {
    "collapsed": false,
    "id": "6076ABC3C798415D8230F784A815AA94",
    "jupyter": {
     "outputs_hidden": false
    },
    "notebookId": "5fb641c5cced180030286a9c",
    "slideshow": {
     "slide_type": "slide"
    },
    "tags": []
   },
   "outputs": [
    {
     "name": "stdout",
     "output_type": "stream",
     "text": [
      "time: 12 ms\n"
     ]
    }
   ],
   "source": [
    "# 将输出层加入模型\n",
    "model.add(Dense(units = 1,\n",
    "                activation = 'sigmoid'))"
   ]
  },
  {
   "cell_type": "code",
   "execution_count": 73,
   "metadata": {
    "collapsed": false,
    "id": "D0D95BBCA8AE47718EDA1FFB47C9C204",
    "jupyter": {
     "outputs_hidden": false
    },
    "notebookId": "5fb641c5cced180030286a9c",
    "slideshow": {
     "slide_type": "slide"
    },
    "tags": []
   },
   "outputs": [
    {
     "name": "stdout",
     "output_type": "stream",
     "text": [
      "_________________________________________________________________\n",
      "Layer (type)                 Output Shape              Param #   \n",
      "=================================================================\n",
      "embedding_1 (Embedding)      (None, 50, 32)            64000     \n",
      "_________________________________________________________________\n",
      "dropout_1 (Dropout)          (None, 50, 32)            0         \n",
      "_________________________________________________________________\n",
      "flatten_1 (Flatten)          (None, 1600)              0         \n",
      "_________________________________________________________________\n",
      "dense_1 (Dense)              (None, 256)               409856    \n",
      "_________________________________________________________________\n",
      "dropout_2 (Dropout)          (None, 256)               0         \n",
      "_________________________________________________________________\n",
      "dense_2 (Dense)              (None, 1)                 257       \n",
      "=================================================================\n",
      "Total params: 474,113\n",
      "Trainable params: 474,113\n",
      "Non-trainable params: 0\n",
      "_________________________________________________________________\n",
      "time: 1.29 ms\n"
     ]
    }
   ],
   "source": [
    "# 查看模型摘要\n",
    "model.summary()"
   ]
  },
  {
   "cell_type": "markdown",
   "metadata": {
    "id": "E08D11CE96A0476F8D8ED3846CA54FAC",
    "jupyter": {},
    "mdEditEnable": false,
    "notebookId": "5fb641c5cced180030286a9c",
    "slideshow": {
     "slide_type": "slide"
    },
    "tags": []
   },
   "source": [
    "* 可以看到共有四层：平坦层共有1600个神经元，平坦层在这里可以看作为输入层。隐藏层共有256个神经；输出层只有1个神经元。全部必须训练的超参数有474113个，通常超参数数值越大，代表此模型越复杂，需要更多时间进行训练。"
   ]
  },
  {
   "cell_type": "code",
   "execution_count": 74,
   "metadata": {
    "collapsed": false,
    "id": "73E1FEC315BA47DE8C65E0F1FAB8DB2E",
    "jupyter": {
     "outputs_hidden": false
    },
    "notebookId": "5fb641c5cced180030286a9c",
    "slideshow": {
     "slide_type": "slide"
    },
    "tags": []
   },
   "outputs": [
    {
     "name": "stdout",
     "output_type": "stream",
     "text": [
      "time: 33.5 ms\n"
     ]
    }
   ],
   "source": [
    "# 训练模型\n",
    "# 定义训练方式\n",
    "model.compile(loss = 'binary_crossentropy',\n",
    "              optimizer = 'adam',\n",
    "              metrics = ['accuracy'])"
   ]
  },
  {
   "cell_type": "code",
   "execution_count": 75,
   "metadata": {
    "collapsed": false,
    "id": "9E8BFA9BBC2E45039657F68F38D76CA6",
    "jupyter": {
     "outputs_hidden": false
    },
    "notebookId": "5fb641c5cced180030286a9c",
    "slideshow": {
     "slide_type": "slide"
    },
    "tags": []
   },
   "outputs": [
    {
     "name": "stdout",
     "output_type": "stream",
     "text": [
      "WARNING:tensorflow:From /opt/conda/lib/python3.6/site-packages/tensorflow/python/ops/math_ops.py:3066: to_int32 (from tensorflow.python.ops.math_ops) is deprecated and will be removed in a future version.\n",
      "Instructions for updating:\n",
      "Use tf.cast instead.\n",
      "Train on 2400 samples, validate on 600 samples\n",
      "Epoch 1/10\n",
      " - 1s - loss: 0.6877 - acc: 0.5508 - val_loss: 0.6719 - val_acc: 0.6217\n",
      "Epoch 2/10\n",
      " - 0s - loss: 0.6283 - acc: 0.6946 - val_loss: 0.5797 - val_acc: 0.7400\n",
      "Epoch 3/10\n",
      " - 0s - loss: 0.4242 - acc: 0.8462 - val_loss: 0.4089 - val_acc: 0.8183\n",
      "Epoch 4/10\n",
      " - 0s - loss: 0.2365 - acc: 0.9133 - val_loss: 0.3808 - val_acc: 0.8333\n",
      "Epoch 5/10\n",
      " - 0s - loss: 0.1287 - acc: 0.9642 - val_loss: 0.3934 - val_acc: 0.8417\n",
      "Epoch 6/10\n",
      " - 0s - loss: 0.0750 - acc: 0.9821 - val_loss: 0.4435 - val_acc: 0.8300\n",
      "Epoch 7/10\n",
      " - 0s - loss: 0.0469 - acc: 0.9904 - val_loss: 0.4470 - val_acc: 0.8383\n",
      "Epoch 8/10\n",
      " - 0s - loss: 0.0305 - acc: 0.9950 - val_loss: 0.4715 - val_acc: 0.8283\n",
      "Epoch 9/10\n",
      " - 0s - loss: 0.0214 - acc: 0.9958 - val_loss: 0.4906 - val_acc: 0.8233\n",
      "Epoch 10/10\n",
      " - 0s - loss: 0.0168 - acc: 0.9975 - val_loss: 0.5269 - val_acc: 0.8283\n",
      "time: 5.69 s\n"
     ]
    }
   ],
   "source": [
    "# 开始训练\n",
    "train_history = model.fit(x_train, y_train, batch_size = 100,\n",
    "                          epochs = 10, verbose = 2,\n",
    "                          validation_split = 0.2)"
   ]
  },
  {
   "cell_type": "markdown",
   "metadata": {
    "id": "849FF37EF9FA481EAF18C0573EBBB34F",
    "jupyter": {},
    "mdEditEnable": false,
    "notebookId": "5fb641c5cced180030286a9c",
    "slideshow": {
     "slide_type": "slide"
    },
    "tags": []
   },
   "source": [
    "* 从以上执行结果可知，共执行了10个训练周期，并可以发现误差越来越小，准确率越来越高。"
   ]
  },
  {
   "cell_type": "markdown",
   "metadata": {
    "id": "27AF41B888E64252B133A4236ED4EDA5",
    "jupyter": {},
    "mdEditEnable": false,
    "notebookId": "5fb641c5cced180030286a9c",
    "slideshow": {
     "slide_type": "slide"
    },
    "tags": []
   },
   "source": [
    "## 准确率与误差的执行结果"
   ]
  },
  {
   "cell_type": "code",
   "execution_count": 78,
   "metadata": {
    "collapsed": false,
    "id": "972AD7D9123142F5870B8382FDE4D1D8",
    "jupyter": {
     "outputs_hidden": false
    },
    "notebookId": "5fb641c5cced180030286a9c",
    "slideshow": {
     "slide_type": "slide"
    },
    "tags": []
   },
   "outputs": [
    {
     "name": "stdout",
     "output_type": "stream",
     "text": [
      "1000/1000 [==============================] - 0s 24us/step\n",
      "accuracy =  0.803\n",
      "time: 25.8 ms\n"
     ]
    }
   ],
   "source": [
    "# 评估模型准确率\n",
    "scores = model.evaluate(x_test, y_test, verbose = 1)\n",
    "print('accuracy = ', scores[1])"
   ]
  },
  {
   "cell_type": "code",
   "execution_count": 79,
   "metadata": {
    "collapsed": false,
    "id": "6DFFCCAA48754C66B85EBAFEE6822196",
    "jupyter": {
     "outputs_hidden": false
    },
    "notebookId": "5fb641c5cced180030286a9c",
    "slideshow": {
     "slide_type": "slide"
    },
    "tags": []
   },
   "outputs": [
    {
     "name": "stdout",
     "output_type": "stream",
     "text": [
      "time: 936 µs\n"
     ]
    }
   ],
   "source": [
    "# 建立show_train_history显示训练过程\n",
    "import matplotlib.pyplot as plt\n",
    "def show_train_history(train_history, train, validation):\n",
    "    plt.plot(train_history.history[train])\n",
    "    plt.plot(train_history.history[validation])\n",
    "    plt.title('Train History')\n",
    "    plt.ylabel(train)\n",
    "    plt.xlabel('Epoch')\n",
    "    plt.legend(['train', 'validation'], loc = 'upper left')\n",
    "    plt.show()"
   ]
  },
  {
   "cell_type": "code",
   "execution_count": 82,
   "metadata": {
    "collapsed": false,
    "id": "F1E0D7643CD34514A175616D2E6B4283",
    "jupyter": {
     "outputs_hidden": false
    },
    "notebookId": "5fb641c5cced180030286a9c",
    "slideshow": {
     "slide_type": "slide"
    },
    "tags": []
   },
   "outputs": [
    {
     "data": {
      "text/html": [
       "<img src=\"data:image/png;base64,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\n",
       "\">"
      ],
      "text/plain": [
       "<Figure size 432x288 with 1 Axes>"
      ]
     },
     "metadata": {
      "needs_background": "light"
     },
     "output_type": "display_data"
    },
    {
     "name": "stdout",
     "output_type": "stream",
     "text": [
      "time: 129 ms\n"
     ]
    }
   ],
   "source": [
    "# 画出准确率执行结果\n",
    "show_train_history(train_history, 'acc', 'val_acc')"
   ]
  },
  {
   "cell_type": "markdown",
   "metadata": {
    "id": "7B7E48643100421F8DFAC6BF57BB9F9E",
    "jupyter": {},
    "mdEditEnable": false,
    "notebookId": "5fb641c5cced180030286a9c",
    "slideshow": {
     "slide_type": "slide"
    },
    "tags": []
   },
   "source": [
    "* 从上图可以看出，\"acc训练的准确率\"为蓝色的，\"val_acc验证的准确率\"是黄色的。我们可以发现：无论是在训练还是验证，准确率都越来越高；不过在epoch训练后期，\"acc训练的准确率\"比\"val_acc验证的准确率\"高。如果\"acc训练的准确率\"一直增加，但\"val_acc验证的准确率\"一直没有增加，可能出现了过度拟合的现象。"
   ]
  },
  {
   "cell_type": "code",
   "execution_count": 83,
   "metadata": {
    "collapsed": false,
    "id": "3CA38845F9EF45B5ABBCB38CC3B36697",
    "jupyter": {
     "outputs_hidden": false
    },
    "notebookId": "5fb641c5cced180030286a9c",
    "slideshow": {
     "slide_type": "slide"
    },
    "tags": []
   },
   "outputs": [
    {
     "data": {
      "text/html": [
       "<img src=\"data:image/png;base64,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\n",
       "\">"
      ],
      "text/plain": [
       "<Figure size 432x288 with 1 Axes>"
      ]
     },
     "metadata": {
      "needs_background": "light"
     },
     "output_type": "display_data"
    },
    {
     "name": "stdout",
     "output_type": "stream",
     "text": [
      "time: 135 ms\n"
     ]
    }
   ],
   "source": [
    "# 画出误差执行结果\n",
    "show_train_history(train_history, 'loss', 'val_loss')"
   ]
  },
  {
   "cell_type": "markdown",
   "metadata": {
    "id": "17732D75DC8C49838CF4AB890EDCA96F",
    "jupyter": {},
    "mdEditEnable": false,
    "notebookId": "5fb641c5cced180030286a9c",
    "slideshow": {
     "slide_type": "slide"
    },
    "tags": []
   },
   "source": [
    "* 从图可以看出，\"loss训练的误差\"是蓝色；\"val_loss\"验证的误差是黄色。共执行了10个训练周期，我们发现：无论是训练还是验证，验证的误差都越来越低。在Epoch训练后期，\"loss训练的误差\"比\"val_loss\"小。"
   ]
  },
  {
   "cell_type": "code",
   "execution_count": 84,
   "metadata": {
    "collapsed": false,
    "id": "BD578CFA15B1454BA17DC12E302E89B6",
    "jupyter": {
     "outputs_hidden": false
    },
    "notebookId": "5fb641c5cced180030286a9c",
    "slideshow": {
     "slide_type": "slide"
    },
    "tags": []
   },
   "outputs": [
    {
     "name": "stdout",
     "output_type": "stream",
     "text": [
      "time: 56.2 ms\n"
     ]
    }
   ],
   "source": [
    "# 执行预测\n",
    "predict = model.predict_classes(x_test)"
   ]
  },
  {
   "cell_type": "code",
   "execution_count": 85,
   "metadata": {
    "collapsed": false,
    "id": "BD928B4832E94A38AB52BA172E7EB413",
    "jupyter": {
     "outputs_hidden": false
    },
    "notebookId": "5fb641c5cced180030286a9c",
    "slideshow": {
     "slide_type": "slide"
    },
    "tags": []
   },
   "outputs": [
    {
     "data": {
      "text/plain": [
       "array([[1],\n",
       "       [1],\n",
       "       [0],\n",
       "       [0],\n",
       "       [1],\n",
       "       [1],\n",
       "       [1],\n",
       "       [1],\n",
       "       [1],\n",
       "       [0]], dtype=int32)"
      ]
     },
     "execution_count": 85,
     "metadata": {},
     "output_type": "execute_result"
    },
    {
     "name": "stdout",
     "output_type": "stream",
     "text": [
      "time: 1.81 ms\n"
     ]
    }
   ],
   "source": [
    "# 预测结果\n",
    "# 查看预测结果的前10项数据\n",
    "predict[:10]"
   ]
  },
  {
   "cell_type": "code",
   "execution_count": 86,
   "metadata": {
    "collapsed": false,
    "id": "D253AA938ECB458FB755C213408E0EE9",
    "jupyter": {
     "outputs_hidden": false
    },
    "notebookId": "5fb641c5cced180030286a9c",
    "slideshow": {
     "slide_type": "slide"
    },
    "tags": []
   },
   "outputs": [
    {
     "data": {
      "text/plain": [
       "array([1, 1, 0, 0, 1, 1, 1, 1, 1, 0], dtype=int32)"
      ]
     },
     "execution_count": 86,
     "metadata": {},
     "output_type": "execute_result"
    },
    {
     "name": "stdout",
     "output_type": "stream",
     "text": [
      "time: 1.83 ms\n"
     ]
    }
   ],
   "source": [
    "# 使用一维数组查看预测结果\n",
    "predict_classes = predict.reshape(-1)\n",
    "predict_classes[:10]"
   ]
  },
  {
   "cell_type": "code",
   "execution_count": 87,
   "metadata": {
    "collapsed": false,
    "id": "612ADF19A3C949A480362D5436C29511",
    "jupyter": {
     "outputs_hidden": false
    },
    "notebookId": "5fb641c5cced180030286a9c",
    "slideshow": {
     "slide_type": "slide"
    },
    "tags": []
   },
   "outputs": [
    {
     "name": "stdout",
     "output_type": "stream",
     "text": [
      "很 好 起码 四星 服务 人员 经理 态度 好 早餐 行 性价比 满意 反馈 年月日 感谢您 光临 鼓励 工作 动力 真诚 期待 再次 光临\n",
      "review真实值： 正面评价 预测结果： 正面评价\n",
      "time: 1.43 ms\n"
     ]
    }
   ],
   "source": [
    "# 查看测试数据预测结果\n",
    "# 之前的预测结果是0与1，显示负面评价或正面评价\n",
    "SentimentDict = {1:'正面评价', 0:'负面评价'}\n",
    "# 显示标号5020的预测结果\n",
    "print(x_test_text[5020])\n",
    "print('review真实值：',SentimentDict[y_test[5020]],\n",
    "      '预测结果：', SentimentDict[predict_classes[1]])"
   ]
  },
  {
   "cell_type": "code",
   "execution_count": 88,
   "metadata": {
    "collapsed": false,
    "id": "47CF6DE0D99B46B2AF100DD3CD545D90",
    "jupyter": {
     "outputs_hidden": false
    },
    "notebookId": "5fb641c5cced180030286a9c",
    "slideshow": {
     "slide_type": "slide"
    },
    "tags": []
   },
   "outputs": [
    {
     "name": "stdout",
     "output_type": "stream",
     "text": [
      "赞 性价比 极高 下次 还会 选择\n",
      "review真实值： 正面评价 预测结果： 正面评价\n",
      "time: 1.11 ms\n"
     ]
    }
   ],
   "source": [
    "# 显示标签1563的预测结果\n",
    "print(x_test_text[1563])\n",
    "print('review真实值：',SentimentDict[y_test[1563]],\n",
    "      '预测结果：', SentimentDict[predict_classes[5]])"
   ]
  },
  {
   "cell_type": "markdown",
   "metadata": {
    "id": "642040480FF54541851B3DF6FACC89C9",
    "jupyter": {},
    "mdEditEnable": false,
    "notebookId": "5fb641c5cced180030286a9c",
    "slideshow": {
     "slide_type": "slide"
    },
    "tags": []
   },
   "source": [
    "* 如果想要进一步知道在所建立的模型中预测准确率的高低，就可以使用混淆矩阵(confusion matrix)来显示。在机器学习领域中，特别是统计分类的问题，混淆矩阵也称为误差矩阵，是一种特定的表格显示方式，可以让我们以可视化的方式了解有监督的学习算法的结果，看出算法模型是否混淆了两个类(将某一个标签预测成另一个标签)。"
   ]
  },
  {
   "cell_type": "code",
   "execution_count": 89,
   "metadata": {
    "collapsed": false,
    "id": "32B0DA8C02F042E2B81D87E8D785549C",
    "jupyter": {
     "outputs_hidden": false
    },
    "notebookId": "5fb641c5cced180030286a9c",
    "slideshow": {
     "slide_type": "slide"
    },
    "tags": []
   },
   "outputs": [
    {
     "data": {
      "text/html": [
       "<div>\n",
       "<style scoped>\n",
       "    .dataframe tbody tr th:only-of-type {\n",
       "        vertical-align: middle;\n",
       "    }\n",
       "\n",
       "    .dataframe tbody tr th {\n",
       "        vertical-align: top;\n",
       "    }\n",
       "\n",
       "    .dataframe thead th {\n",
       "        text-align: right;\n",
       "    }\n",
       "</style>\n",
       "<table border=\"1\" class=\"dataframe\">\n",
       "  <thead>\n",
       "    <tr style=\"text-align: right;\">\n",
       "      <th>predict</th>\n",
       "      <th>0</th>\n",
       "      <th>1</th>\n",
       "    </tr>\n",
       "    <tr>\n",
       "      <th>label</th>\n",
       "      <th></th>\n",
       "      <th></th>\n",
       "    </tr>\n",
       "  </thead>\n",
       "  <tbody>\n",
       "    <tr>\n",
       "      <th>0</th>\n",
       "      <td>397</td>\n",
       "      <td>123</td>\n",
       "    </tr>\n",
       "    <tr>\n",
       "      <th>1</th>\n",
       "      <td>74</td>\n",
       "      <td>406</td>\n",
       "    </tr>\n",
       "  </tbody>\n",
       "</table>\n",
       "</div>"
      ],
      "text/plain": [
       "predict    0    1\n",
       "label            \n",
       "0        397  123\n",
       "1         74  406"
      ]
     },
     "execution_count": 89,
     "metadata": {},
     "output_type": "execute_result"
    },
    {
     "name": "stdout",
     "output_type": "stream",
     "text": [
      "time: 17.3 ms\n"
     ]
    }
   ],
   "source": [
    "# 显示混淆矩阵\n",
    "# 使用pandas crosstab建立混淆矩阵\n",
    "pd.crosstab(y_test, predict_classes,\n",
    "            rownames = ['label'], colnames = ['predict'])"
   ]
  },
  {
   "cell_type": "markdown",
   "metadata": {
    "id": "C6C3F258F8A9433289D18781E9422449",
    "jupyter": {},
    "mdEditEnable": false,
    "notebookId": "5fb641c5cced180030286a9c",
    "slideshow": {
     "slide_type": "slide"
    },
    "tags": []
   },
   "source": [
    "* 从混淆矩阵中我们观察得到的结果如下：对象线是预测正确的数字，我们发现：真实值是\"1\"，被正确预测为\"1\"的项数有406项，预测准确率高。而真实值为\"0\"，被正确预测为\"0\"的项数有397项，准确率最高。其他非对角线的数字代表将某一个标签预测错误，成为另一个标签。"
   ]
  },
  {
   "cell_type": "code",
   "execution_count": 90,
   "metadata": {
    "collapsed": false,
    "id": "2AF64F6F508843BD818F4F4D88E053C7",
    "jupyter": {
     "outputs_hidden": false
    },
    "notebookId": "5fb641c5cced180030286a9c",
    "slideshow": {
     "slide_type": "slide"
    },
    "tags": []
   },
   "outputs": [
    {
     "name": "stdout",
     "output_type": "stream",
     "text": [
      "time: 423 µs\n"
     ]
    }
   ],
   "source": [
    "# 线上选取携程酒店--珠海亦方美学公寓--的酒店评价文字进行预测\n",
    "input_text = \"\"\"\n",
    "去之前会有担心，因为疫情，专门打了电话给前台，前台小哥哥好评，耐心回答，打消了我的顾虑，nice!! \n",
    "看得出有做好防疫情清洁消毒工作，前台登记反复询问，确保出行轨迹安全，体温测量登记，入住好评，选了主题房，设计是我喜欢的.\n",
    "总之下次有需要还是会自住或推荐!!\n",
    "\"\"\""
   ]
  },
  {
   "cell_type": "code",
   "execution_count": 91,
   "metadata": {
    "collapsed": false,
    "id": "74970F1B058E4EF08C1FA8F3524E85E7",
    "jupyter": {
     "outputs_hidden": false
    },
    "notebookId": "5fb641c5cced180030286a9c",
    "slideshow": {
     "slide_type": "slide"
    },
    "tags": []
   },
   "outputs": [
    {
     "name": "stdout",
     "output_type": "stream",
     "text": [
      "time: 2.48 ms\n"
     ]
    }
   ],
   "source": [
    "# 执行预测\n",
    "# 数据预处理\n",
    "\n",
    "# 去词处理\n",
    "input_text = clear(input_text)\n",
    "# 分词处理\n",
    "input_text = cut_words(input_text)\n",
    "# 停词处理\n",
    "input_text = remove_stop(input_text)\n",
    "# 将列表元素转换为字符串\n",
    "input_text = list_str(input_text)"
   ]
  },
  {
   "cell_type": "code",
   "execution_count": 92,
   "metadata": {
    "collapsed": false,
    "id": "B7DA0EDB45124CE99A6D8B5A9E9043C2",
    "jupyter": {
     "outputs_hidden": false
    },
    "notebookId": "5fb641c5cced180030286a9c",
    "slideshow": {
     "slide_type": "slide"
    },
    "tags": []
   },
   "outputs": [
    {
     "name": "stdout",
     "output_type": "stream",
     "text": [
      "time: 504 µs\n"
     ]
    }
   ],
   "source": [
    "# 将酒店评价转换为数字列表\n",
    "input_seq = token.texts_to_sequences([input_text])"
   ]
  },
  {
   "cell_type": "code",
   "execution_count": 93,
   "metadata": {
    "collapsed": false,
    "id": "B08FC48F70644DFF87FB4F467240707A",
    "jupyter": {
     "outputs_hidden": false
    },
    "notebookId": "5fb641c5cced180030286a9c",
    "slideshow": {
     "slide_type": "slide"
    },
    "tags": []
   },
   "outputs": [
    {
     "name": "stdout",
     "output_type": "stream",
     "text": [
      "[[12, 35, 1317, 75, 13, 13, 33, 1073, 396, 1316, 663, 225, 13, 352, 365, 459, 352, 10, 9, 36, 475, 173, 43, 35, 85]]\n"
     ]
    },
    {
     "data": {
      "text/plain": [
       "25"
      ]
     },
     "execution_count": 93,
     "metadata": {},
     "output_type": "execute_result"
    },
    {
     "name": "stdout",
     "output_type": "stream",
     "text": [
      "time: 2.16 ms\n"
     ]
    }
   ],
   "source": [
    "# 查看数字列表\n",
    "print(input_seq)\n",
    "\n",
    "# 查看数字列表的长度\n",
    "len(input_seq[0])"
   ]
  },
  {
   "cell_type": "code",
   "execution_count": 94,
   "metadata": {
    "collapsed": false,
    "id": "8BBDBE7C6936422EB1C45E95C1323636",
    "jupyter": {
     "outputs_hidden": false
    },
    "notebookId": "5fb641c5cced180030286a9c",
    "slideshow": {
     "slide_type": "slide"
    },
    "tags": []
   },
   "outputs": [
    {
     "name": "stdout",
     "output_type": "stream",
     "text": [
      "time: 526 µs\n"
     ]
    }
   ],
   "source": [
    "# 截取数字列表使其长度为50\n",
    "pad_input_seq = sequence.pad_sequences(input_seq, maxlen = 50)"
   ]
  },
  {
   "cell_type": "code",
   "execution_count": 95,
   "metadata": {
    "collapsed": false,
    "id": "CA60A89F784C408F8383CC4F6B0BF8D6",
    "jupyter": {
     "outputs_hidden": false
    },
    "notebookId": "5fb641c5cced180030286a9c",
    "slideshow": {
     "slide_type": "slide"
    },
    "tags": []
   },
   "outputs": [
    {
     "data": {
      "text/plain": [
       "50"
      ]
     },
     "execution_count": 95,
     "metadata": {},
     "output_type": "execute_result"
    },
    {
     "name": "stdout",
     "output_type": "stream",
     "text": [
      "time: 1.66 ms\n"
     ]
    }
   ],
   "source": [
    "# 截长补短后查看数字列表的长度\n",
    "len(pad_input_seq[0])"
   ]
  },
  {
   "cell_type": "code",
   "execution_count": 96,
   "metadata": {
    "collapsed": false,
    "id": "C511E57B83984B3CAA8494D8F4F72559",
    "jupyter": {
     "outputs_hidden": false
    },
    "notebookId": "5fb641c5cced180030286a9c",
    "slideshow": {
     "slide_type": "slide"
    },
    "tags": []
   },
   "outputs": [
    {
     "name": "stdout",
     "output_type": "stream",
     "text": [
      "time: 1.29 ms\n"
     ]
    }
   ],
   "source": [
    "# 使用多层感知器模型进行预测\n",
    "predict_result = model.predict_classes(pad_input_seq)"
   ]
  },
  {
   "cell_type": "code",
   "execution_count": 97,
   "metadata": {
    "collapsed": false,
    "id": "BA02F88324C444AF886EA47CAE35BF6E",
    "jupyter": {
     "outputs_hidden": false
    },
    "notebookId": "5fb641c5cced180030286a9c",
    "slideshow": {
     "slide_type": "slide"
    },
    "tags": []
   },
   "outputs": [
    {
     "data": {
      "text/plain": [
       "1"
      ]
     },
     "execution_count": 97,
     "metadata": {},
     "output_type": "execute_result"
    },
    {
     "name": "stdout",
     "output_type": "stream",
     "text": [
      "time: 1.65 ms\n"
     ]
    }
   ],
   "source": [
    "# 查看预测结果\n",
    "predict_result[0][0]"
   ]
  },
  {
   "cell_type": "code",
   "execution_count": 98,
   "metadata": {
    "collapsed": false,
    "id": "80BAA6570B3646B2841DED9E11D1F248",
    "jupyter": {
     "outputs_hidden": false
    },
    "notebookId": "5fb641c5cced180030286a9c",
    "slideshow": {
     "slide_type": "slide"
    },
    "tags": []
   },
   "outputs": [
    {
     "data": {
      "text/plain": [
       "'正面评价'"
      ]
     },
     "execution_count": 98,
     "metadata": {},
     "output_type": "execute_result"
    },
    {
     "name": "stdout",
     "output_type": "stream",
     "text": [
      "time: 1.61 ms\n"
     ]
    }
   ],
   "source": [
    "# 使用之前定义的SentimentDic字典将结果1转换为文字\n",
    "SentimentDict[predict_result[0][0]]"
   ]
  },
  {
   "cell_type": "code",
   "execution_count": 99,
   "metadata": {
    "collapsed": false,
    "id": "566D8EF9D04C4E568223C3241C61E718",
    "jupyter": {
     "outputs_hidden": false
    },
    "notebookId": "5fb641c5cced180030286a9c",
    "slideshow": {
     "slide_type": "slide"
    },
    "tags": []
   },
   "outputs": [
    {
     "name": "stdout",
     "output_type": "stream",
     "text": [
      "time: 933 µs\n"
     ]
    }
   ],
   "source": [
    "# 创建predict_review()函数，将前面的函数命令全部整理成自定义函数\n",
    "def predict_review(input_text):\n",
    "    input_text = clear(input_text)\n",
    "    input_text = cut_words(input_text)\n",
    "    input_text = remove_stop(input_text)\n",
    "    input_text = list_str(input_text)\n",
    "    input_seq = token.texts_to_sequences([input_text])\n",
    "    pad_input_seq = sequence.pad_sequences(input_seq, maxlen = 50)\n",
    "    predict_result = model.predict_classes(pad_input_seq)\n",
    "    print(SentimentDict[predict_result[0][0]])"
   ]
  },
  {
   "cell_type": "code",
   "execution_count": 100,
   "metadata": {
    "collapsed": false,
    "id": "05D12545E0AC4B1A8F842D36691408CF",
    "jupyter": {
     "outputs_hidden": false
    },
    "notebookId": "5fb641c5cced180030286a9c",
    "slideshow": {
     "slide_type": "slide"
    },
    "tags": []
   },
   "outputs": [
    {
     "name": "stdout",
     "output_type": "stream",
     "text": [
      "正面评价\n",
      "time: 3.55 ms\n"
     ]
    }
   ],
   "source": [
    "# 重新选取线上酒店评价\n",
    "input_text = \"\"\"\n",
    "去之前会有担心，因为疫情，专门打了电话给前台，前台小哥哥好评，耐心回答，打消了我的顾虑，nice!! \n",
    "看得出有做好防疫情清洁消毒工作，前台登记反复询问，确保出行轨迹安全，体温测量登记，入住好评，选了主题房，设计是我喜欢的.\n",
    "总之下次有需要还是会自住或推荐!!\n",
    "\"\"\"\n",
    "\n",
    "predict_review(input_text)"
   ]
  },
  {
   "cell_type": "markdown",
   "metadata": {
    "id": "A887FB2C61FD4A198B9447F8CCEA8641",
    "jupyter": {},
    "mdEditEnable": false,
    "notebookId": "5fb641c5cced180030286a9c",
    "slideshow": {
     "slide_type": "slide"
    },
    "tags": []
   },
   "source": [
    "至此，对携程酒店评价的情感倾向分析，以建立一个简单的多层感知器模型结束，由于文章所限，后续的模型优化以及与其他深度学习的模型的比较就不进行简述，有兴趣的读者可以留意本人的下次项目创建。谢谢大家！"
   ]
  },
  {
   "cell_type": "code",
   "execution_count": null,
   "metadata": {
    "id": "D95275F48C4E47498BC63CC0558DB735",
    "jupyter": {},
    "notebookId": "5fb641c5cced180030286a9c",
    "slideshow": {
     "slide_type": "slide"
    },
    "tags": []
   },
   "outputs": [],
   "source": []
  }
 ],
 "metadata": {
  "kernelspec": {
   "display_name": "pytorch1.5",
   "language": "python",
   "name": "pytorch1.5"
  },
  "language_info": {
   "codemirror_mode": {
    "name": "ipython",
    "version": 3
   },
   "file_extension": ".py",
   "mimetype": "text/x-python",
   "name": "python",
   "nbconvert_exporter": "python",
   "pygments_lexer": "ipython3",
   "version": "3.7.0"
  }
 },
 "nbformat": 4,
 "nbformat_minor": 4
}
